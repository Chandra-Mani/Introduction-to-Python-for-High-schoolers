{
 "cells": [
  {
   "cell_type": "markdown",
   "metadata": {
    "id": "Xl-iLQdz-lX4"
   },
   "source": [
    "# Day :1, June 19, 2021 \n",
    "\n",
    "**Chandra Mani Adhikari, PhD**\n",
    "\n",
    "**Section: Grade 10 & Above**\n",
    "\n",
    "# Outline:\n",
    "\n",
    "## 1. Python Installation \n",
    "\n",
    "## 2. Print Function \n",
    " print (\"Hello World!\") \n",
    " \n",
    " **Yey!! You wrote the first program in Python!**\n",
    "\n",
    " Rules in syntax comes later!  \n",
    "\n",
    "## 3. Simple Math Operation\n",
    "1.   Addition\n",
    "2.   Subtraction\n",
    "3.   Multiple\n",
    "4.   Division\n",
    "\n",
    "\n",
    "## 4. Notebook Organization \n",
    "1.   Giving title to the notebook\n",
    "2.   Markdown\n",
    "3.   Add new line of codes \n",
    "4.   Copy/paste\n",
    "5.   Bold face\n",
    "6.   Italics\n",
    "7.   Hyperlink\n",
    "\n",
    "## 5. Syntax\n",
    "\n",
    "1.   Parenthesis, single quote and double quote in print function \n",
    "2.   Escape character\n",
    "3.   Multiline text\n",
    "4.   Comments \n",
    "\n",
    "## 6. Variables \n",
    "\n",
    "1.   Definition\n",
    "2.   Some types of variables \n",
    "3.   Creating variables\n",
    "4.   Case-sensitivity  of variables\n",
    "5.   Get type of variable from already defined one     \n",
    "\n",
    "\n",
    "\n",
    "\n",
    "\n",
    "\n",
    "\n",
    " "
   ]
  },
  {
   "cell_type": "markdown",
   "metadata": {
    "id": "cFAREwoixj-_"
   },
   "source": [
    "# Class starts here\n",
    "Let us use \"Google Colab\""
   ]
  },
  {
   "cell_type": "markdown",
   "metadata": {
    "id": "H_rfV7zMrcuE"
   },
   "source": [
    "\n",
    "**How to get to Goocle Colab?**\n",
    "1.   Go to your browser and type 'Google Colab' to your search engine and select  \"Google Colab\" tab.\n",
    "2.   Choose \"New Notebook\". You are in Google Colab notebook now.\n",
    "3. Click Untitled.ipynb and rename it. \"yourname_ANPAPython_YearMonthDay.ipynb\"\n",
    "*Can anyone guess what does ipynb mean?* === Interactive Python Notebook\n",
    "\n",
    "You see + code and + text. You can choose + text for text and +code to write python code.\n"
   ]
  },
  {
   "cell_type": "markdown",
   "metadata": {
    "id": "RBIftkLQwHSK"
   },
   "source": [
    "## Print Function"
   ]
  },
  {
   "cell_type": "code",
   "execution_count": null,
   "metadata": {
    "colab": {
     "base_uri": "https://localhost:8080/"
    },
    "id": "VdlRPfznwGEa",
    "outputId": "01c4f4c6-76db-494b-c693-983ed12c6aae"
   },
   "outputs": [
    {
     "name": "stdout",
     "output_type": "stream",
     "text": [
      "Hello World!!\n"
     ]
    }
   ],
   "source": [
    "print(\"Hello World!!\")"
   ]
  },
  {
   "cell_type": "markdown",
   "metadata": {
    "id": "L31B_dyXyQ7t"
   },
   "source": [
    "**Yey!! You wrote the first program in Python!**"
   ]
  },
  {
   "cell_type": "code",
   "execution_count": null,
   "metadata": {
    "colab": {
     "base_uri": "https://localhost:8080/",
     "height": 131
    },
    "id": "nLROV4Cqra5x",
    "outputId": "5acae216-6df2-4987-c403-3ffbe5a71342"
   },
   "outputs": [
    {
     "ename": "SyntaxError",
     "evalue": "ignored",
     "output_type": "error",
     "traceback": [
      "\u001b[0;36m  File \u001b[0;32m\"<ipython-input-41-460f6a8b5067>\"\u001b[0;36m, line \u001b[0;32m1\u001b[0m\n\u001b[0;31m    Print[Hello World!!]\u001b[0m\n\u001b[0m                    ^\u001b[0m\n\u001b[0;31mSyntaxError\u001b[0m\u001b[0;31m:\u001b[0m invalid syntax\n"
     ]
    }
   ],
   "source": [
    "Print[Hello World!!]"
   ]
  },
  {
   "cell_type": "markdown",
   "metadata": {
    "id": "pEc2Fssf3oH2"
   },
   "source": [
    "**What was wrong here?**\n",
    "1. 'p' can not be in Uppercase \n",
    "2. Use the round bracket () not the square bracket []\n",
    "3. Use of double quotation mark. (You can safly use single quatation mark as well but can not mix.)\n"
   ]
  },
  {
   "cell_type": "markdown",
   "metadata": {
    "id": "DMDoRVRe4hKu"
   },
   "source": [
    "**Class work**\n",
    "1. Print \"My name is Chandra Adhikari (Your name). I want to learn coding with Python. Coding is fun.\" "
   ]
  },
  {
   "cell_type": "code",
   "execution_count": null,
   "metadata": {
    "id": "_4_mMOlLzV5z"
   },
   "outputs": [],
   "source": [
    "print(\"my python learning begins with anpa summer school.\".upper())"
   ]
  },
  {
   "cell_type": "markdown",
   "metadata": {
    "id": "VPzL1L2FNOcP"
   },
   "source": [
    "## Simple math operations"
   ]
  },
  {
   "cell_type": "markdown",
   "metadata": {
    "id": "UZIl0VA9b9t2"
   },
   "source": [
    "### Addition"
   ]
  },
  {
   "cell_type": "code",
   "execution_count": null,
   "metadata": {
    "id": "GyC9JnwCNVTz"
   },
   "outputs": [],
   "source": [
    "5+3"
   ]
  },
  {
   "cell_type": "markdown",
   "metadata": {
    "id": "Ey8IkqU1cEOZ"
   },
   "source": [
    "### Substraction "
   ]
  },
  {
   "cell_type": "code",
   "execution_count": null,
   "metadata": {
    "id": "3IfiZzvfNWxV"
   },
   "outputs": [],
   "source": [
    "5-3"
   ]
  },
  {
   "cell_type": "markdown",
   "metadata": {
    "id": "9KKTPdxlcIXw"
   },
   "source": [
    "### Division"
   ]
  },
  {
   "cell_type": "code",
   "execution_count": null,
   "metadata": {
    "id": "1J7LHTYXNcHz"
   },
   "outputs": [],
   "source": [
    "5/3"
   ]
  },
  {
   "cell_type": "markdown",
   "metadata": {
    "id": "wTmOnMy0cNBT"
   },
   "source": [
    "### Multiplication"
   ]
  },
  {
   "cell_type": "code",
   "execution_count": null,
   "metadata": {
    "id": "yGbJ79k8NivI"
   },
   "outputs": [],
   "source": [
    "5*3"
   ]
  },
  {
   "cell_type": "markdown",
   "metadata": {
    "id": "2upgipfbcRmi"
   },
   "source": [
    "### Modulo"
   ]
  },
  {
   "cell_type": "code",
   "execution_count": null,
   "metadata": {
    "id": "iQqHNu7lNpqU"
   },
   "outputs": [],
   "source": [
    "5%3"
   ]
  },
  {
   "cell_type": "markdown",
   "metadata": {
    "id": "-rUdCIB2N0iC"
   },
   "source": [
    "Can any one tell me what does % sign do here?\n",
    "\n",
    "=== It gives reminder. It is called **modulo** or simply **mod**."
   ]
  },
  {
   "cell_type": "markdown",
   "metadata": {
    "id": "yyHlUaJxemzB"
   },
   "source": [
    "## Floor Division"
   ]
  },
  {
   "cell_type": "code",
   "execution_count": null,
   "metadata": {
    "id": "hES8yJRJeusS"
   },
   "outputs": [],
   "source": [
    "16//3"
   ]
  },
  {
   "cell_type": "markdown",
   "metadata": {
    "id": "LMI4UdawcWnQ"
   },
   "source": [
    "### Exponent"
   ]
  },
  {
   "cell_type": "code",
   "execution_count": null,
   "metadata": {
    "id": "x3WfcMxHbvDa"
   },
   "outputs": [],
   "source": [
    "2**4"
   ]
  },
  {
   "cell_type": "markdown",
   "metadata": {
    "id": "SX1mlTNUcs0g"
   },
   "source": [
    "## Classwork:\n",
    "1. Add 12345 and 54321 using Python\n",
    "2. Substract 12345 from 54321 using python \n",
    "3. multiply 12345 and 54321\n",
    "4. Divide 12345 by  54321\n",
    "5. Find 12345 to the power 5\n",
    "6. what reminder will be left if you divide 12345 by 4?\n"
   ]
  },
  {
   "cell_type": "markdown",
   "metadata": {
    "id": "pSzd2Jcsu4N5"
   },
   "source": [
    "###Pemdas\n",
    "\n",
    "![pemdas-diagram.png](data:image/png;base64,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)"
   ]
  },
  {
   "cell_type": "markdown",
   "metadata": {
    "id": "nwe_h8Z2vRjR"
   },
   "source": [
    "You can simply arithematic problem that may come in your math homework:"
   ]
  },
  {
   "cell_type": "code",
   "execution_count": null,
   "metadata": {
    "id": "W-igXVsdvlwu"
   },
   "outputs": [],
   "source": [
    "(923+289)* 45**2 / 9 + 54 - 23"
   ]
  },
  {
   "cell_type": "code",
   "execution_count": null,
   "metadata": {
    "id": "OEg0718NwLzP"
   },
   "outputs": [],
   "source": [
    "(3**4-32/8+1) /3 -29 + 5*2"
   ]
  },
  {
   "cell_type": "markdown",
   "metadata": {
    "id": "UblBqfGOdJ4a"
   },
   "source": [
    "**Homeork: Use Exponent, mod, multiply, division, addition, and substraction to express 111.0 using PEMDAS. (USe the operators in the given order)** "
   ]
  },
  {
   "cell_type": "code",
   "execution_count": 1,
   "metadata": {
    "colab": {
     "base_uri": "https://localhost:8080/"
    },
    "id": "tiS0fk8gdImx",
    "outputId": "d7c1d1ad-06c4-4ef3-c4fe-445270cd0da3"
   },
   "outputs": [
    {
     "data": {
      "text/plain": [
       "111.0"
      ]
     },
     "execution_count": 1,
     "metadata": {
      "tags": []
     },
     "output_type": "execute_result"
    }
   ],
   "source": [
    "#Example \n",
    "(2+7)**3%111*4/3+29-2"
   ]
  },
  {
   "cell_type": "markdown",
   "metadata": {
    "id": "_fpa5lr4fGhp"
   },
   "source": [
    "# Notebook organizatiion \n",
    "Giving title to the notebook\n",
    "Markdown\n",
    "Add new line of codes\n",
    "Copy/paste\n",
    "Bold face\n",
    "Italics\n",
    "Hyperlink"
   ]
  },
  {
   "cell_type": "markdown",
   "metadata": {
    "id": "YkSarP1vfh_n"
   },
   "source": [
    "### Giving Title\n",
    "1. click on untitled.ipynb at the left top and give the name you want. A good practice could be \"yourname_ANPAPython_YearMonthDay.ipynb\"."
   ]
  },
  {
   "cell_type": "markdown",
   "metadata": {
    "id": "TmHAepoogInC"
   },
   "source": [
    "**italicized text**## Markdown\n",
    "1. If you hover your mouse around you will see the following: \n",
    "![113 - Copy.jpg](data:image/jpeg;base64,/9j/4AAQSkZJRgABAQEAYABgAAD/4R4+RXhpZgAATU0AKgAAAAgABgALAAIAAAAmAAAIYgESAAMAAAABAAEAAAExAAIAAAAmAAAIiAEyAAIAAAAUAAAIrodpAAQAAAABAAAIwuocAAcAAAgMAAAAVgAAEUYc6gAAAAgAAAAAAAAAAAAAAAAAAAAAAAAAAAAAAAAAAAAAAAAAAAAAAAAAAAAAAAAAAAAAAAAAAAAAAAAAAAAAAAAAAAAAAAAAAAAAAAAAAAAAAAAAAAAAAAAAAAAAAAAAAAAAAAAAAAAAAAAAAAAAAAAAAAAAAAAAAAAAAAAAAAAAAAAAAAAAAAAAAAAAAAAAAAAAAAAAAAAAAAAAAAAAAAAAAAAAAAAAAAAAAAAAAAAAAAAAAAAAAAAAAAAAAAAAAAAAAAAAAAAAAAAAAAAAAAAAAAAAAAAAAAAAAAAAAAAAAAAAAAAAAAAAAAAAAAAAAAAAAAAAAAAAAAAAAAAAAAAAAAAAAAAAAAAAAAAAAAAAAAAAAAAAAAAAAAAAAAAAAAAAAAAAAAAAAAAAAAAAAAAAAAAAAAAAAAAAAAAAAAAAAAAAAAAAAAAAAAAAAAAAAAAAAAAAAAAAAAAAAAAAAAAAAAAAAAAAAAAAAAAAAAAAAAAAAAAAAAAAAAAAAAAAAAAAAAAAAAAAAAAAAAAAAAAAAAAAAAAAAAAAAAAAAAAAAAAAAAAAAAAAAAAAAAAAAAAAAAAAAAAAAAAAAAAAAAAAAAAAAAAAAAAAAAAAAAAAAAAAAAAAAAAAAAAAAAAAAAAAAAAAAAAAAAAAAAAAAAAAAAAAAAAAAAAAAAAAAAAAAAAAAAAAAAAAAAAAAAAAAAAAAAAAAAAAAAAAAAAAAAAAAAAAAAAAAAAAAAAAAAAAAAAAAAAAAAAAAAAAAAAAAAAAAAAAAAAAAAAAAAAAAAAAAAAAAAAAAAAAAAAAAAAAAAAAAAAAAAAAAAAAAAAAAAAAAAAAAAAAAAAAAAAAAAAAAAAAAAAAAAAAAAAAAAAAAAAAAAAAAAAAAAAAAAAAAAAAAAAAAAAAAAAAAAAAAAAAAAAAAAAAAAAAAAAAAAAAAAAAAAAAAAAAAAAAAAAAAAAAAAAAAAAAAAAAAAAAAAAAAAAAAAAAAAAAAAAAAAAAAAAAAAAAAAAAAAAAAAAAAAAAAAAAAAAAAAAAAAAAAAAAAAAAAAAAAAAAAAAAAAAAAAAAAAAAAAAAAAAAAAAAAAAAAAAAAAAAAAAAAAAAAAAAAAAAAAAAAAAAAAAAAAAAAAAAAAAAAAAAAAAAAAAAAAAAAAAAAAAAAAAAAAAAAAAAAAAAAAAAAAAAAAAAAAAAAAAAAAAAAAAAAAAAAAAAAAAAAAAAAAAAAAAAAAAAAAAAAAAAAAAAAAAAAAAAAAAAAAAAAAAAAAAAAAAAAAAAAAAAAAAAAAAAAAAAAAAAAAAAAAAAAAAAAAAAAAAAAAAAAAAAAAAAAAAAAAAAAAAAAAAAAAAAAAAAAAAAAAAAAAAAAAAAAAAAAAAAAAAAAAAAAAAAAAAAAAAAAAAAAAAAAAAAAAAAAAAAAAAAAAAAAAAAAAAAAAAAAAAAAAAAAAAAAAAAAAAAAAAAAAAAAAAAAAAAAAAAAAAAAAAAAAAAAAAAAAAAAAAAAAAAAAAAAAAAAAAAAAAAAAAAAAAAAAAAAAAAAAAAAAAAAAAAAAAAAAAAAAAAAAAAAAAAAAAAAAAAAAAAAAAAAAAAAAAAAAAAAAAAAAAAAAAAAAAAAAAAAAAAAAAAAAAAAAAAAAAAAAAAAAAAAAAAAAAAAAAAAAAAAAAAAAAAAAAAAAAAAAAAAAAAAAAAAAAAAAAAAAAAAAAAAAAAAAAAAAAAAAAAAAAAAAAAAAAAAAAAAAAAAAAAAAAAAAAAAAAAAAAAAAAAAAAAAAAAAAAAAAAAAAAAAAAAAAAAAAAAAAAAAAAAAAAAAAAAAAAAAAAAAAAAAAAAAAAAAAAAAAAAAAAAAAAAAAAAAAAAAAAAAAAAAAAAAAAAAAAAAAAAAAAAAAAAAAAAAAAAAAAAAAAAAAAAAAAAAAAAAAAAAAAAAAAAAAAAAAAAAAAAAAAAAAAAAAAAAAAAAAAAAAAAAAAAAAAAAAAAAAAAAAAAAAAAAAAAAAAAAAAAAAAAAAAAAAAAAAAAAAAAAAAAAAAAAAAAAAAAAAAAAAAAAAAAAAAAAAAAAAAAAAAAAAAAAAAAAAAAAAAAAAAAAAAAAAAAAAAAAAAAAAAAAAAAAAAAAAAAAAAAAAAAAAAAAAAAAAAAAAAAAAAAAAAAAAAAAAAAAAAAAAAAAAAAAAAAAAAAAAAAAAAAAAAAAAAAAAAAAAAAAAAAAAAAAAAAAAAAAAAAAAAAAAAAAAAAAAAAAAAAAAAAAAAAAAAAAAAAAAAAAAAAAAAAAAAAAAAAAAAAAAAAAAAAAAAAAAAAAAAAAAAAAAAAAAAAAAAAAAAAAAAAAAAAAAAAAAAAAAAAAAAAAAAAAAAAAAAAAAAAAAAAAAAAAAAAAAAAAAAAAAAAAAAAAAAAAAAAAAAAAAAAAAAAAAAAAAAAAAAAAAAAAAAAAAAAAAAAAAAAAAAAAAAAAAAAAAAAAAAAAAAAAAAAAAAAAAAAAAAAAAAAAAAAAAAAAAAAAAAAAAAAAAAAAAAAAAAAAAAAAAAAAAAAAAAAAAAAAAAAAAAAAAAAAAAAAAAAAAAAAAAAAAAAAAAAAAAAAAAAAAAAAAAAAAAAAAAAAAAAAAAAAAAAAAAAAAAAAAAAAAAAAAAAAAAAAAAAAAAAAAAAAAAAAAAAAAAAAAAAAAAAAAAAAAAAAAAAAAAAAAAAAAAAAAAAAAAAAAAAAAAAAAAAAAAAAAAAAAAAAAAAAAAAAAAAAAAAAAAAAFdpbmRvd3MgUGhvdG8gRWRpdG9yIDEwLjAuMTAwMTEuMTYzODQAV2luZG93cyBQaG90byBFZGl0b3IgMTAuMC4xMDAxMS4xNjM4NAAyMDIxOjAyOjE2IDE1OjI3OjIwAAAGkAMAAgAAABQAABEckAQAAgAAABQAABEwkpEAAgAAAAMwMAAAkpIAAgAAAAMwMAAAoAEAAwAAAAEAAQAA6hwABwAACAwAAAkQAAAAABzqAAAACAAAAAAAAAAAAAAAAAAAAAAAAAAAAAAAAAAAAAAAAAAAAAAAAAAAAAAAAAAAAAAAAAAAAAAAAAAAAAAAAAAAAAAAAAAAAAAAAAAAAAAAAAAAAAAAAAAAAAAAAAAAAAAAAAAAAAAAAAAAAAAAAAAAAAAAAAAAAAAAAAAAAAAAAAAAAAAAAAAAAAAAAAAAAAAAAAAAAAAAAAAAAAAAAAAAAAAAAAAAAAAAAAAAAAAAAAAAAAAAAAAAAAAAAAAAAAAAAAAAAAAAAAAAAAAAAAAAAAAAAAAAAAAAAAAAAAAAAAAAAAAAAAAAAAAAAAAAAAAAAAAAAAAAAAAAAAAAAAAAAAAAAAAAAAAAAAAAAAAAAAAAAAAAAAAAAAAAAAAAAAAAAAAAAAAAAAAAAAAAAAAAAAAAAAAAAAAAAAAAAAAAAAAAAAAAAAAAAAAAAAAAAAAAAAAAAAAAAAAAAAAAAAAAAAAAAAAAAAAAAAAAAAAAAAAAAAAAAAAAAAAAAAAAAAAAAAAAAAAAAAAAAAAAAAAAAAAAAAAAAAAAAAAAAAAAAAAAAAAAAAAAAAAAAAAAAAAAAAAAAAAAAAAAAAAAAAAAAAAAAAAAAAAAAAAAAAAAAAAAAAAAAAAAAAAAAAAAAAAAAAAAAAAAAAAAAAAAAAAAAAAAAAAAAAAAAAAAAAAAAAAAAAAAAAAAAAAAAAAAAAAAAAAAAAAAAAAAAAAAAAAAAAAAAAAAAAAAAAAAAAAAAAAAAAAAAAAAAAAAAAAAAAAAAAAAAAAAAAAAAAAAAAAAAAAAAAAAAAAAAAAAAAAAAAAAAAAAAAAAAAAAAAAAAAAAAAAAAAAAAAAAAAAAAAAAAAAAAAAAAAAAAAAAAAAAAAAAAAAAAAAAAAAAAAAAAAAAAAAAAAAAAAAAAAAAAAAAAAAAAAAAAAAAAAAAAAAAAAAAAAAAAAAAAAAAAAAAAAAAAAAAAAAAAAAAAAAAAAAAAAAAAAAAAAAAAAAAAAAAAAAAAAAAAAAAAAAAAAAAAAAAAAAAAAAAAAAAAAAAAAAAAAAAAAAAAAAAAAAAAAAAAAAAAAAAAAAAAAAAAAAAAAAAAAAAAAAAAAAAAAAAAAAAAAAAAAAAAAAAAAAAAAAAAAAAAAAAAAAAAAAAAAAAAAAAAAAAAAAAAAAAAAAAAAAAAAAAAAAAAAAAAAAAAAAAAAAAAAAAAAAAAAAAAAAAAAAAAAAAAAAAAAAAAAAAAAAAAAAAAAAAAAAAAAAAAAAAAAAAAAAAAAAAAAAAAAAAAAAAAAAAAAAAAAAAAAAAAAAAAAAAAAAAAAAAAAAAAAAAAAAAAAAAAAAAAAAAAAAAAAAAAAAAAAAAAAAAAAAAAAAAAAAAAAAAAAAAAAAAAAAAAAAAAAAAAAAAAAAAAAAAAAAAAAAAAAAAAAAAAAAAAAAAAAAAAAAAAAAAAAAAAAAAAAAAAAAAAAAAAAAAAAAAAAAAAAAAAAAAAAAAAAAAAAAAAAAAAAAAAAAAAAAAAAAAAAAAAAAAAAAAAAAAAAAAAAAAAAAAAAAAAAAAAAAAAAAAAAAAAAAAAAAAAAAAAAAAAAAAAAAAAAAAAAAAAAAAAAAAAAAAAAAAAAAAAAAAAAAAAAAAAAAAAAAAAAAAAAAAAAAAAAAAAAAAAAAAAAAAAAAAAAAAAAAAAAAAAAAAAAAAAAAAAAAAAAAAAAAAAAAAAAAAAAAAAAAAAAAAAAAAAAAAAAAAAAAAAAAAAAAAAAAAAAAAAAAAAAAAAAAAAAAAAAAAAAAAAAAAAAAAAAAAAAAAAAAAAAAAAAAAAAAAAAAAAAAAAAAAAAAAAAAAAAAAAAAAAAAAAAAAAAAAAAAAAAAAAAAAAAAAAAAAAAAAAAAAAAAAAAAAAAAAAAAAAAAAAAAAAAAAAAAAAAAAAAAAAAAAAAAAAAAAAAAAAAAAAAAAAAAAAAAAAAAAAAAAAAAAAAAAAAAAAAAAAAAAAAAAAAAAAAAAAAAAAAAAAAAAAAAAAAAAAAAAAAAAAAAAAAAAAAAAAAAAAAAAAAAAAAAAAAAAAAAAAAAAAAAAAAAAAAAAAAAAAAAAAAAAAAAAAAAAAAAAAAAAAAAAAAAAAAAAAAAAAAAAAAAAAAAAAAAAAAAAAAAAAAAAAAAAAAAAAAAAAAAAAAAAAAAAAAAAAAAAAAAAAAAAAAAAAAAAAAAAAAAAAAAAAAAAAAAAAAAAAAAAAAAAAAAAAAAAAAAAAAAAAAAAAAAAAAAAAAAAAAAAAAAAAAAAAAAAAAAAAAAAAAAAAAAAAAAAAAAAAAAAAAAAAAAAAAAAAAAAAAAAAAAAAAAAAAAAAAAAAAAAAAAAAAAAAAAAAAAAAAAAAAAAAAAAAAAAAAAAAAAAAAAAAAAAAAAAAAAAAAAAAAAAAAAAAAAAAAAAAAAAAAAAAAAAAAAAAAAAAAAAAAAAAAAAAAAAAAAAAAAAAAAAAAAAAAAAAAAAAAAAAAAAAAAAAAAAAAAAAAAAAAAAAAAAAAAAAAAAAAAAAAAAAAAAAAAAAAAAAAAAAAAAAAAAAAAAAAAAAAAAAAAAAAAAAAAAAAAAAAAAAAAAAAAAAAAAAAAAAAAAAAAAAAAAAAAAAAAAAAAAAAAAAAAAAAAAAAAAAAAAAAAAAAAAAAAAAAAAAAAAAAAAAAAAAAAAAAAAAAAAAAAAAAAAAAAAAAAAAAAAAAAAAAAAAAAAAAAAAAAAAAAAAAAAAAAAAAAAAAAAAAAAMjAyMTowMjoxNiAxNToyNjozNgAyMDIxOjAyOjE2IDE1OjI2OjM2AAAAAAYBAwADAAAAAQAGAAABGgAFAAAAAQAAEZQBGwAFAAAAAQAAEZwBKAADAAAAAQACAAACAQAEAAAAAQAAEaQCAgAEAAAAAQAADJEAAAAAAAAAYAAAAAEAAABgAAAAAf/Y/9sAQwAIBgYHBgUIBwcHCQkICgwUDQwLCwwZEhMPFB0aHx4dGhwcICQuJyAiLCMcHCg3KSwwMTQ0NB8nOT04MjwuMzQy/9sAQwEJCQkMCwwYDQ0YMiEcITIyMjIyMjIyMjIyMjIyMjIyMjIyMjIyMjIyMjIyMjIyMjIyMjIyMjIyMjIyMjIyMjIy/8AAEQgAUQEAAwEhAAIRAQMRAf/EAB8AAAEFAQEBAQEBAAAAAAAAAAABAgMEBQYHCAkKC//EALUQAAIBAwMCBAMFBQQEAAABfQECAwAEEQUSITFBBhNRYQcicRQygZGhCCNCscEVUtHwJDNicoIJChYXGBkaJSYnKCkqNDU2Nzg5OkNERUZHSElKU1RVVldYWVpjZGVmZ2hpanN0dXZ3eHl6g4SFhoeIiYqSk5SVlpeYmZqio6Slpqeoqaqys7S1tre4ubrCw8TFxsfIycrS09TV1tfY2drh4uPk5ebn6Onq8fLz9PX29/j5+v/EAB8BAAMBAQEBAQEBAQEAAAAAAAABAgMEBQYHCAkKC//EALURAAIBAgQEAwQHBQQEAAECdwABAgMRBAUhMQYSQVEHYXETIjKBCBRCkaGxwQkjM1LwFWJy0QoWJDThJfEXGBkaJicoKSo1Njc4OTpDREVGR0hJSlNUVVZXWFlaY2RlZmdoaWpzdHV2d3h5eoKDhIWGh4iJipKTlJWWl5iZmqKjpKWmp6ipqrKztLW2t7i5usLDxMXGx8jJytLT1NXW19jZ2uLj5OXm5+jp6vLz9PX29/j5+v/aAAwDAQACEQMRAD8A6zrR9f50xjaABu/+tTAMAD8KSmIT0H9abjn1piDjB+lDA880gGEcHpT16t/hQAJyaaB8xP8AWgAXhCaX/lmB60gFwCyj+7TcEBm9eKTGIflIHpTc5XnPzVDKQxh1I45wKbyM8e1IaA7W6jvTcEcj60MZGcdCPbNMxnlSefWpYxrkjqBURC54OKzZQ07s8YIqNuOoxUjImK8YJ/Gomz35qWNHdbU9BR5aE9K6E2YibF/uikKJg/LTTYhhROflx270bEIPH6mnzMBTEmOn600xJnoafMxDfKXGMUhjGenHrn6UOTEHlJ700RLvbr1NLnYCRxrk9acsalCcmjnYWEMC+WBk8n2oaAblAJ460c7Cw3yjljuPpS+XjapPuaTmwAopU8kE+1MaBc53kbRjGBzU85SGGBf72cCm+UR/F0GeaFIY0xckHtx0pvlqf4/0o5x2GmFsfeBqMx56jFS5DSI2iPUOPzqNo39FPvUORViNo/w+lQshxw351PMhkbI/+yfxqB1brtFTzIZ2Y+oxRiu45wwabg8Z6UCG4PvQMjufzqguKG4+9+tGc/xfrQIac56t1pgd8feb86LAIJWz1P5/WlSQljzSsgbERjyQxpA7CH7x5NKyFdjzI+5Bk0nnPlyc8dKVkO4ec2FHOTz0o84kuc9eBRZDuG/BGSMD2ppfoN3uahxQ7kRcnkSdeaTzHx98HPNHKh3GmaXHTPemmUngj26UcqKTG+YeobGfWm+c/ZlP4VLihpjDKx6oPrUTP7kVm4opMjaY4++v41E8zf3UP41m0UQPN/sfrVdpvZvzpWC52u7t/Wl3cf8A167jnFDc0uQRxTAbxn60mOcgCqJDBHSkOQetACBuKQYPFADdvzimqp3daQmNTcAeppcnyxweTQA4sfM6HgUwMNn3T8xpAODrljt+6PSgFflXaeOTSBCblI+6fmNNZlIbGeeBUsojYrk4J9OtNJU5w3XjrQAzcOvmD15oIPQOD2oLGEN1wvtUZIHOw/hSY0Rsw9WUdqiLjH3x+NZMpETt6FTULH0UfnUFEL5/un8DVdj/ALwpAd9sNL5Z7V1JmNhPKejy2z7VSaCwmxlxxSAEcEU7k2F5pce3607gN8vg8frTGiIak2hWGmNw4ximqsm/p2pXExo3hG+U02RnVYxgjLAZ+pppoQ+QrHHJI8jhV6k4pJjHBF5kkjqkal2YgcAVPMyrEEd3ayYXz2SRnI2SYVsjnofqKI720ndhFdBmLeWuGX5jgHj160NsLE/zCZkCswVRgkd6STeoGFPBAz9aVxjJVEK5kdlAIXPHUnA7e4qO4XyIXlJkKoOduD9ajmZVkVzcWgB33AjI6q7KCB7ikDRTW7TQu0iglQR0yDg07sBxXjiNx6UxuOhcelJtFIhYnPDn8qidm6gg/UVm2UiBy3otQtuJ+7+VSyiFhx9w/nULZzwrD8aQz0D7Lb4A8mP/AL5o+z24/wCWKf8AfNdCbMQEFv8A88U/74p3kW2OIU/75p3YrCG3tuf3Kf8AfNZ8qbL6UxxrJEiKTEF5OS3IPrx0qk2Fi3FFaTxLJGAyt0IJpxtIM8Lj/gRobZI1rOH0br/fNMazj6jd2/5aN7UuZgNa0Xjl/wDv63+NILUb+snT/nq3+NLmYDDbDym5k/7+t/jTJIQjowL/ACkMcyMR19M0022SyG7ezv7cxTujKWyOOn6VJNLaTWstqZVWJk8vC5GB7cU3CQk0VpYLS4LGe9lkyo35wN2OR0HGPamw2mnw3iXTXPmSqASzop6DjHy8fhinaViro0EWO5kMvmNtI6hmX/CkliijCyGSThgxy7Hj6Vnrewypevpl/Gq3LbwrBxmI8YOfT2pZLuxe3aEyuqFCp2xnvx6UckirlCa30uVpD50o3uGJEWDkYPXbnGQDjParCzW5gMEUsrFmJ5Qjqc+lOz6hclMUIH35v++2/wAaheOPtJL/AN/G/wAayuy0V2SP/npJ/wB/H/xqu6J2d/8Av6/+NS2ykQNEn/PRsf8AXV/8aiMaf32P/bVv8aTGRNGvd3/7+t/jUTRJn77/APf1v8akZ6QM07A/Gt0Yi7RS7QKoAKCsy/0hL7zP38iF0CFQRsIGeo75BI696tMTLVpZxWdrFbxqqIi4wiBQT3OBxyealMak9aRImwf3j19aYUGzG40gGFRt++eKZwHHztSERMUELfO3WlzH5p+c/doJBREfL5NOVYj2zlvSi7Gh21DuxGTuOOlPKgFsRHqAOlK7HZDjnkCMDJwKQ7skAKOcDNQxjDuz/ByaYznqWX16UrlIiZuxcflUTSD/AJ6fpRcohaYZ4k/SoHlHZz+VIZWkk77ifwqu7k9z/wB80DIWf6/981Ezntn8qTRQwvkY5/Ko2J9/yFJoD0TeT1FOHPStkZDgrZpcHGCaoQbc9xzSbVzndVCYbV/vdqT5PU/lQIYdnPXp6Uz5MHCmgRGQPL4jzzSc7x+7FICM7vKPyDk0p3B26DikSKGIYDenC0qtwhMg6Z6UDRIMHb87Y5JwDQMcfM56tSZQuMAfKxwM8mmlTjHl5wPWoAYeMjYg7cmmMy+sY/wFSWiJpMcbh0/u+tQNJ6P16YWhDK7uc8M3/fNV5GPT56YyrIzej/iarO3PVv8AvqgCJnOOv5tUe8E9vzoGNLZ4yB+dNz7fpUso9HBU8YpwLZ4FaIyHgsaXaepY1aELtUD73T3pDsx61RImV/uk03PP+roAR92SQgH40wht5+ZR+FDAjOdhzIOvamnG8fOx+maQiPCmMcOctQ44c+X6Dk0MkdggudicKB1p2MBhujGFFIBwPBHmDgAcCnHq3zOei8CpKQdSRiQ5OOuKafvZ2AgnPLVJQxiMDhB+NQvjnBT04FQxorvITzv59lqu7t6v+WKEUV5G9n/76xVaRgewH1eqAquw77PzzUDEdsf98mgZEWx1z/3zTNx9x+VAxN3of/HqTPp/M0mNHo4244FPDt6VoZjwCRwcUvQ4LVSJuL8uPXNAI7KKoQvzdsCmtnu4oAYSMDljz2pMAv8AcJB9aAGFflb5VHNNOd64dR+FIRHk7F5Y/N2FBG5W+VvvetBI4qPnyo+8ByaPlJb7gywHrSAUMd2Ax5bsvanhiQM7z1bpUspDTwBweB1LUwkcj5P7v3qhlEbYzwV69hUTswXAJPHUL61LGipJI3+3z+H0qtI47/q9NIZWkcY4K/qarOxxx+iVVhkDue5YfkKgZ/cf99UwIScnp/Okzj/9VIYZ/wA5pc++fxNSxnpEf3qlqyBKB98fWqRBMn3VpT2+lWgIZO/+fWgfdoAevSmzdVoAq/xN9TUifeWkIVOif71QS/cb/foJEXp/wOpo/v8A/A6Qx4/h/GoW6L/uGoGiI/dP1H9KU/f/AOBVLKHL0X/d/rUN19z/AIEf5VDBGO/3fwFR/wCH9atFAfu/hVG56fjVAUh3px+7QMry1EO9JjJo/u/hTW+6aljP/9kA/+0AxFBob3Rvc2hvcCAzLjAAOEJJTQQEAAAAAACMHAFaAAMbJUccAigAYkZCTUQwMTAwMGE4YTAxMDAwMDljMTAwMDAwM2UzNTAwMDBhZjM2MDAwMDI5M2EwMDAwMjdhMTAwMDAxMjFiMDEwMGY0MWUwMTAwNDgyMDAxMDBjNTIxMDEwMGI0NjIwMTAwHAI3AAgyMDIxMDIxNhwCPAALMTUyNjM2KzAwMDA4QklNBCUAAAAAABA5vZfaQpdFgEKBZ7KcLtk//+Ex5Gh0dHA6Ly9ucy5hZG9iZS5jb20veGFwLzEuMC8APD94cGFja2V0IGJlZ2luPSfvu78nIGlkPSdXNU0wTXBDZWhpSHpyZVN6TlRjemtjOWQnPz4NCjx4OnhtcG1ldGEgeG1sbnM6eD0iYWRvYmU6bnM6bWV0YS8iPjxyZGY6UkRGIHhtbG5zOnJkZj0iaHR0cDovL3d3dy53My5vcmcvMTk5OS8wMi8yMi1yZGYtc3ludGF4LW5zIyI+PHJkZjpEZXNjcmlwdGlvbiByZGY6YWJvdXQ9InV1aWQ6ZmFmNWJkZDUtYmEzZC0xMWRhLWFkMzEtZDMzZDc1MTgyZjFiIiB4bWxuczp4bXA9Imh0dHA6Ly9ucy5hZG9iZS5jb20veGFwLzEuMC8iPjx4bXA6Q3JlYXRvclRvb2w+V2luZG93cyBQaG90byBFZGl0b3IgMTAuMC4xMDAxMS4xNjM4NDwveG1wOkNyZWF0b3JUb29sPjx4bXA6Q3JlYXRlRGF0ZT4yMDIxLTAyLTE2VDE1OjI2OjM2PC94bXA6Q3JlYXRlRGF0ZT48L3JkZjpEZXNjcmlwdGlvbj48L3JkZjpSREY+PC94OnhtcG1ldGE+DQogICAgICAgICAgICAgICAgICAgICAgICAgICAgICAgICAgICAgICAgICAgICAgICAgICAgICAgICAgICAgICAgICAgICAgICAgICAgICAgICAgICAgICAgICAgICAgICAgICAgCiAgICAgICAgICAgICAgICAgICAgICAgICAgICAgICAgICAgICAgICAgICAgICAgICAgICAgICAgICAgICAgICAgICAgICAgICAgICAgICAgICAgICAgICAgICAgICAgICAgICAKICAgICAgICAgICAgICAgICAgICAgICAgICAgICAgICAgICAgICAgICAgICAgICAgICAgICAgICAgICAgICAgICAgICAgICAgICAgICAgICAgICAgICAgICAgICAgICAgICAgIAogICAgICAgICAgICAgICAgICAgICAgICAgICAgICAgICAgICAgICAgICAgICAgICAgICAgICAgICAgICAgICAgICAgICAgICAgICAgICAgICAgICAgICAgICAgICAgICAgICAgCiAgICAgICAgICAgICAgICAgICAgICAgICAgICAgICAgICAgICAgICAgICAgICAgICAgICAgICAgICAgICAgICAgICAgICAgICAgICAgICAgICAgICAgICAgICAgICAgICAgICAKICAgICAgICAgICAgICAgICAgICAgICAgICAgICAgICAgICAgICAgICAgICAgICAgICAgICAgICAgICAgICAgICAgICAgICAgICAgICAgICAgICAgICAgICAgICAgICAgICAgIAogICAgICAgICAgICAgICAgICAgICAgICAgICAgICAgICAgICAgICAgICAgICAgICAgICAgICAgICAgICAgICAgICAgICAgICAgICAgICAgICAgICAgICAgICAgICAgICAgICAgCiAgICAgICAgICAgICAgICAgICAgICAgICAgICAgICAgICAgICAgICAgICAgICAgICAgICAgICAgICAgICAgICAgICAgICAgICAgICAgICAgICAgICAgICAgICAgICAgICAgICAKICAgICAgICAgICAgICAgICAgICAgICAgICAgICAgICAgICAgICAgICAgICAgICAgICAgICAgICAgICAgICAgICAgICAgICAgICAgICAgICAgICAgICAgICAgICAgICAgICAgIAogICAgICAgICAgICAgICAgICAgICAgICAgICAgICAgICAgICAgICAgICAgICAgICAgICAgICAgICAgICAgICAgICAgICAgICAgICAgICAgICAgICAgICAgICAgICAgICAgICAgCiAgICAgICAgICAgICAgICAgICAgICAgICAgICAgICAgICAgICAgICAgICAgICAgICAgICAgICAgICAgICAgICAgICAgICAgICAgICAgICAgICAgICAgICAgICAgICAgICAgICAKICAgICAgICAgICAgICAgICAgICAgICAgICAgICAgICAgICAgICAgICAgICAgICAgICAgICAgICAgICAgICAgICAgICAgICAgICAgICAgICAgICAgICAgICAgICAgICAgICAgIAogICAgICAgICAgICAgICAgICAgICAgICAgICAgICAgICAgICAgICAgICAgICAgICAgICAgICAgICAgICAgICAgICAgICAgICAgICAgICAgICAgICAgICAgICAgICAgICAgICAgCiAgICAgICAgICAgICAgICAgICAgICAgICAgICAgICAgICAgICAgICAgICAgICAgICAgICAgICAgICAgICAgICAgICAgICAgICAgICAgICAgICAgICAgICAgICAgICAgICAgICAKICAgICAgICAgICAgICAgICAgICAgICAgICAgICAgICAgICAgICAgICAgICAgICAgICAgICAgICAgICAgICAgICAgICAgICAgICAgICAgICAgICAgICAgICAgICAgICAgICAgIAogICAgICAgICAgICAgICAgICAgICAgICAgICAgICAgICAgICAgICAgICAgICAgICAgICAgICAgICAgICAgICAgICAgICAgICAgICAgICAgICAgICAgICAgICAgICAgICAgICAgCiAgICAgICAgICAgICAgICAgICAgICAgICAgICAgICAgICAgICAgICAgICAgICAgICAgICAgICAgICAgICAgICAgICAgICAgICAgICAgICAgICAgICAgICAgICAgICAgICAgICAKICAgICAgICAgICAgICAgICAgICAgICAgICAgICAgICAgICAgICAgICAgICAgICAgICAgICAgICAgICAgICAgICAgICAgICAgICAgICAgICAgICAgICAgICAgICAgICAgICAgIAogICAgICAgICAgICAgICAgICAgICAgICAgICAgICAgICAgICAgICAgICAgICAgICAgICAgICAgICAgICAgICAgICAgICAgICAgICAgICAgICAgICAgICAgICAgICAgICAgICAgCiAgICAgICAgICAgICAgICAgICAgICAgICAgICAgICAgICAgICAgICAgICAgICAgICAgICAgICAgICAgICAgICAgICAgICAgICAgICAgICAgICAgICAgICAgICAgICAgICAgICAKICAgICAgICAgICAgICAgICAgICAgICAgICAgICAgICAgICAgICAgICAgICAgICAgICAgICAgICAgICAgICAgICAgICAgICAgICAgICAgICAgICAgICAgICAgICAgICAgICAgIAogICAgICAgICAgICAgICAgICAgICAgICAgICAgICAgICAgICAgICAgICAgICAgICAgICAgICAgICAgICAgICAgICAgICAgICAgICAgICAgICAgICAgICAgICAgICAgICAgICAgCiAgICAgICAgICAgICAgICAgICAgICAgICAgICAgICAgICAgICAgICAgICAgICAgICAgICAgICAgICAgICAgICAgICAgICAgICAgICAgICAgICAgICAgICAgICAgICAgICAgICAKICAgICAgICAgICAgICAgICAgICAgICAgICAgICAgICAgICAgICAgICAgICAgICAgICAgICAgICAgICAgICAgICAgICAgICAgICAgICAgICAgICAgICAgICAgICAgICAgICAgIAogICAgICAgICAgICAgICAgICAgICAgICAgICAgICAgICAgICAgICAgICAgICAgICAgICAgICAgICAgICAgICAgICAgICAgICAgICAgICAgICAgICAgICAgICAgICAgICAgICAgCiAgICAgICAgICAgICAgICAgICAgICAgICAgICAgICAgICAgICAgICAgICAgICAgICAgICAgICAgICAgICAgICAgICAgICAgICAgICAgICAgICAgICAgICAgICAgICAgICAgICAKICAgICAgICAgICAgICAgICAgICAgICAgICAgICAgICAgICAgICAgICAgICAgICAgICAgICAgICAgICAgICAgICAgICAgICAgICAgICAgICAgICAgICAgICAgICAgICAgICAgIAogICAgICAgICAgICAgICAgICAgICAgICAgICAgICAgICAgICAgICAgICAgICAgICAgICAgICAgICAgICAgICAgICAgICAgICAgICAgICAgICAgICAgICAgICAgICAgICAgICAgCiAgICAgICAgICAgICAgICAgICAgICAgICAgICAgICAgICAgICAgICAgICAgICAgICAgICAgICAgICAgICAgICAgICAgICAgICAgICAgICAgICAgICAgICAgICAgICAgICAgICAKICAgICAgICAgICAgICAgICAgICAgICAgICAgICAgICAgICAgICAgICAgICAgICAgICAgICAgICAgICAgICAgICAgICAgICAgICAgICAgICAgICAgICAgICAgICAgICAgICAgIAogICAgICAgICAgICAgICAgICAgICAgICAgICAgICAgICAgICAgICAgICAgICAgICAgICAgICAgICAgICAgICAgICAgICAgICAgICAgICAgICAgICAgICAgICAgICAgICAgICAgCiAgICAgICAgICAgICAgICAgICAgICAgICAgICAgICAgICAgICAgICAgICAgICAgICAgICAgICAgICAgICAgICAgICAgICAgICAgICAgICAgICAgICAgICAgICAgICAgICAgICAKICAgICAgICAgICAgICAgICAgICAgICAgICAgICAgICAgICAgICAgICAgICAgICAgICAgICAgICAgICAgICAgICAgICAgICAgICAgICAgICAgICAgICAgICAgICAgICAgICAgIAogICAgICAgICAgICAgICAgICAgICAgICAgICAgICAgICAgICAgICAgICAgICAgICAgICAgICAgICAgICAgICAgICAgICAgICAgICAgICAgICAgICAgICAgICAgICAgICAgICAgCiAgICAgICAgICAgICAgICAgICAgICAgICAgICAgICAgICAgICAgICAgICAgICAgICAgICAgICAgICAgICAgICAgICAgICAgICAgICAgICAgICAgICAgICAgICAgICAgICAgICAKICAgICAgICAgICAgICAgICAgICAgICAgICAgICAgICAgICAgICAgICAgICAgICAgICAgICAgICAgICAgICAgICAgICAgICAgICAgICAgICAgICAgICAgICAgICAgICAgICAgIAogICAgICAgICAgICAgICAgICAgICAgICAgICAgICAgICAgICAgICAgICAgICAgICAgICAgICAgICAgICAgICAgICAgICAgICAgICAgICAgICAgICAgICAgICAgICAgICAgICAgCiAgICAgICAgICAgICAgICAgICAgICAgICAgICAgICAgICAgICAgICAgICAgICAgICAgICAgICAgICAgICAgICAgICAgICAgICAgICAgICAgICAgICAgICAgICAgICAgICAgICAKICAgICAgICAgICAgICAgICAgICAgICAgICAgICAgICAgICAgICAgICAgICAgICAgICAgICAgICAgICAgICAgICAgICAgICAgICAgICAgICAgICAgICAgICAgICAgICAgICAgIAogICAgICAgICAgICAgICAgICAgICAgICAgICAgICAgICAgICAgICAgICAgICAgICAgICAgICAgICAgICAgICAgICAgICAgICAgICAgICAgICAgICAgICAgICAgICAgICAgICAgCiAgICAgICAgICAgICAgICAgICAgICAgICAgICAgICAgICAgICAgICAgICAgICAgICAgICAgICAgICAgICAgICAgICAgICAgICAgICAgICAgICAgICAgICAgICAgICAgICAgICAKICAgICAgICAgICAgICAgICAgICAgICAgICAgICAgICAgICAgICAgICAgICAgICAgICAgICAgICAgICAgICAgICAgICAgICAgICAgICAgICAgICAgICAgICAgICAgICAgICAgIAogICAgICAgICAgICAgICAgICAgICAgICAgICAgICAgICAgICAgICAgICAgICAgICAgICAgICAgICAgICAgICAgICAgICAgICAgICAgICAgICAgICAgICAgICAgICAgICAgICAgCiAgICAgICAgICAgICAgICAgICAgICAgICAgICAgICAgICAgICAgICAgICAgICAgICAgICAgICAgICAgICAgICAgICAgICAgICAgICAgICAgICAgICAgICAgICAgICAgICAgICAKICAgICAgICAgICAgICAgICAgICAgICAgICAgICAgICAgICAgICAgICAgICAgICAgICAgICAgICAgICAgICAgICAgICAgICAgICAgICAgICAgICAgICAgICAgICAgICAgICAgIAogICAgICAgICAgICAgICAgICAgICAgICAgICAgICAgICAgICAgICAgICAgICAgICAgICAgICAgICAgICAgICAgICAgICAgICAgICAgICAgICAgICAgICAgICAgICAgICAgICAgCiAgICAgICAgICAgICAgICAgICAgICAgICAgICAgICAgICAgICAgICAgICAgICAgICAgICAgICAgICAgICAgICAgICAgICAgICAgICAgICAgICAgICAgICAgICAgICAgICAgICAKICAgICAgICAgICAgICAgICAgICAgICAgICAgICAgICAgICAgICAgICAgICAgICAgICAgICAgICAgICAgICAgICAgICAgICAgICAgICAgICAgICAgICAgICAgICAgICAgICAgIAogICAgICAgICAgICAgICAgICAgICAgICAgICAgICAgICAgICAgICAgICAgICAgICAgICAgICAgICAgICAgICAgICAgICAgICAgICAgICAgICAgICAgICAgICAgICAgICAgICAgCiAgICAgICAgICAgICAgICAgICAgICAgICAgICAgICAgICAgICAgICAgICAgICAgICAgICAgICAgICAgICAgICAgICAgICAgICAgICAgICAgICAgICAgICAgICAgICAgICAgICAKICAgICAgICAgICAgICAgICAgICAgICAgICAgICAgICAgICAgICAgICAgICAgICAgICAgICAgICAgICAgICAgICAgICAgICAgICAgICAgICAgICAgICAgICAgICAgICAgICAgIAogICAgICAgICAgICAgICAgICAgICAgICAgICAgICAgICAgICAgICAgICAgICAgICAgICAgICAgICAgICAgICAgICAgICAgICAgICAgICAgICAgICAgICAgICAgICAgICAgICAgCiAgICAgICAgICAgICAgICAgICAgICAgICAgICAgICAgICAgICAgICAgICAgICAgICAgICAgICAgICAgICAgICAgICAgICAgICAgICAgICAgICAgICAgICAgICAgICAgICAgICAKICAgICAgICAgICAgICAgICAgICAgICAgICAgICAgICAgICAgICAgICAgICAgICAgICAgICAgICAgICAgICAgICAgICAgICAgICAgICAgICAgICAgICAgICAgICAgICAgICAgIAogICAgICAgICAgICAgICAgICAgICAgICAgICAgICAgICAgICAgICAgICAgICAgICAgICAgICAgICAgICAgICAgICAgICAgICAgICAgICAgICAgICAgICAgICAgICAgICAgICAgCiAgICAgICAgICAgICAgICAgICAgICAgICAgICAgICAgICAgICAgICAgICAgICAgICAgICAgICAgICAgICAgICAgICAgICAgICAgICAgICAgICAgICAgICAgICAgICAgICAgICAKICAgICAgICAgICAgICAgICAgICAgICAgICAgICAgICAgICAgICAgICAgICAgICAgICAgICAgICAgICAgICAgICAgICAgICAgICAgICAgICAgICAgICAgICAgICAgICAgICAgIAogICAgICAgICAgICAgICAgICAgICAgICAgICAgICAgICAgICAgICAgICAgICAgICAgICAgICAgICAgICAgICAgICAgICAgICAgICAgICAgICAgICAgICAgICAgICAgICAgICAgCiAgICAgICAgICAgICAgICAgICAgICAgICAgICAgICAgICAgICAgICAgICAgICAgICAgICAgICAgICAgICAgICAgICAgICAgICAgICAgICAgICAgICAgICAgICAgICAgICAgICAKICAgICAgICAgICAgICAgICAgICAgICAgICAgICAgICAgICAgICAgICAgICAgICAgICAgICAgICAgICAgICAgICAgICAgICAgICAgICAgICAgICAgICAgICAgICAgICAgICAgIAogICAgICAgICAgICAgICAgICAgICAgICAgICAgICAgICAgICAgICAgICAgICAgICAgICAgICAgICAgICAgICAgICAgICAgICAgICAgICAgICAgICAgICAgICAgICAgICAgICAgCiAgICAgICAgICAgICAgICAgICAgICAgICAgICAgICAgICAgICAgICAgICAgICAgICAgICAgICAgICAgICAgICAgICAgICAgICAgICAgICAgICAgICAgICAgICAgICAgICAgICAKICAgICAgICAgICAgICAgICAgICAgICAgICAgICAgICAgICAgICAgICAgICAgICAgICAgICAgICAgICAgICAgICAgICAgICAgICAgICAgICAgICAgICAgICAgICAgICAgICAgIAogICAgICAgICAgICAgICAgICAgICAgICAgICAgICAgICAgICAgICAgICAgICAgICAgICAgICAgICAgICAgICAgICAgICAgICAgICAgICAgICAgICAgICAgICAgICAgICAgICAgCiAgICAgICAgICAgICAgICAgICAgICAgICAgICAgICAgICAgICAgICAgICAgICAgICAgICAgICAgICAgICAgICAgICAgICAgICAgICAgICAgICAgICAgICAgICAgICAgICAgICAKICAgICAgICAgICAgICAgICAgICAgICAgICAgICAgICAgICAgICAgICAgICAgICAgICAgICAgICAgICAgICAgICAgICAgICAgICAgICAgICAgICAgICAgICAgICAgICAgICAgIAogICAgICAgICAgICAgICAgICAgICAgICAgICAgICAgICAgICAgICAgICAgICAgICAgICAgICAgICAgICAgICAgICAgICAgICAgICAgICAgICAgICAgICAgICAgICAgICAgICAgCiAgICAgICAgICAgICAgICAgICAgICAgICAgICAgICAgICAgICAgICAgICAgICAgICAgICAgICAgICAgICAgICAgICAgICAgICAgICAgICAgICAgICAgICAgICAgICAgICAgICAKICAgICAgICAgICAgICAgICAgICAgICAgICAgICAgICAgICAgICAgICAgICAgICAgICAgICAgICAgICAgICAgICAgICAgICAgICAgICAgICAgICAgICAgICAgICAgICAgICAgIAogICAgICAgICAgICAgICAgICAgICAgICAgICAgICAgICAgICAgICAgICAgICAgICAgICAgICAgICAgICAgICAgICAgICAgICAgICAgICAgICAgICAgICAgICAgICAgICAgICAgCiAgICAgICAgICAgICAgICAgICAgICAgICAgICAgICAgICAgICAgICAgICAgICAgICAgICAgICAgICAgICAgICAgICAgICAgICAgICAgICAgICAgICAgICAgICAgICAgICAgICAKICAgICAgICAgICAgICAgICAgICAgICAgICAgICAgICAgICAgICAgICAgICAgICAgICAgICAgICAgICAgICAgICAgICAgICAgICAgICAgICAgICAgICAgICAgICAgICAgICAgIAogICAgICAgICAgICAgICAgICAgICAgICAgICAgICAgICAgICAgICAgICAgICAgICAgICAgICAgICAgICAgICAgICAgICAgICAgICAgICAgICAgICAgICAgICAgICAgICAgICAgCiAgICAgICAgICAgICAgICAgICAgICAgICAgICAgICAgICAgICAgICAgICAgICAgICAgICAgICAgICAgICAgICAgICAgICAgICAgICAgICAgICAgICAgICAgICAgICAgICAgICAKICAgICAgICAgICAgICAgICAgICAgICAgICAgICAgICAgICAgICAgICAgICAgICAgICAgICAgICAgICAgICAgICAgICAgICAgICAgICAgICAgICAgICAgICAgICAgICAgICAgIAogICAgICAgICAgICAgICAgICAgICAgICAgICAgICAgICAgICAgICAgICAgICAgICAgICAgICAgICAgICAgICAgICAgICAgICAgICAgICAgICAgICAgICAgICAgICAgICAgICAgCiAgICAgICAgICAgICAgICAgICAgICAgICAgICAgICAgICAgICAgICAgICAgICAgICAgICAgICAgICAgICAgICAgICAgICAgICAgICAgICAgICAgICAgICAgICAgICAgICAgICAKICAgICAgICAgICAgICAgICAgICAgICAgICAgICAgICAgICAgICAgICAgICAgICAgICAgICAgICAgICAgICAgICAgICAgICAgICAgICAgICAgICAgICAgICAgICAgICAgICAgIAogICAgICAgICAgICAgICAgICAgICAgICAgICAgICAgICAgICAgICAgICAgICAgICAgICAgICAgICAgICAgICAgICAgICAgICAgICAgICAgICAgICAgICAgICAgICAgICAgICAgCiAgICAgICAgICAgICAgICAgICAgICAgICAgICAgICAgICAgICAgICAgICAgICAgICAgICAgICAgICAgICAgICAgICAgICAgICAgICAgICAgICAgICAgICAgICAgICAgICAgICAKICAgICAgICAgICAgICAgICAgICAgICAgICAgICAgICAgICAgICAgICAgICAgICAgICAgICAgICAgICAgICAgICAgICAgICAgICAgICAgICAgICAgICAgICAgICAgICAgICAgIAogICAgICAgICAgICAgICAgICAgICAgICAgICAgICAgICAgICAgICAgICAgICAgICAgICAgICAgICAgICAgICAgICAgICAgICAgICAgICAgICAgICAgICAgICAgICAgICAgICAgCiAgICAgICAgICAgICAgICAgICAgICAgICAgICAgICAgICAgICAgICAgICAgICAgICAgICAgICAgICAgICAgICAgICAgICAgICAgICAgICAgICAgICAgICAgICAgICAgICAgICAKICAgICAgICAgICAgICAgICAgICAgICAgICAgICAgICAgICAgICAgICAgICAgICAgICAgICAgICAgICAgICAgICAgICAgICAgICAgICAgICAgICAgICAgICAgICAgICAgICAgIAogICAgICAgICAgICAgICAgICAgICAgICAgICAgICAgICAgICAgICAgICAgICAgICAgICAgICAgICAgICAgICAgICAgICAgICAgICAgICAgICAgICAgICAgICAgICAgICAgICAgCiAgICAgICAgICAgICAgICAgICAgICAgICAgICAgICAgICAgICAgICAgICAgICAgICAgICAgICAgICAgICAgICAgICAgICAgICAgICAgICAgICAgICAgICAgICAgICAgICAgICAKICAgICAgICAgICAgICAgICAgICAgICAgICAgICAgICAgICAgICAgICAgICAgICAgICAgICAgICAgICAgICAgICAgICAgICAgICAgICAgICAgICAgICAgICAgICAgICAgICAgIAogICAgICAgICAgICAgICAgICAgICAgICAgICAgICAgICAgICAgICAgICAgICAgICAgICAgICAgICAgICAgICAgICAgICAgICAgICAgICAgICAgICAgICAgICAgICAgICAgICAgCiAgICAgICAgICAgICAgICAgICAgICAgICAgICAgICAgICAgICAgICAgICAgICAgICAgICAgICAgICAgICAgICAgICAgICAgICAgICAgICAgICAgICAgICAgICAgICAgICAgICAKICAgICAgICAgICAgICAgICAgICAgICAgICAgICAgICAgICAgICAgICAgICAgICAgICAgICAgICAgICAgICAgICAgICAgICAgICAgICAgICAgICAgICAgICAgICAgICAgICAgIAogICAgICAgICAgICAgICAgICAgICAgICAgICAgICAgICAgICAgICAgICAgICAgICAgICAgICAgICAgICAgICAgICAgICAgICAgICAgICAgICAgICAgICAgICAgICAgICAgICAgCiAgICAgICAgICAgICAgICAgICAgICAgICAgICAgICAgICAgICAgICAgICAgICAgICAgICAgICAgICAgICAgICAgICAgICAgICAgICAgICAgICAgICAgICAgICAgICAgICAgICAKICAgICAgICAgICAgICAgICAgICAgICAgICAgICAgICAgICAgICAgICAgICAgICAgICAgICAgICAgICAgICAgICAgICAgICAgICAgICAgICAgICAgICAgICAgICAgICAgICAgIAogICAgICAgICAgICAgICAgICAgICAgICAgICAgICAgICAgICAgICAgICAgICAgICAgICAgICAgICAgICAgICAgICAgICAgICAgICAgICAgICAgICAgICAgICAgICAgICAgICAgCiAgICAgICAgICAgICAgICAgICAgICAgICAgICAgICAgICAgICAgICAgICAgICAgICAgICAgICAgICAgICAgICAgICAgICAgICAgICAgICAgICAgICAgICAgICAgICAgICAgICAKICAgICAgICAgICAgICAgICAgICAgICAgICAgICAgICAgICAgICAgICAgICAgICAgICAgICAgICAgICAgICAgICAgICAgICAgICAgICAgICAgICAgICAgICAgICAgICAgICAgIAogICAgICAgICAgICAgICAgICAgICAgICAgICAgICAgICAgICAgICAgICAgICAgICAgICAgICAgICAgICAgICAgICAgICAgICAgICAgICAgICAgICAgICAgICAgICAgICAgICAgCiAgICAgICAgICAgICAgICAgICAgICAgICAgICAgICAgICAgICAgICAgICAgICAgICAgICAgICAgICAgICAgICAgICAgICAgICAgICAgICAgICAgICAgICAgICAgICAgICAgICAKICAgICAgICAgICAgICAgICAgICAgICAgICAgICAgICAgICAgICAgICAgICAgICAgICAgICAgICAgICAgICAgICAgICAgICAgICAgICAgICAgICAgICAgICAgICAgICAgICAgIAogICAgICAgICAgICAgICAgICAgICAgICAgICAgICAgICAgICAgICAgICAgICAgICAgICAgICAgICAgICAgICAgICAgICAgICAgICAgICAgICAgICAgICAgICAgICAgICAgICAgCiAgICAgICAgICAgICAgICAgICAgICAgICAgICAgICAgICAgICAgICAgICAgICAgICAgICAgICAgICAgICAgICAgICAgICAgICAgICAgICAgICAgICAgICAgICAgICAgICAgICAKICAgICAgICAgICAgICAgICAgICAgICAgICAgICAgICAgICAgICAgICAgICAgICAgICAgICAgICAgICAgICAgICAgICAgICAgICAgICAgICAgICAgICAgICAgICAgICAgICAgIAogICAgICAgICAgICAgICAgICAgICAgICAgICAgICAgICAgICAgICAgICAgICAgICAgICAgICAgICAgICAgICAgICAgICAgICAgICAgICAgICAgICAgICAgICAgICAgICAgICAgCiAgICAgICAgICAgICAgICAgICAgICAgICAgICAgICAgICAgICAgICAgICAgICAgICAgICAgICAgICAgICAgICAgICAgICAgICAgICAgICAgICAgICAgICAgICAgICAgICAgICAKICAgICAgICAgICAgICAgICAgICAgICAgICAgICAgICAgICAgICAgICAgICAgICAgICAgICAgICAgICAgICAgICAgICAgICAgICAgICAgICAgICAgICAgICAgICAgICAgICAgIAogICAgICAgICAgICAgICAgICAgICAgICAgICAgICAgICAgICAgICAgICAgICAgICAgICAgICAgICAgICAgICAgICAgICAgICAgICAgICAgICAgICAgICAgICAgICAgICAgICAgCiAgICAgICAgICAgICAgICAgICAgICAgICAgICAgICAgICAgICAgICAgICAgICAgICAgICAgICAgICAgICAgICAgICAgICAgICAgICAgICAgICAgICAgICAgICAgICAgICAgICAKICAgICAgICAgICAgICAgICAgICAgICAgICAgICAgICAgICAgICAgICAgICAgICAgICAgICAgICAgICAgICAgICAgICAgICAgICAgICAgICAgICAgICAgICAgICAgICAgICAgIAogICAgICAgICAgICAgICAgICAgICAgICAgICAgICAgICAgICAgICAgICAgICAgICAgICAgICAgICAgICAgICAgICAgICAgICAgICAgICAgICAgICAgICAgICAgICAgICAgICAgCiAgICAgICAgICAgICAgICAgICAgICAgICAgICAgICAgICAgICAgICAgICAgICAgICAgICAgICAgICAgICAgICAgICAgICAgICAgICAgICAgICAgICAgICAgICAgICAgICAgICAKICAgICAgICAgICAgICAgICAgICAgICAgICAgICAgICAgICAgICAgICAgICAgICAgICAgICAgICAgICAgICAgICAgICAgICAgICAgICAgICAgICAgICAgICAgICAgICAgICAgIAogICAgICAgICAgICAgICAgICAgICAgICAgICAgICAgICAgICAgICAgICAgICAgICAgICAgICAgICAgICAgICAgICAgICAgICAgICAgICAgICAgICAgICAgICAgICAgICAgICAgCiAgICAgICAgICAgICAgICAgICAgICAgICAgICAgICAgICAgICAgICAgICAgICAgICAgICAgICAgICAgICAgICAgICAgICAgICAgICAgICAgICAgICAgICAgICAgICAgICAgICAKICAgICAgICAgICAgICAgICAgICAgICAgICAgICAgICAgICAgICAgICAgICAgICAgICAgICAgICAgICAgICAgICAgICAgICAgICAgICAgICAgICAgICAgICAgICAgICAgICAgIAogICAgICAgICAgICAgICAgICAgICAgICAgICAgICAgICAgICAgICAgICAgICAgICAgICAgICAgICAgICAgICAgICAgICAgICAgICAgICAgICAgICAgICAgICAgICAgICAgICAgCiAgICAgICAgICAgICAgICAgICAgICAgICAgICAgICAgICAgICAgICAgICAgICAgICAgICAgICAgICAgICAgICAgICAgICAgICAgICAgICAgICAgICAgICAgICAgICAgICAgICAKICAgICAgICAgICAgICAgICAgICAgICAgICAgICAgICAgICAgICAgICAgICAgICAgICAgICAgICAgICAgICAgICAgICAgICAgICAgICAgICAgICAgICAgICAgICAgICAgICAgIAogICAgICAgICAgICAgICAgICAgICAgICAgICAgICAgICAgICAgICAgICAgICAgICAgICAgICAgICAgICAgICAgICAgICAgICAgICAgICAgICAgICAgICAgICAgICAgICAgICAgCiAgICAgICAgICAgICAgICAgICAgICAgICAgICAgICAgICAgICAgICAgICAgICAgICAgICAgICAgICAgICAgICAgICAgICAgICAgICAgICAgICAgICAgICAgICAgICAgICAgICAKICAgICAgICAgICAgICAgICAgICAgICAgICAgICAgICAgICAgICAgICAgICAgICAgICAgICAgICAgICAgICAgICAgICAgICAgICAgICAgICAgICAgICAgICAgICAgICAgICAgIAogICAgICAgICAgICAgICAgICAgICAgICAgICAgICAgICAgICAgICAgICAgICAgICAgICAgICAgICAgICAgICAgICAgICAgICAgICAgICAgICAgICAgICAgICAgICAgICAgICAgCiAgICAgICAgICAgICAgICAgICAgICAgICAgICAgICAgICAgICAgICAgICAgICAgICAgICAgICAgICAgICAgICAgICA8P3hwYWNrZXQgZW5kPSd3Jz8+/9sAQwADAgIDAgIDAwMDBAMDBAUIBQUEBAUKBwcGCAwKDAwLCgsLDQ4SEA0OEQ4LCxAWEBETFBUVFQwPFxgWFBgSFBUU/9sAQwEDBAQFBAUJBQUJFA0LDRQUFBQUFBQUFBQUFBQUFBQUFBQUFBQUFBQUFBQUFBQUFBQUFBQUFBQUFBQUFBQUFBQU/8AAEQgA4gLRAwEiAAIRAQMRAf/EAB8AAAEFAQEBAQEBAAAAAAAAAAABAgMEBQYHCAkKC//EALUQAAIBAwMCBAMFBQQEAAABfQECAwAEEQUSITFBBhNRYQcicRQygZGhCCNCscEVUtHwJDNicoIJChYXGBkaJSYnKCkqNDU2Nzg5OkNERUZHSElKU1RVVldYWVpjZGVmZ2hpanN0dXZ3eHl6g4SFhoeIiYqSk5SVlpeYmZqio6Slpqeoqaqys7S1tre4ubrCw8TFxsfIycrS09TV1tfY2drh4uPk5ebn6Onq8fLz9PX29/j5+v/EAB8BAAMBAQEBAQEBAQEAAAAAAAABAgMEBQYHCAkKC//EALURAAIBAgQEAwQHBQQEAAECdwABAgMRBAUhMQYSQVEHYXETIjKBCBRCkaGxwQkjM1LwFWJy0QoWJDThJfEXGBkaJicoKSo1Njc4OTpDREVGR0hJSlNUVVZXWFlaY2RlZmdoaWpzdHV2d3h5eoKDhIWGh4iJipKTlJWWl5iZmqKjpKWmp6ipqrKztLW2t7i5usLDxMXGx8jJytLT1NXW19jZ2uLj5OXm5+jp6vLz9PX29/j5+v/aAAwDAQACEQMRAD8A94hVFe2UKEKrCfmEmefLb+5/sVHZx+WqhLXI2xZzv6hVJ/5Z+i091WF7lQm4x5UFg/RI5h/c/wBile3WHzQsSB13nGx/4Y5R/c/2f0oiaSI4LdGkXZbFseWV3wvjOzd18r/ZogtWhdh9jDY8vpbseRj/AKZf7NPe2Ea3GLcFlLYzE5+6koz/AKr2ps2nFbiXZaMOXzmB8cLN/wBMfarJHQ6e0cgxa/dER5tm4IVf+mP+zUNhZTLGhu7NBOAisUtGcYHQcxeiVZW0KtMDatn/AK9WIOEl/wCmP+zUc1i8fmYsegYn/QW4ISX/AKZetBMRltYyI0QW0HBiyGsgMfKp7xf7NNt7ZkYF4yrYjGBbKOyk/wAA/u1LJaPHLKxtiu3n5bHHRJf+mX+zTGtXXzH8jBUkgmyxjCS8/wCr/wBmqiyxbNZWmh2qCFMOd1uoOf3Zz0/2ar26/vInMmCFiyCiDvEx7+xqytsVmlba+FZB8tuuOEc5yV6fL+lRqqoeSw2umA0KjbhWPqP7v6VZIWnH2ZROqBTDliyLn/U9D5g/u02GYottuvXyY4+txGP44Cf+W3qKkjG2aMG5wFMYx8gx8v8A10H92pBM0QgzdMQFXK+ag7g4/wBd/s0rkkNvNJm2xeYBMfW8UdWg/wCm9NgvCqQg3XLIpH+nA/xQD/ntUkdwI7i0R7ogfuW/4+0HdP8Ap4/2f0plpqDJ9mzcZCpD/wAvi8ZeI/8APf8A2aYyOG+EkYHmLI25cE3p5yYfST3pq3MdwhBG45bGLl26mL0z/eqa31EbbVXnzuaI5+254zB/019jUVjdI/kDIZSsfP2lj1eAf3jQAPHE6z/ufMZmk6736gesZ/vUTaeJEudtq3Ik+7asf4X/AOmP+1RbNFINuxXZuR+8c9fI9EPqaT7HHNatmEMpBPzQOxGfL7mHp81XEgXUNNeSS5UWxb55v+XEnokx7we9JdWLxtO4t9oBYjNjwMLP/wBMqfNp7NJNm2AyZSP9Ebujf9MP9qobjTZWhuybVtuJB/x4n+5Lz/qB/eoAlZZLeN42iZFTHIt1UcednqB/dpiMFmt8T7U/dA/cU/f/AOug9KfdQNHJOpjCjfKP+PQL0Fx/sCnTRmG4By0ax7P4EXp5nuP7tAyO3uJI/s267ZSEjHF2qgDfB1xN7VXt7wrCm67UqUU83eRybfv5xq3HdM0cTfaxysfy+aobIkX/AKbf7NJZ6gwFrD9rOGSPrdKP4rb/AKb0CKkl5F9md3dZeHIxdE/wAf3j/ep95NDm5IjAJabHzuf4Lj/YNLHfRtborXBZ2QkK16TnKw/9ND60s08dwt4zgEnz+GnY9Y5fc/3qXMANbpNdqBarkMpJ8lj3uP8Apic/jQtm4lt1+ysvEP8Ay4k/8tIx/wA8P9mlaGBppmEEbNuYD5GfoLk9ShpV0xjdQkW6gZTI+zkjiY/9MP8AZpjKlvp8jW6fuGQ4UA/YgB1tQOsXvUckZW3uCd0XySgZgVQP3Z56D1qzb6bILS3U2oB+T/lxJwN9p/0wqt9nn+xy/uP4JD/x6Ef8s0P90f3qUhPcmvJHWWdBdPu81+TIq9Bd4z+9GfwqczFb60Zrliu6HP8ApIH/AC2j/wCm9Q3cZU3HzsieZJn5Qp+7df7Qqwrut1bBrlyFeEqodVPE/wD11HpUlIrJfbbZG89fuZObwdlt+mJTU13dxtJMZOfllOTcFt3+jz/7RzUMN3/o8Gbpymz+K6Uf8+3/AE36VYvLobZVMgKhJOt3g/8AHvN282jmJFi8me+DeWGAnQjqf+W8v+waqx2a+RGwt0JwOluxJy1r38rFWkuImvF4UjzVG3zySf8ASJPc1WhFvJbxKYUOUGN5Zv8An27bDVXAm1DTQftOLcL8jYxaE8/Zpv8AplTzbTHUId0Ln98vItcYH2p/+mYpt5ahGnIijLbJBt8ksf8Aj3m/6ZdODSpaMbmMfZhlpk+ZLY4H+lN/0wqLgVIY7hbGMbZAPLOMwAfwWvsKsXzPGJ1WeRWMjAgYX/lndD/nqPSqjWc32GPbb4CxElhaf9MbY/8APIelX7uGVZHBSVRuyD9nAzxdewqugDLe4bJAuZP9YpH78f8APxEf+e/vUNxqLLZf8fJLeQ2Qbv1tBx/rv9mpbV3xbnzpIwdpJKhRxNbf7fvTJJX8qUfaZMCPB2ygf8u0w7y+1TIC013/AKaAhWQiUD/j84/4+XH/AD09DVNLiI24VvLK+U7nMxYg+RA3qfSrFves18HW8LDzR964U/8AL2B/z19GqFphHYTguJXEDnIuh/z7Dj/Xf7NTcY6ZYWvwojiOZVAO0nnfcL2Q+tQQW6SWMJEcQm8pmwISw6Wzd4uvSpluhLqAZwoQzxqWF0McXMoyP3h7H9arf6J9hVikZxC/LTA/8sIT7/3as0NCS2kkuiqwKAHx/wAepP8Az8p/zw9zUNvbyiGOXyWC7XzttGHQ27/88h61a2WzXIUrGQZRjcdwx58q8fIf79UlSNIQEiXaYnOBDn/ljCf+eH+zWRmStBPHNt2yACRRxbkH/l4X+6PSotzrCQ0lxHtR2yAVHWBv7w9KsNalr5W8hfmuFHFqf+e8g/54f7VVjb3D6fJttyT5DMcWbE/6iNv+eP8AsVBfUtTTMbogXMnysF5mI/juF/56j2qpHeObZyZt3ySH/j5A/wCWMDf89/8AZq0sMy3ZzBOgaUdLdx/y8uP7g/vVAYpoYdjfakHlHGI3XBNqevI7rUlCLcRR3yFzC2HUfNdDtcSD/nqf71U/tFvNp4ylvzB2nU8tbj/aP92tGRpw777q6ADt8u5l6Tof+en+2aqwySJGim6lVSI1bdcEZ/dSKMfvvaouBGGt/MkbbCArnoQeBcKeyn+9RDGi7BFHCynyxuWEn/lnMv8Azy9qfNdHEge5Vg3mEZuhk/NA/eei3ktt8cbojEug5uUzxLIv98+tSzWI2S3kkWR1jDcSni1P9yJ/+eX1pPsd5bzRjyZjtYDKQMOk5XP3B/e/Wqsk1t5LIYI8GM8mVCcm2+p/u0v+jfaJQEhXDy8+WGPEkb8nyiO9LmFqSfvognNxH8sQ2lXU8wuP7w9KbdSO3mN9pkQfOTumI/hRhz5vtTbeExSRRqIWO6If6nk/M6cYg96bFBN5Kr5LEsgG77O3e3zx+6HcH8qsYXEnlyOTIsuxj96cN0uAO8voaI2tf3SqYSx2j/WIem5P7xp0jXDGXidSfMP+rkHIKP6D1qcPPDtAlmTBAyWcf8vBH98etQWUlWHaV2Q/MAu7KNndFn/nmfSnzQ7o5pIYUwd7fLCM4Kqe0VPhZ5vLDztgFAd8hB6Omf8AW+1V5Hjkjw7xsNq8+aCeYj3Mh/uigBZYJFkcFXjWNWZf3TDgSrjog7U+Pz0OPNmwrDDFWzgSleu4DHNRmS1aKQlITuWUhQ8Z6qjAHgnOc/lRdKCsrKsKqokPVT0kVv8AnmfWgqILIyPAJMkfugd8hHTenTzaZ8jiLJjPyxg7plzgxOD/ABnjIqTa+75cKFycIhH3ZQe0Xo1MjimXYVMrbTGcqrnAWRl/uj+8PzrICiqQMxCmMmTjG6PHzwE9dp7inSRrJI/MZLFiPLjB+9Dnr5XPSrEck6LEpa4DEQt828dC8ZH+sFRrIZJIfN+6rRj7/puTvL9PzpssY8Vw28IzgSGTG2KTHzQqQOEHcVHN9qZpdrXIVml/gkB5VSB1HGRToPs/+jF1UkiLO6aPjKspPzP7Yplq0DLCdsOD5O4l4z95GVuinvUgOmkO6UyCU4MmAdwyMBwOZR3qKaSIGYuIw2JFIEqYAG0g/wCtPqfyNLuLLE2FQNsJ+QDBZCD0i605FvDtwJlR/LBwkoPzKSekY9KwYFa7NmowILZlDSEAmInjDgd+5qKSaBGlMRhU/vB8qo2AMOOkR71cVb2ZVffeEgo33Jvm3IwPJI64FQh7iaMLI0zbiufMLcZQ9zKKg1I5/NVZRB5bFQ+0xxNkkEMOkPuaZKtyjP8AJO20yD5YZOxDA8IO5p+3eELxxs7BGO6VMjKnP3parn7O6qWSFWcx5zLBx8pB/iPfFQxMkl+3KkgWa6RR5ihGSYf3W67x3FRXTbdzytI5kaU/NJ2I3d5fUVF/oTyIG+z7/wB2WyYm6gqf4D3NEW12iCiFjmPdtRfVo+NsH07mpuIjuJI42cGKIltwA81MYZVbP3z6Uk62syysIrVt7kk+bDgBkzjnPcVLGJ5JFVVBO1G3bG6BiuB+664FCrd+THn7ZHjaG2xTkZU7SeFHY1BqV8W8zF1eAmTAJBixh1IIwEpizB1U/uCshTzHXII3KQQAI/Xjr1qy011HHn7RchFz1EoztYccvnpUTLIrMWaZ3Ct8pZ8fKd3eTrQBGJmkhtXWJkZhGZJNjjfjKcYj+h6mlxdJCp3SoqhTnbIOUOPQdqfIscEdyAiocyJGQ6k8/MpOZemAelU5ltmaTNvGQzvk/u+kgyB19sdTUAR3KSwvt3TCSMNwdw+4wP8Aepk0arJLHlnLeaBjIJOdy9X5FMeS3mlUAxrvKsWUxn7ykHop6mkiYs0b7oyGVGH3SePkbjb75qGWhkqoxlb7m5yArBf4xx/Ee9QNJFMqlip3tHk5XOGUq3r3pzeYvznckkcY5izjKNzkBPSmM0iLiJ2yVZVbDHODuH8NSUZ32Ef3l/8AHf8ACit3/hII/wDng/8A4/8A4UVNxnvV3GqrM6wbnmaZsbWOR+9X+5/t/rT7m2jZrkhXV3a4wAj4IIlUdE/2/wBa1xa2kiwqLZAVD9fM6NJHz9z/AGqUafbzoqtAv73IyBJx86cf6v8A2q+g9sjx+Uxry1XZNiAneZePJfofMGP9V7j86deWIj88/ZiwYzA/uX4BEnP+p/2q1l0+CSGPNmu0g9nz8zoP+eX+1TDpNvIm77KrCQsP9W/dl/6Y/wC1VRrIfKY15a/LMTAJABIBm2kHGJF7w8/ep95YFftG22DAefx9jOeRLg/6j3Fatx4fgms9zWm0sjDPkvxlxz/qf9qkOhoYDttzITvTm2bPLAc/uv8Aaq/bInkMe6s5FS6Jg6+YADZnkfvh/wA8vf8AWn3mmvG82Ldcfvx/x5Dss+P+WXrWtdaHHJEG+xAKyPnNs2eX/wCuX+1TLrQo5EkUWeSwk4Noe+7/AKZf7X60/boVmZN1ZOq3haIqQH6Wy/wrOP7lLPYyJNMyRgD9796BQflSYelat5o0TxyEWoCsJAG+yENnMnGPLH94fnT77RoxNJmBiuZulqPSX/Z9x+dP6wh8pisskQumZiGXB/1aggqk3+2PQU6bfGxPnkAKT8zoOgm/6a+1aV5pkcdtOSjLzIf9Sgz/AK4eg9R+dSXOnxRyzAtIADOvAQdFnP8Ae9xV+2QrMyZLhlkjCXTb1KZ/0hQOBJx/rh/doN1LCqs11hVUA5u155P/AE3/ANmtKa1QfaylzKAu/pKg6LP/ANNRRcW8SK2buQBdwOblBjAm/wCm3tR7aIchlrfDdZBLn5lMPS954IP/AD3/ANmkjv49tuHmLHZF96+P/PSL/pof7v6VrNGICGF23y7et4Owk/6b/wCzTPLij8sfaX42pxqBHQse03+zT9qiOQx4ZLY/ZwwQ7vJA/wBIYk5eD3NMhhhmihVIlOY04w7fxQf9MzW35Ntusl80kgw/evCehT/bP92m2en27SQkL91Y8EzM2fng9j/do9qhcpjrYK8Lsltu3M2WS3bdz5f/AEw6fNTfsZlt7jFqx3h8E2eeq47w/wC1Wxb6RbM0e1VO7Z1jY9Wg/wCmRqEeG45o8rAjIAeRas3Xyun7j/ap+2QcpQvLCdZLjEC7S05ObI/3Jv8Apl70lxHJDcTFo9uGbpbBcYE5/uj0rQl8P7ln2wsN3mYH2A85U/8ATD/apl14fdXvDtaNsSYP2EZ+5P8A9Mx/eo9sg5WU2X7PIqCYgrt4yqn70nYuP7tLDcSRyWQN00RAhAH2hEz+8i64m/2avXeltGHUSSA5OQYkAyBcn1H5U5bFo7i3X7X5ZVoRgOEP3/8ArqP7tV7VA4mVa3myCEfaQ48tet2M/etl/wCevSmNfRskpZ0JIl4+2MesQ/6af7Va8NoymAfbRnZGPnuBnmS3/wCm9QR2+UDm7jYkMeLr1SH/AKa+9R7WIrFG6uIH+1sUQgeaVZZWb+C556GnzrC0iKIUkbzkXJRmx+8m5x5R9Kmkt483g85ZCVkxm5J/5Zzf9ND/AHqsXFmkkzHdE2ZOu8n+K49jR7WIjNW0CrCq26EgQ/8ALqx6vbf9MKqfZG+x7vsqkeS5O2ybP+qi/wCmXvW1Ho7NdWwjihds24G6Nzn95D/0yP8AdqtH4dm+yxlYQSIiQBbFs5W3z1iq/axEVby3eP7ayxOqbpjn7NjGEuTn7o9assxXU7UGSccxdEAGfOPX5hT59En3XbLbxlf35z9kIz+6uO/lc1NcaPcjUoiYQF3x/dtsD/XP/sio9pHuBlQTP9lgJnb7h6TAAn/Rhj/W1YvLhle4K3JOUcZNyuB/o83/AE1pkem3It1YiSMGJRuAA/itfuncKtXlrI32lvtDLtRxhpQAR9mm/wCmtP2kRkP25YruNjcbyJl/5e8/8vEn/TWqsd1FNbxFyM+UfvXOe9t/tGtPyZ4dQgVbo489NwF0ozm5l55nqsiyNbRO8+T5fe6XPS2P/Pb2p+0iAt40MzXGFiY4cDaxP/LC5/2TS21uv2m3byInDSpg+WW63P8A1zqTVI3InJZWIYgf6Up/5Y3I/wCehpIo98iZiiJDpwkoIGLqPHr2alGpECn9lK2LFLVT+5J/49if+XeDp+4q21sxvG/cA4kxzZH+/cDj9171WaxVbEyCBQfs5GM9/syf7B9KtSWBeZSlshJmC8Rk9J5x/wA8veq9rECpaxzRwws1vJgZOfsZ4+a2b+6PSpJI5o3lGZVV2VeICP8Allc/4Cm2+mzfYU8q0QsYmJ/0c8Hy7c/88ParEul3QnWOS0bLSqoP2Vv+npf+eP0pSnECvDNP+7YSSh938K7RxcQH+91+akkkmjjkC3EwO1hu34Gfs0g/56+1Pt9Nufs8f7hlb5v+XNuu+2P/ADyHpUtxptztZPJlB3Y3eQc8xTjqFHHFTzxAYt41tMjrdMD54+9d8H/SVx/y37hqjaZo7N4zMrK0OTuu+mbYnp5/+zUsdncbA3l3HEm7/VEY/fW7Dv6GmyQTqrZNyn3F5BDA+ROP+entRzIBFuozeqzMp8uTB/0kdRdg4/1v+1+tQtcQvEwaOP8A1TAbplOf9FJ/vHun6Us2rS6fcWQknuA08rRp85PIkhlyT5v93PJ71YaSdZGRpXMW4KGFwMH91cLjHn9eKTmitxi3Fp9oUlbcAS54cN0uF9vRqiaOBbZ0RYCRGqH5B/FbP/0zPdcfhUsd0zRnMvA3EH7R6PA3/Pf0OamE6/aTHlXLSIuftI4/165/1p9qz5kBUZImklbbEfmchfIz0uI2H/LD0b9ae1kZ22pbqcsqYW0z/BOv/PH2qOSYNHudUG5JCf8ASEH8MLf3/arH+jeegaCPCzDkzKf+W0q+/rUyqFkDWdx+9drdk3ea4xZsO0L9oabFZTx+SPKmyskf3bZxwJZlz9z3qJjafZztiiLeSxxuU9YFOP8AVn+7UjxwrK7okKhHGCEB4FwOf9V/t/rU8wIa0VyLNnP2vOxiMRtgboFPqP7n6VJL5qF2SW6yHYZAdeBcLnH7wdmqKGEvDHGIo28wRJlYc9YZV5/ceorN02PWJm1ObUbaK0V2doFW2O88Qt8zLCcjCqce5qXI2Lw85lhJuZSxCqR556bZU/57Uya5RhK29W+WVjuuPWKNv+e/tVhLW6t2UpDwpCkLauOlw6/88h61VWO42gbZkDRop8uKQH5rdv8AYHdf0qeZCI5JIBvcpGGVyNxuFI4uO/709mqG1W0kSEhLdTuix+9jPaVPQ+ladw0zSSnzrrOZW+65GMRPnJYetRTebBIF8+72gqDucgcTkH/lqP71aKSGkUisLxsD5a7kLAAI33oQf+eZ/u1Lc7Vmk2CMBfNG0R8EBkYdIvc06KTMUW6c/MscZDTEEDy5FP8Ay39hVdpIfJkdxHLujJJacHG6AHvN7elK6KJvs86kPHG6sr5wsRB4mIP/ACy/2qerXKvEGF2ozGNwicY+8vZB6VDcXNool2+Sr7ZDtZ4zn5kboSc96j/0TzBsjgwhJUYjGcTA8gA9iaYE26WTEjS3WTtXawf+KNvVx/dFMuN0iSZaQMyvtLMQctErcfvPakhVVmi2rDtXYxwBjh2UdIqWFHlaFdoDfu2GImI5Rk/55e1K4EV4yTSXAeIcecQpkjY5IjcHlz78VBMbeP7REgiDKJhhmTs6t2B7YP41bVLhhgLPskKEsiPkb4iP7g4+WmDz5dwkkuWRnbbsSRQd0Ix/EM8rU3QFOZYIWk4tztMgChUPSUOP+WR7GnTxsqkQoCFDthEP8MvtGOxqW4Jbzvnba+/l2K/eiB/56e1MvGSSSckREM0xOZUPBRSMZlPcVL3KiROl4u0p9q2RrkEJKR8suOMAY4NOWOaGHa4u2KL1JkwSspHd/Sm3MluzTMUgBJlwivD/AHVYY696ZKYRMVSOBcmQbg6MegfosZ9aze5Yu9IpAzR+bt2n55B/DIRnmX0NRxmHyUDi3J+UlmliLErIRxlzjg9amm/d7yrAhQ+0rHnoFYciL6/lSXK3SOxCTsUMgyqSjGArDogqZBEorLbvJGTFaqFK/KGiK4WQ9RsPO0/rTFby1CrLGQgXLhVwNr4PCw+lX5be/wBk2xr/ACS4AxNj7oPdhVVmmKy5a4O5pACd425RcdZR/Ep/Os2aIjSGWZAfM3sicMkbHO2QZ6RehoEN1DtQCfeoIO2KYcq468DsaS6hjbO5I2LF/mkkjzhkBHBl9j+VV5GsJ2lLRQYcknc8OPnjBx94+h/KsxEwa7g81s3QcBvvLNtyjg4OXHbn6VDNm3WVQZmVPMC9RkghsHdKOKguWtrhlDx22S2dxa3zh4xkfdPHGKlTEiq7S20fmBNxWNDyUKkDbD3IrN7mok7RrNLhYVVTMF/ex8dHUcyn1NR3BtFkZmNsq/MMl4GBJUNj7x9KcspTyt0iDPl9EILHBUniHHJNQQ+ezLkzMm1d/lJKpyDsJyqeh/SkA0yWpCyhLZgTgMzQlm3IM/dBAwRUO1ZSmxrdvM2fMqoQQyEHB8v1q20d3HIuZLwnGUYrOduxwOQSOMVVvILiHP7u4LQq67mSQA7TkDlxjqalgMjjM5iwxBXY5VYyApDbDnEXvSOs/k7hIzYwQyxyELtbG3hBnj8qWa3cyD72R5gUYOCD8wGTL1yP0qvMsW7eLZSzMQCzJn51yBgyk9utIsdP9oj3sj3G9QyruWVsbWBXrgAdqZcb1YlWmZC7qq7Hydw3gfe9qY3ksqFo4VEgRm+eLo42nHJ5zzUMJijgG9ISBtZ9zQjkHae3pWZAZdNx2OxJGV2/3x0+/VSS4TOdoMjBHIBBJwdjZG446/pS7oEZU3QAquckrjchznO3nikaRFZ/nj+YyKBu4wRuGAE9TSkbIP7Cf/nl+i/40VH/AG1L7f8AfJ/+IorO4XPqu1mg22+VWMqsWWJfBBMJb+H2NLbqGmtVMbOn7sMRuIGTExJyuex/KsuLVLVVaNYHiQNghZmIOFY56f8ATOpY70MxQoB5RQ/M7EnCscfd/wBg/lXuezZ5XPE0bVLdjAvkgHbF1R+MtEf7lFraxSrCn2ZUcsmflY5z5R6eV7VmxX0cJLGEZ+UYw3Yf7n/TOpItQiVlb7PgqY8539l/3P8AZo9mw5i7Daxu0eIBjCKVMT4+9D/0x9zSQ2zTLCptQMsm7EL/AMRhP/PH3NUIr6CPANoP4CPkbsU/6Zf7NT291EskOLXHzQnlH/2P+mX+zVezZNyWGzEiJtt/l8tPl+yk5zJD/wBMPekhs2kjjItVALcZsiG5aHH/ACw96rW80XyJ9lGQIhxC/Zozj/U/7NJZzRM1oottp3Qf8u7H/nj/ANMvY/lRyMZaNlLJDETbAkpuA+xnqzxD/nl/tUSWzshzarlmf/ly9WUf88/9ofnVS2mVmgItGYhI1YNasMEvAT/yx9v0p9u7hYFFrgsY+toT1MBx/qKr2bI5ie4jle1CmBiGD9LQDq3+7/tU2bzFmmIEkZ3TYxAo6qff/aqt50g8lDaclV62Jxy0P/TL/apsNy0ibvsp3swO1bP+8YR08sf3qr2bHzE9y85hnZHZtzsPmwOMsCeG9GNPnmZPPVrtlKmfdukRVOUlIx+9B/i71S+2LsjBikUNuPyWgA5Kew/vVJJfKvnKJJELNKCdqKRwB/z0H96p5ZXHclmvnhN2xvGKgPjF0gA+Wf8A6b1PJqBiZ1+2KSGkP/H4Oy3H/Tf/AGazLrVYWafN3Jz5nWVR/C/P+u/2qmuNYhM1xi9J+efk3KjA2zc/6/8A2qrkkMvNqGLhA8ykRmP/AJfB2En/AE1P92o47i3WSJiy8BAc3THow6fMf7tVJtdjZ7gteMdpfk3ajos5/wCe9TTa5B5nEy7V3A5vR2Mvbzf9mjkkZ3RLGbfzLQERkFocbnJP3ov9k/3ait7dJHiAgG7bHwEYrjfB/wBMjSf25bSXECm4QqpjX/j7POGz/eP90/lTIb6y3RA7WJEWT5rNj54v9k/3f0p8shcyHx2fnRp/oakNuzi1Y9RD/wBMP9qkNmy29xutVJYOQPsRz9xh/wA8R/eqK1ktJIYVVI2LiPC+Wxzn7OP+eRqLyYVt3228ZBDfdtmJwfL5/wBR/tVXKLQuTW7Ms+2AR7WmPFrjotyB/wAsxUskUsVxnMibZF4CAdDP/tD+7VO6jIkunNtGCxlGFtGIx5cvT9x/tUs2Vku28vaFZjlbXGOLnn/VinYZZhkZmtQszhx5WQ0ig/6yL/psMfdqC1mPkRZuDkqoH+kr3+zj/ntUgn8mRMyEbTHj93gnEh/2h/dqvb3kSraKbllBWLP71Vx81r/01FZOLJcrkX2tprO4/wBLZHMcgDC86ZiIz/rv9r0pLWQWtu0M16bzbK4Dy3I3Oo+0nnDcEUseoRixAW6+Vo3bd9qXn93H/wBNv9qpbrUo0kuy93lQ0xBa8XH+ruTn/X1n7N3uVzaWLQnjae2UqiDMI5lLf8tR/hWdDbrJZ26pHHvMf9wnqLYf88zV2bUreW+iBuI2TfEP+Pvt5jf9ND6VTjntmggG+Ir5aYbz8/xWo96LSJ0Hy2vmNclIfk3TnalsxwDDNx/qv85q1LZSJqEbfZl8wSx422ZHHmy9T5XWs1lgf7Rs8tgwmHrn/R5OR8hq1NChvlVYIyVmT5jCTj95P/0y9qLMlEVtbytbW+YCjLGMeXalT9+19Y6kulYLdcSKyqxOIMH/AI9ZO/FQW9qVhhcW4YMq4xZ5x+8tfSCpr2KZVuGFvkLG5O61JA/0Vx/zy9admMlG9r2MpI7N50ZDZ6fv5P8AbFVVnlWygxeSKfLOR54QY223bzatLby/2ggEbqfPjA2WzAf8fEn+wKpJHKtjHgSYEJ+ZYiBjZa/SoaYF3Ubwq8x+1MTk8m5A/wCWd1/03psepAMN8vHmLybpQD/pEP8A01NPu5GhuJU82Xd5pGAMdUuv9sVAkk0aqxnkU71BJf8A6b2//TUetKzH1CW5h+xuu5SDB2uR/wA+h/2/arXnQm4O4Rk+cpOJQT/x9P0+Y/3qqTTOLaVjcs7LB3n2/wDLrJj/AJb+1Wo7qT7Zua4Y/vhx9qH/AD+H/puaNRlFJLb+zz+7Q/uWzkj/AJ9YW9D6Vfkjt3vkRYoXQzIQAv3cSXAz/qzzVRp1SEbrgY8hnP8ApQPS0Xj/AF3+zU3nRSairjbjz1wPtQ7XMoznzD/ep2e5JXjiia1jKwwsVhcgmEnqlsxziLrzV2a2C3AVUUL5oQeXbnJ+e6X/AJ5fSqSzJ9gCuISpgPW4BPNtEf7x/u1YR7UXa5jhwZ1I+df+fqUen+1SKIY7dmsyRFnh2H+itj7tu3H7rjpUrQSCfYsLeYZowFFq/dp17xe9U0ktWsQGSAEwOSpwf+XWE/3fY1eEds+oqAIwS8fAiHH+kSD/AJ5/7VF2SU1t1a1j3ROU8p3Um2O4EJbtkfJ1xkVpjzmmCbLhFEqgHyW/56zr6dcGstURbFW2xbo4Of3X/Tsh/wCeX+xV2OMfaAMRvlxz5PcXJ5/1H+1QNEUMc6WvzPdopiZv9WwHMELf3h6H8qssZV1BUe4uAvnJgEN/z8SL/f46/rVOS2LW8kQCr+5K5a24/wCPU/8ATD/ZP5VI1vNNIs3kj5Zvu/ZDnAuI+OIB3eoKiBEi6e4N1cFlt8cyn7xtwT/y1/2MVJJeSRyB/tcgZWIUNccEC5HX9/6P+tRtDKkyLLAsbPtQJ9lbvFMv/PHrkYqKOOeOJybaT5ld8i3cY+aB+P3dSVyokaZv3QEyEyRohU3ABwbeRc48/wD2KjubofvGBRl/eP8A8fKdP3D4/wBdViO3nW4UFLrPmIM+TJkYkmUY4HHNVHWdLcl0u2cxNj904wTbIw7/AOxUPmKirEkNxD50OVVVDxg5uI8f62ZP+ep9aqS/Y5ISTHbtmLkiaMElrYYPX/Zq9N5iuxBvgyyM33HH3bhT/f8A9s1BEZP3Iaa8AIiXBLf3Jk/56f7NK7LK8klmryEw2ylZJCCzRnpPG3Hyn+9TIfsoWGPMIK+Up4Q9JJYx/wAsv9qrF5cTtBKxurgLskY5du8cb/8APb/ZprXEkNwd1wCyt3lwMLdD/pv1w360wuVl8h4mG6IbkxzEpB3W6n/nh/sfpSTW/wDri0ULD96Ri1z/ABRv/wA8PenRuJ2gUyxuv7kN+/XBysqf89vQVVknjmDnZC25GwRcR8FrdT/z0PdKaYi1HbyJNEI7UL5bjhbds8Tle0XuPzogsZGNuJEnAIiAUQSfMAkiH+AVFdTWytLvW1DK0p5li7PHJ/ePrUcbWkbRHy4F2MrYMkZI2zFTxtPHI/OmpF8pPNE7YBW6VmjYH5ZFPzQ5BxuHcU28Qfv5MTEr5rc7/wDYfvJ6GoreS3b7PkW+/EAOVjJwFkQ/8s/pRGUkjXBhTI+Y+WM/NAOf9T6rS5pDHXMcUMcnmRoVUsAWkPIWYH/nr6NUHlWimP8AdQ/Koz+9TPy3BH/PQ9jVi4DTb9pb5hJjEJO7KBu0XHIqOeG6aSXAmwPOwVil4wyuDnZ70c0i7FWOOy/csYbYBBC3zSRE/K7L6n1oht7LELBYPlaHgLGR1dP7ntVt/tUbOGW8AHmDcUmHSVX9ugJqOSSWJXLeecZwG8w/dmB7v6Nmi7Ap2en2haLa0ed0IbbGP7rIekXripItPf8AdYR1UmJS0aSZIMbKfup6gU5sW8YSR2dkXGHYYLLcDpmXI4NM863hRS0cYEeM7pojysuMcyH1qbyHYj/s+RZIiHvW3mNgyiXI3xsOM4/u0oscqheW5ZS0e5pmk4DRMCeZB3AFNVbMAfuYN0YU7neE4CylPf1qBZraPbgW5UEE7RGfuyle0Z9az5pFWESxikCIHYg7c+c4Aw0ZyQDLVeTT7SRg4hjVm2kbpYTjchB4LnPQfnWgsoEg2vGNnomMYkC9ofeg/atuRNMmwD/ViYfdkA/hjHY0nJlcpi/2bZCOPJiYny3O6SEc7CpH3DxmkWwtFWH/AEiEqDGG2hMDIKn7sPTJ61ssl7uB3X2EVnX5Zz0kB55HQVVmjlhkAka8YKrAAiXqrh+cyjsMVlKpIuxQt7AO0WxlIIjb5A3HzMnaIHvTP7NnVlHnXBjQx7lRZv4XKZ+6M8NVyaMeW0citIV3lWkJBDBgw6z9Bn9Khm8ld6eRbgIZEVt8RIz84wWmOTnB9qz5mOxXj0u47zXxwP4YZ8/JKQT970NLNps8eCbi6V03fwTqBsk7ky46NUc8lr5ziOO2ALP8rS27feXcD37jOKRWtXkRlNqnnOASDCAfMQknhMdVFTzyHYZJp/keYfmIjMqlizAkgh1zul6cVXexEguVKw5+cAs8fGR5gHzS/UVcjnRcbnt23mJyPMQ5yhVvuxeuKjS6ZliAmjlOIy2zkZ5QnPk9Of0qPaSHYoSWVtu4FuAx+8ZIMjeuQOWPcVA1naPgyNbKxKk/PAWYsMccHmtJXeM8zPlVXIQSYyhwfuwjtUJknwQjXZOGClVmx8pDD+EduPxpc7JsZaWsHlxv59sSojHWNlyPkY8R9Tz+dM2MqHy542MaZ2xr12NjtF6Vryrd7ZUH2xJMSIPluMdNwP3hULRzzK37y6YljnKTAMHX/f70uZlGXNp90I3RJPlBkUFWcDhgy/dj9M0y5tboMwO8hmbbs87PzDI/g9a0JEziaSBnbeh2kEKoPynlpKoqoV8tFGu1V3MoXqj4OT5npU+0kVylWSzuZEjm8yUsSrBdsrnDgqfToaqLa3KqvmBhjGFKSclW2kglu+av3DLb4k8qFW2MmN8fIDFh/HwaguGjaV0/cPEXJUboTgOMjnnvR7SQcoz/AIRe7/57t/32/wD8VRVH7Sn/ADzh/OH/AAopc4z6VvriOFbrD7pd06rtnbHCzgd/ei9uIwt4XBO0yYP2luflnX1qWa6S4WWOST/WGQH/AEw85PX/AFnQ+Zio7q8SSAHz0G5XwpvMgjLDj5v9v9a+uPF5RbuaESTZKM4MzKolbhQsoHbrSXEsAa5KgEqW2/vDjKiYD+H2p1xLEyyYkXa3mHIufm53Y/i/2h+dFzcx+S7bhtIkILXRHUye/wDtD86oRG3kqswKowVm6O5PyrKf7vTK0MIfOc+WoC7epbssn+x/s1PeTwmSYqyknzhhbhj08wev+1UV9JFGLpjtKgSf8tm5AEo/rTiAzyYoSf3MZ27T91uyuf8Anl/s/pRHDFHd48lCqNEv3W6AE/8APL/ZqS6WCOadVRWz5uMSE8BJx/Wm3TQQtdN5Yyu8j5j/AAicD+H2oASOzhV8iBTjy1OI3PIxk/6n/Zpbe18tokFvn5oSf9GJ/wCef/TD/ZP5U24jhWSc+UCAX/vY4WY/3P8AZqT7HF507CJSoYY+Vj0SU/8APL/ZqiCKz0+Z2i/0cYxCAfsbd2iP/PD/AGaWCxnVbZDZfeEAJFkc8tDn/lh/s1H/AGfHA6gw8Lt/5YHjajEf8sP9j9Km/s/5rb/RuV8oD/RG6gk8/uP9mgCG3sXTyVa2xuEWR9iPd4On7umW8Mh4EMiGRlbK2wHUwj0H96poNOkzbk24G1Yif9DY9HT/AKYf7NJb2cqx2YNuMSeSOLI5GWhP/PIeh/KrKK6xySRsGM3zZHzIB18sf3v9qja26c/aJI8mQfeXuB/01H96pra0m2wkwMF2x8CyIJy8HqlJbxyeXF98F2B+SEAjPkdeB6mgBk0zPHeObuRhIJGH78DHyuP+e/8AtVNNdSRtNi7PWYkm7Xj5Z+f9fTMStC26SUEqSNyhf+ef+3/tUkkrFph9ql34kJBkUZG0/wDTb/aoMiaS5ZZnEkyuFI5a89FmP/PemLdW7FOYiRt63meQzcf6w/3aW4u3jjuGe8kKlpR8t2ufuT4x+/8AcVJcX/lO/wDpJbaWxm7Xt556if2oGQwtbn7NiJdhEPPnFsHzIuOh/u1Wt7a3kjj/AHcZLRJkbCx5a3H/ADzNXWuIvtKKZlb/AFX3r0f3v+up/u1Fb3EP+jBfKJKR5/0nd/HB7n3oAryWayI7LAu1vM6W5PVF/wCmB/vU2fT8x3jfZwTiTkWJbBCznqYPepoTbTQqBDGxYY/vfeWD0Q/3qrFYZY7kJDGwbzclUY4+ST/pgf71CEW5rOdZm/0bOwjGLM5zmdv+eY/u02GGaGa2UCRVAtzgW5GcyQ8fdH92mT2Zma4cQKpWdid1tk4AufW3FPkgl+3WoNvtO6DpYcYEoPXyOuFoYFONZVs4m8y4QeVjBG3qLfod1FxdNGblxcspzL/y2APME3fzh/eot7SeNbdGt23CKMMUsiMndbdzFz+FRtHNtlVlmBIlPEGOfJJH8I/vUCuX5rp1vFEl4x2SJ/y9qAMSTHn9/wD7NV4rxG8gedkeXGVH21ef3trz/rqdMJFuJWM8yBZcbuhHzXGf4xg0yOYqIM3c6rtQHEmGwZbcYP7+o5S7lWS8jmtXZjGNyy4zeLkfuOf4z61dluLeS/YlUCGdTzOD0e669azP7QaGxO68JhZJCN1wMgeRHyf3/wDtVdjv0uLpnF0pAudoP2sKMb7rHWegzuR2f2aS3iWOFGIC4289J7Uf88zTrq3gb7WPJhJ8mTIaMnP+iuxx+49qjsb5XhXLwycfxXQP/Le1/wCmpoup4GjuGZYQFhlIzcgg/wCiP0+Y1Xuk8zNBbEHUYdkEePPjGFt2Jz9pl/6YVmpazSWMJWALGsRzutWG391bf9MqnhmszqinZbEedEAWmGCftMnIO01W/wBHaxiyIGHku27HAxFbcf6vmlZBqaN3b3P2tl2S7PPyd1qT/Dd/9MulRwwXDRxsFlUbg3y2rdp7Y/3BSXXkreEBIFJlwFWLO3/j7H/PH/8AVVa0VZIQVjikB3YxAOz2p/540uUOYuTR3RScF7gAxAnbCw6Ws4x19qljkuVvFla4nRvMPylCAB9sTk/OMfeqsYTJcNGIFAG0HNocDMVyP+eHtTLOKRXik8obHJJBtGU/8fFue0PqamyLRLJc3EcM2bq5ULEw+WQj/l0f1k/2au/2hOtxHuvbrAmRstPjj7UCf+Wv+1VK9trnbIDC5GwqcWzd7acf88vYU+OG4hnjJSRhvBB+zP8A8/MJ/ue9FlYXMQtqFyLBka9k/wCPckZuAP8Al0xg/v8A/Zq5HqUv2xS18d4lHL3AAx9szj/X9Pm6+9VpobiZZBsuM+WqjFu3e3lH9z2psf2ppM5umO/BXyXzj7RB7j1qeVD5hZNQmhhYi4ViICCDcjGTZscf63/Zqb+0GFwjLcbv33Obsc4ugP8Anr0+f9aiuoZPugXq7gByj/8APGZP73t+lMha68sES3SEFudj8fvLdv7/AL0rIOYnkvC0boHiYCNRj7SgwTbSD/np/s/pULamu9mLQIVYnm6T5sXER6bz2anrNdPcIBNef6yNDncP4LhP+egqF5bhbcTfa7ob45CRubrtt2/57VXKjRMlubqNsALA6/ICPOj7xzr6+1QrqETW5LJb7GWRiBJHg8279ce9XfNne/K/argfvUx5kxB/18y/89uwP61QFxO2ntm6mO2Jz/x8Hvaxn/n4/wBj9KXLECxLNaSXaofJciSI/NIi8CaUDOE9/wAaqC7j/szP+jKywt3Q9bZCP+Wf+xV8yNJceal3IWMoyGuOOLof9PPo1R/aFJZDMMYRBidepglX/n4/2BUe6O42bU41mUFrYNvz9xOouh/0x/6aUnmB4kKywB2VRjyF/wCeLp/zx9qW4uPL89vNBGZHCeep/igfOfPpyzxpLGGmjb5kXatwvTzZFx/rvesXGJfMR3V08kUssTwlj5zD9wMceS//AD71JHcXME0YP2c7WUcW+fu3DLj/AFHo9VmkWS3IYQ58vbzcp/Fbc/8ALbrlf0pbiSAtIQkTbHlbJu4+00TZ/wBafWjliHMIkl1NHHlYmVljTK27EHdbsnaH1X9KjuHv2ad0Q/dmYFLWT0hkH/LH6/lUdvJAkkUTRQbFeEbjdR4wJJI/7/8AtVVV7aSEf6NbncgG7z4f4rY/1T9KOWI+c0PPvYZEwtxmNtzYtpBt23JAz+744f8AWoYbjUvLQEXay4iUgRy9BHIhPQc5qCdrD9+BBbADzsMJIsnDRP6VH5lvH5aKsJXIBTfCRlZyCc49GotEq5dkvb2RXYSX24iQ52S45t0I/jHdT+VPvry+j89/NulKGUhf3nOHjkz/AKz3rOh+ynyeLdjJ5Ue791xmORcY8v1GKid4LiNv9SGkRsFUQ8tAG7Q+qUWiFzVOo3IkVmmm3Rlf43H3ZyP+e3oahh1SSNovOZXKmLO988AvGes/0qndSbfPCyQsf323bFnoUkHSD0pGRky2EwGbpE3IWYEH/U+jUWiMtR3jymPbFHtJj3EzR55hcHjzjxkCoP7WVlO9Lco3H+tiwd0Iz/Ge4qFfPiZCfMOwxkmKKQn5ZWU9IfQ1Pa/aj5OTdMQYl2+VPggb4z0UUcsS+YJL+FpJGC2vzGUMwaIqC0YYY4PcU2S6gma5ANptYSkNhWJLKrgcRn0xSwreMsZb7UGzEeUmJ5RkPJcYGQKjKzTSQmR7kqxjBDiUfeiYZ/1gHUClyxK5h02peb5pjSAnM3EanoQrDgRdeM0+XULhXmVRIAwmG5Y5V7I/QRjPWqcPzNEmJGLeVnexP3osH70/HQVH5kEpTcgYMU5aSPq8WO8p4ytTKKGpFy61K9kM0aJdncsyblWftiTI6dzUk2pXcfm8X28ecAu2X2cdZBjnNZq/ZGkVPs1unmFDtMkHG+PBPLH+7Ua3VswjlMVsit5e7c8A+/Gw/uGs+SI7mlca1JE0mYpGx5u1pCxJ4395vaqt5qCytKGijALSgKZYyOitnJlPcVUimgbygTCgYRsQpTjchB6RmmrJIzJJ5yl2ETBVBxgoVbkQ+uKzlCJdydrq1d23Q24y0n7tZ4M4ZAf7xxyKBqFhHIfktkLlgCrwFvnQ9yhqusMvmBhLcAfu23R+cRuG5DyIx7Glga7DgrJeEYQjP2jA2ttPpWThEuMhW1SCZQFECsxXJAj3DeCOcQ02O887YI3wrNEfkDHqhQn5YvUCo1a6C4BvmC8/MkzAhZSCDl/Q1Xuo5EZxIsoiVHUDY6g7HDDP730yKz9nErmLdvqjwtHiW6IURs3yy44Ow/wDFNW+njwBLfExKhHyT7TsPsB2NVHhiVXhEMZ5lTlsFcYYHmb3qC5htmDyGGBWbcBvaAY3ICB80vsaylTL5jTmupod4DX3mIHj+WKcn5DnIyw7VDcMNz7he/L521nST1DIOZPUms1/szMWEVqnmybihktj95cEnk/lUDGzTYWjgSddjnJtxyPlPG09/wCVYuIzSkvIJGfMbkMzDLK3R1X1lHcH86qyX1jcLuaGINuRju8sYDgr/FN6qM1QMkJJbzLZCADw8PJVsEYEfvUPmGNRunt5BGGGNwxlGBH/ACy9z0pcorl3zrAyKvk2/RHyXhyGB2k8seMGq5mso4+Wt1dBjGbc52twfpjiq7MzLIq3EbkO6HazHqNwHEXTIqGOR1kz5qoGOfkMv8Q6f6v1o5QuXpNQtFGA1uq4b7ohxx8w6Ie5NVJtQguGPlvb/M+Djyxjcuc/6uoGmmkO8TzSqVRlKi4P3flJ4X1NV5Hn6l5ztjVcBZ85Xv8AlS5S7liO+RlU/bVwyxtjfx0Kt0i9aje7Yb2W4yFQHaHY/dPsgqpIlw5KxrdKuXVT5c2MEZXvUEiSSSAsk5ZjuIaOXuOhy/Y0uQLmz51v/wA9l/OT/Ciue/s+f/np/wCOyf8Axyip9mFz6mtb5pWtlMoWNvLzm8BxloCcfveOtJZXYK2ySXH7xooyV+2Du8J4/e+9Lb3JJiJuipjaEZ+0qDwqk/8ALb/pnRb3wQwh55cr5f8Ay9L28vv5/wDsH8jX1VzxRYLrzPIJnDE7Rg3oGcmHH/LX/apy3wmghQygBhj5bsEcvF/00/2qSzuSslqoupAqtAebpcEfueP9f/sn8qbZXpzFi4I2iI/8fQ/vQ/8ATf2P5VVwHtfCSFWEqs7hv+XsfxMg/wCen+3RJqUUsUe6WMMyNnN1gZJAH/LT1ei0uXK2v+lty8Oc3S9CYD/z39qSO8eZbZFnDny4twFyueXgJ/5b+5qrgOuLtJlc7Vyyy8/bD1+btu5HzD86dJcxvDISV2usoyt02OsgHVvRqhiv/MjiIuMs23pdL/EYQQP3vo1EN4PstuGm2Bc5c3a/NlogP+W3/TQ0AOvJrZvNGI3J88/685+7N7/7X61Hdy25huTtjJ/ekfvCeiTgHhfep3uA0efOJbD/AHbr7wOP+mv+2Pzps1yv2Jt8wO5ZMf6YOeSP+en+1VXIIbhIJGmXy4s7pRghucJP/selOkhhRpW8mMsD93Yx5Cz8f6n2FF5eRt5rYVmbz24u88/vF/vHs1RXV1CwujhcM0v/AC8/7Mn/AMVTiDRI9sNoVbaMlPmP+jNxjzDj/Uf7NSxWLrLb+XB93yyw+yE4wT/0w/2arXLWnm3IKxD55hlpCeiz/wCzSyfYvMYiOMuCeMEngTf9MzVkEgsZFWBvsoGFj5azbPDJ/wBMP9mkjsbiM2YFvtLNFjFk3PzRf9Mf9mg2sCx/6iMspwB5ZOMeYf8Anl/s0LbFWiKxfMpiGPsxPQn/AKYf7NAxtvYzEwqUkUEId32M55aAf3BxUEUcsaEsssasWHFv1ysQz2/vVYtbIr9nYQK5AjUYtif44v8Aph/s0lvYzCOBVtgGJTINkxxloP8AphQJojk3LbyHz5hwzD5Ao+63+2P71SXWZJJ1F3OrfvcoJQP4J/8Apr7j86ZHb3DW5fytgZSNy2bY58of88x/ep7faGa4bdN5Zablbcgn5D9OPmoKTHSS+XNI321gVIG1rgDp5/8A039hSpdeS8bfalXHlgbrxR0dc/8ALc/3aimaWLz2V5+C+cjAGFn6/MKdNNLDISLuTOcECTaBhpT/AM9h/doJ1EguYnhhHmqWYRg7r0Y/5dx/z0PpVSOa2lsz5i25yjZCzgjlE5PX+9+taC3EkZgJvMqDF/y+Y/jj9bj/AGapw3Q+yqDdk741HN4pzkW47T0Etjbz7HIbrMNuRunIKknpHOf7p9akuLe2kuAVii+VkHEZPRpf+mR/u0yS4Ty7gGVHY+d8pvF7xN/01P8Aep148DXb5MYKy8D7YuDj7Qf75oKI4NNRpINtuvypGAfs+f47f/p3qGPTZGhMnkBsK5P+hk/8sY/+mH+1Vn/RPtEHmJAgzGBmUMDmWMeh9Kowpam3CiOFdyE8KOcxwD/nkaALM1nI0l1Its3lmQ/ds2/6ef8ApkKkjtpYbmHbDOMvFx9lYD/XRD+6PSqjW9tLHPmOIYZ2GYs5wtyf+eFXHs83kXlxIoBTDfZs/wDLwP8Ap39hSAoQpcCyUkzAJHIDtRhnMEPuKs5u1nlKyzqPNydxIxhrr/ppUMMDmzjHlLt8s9bM85hgH/PCpPJmE0+bU7vOJH+iN3+0n/njWQEdpJJG6ILmXJAYZmx/y8W3H+vokndo5cXDOWgcYNyB/wAujf8ATelsYLtfK3QzqSRyts4/5eIP9gUwxzpbzH/SAfIc827/APPq3sKZkWYbo/2lGEnVj9ojOw3a9PtMnH+vrMSaGOzVBNvBt5C6G8GQPJtv+m3StGGK4/tOFWN0gEseCY3/AOfmTp81U9rrp6sZbkP5DjcyvjiGDg/vKdx3LtxJA1w8bKqKJAdn2of89LrPPm/pVJPsptSRHAchif36nobXGPmNaz3En25z9onD+fjAZh/y1ufWas+CaT7EXe6mPyMRul9Utz/z39quwBPHZtdOPLt9rOgz56f3Loeh7GoY1tBAmEiwAWH7xTwZbU4+77VofaP9KQfapM+bGMedz/y8j/nv71RiuM2Z3XLEiNn2+fgZ/wBHbkef14qSiW5itd8nyW43EdQCR+7uR/c9hTIo7cWgcxROwUsv7scnfbt/zy96uSyE3oKTgjzQMfaVx1uV/wCe/wBKpw3AFqQsq4YSHm6Q5/d27dPO6dKkgd5MImG2KFSZI1+WNT/DcL/zx9qYI45oTuEIzGx3LEDzutW/54Vc80yXUUJlV0E0YGbpCP8AWTr/AM9ves1ZI0sRIBG4ELkqbhMZ8mBv+evtVFF0whpVQRQsd65/0fB4a4UY/wBH96gghkjs1YIhPlStzbnk+VbsP+Xb2qyJrRtRzsgAMyqf9Jj/AOfmVf8Anp71R8y0jsSpS3+WBtpFymQTaof+enqtZMk0FtWbUlIjXmaP/l1OP9fMv/PD3qu2nyyaUVaJc/Zz/wAurZ5tUP8Azw/2KlEtt5h/dW7BZV+Y3UQ6XQ/2v9qoM2bxiPybcErGnNzH3tpB/e9qq47luSykN4u2EqVfqtq46XY/6Y/7VRyWUy/KqSYYKo/0V/8An2kB/wCWP+zVZvsW13Edrvy5ObiPtJC/9alaPTmumXyrNgJIxt+0Q9N06Hv/AJzU3NFImSG72blR+d5/49ZOzQv/AM8ferEdrcxzRqY5P9bFn/Rpv78yf88vc1k7rBbFcW9qn7l2/wBfD3t42/8AZKsn7D57P5dqcOOk8JxtuT/8c/WoKQSWty1szJFc/wCqYr/o838VsGOf3XqlTNDci5ZhFdEK7DiCU9LiM/8APP0c1TX7Cyxfu7YhhCvMsIzmGVfT1GKJ2sWV/wB1agESv8ssPdYn/u/WpYyZLO5kWJcXg3NH/wAu8o/glT+77YqO4juNlw4N8hKSuFEUx6wI+PrlaTbY28kYZLcRxsDkyQjpcsP7v+3VWP7HLFEv7jDogbJiPW3kQ5/d+o/SkBYuY7pZnJ/tBZFdlJWKUjC3KHBwRj75plvb3StBn+0CN0P8EoxzNH/f+lV5JbRmunX7MqkzsQPKHWOKTPEXqD+VRvJZQyDm2G1sk/uuNtz/ANcf9up5gHsZ3tQyvqDsy/eAm6tb/wC/3Kg1LOs6+cTLqAH71gcSYHzxvz++96qW6248hR9mI3RJwsZGAskf/PD2FNZoZrV/9SxlTjEcZPzQKf8An3/2T+RqgLKzXEciEyXOdwIB34AFww5/fdg+PxpI4TthXeW5jB+dh2dP+e9R3ax7rjDW5K+aWZUTgB43H/Lv70yWRNmUMIKsSCI8/duTj/lh6OPyoGtxkbiSMiXzAWHylphj54Ow8/8A2f0qSaaO4afaEKt9oYbpkx80aMAP3x9KjtxtMWAnytGNyRnnDvH/AM8PSmwxT7oCsjMW8ofLHJ/FAwP/ACx9V/Sg3EuGt1NwGjgwPN5aeIZCsr95D61C0NojMXS1UDd/y1t8/LKD79mqyVup9wUzbXz/AMs5t2Whzx+6/wBmi4juA8yqb3ezS4fZOQQURuyjuKAKTmxtwAEtCFKk5ktyeJdvTb71Gr2nymI267RGesQA2uV6eWfWtFxfhZyXvl/1xUBLgcYRx/F602Y3sPnITe4Xz/m8mboGVxz5g9TQNFaG4jVUMctuGXy/uhB912TtD9KjhklzBtYYURE/KcZEhXk+T71LcLMyXC5um2rPj5JOzq2OZvei5jKySjDqiecoZhg/KwYcmegoIPtcca+XNNuVYyp2y5O2QqVwIxnrUCvexQlw10/lqjH5J+NkpX29aW5jhbz1aKDGJhtaROuRIMlpv0qCYQbZYvssHlMZ8AvbhccOMfMe5rFllqFbr5Q320HaAS8c2QUlx3kB6GoMyrl3Sb5EIKMr4IWQdzN1x2plw1qrzo0doWPnKB5luf4Vf375/KmTTWk0kgAt4mYvgNJbgndEMdE6ZHSs2UHkwQbt8KsFVxh9v8LBv4pu9VJltU3KIrcFfMXBkgHbeP8Alqe9Sfa4JMu0sHzEHCFM/vEIzgQ+wpsUz3ccREqASCMn72fmQg/dh9eKxY0Mlmtm8zK20Y3SfL5tuThlyOue9RtdWsu5FNqu5snLwcB4z1Cp61JCzxvDuncgrGzFWm7NsP8AyzH+RTvOvERSj3BYBTuX7Tn5HAPQDsazZRAt1HPGGNzCpLRsWDRlRlSDx5WeNtRR3CKEZpbdidpKoTjg7TnEJwcHpVm4+0Rhw814SoZdwW5b7rE55b0qG7S6liYg3pyHGTBMOoznG+pZUSuJTbYzebSikEK8vJVxzxD6UyVZgjGKachBIgKtOSCCG4wgznNLIrMrDZO5kdgTJFIvysn/AF09aqGONghmiwq+W5zGf4kAOczViWTMLs71Y3bBiygxrcc7l3ckgelRSfaZIo2Zr0oWR/8AVz4+YYbnd3NQq0SwhvJXgJIf3S5GxiD1k9DVWUJGr4giV0RkBd4sfI2Qf9Z6UuUZZ8u4Cq0izsMK25oJSSQSpOTJ7ioJFkjjZWDsUjYY2SZ3K/8A10qOeSKZSot4+WdMKYQMFQw6se4qvNLbsyzeVCcMMnzLbo3BGP8AexRygOmt4IgVFt03D5kP3TyOsv41TMcUjf8AHtGoYgnft+6y4/56etS+da/MSI0XGS2+3AGDjHC+lVZ57blS0QdR8u5oc5HOOEqbDuNX7PHE58mNEjUMP9WPu8HOXqusaIuAilmBUHfCMkNn+VTyXAVgfMg2mQ/xJg7lyB/q/Wq5ncrs3xtyjklxkEjaeifjSGP+2W//AD7xf99Q/wCFFVPsy/8APzD/AN/H/wDiKKAPq6aSSJro+e3ytIS29f4UmA/5anHSkbMMkxF3Iu1pOrLj5VmPXzfVadcrK0bfPcN56SMRsGOTIMdf9sfmKfcxuwuBhhkzkZjHcTc/+PfrX0Z441mMbySm4dVhZAP3w+YKkv8A01/2R+YpsLtAJQLuZRuA/wBaMYUMccy/9M6Lxn8m4faw3CWQAQDv54A/VfyqS4WSP7ZteVsmcBvJGBhZwOaaBjY5FEkUf2huGi6SL2X/AK7f7FNs5pFYbblmZPKI/fAHjy/+mv8AsfpT5pJYnuHy2FLnBTnhZlHf2prfaI95WRolBcR/uxuO1ZSf4v8AZqgFtJXVraGPUHRlaAsfPH/THIH7/r8tJZ3TbIP9LZjthB/0gA8vAef3/tT42khmcN5rFDGSdgBGFf8A2v8AYo2yxMSXm42rjb/CBn+9/sVUQGJdybbYm6cgmIDfcjOWMH/TenR3rXMECm4D8AZF2P4nh/6b/wC1TrUyJcW6iaZWUxH5gduAI+/mdfkP5Go7O4fdFvnkynkldr/7UP8A01/2aBWJxfedGhW4JDbiSLzPDMg/57/7ZqpJqGVkBnV0ZX2/6cMnOwf89fVv1qezkaNbdftsh3eSvyyDuYDj/W0yCQskB+3OjukeS04GCWg6fv8A2pgRTXUchuRI4wTLljeDAyG4/wBYf7w/OmSX8CLcEGMk+YAftg9JOfv/AO1VhbiRk2i+kdnYYDXAB+byeT+//wBriolmZo2T7SdrBgS94Bydnb7T0+atSLC3V5bNJKvlwnc83P2nJGFnPvS3MliJidkQIIB+bJGPN/2T6U25vpJPtBe4b78oUNeLj7h7ef8A7dLcXoY3JaWNlPmEf6ap7THn997j86CR3lWpkiPlRbgQApT0Zv8Apkeflp0NrHutyIoQQYMfudxyWT/ph6L+lMmvE+cBkJV2+9fKVGBP6S5FOE1tHMiuLcFihwbgN0MhHViei4oAS10vb5KpFGCFjz/o+f44O32emW+llfmjt87wetoxOSsQ7QdPmpySW37gbIGA25y4YH506YU/3f0pkcNpm3jENvlhHhsZPJt+n7o+/wCVTcrUWa1na3uD5P8Az0zi0bsj/wDTIf3qnuI51mmfy5Mh5Mbbcgfduf8AZFU440mtW2QRFdjk/uSeqoP+eH+1S3KoyXDLBCBmUYW1JJykv/Tv6tTuJluQTLdRf65VEkYOYiBwze4/u1FEJGWJftNyF8uPG1mA5a3/AOmoqSe3m+1P/owUrIAMWZIHMx/54VHZ2s8k1tiFgFESnFk2eJI/+mP+zTJsVw0mySRriUqQ5/1nJHlp/wBN/wDap8l46/aD9oYjc7HNzyABc/8ATxSQw3C2aFoJw3lgc2b9SkA/55D+dR3EN19nusLcCTEhG22YZ/dzH096zYyytx5dxEpud6F4wFe7Uf8ALb/rv/s1Utrzy4I9+0gIqgG8j7i2H/PY1buPtJm5+1Y81QCEb/nrL/tD+7VZfPj8hDcXStiPozAYLW3X96KfMRoV5JrdYbo4tycSEFrtCP8AVT/9ND61PN9jjvM+Xbk70Uf6ShBHnNzjJ/u1F5032WQi6mJ2yH5pGH/LF/8Apt71YlvJPtGftsuRIPvTY/5ay/8ATxQWZ0LWP2JAsduT5e0rvU9Y7cf3TTz9i8ydjHbZ3sMAKcYW5/6Z09LxvsoBuiflHW5Azxbf9PNDXS7J389ACzNu+1LjJS67+fUGQlnHbPLEEih+92hB5+0Q/wDTGo5I41t58Rw7hbuABBn/AJdW/wCmFTJdKzxEyROnmcn7Yh/5eIv+m1VmmhW2nb9zt+zPkm5jx/x6f9dKpFSLSW4/tWNlijMnnpx9mPH+lP8A9MKpNZs2nhygwYGLD7O3H+jQkn/Ue1XFmtm1CMstuB58YP8ApMfI+1v/ALdUVktRpqr5NuFNu/Hnxkn/AEeL3pEmkbWaO9IEWWa5X71s2f8AXz/9Maqx29wumDEbbvKkAxbN2hgI/wCWQqZri2+0qGht2/0nqZouc3EwrPgksv7Pj2w2ygQS/MJYjj/R4D/cqijXe3vPt0aiCUt9oQZ8iT/npcAf8s/eqkcd2tjtZZSPJkb/AI95Ac+VbEfwfX8qkkksE1JSy2pb7VGAWePtcTL/AHKy49Q09NORiLWJzA4JLR/8+0R/550RA3mjumuiV+05WdfuwSH/AJbzj0qiFumsF3Ne48iQgpDIP+XeEkf+OikGoaf/AGgBvtwfPGfuY/4+5R/zz/2qz11DT20/G60GLdyeE4zZqf8Anj/s0WEbscdwmqBVa8wlwh4STPF1KPX3H51SWO8/smQCW+/49+Pkl6m1U/3/APZqNdSsZLoMGtFbzh/yzQE4uwf+ff8A2v1qCG9tntSFNuAY1G3y1Of9FkH/AD7+1RysRrr9oW43F74hZT/BLzi9X/b/ANqoCtysLJ5l8mUC5CS97WQf3/UZ/Cs1tRsthkMlsCC7f6pOv2iB8f8AHv71YkvbPztqvbkCSNQfKXHS4T/n3p8rAuW9xcSbmefUH+ZyCRJ2khf/AJ6e9T/6StyuZNQx5saj/W+s6f8APWsKPUrb7KCTbMDFKdoiXn9zA3/Pv7VdXUrb7cGdrUL56sW8te1y4yf9H4xupcrHYl864+y+Z9o1Bf3LnkS45gjb/nr/ALJ/KrW+5GoDEt6MyZPyy9Bdkf8APX/b/WsqO9tWgWItbtuQKD5I4zbMB/yw/wBmmtqdsq+b5tt5hMmQYlXpNC/e396myA1VW6EPlefqDMUVBxL0NvIv/PX/AGRTPtF1tfdc3oH7w8GT1gf/AJ61TS8tFuoyJbX/AFkat+7XGN86f8+9VI9QtBYu0ctqX8lmC+UpyWtUP/Pv/s1NjU2YVuvNgR5r8BXiHJlHSaVf+evvVZZbmSzUC4vlZogOsv8AFbH/AKa/7NF5JAkkjAQMFdiT5Sg5Fyh4/wBH/wBs1DbrCqxANAF/cr9xOQFlT/n2/Csyi1ctcq1ykc96Iw0jbm83PEsUnH7+khadXgJuLzAZPl2ykqPMmT/nv7/hVFpImhkMb2ZJifJ8tecwIw6W+T93v6U+6uooXfbJZ4DSLlYl4xcIw/5d/RzU8oEsb3L26otxfZkUKf8AWZ+e2YD/AJb/AOz+lJczSstyrS3b8y8sZDnHlSf896qR6haRzRr59pEwMSldiYIDSx5z9n9zVJdRtHiUie2ZnTpsTq9uR/z7/wCwKOUZqEyRzKBJcBIyoPzOoytx15uPR6gt8bIN0kvSBMlnIB2SJz/pHrioJ9WtTNM7XVso3zHOxe3lPux9nqL+0raCQB5rcqH3D92uTtuCMf8AHv6EfnVCLDGS5jw0rAOpyGl6boQc4E+eqUXkx3TtgPLiVgofPZHxzP8AjVa31C2aW2Uy267ngDfuwcgeYh/5YfSoE1izlUAy2pMiKf8AVnOHhIP/ACw/2aBotSS+WsqsVCxeYN3mgfduFb/n49GpMxRzIjrGdu0giaMD5Zyv/Pb/AGh+BqlNqayebOJbd1dJSu1OMNGrAEeR6rT31Dy5J9rRkjzgpCOBw0cgxiGmbk0JtGERFtaqCYmI86EDgvGeDL1pLeO23RBorRA3lgmOaAYzGwIJMnqAKikvCkmN6gxLt4SXnbMGz/qfRqEvLiJf9YWACjgT5ysuP+eXoaLCuK32OTYWS1OdoP8ApFt0aI+57riomaykb5Fg/eHBzJbEfNDn+77U6G7nby8Nc/8ALPoLjja5X+771JZ3t9tiZGvTtETY23HZmQ9vekUit/o0hYKttiTgMPs5+/Fn/nkfSnrdWkkjbZLRQ7E4/dj/AFkWO0PqP0qxatqCQwEjUDjyScx3B6Ep3b3qFHvI1hkMl+ifumP7qfszJz8/vWcg6kK3Md1cArLAUYqx2DP34uvEHqKIpJHjjfzdzsYwyjzON0e3j9yOpAp0bSqFBa5fakRJaKXoJGU9Zh2qJR+75iy6qjYdHDZWUr/z2PrUXNOYV2vJhE7yzeYzRMSgnwMoVJB8sfxYpjQ3s2z99fu2YSVkW4JBA8s4AA7kdaJo44877dXVVIAIXnZLx1l9DVSSG1t+HtoSsYlAbMXO1w/P72smUiZReRpCd98pCoSrRzj7rbcfepjSTLkTJcKI0JPmQS8bJD6yDsar3H2aFJUEFurfvVJWWD/fXH7z1ps8tj50u6CHMjyf8tLcMVZM9SD3FZjGyblBAhbI81BujKnghx/y29zTbm2ikkk8y3X5jIAZNoxuQEfem9RQ0trvDotspZlY/vLcn5ozkH5earLcQxmNmktiR5TE74QOPkJ4j9/0rKTLHSC181SsMLB5AcK0XRkPrIe9Q/6K6RBra23Yjdiz25J4Kn+I96FuoY42CzwqYVP8SZ3JIM9Is9Ka91nzWSaMn94igMTjBDD/AJZe1QakEzW0aKwS3HlgdJbdcFW68e1RN9mVpCTCrKGXf5luPung52H9KkmuHbzFiuNnzMEBaQfeTPIEfrSfaZrhk3TsS5SRvmm4BXDf8s/Xms2BXnmhXeDPDufKht8Pdc9RHzTJbhJH3mdQGdX6x5wy4x/qvWnyySbd7TyqrKrP805OVcA4G30qKZ5o1KobnYu9QT55C4O4fXI4/GkAjXRX/l4XaoDbd3JIbaT8sXoars7BSsVypKBsMsjA5U5GDs9anuLqfa6r9q3MxTCrNj5lznGelVVa6m8ok3OxjG5XZcHhvlYYLY60AH2h/tDMbj5c7crJITkjOchOarfaZpFBe7kCMFd13zHPG087e/pU2+eFfm+0ldnOYZRvKNj+/wClU5LefzCGWdQMoqmKTrjcv/LSgBrzXMbbDO4dU+Vf3/8ACevbtRL9pjUrJLcHjqpn+8Rkd+lEzFm3GJnLkSjMEmfm42/fx1HeqywoqNm1Ziqg7GgOCV4ORv64qCx3nXn979Zv8aKX+y4/+feD/vx/9sooA+p4LN7iG1IhUExpx9iOfmeEf88/Q09bOaaKJlgJJVf+XEkfM0Q/55f7dWbPSwmwNZocLCmTa4wVMZP/ACw/2D+VJa2EMMlsj2u0q0HH2c458k8/uOnyfpXu855hVns5JIIFSJnBjY7VsiMgsvX91/00/Wpbi0lmZ8WzNv8AMGRaN3Y8Y8r/AKafrU1np9vi3AtgF2Qhs25yCTASP9RT7W0jkW1/0NSGMeR9nP8AE1uf+eHvVRmxcpUvLWf7HdYgKGRZcD7Gw6l/SL/pp+tJe2U4eVfJLYNwy7bNjxib/pl/tVdj0yC4toF+zKDJED8sJ7vDx/qPRqcNOimxJ9k2lmfj7OejGMAf6j/ppVe08hmddWs0a3LiNmH7zJ+xNzhZwP8AllTZreXbcgW7fKJBkWRyCqzD/nn14q7dabF5LFYldXEnS3Prgf8ALD/ppU15psTRyt9mjAczk5gJOWEg7Qf7Y/Onz+RNip9na3mkfy5FKt0e1bjaJs5+T/ZqL7HPDPJlJCFYKGW2IAADn+5/sVevNPjaO4Jtlw5mb5bY+kw/54erU+601Wa4YWked0+MWrYwFnGf9R71XP5A1co2sEkN2MJOPLaH71uR0H+7/sULFLG0Djz1DeSQv2cjgOnfj+7V99NMdzPILRflOR/opP3Um/6Yf7NLJpu3AayGQdpYWhJAHmHp5H+zVc3kTymdEJYUgC/avuwgtsOQd0OP4h/d/So4Jp2WPfPMXYIPQctAOf3labaW6yQAWagIYiT9kOWwT/0w4+7+lRx6TKyxBrbagWI5+xtu4ZOP9V0+XrVczJ5TMj894zJ9slO4FgA+OvlD/nr70n2qQQSj7Ywb52B84dMAf89/9qtKDR2K2rfZmRWMQbbZse8GMfuqit9LlWKNVgnGVGUFu46mD/YHqeKPaBYhuL6TM5+2FtxmzmfA+7Lj/l4/2qJrtx9oX7UW2k8rdDsJz3uKmk0+Vonyt4CxYHbEwzlV6cf7dNmhf/SGb7YDiTaQr44SX/a/2qOZishv2oRzA+aCEPe6UdDJ/wBN/wDZqOK8ike2Eksfy+SM/blH8Scf64/3atSQSh5SJrzhpAQCw7Tn/npUvlMs4D3N3FtMeMSlejN6zf7P6UcyHJGVDNaPDGH+z72iQKDeL8wLQD++eajM9pMsx8uM58w7vtCcArwMZP8AerVt1XdakX9wnyRj5rggj54uDm4/2agjUyQjdev0zk3YH8MHb7T70+ddieUo3k1o0l3IFgJZmx86k5AuMH7p9qndLDzsqlv99VG5VPSVz/zyP92nMyyQzst2X3GUZN4AD8kn/Tz/ALVXJZFW4OZVYhyvzXaA8GY4x9oo50Kxkxw2rRxbY4eRHwIQe9t/0xqJkVrOVikWXSQbRbZPMRH/AD7/AO1WsPIVoAxjP+qU/wCmoOrxD/nt7VUZbBbTy8QbWhcktex5/wBXH/00PGWpOS7CsRSWrq7YiUFZcYFoezXB/wCfbrSx20ytb5hG1lhx/orHP7y3/wCnf2qWZLBZpgI7d/3kh+W4jP8ADc/7VMNvpzTWieVbt80Q2m4i5Hmx+x9KnnRPKUo7W5Njj7Oy/u5SW+xvg5iGORCP71TtHdJKQsU24S7RttZMH95Of+edVkttKGmJiG2BaFzxLGRgRRf7FWJYdN858LCuJm/55n+K5/6Z0vaIZFHa3Y2Bo54yFXBFvIDn/RunyVHHDeC3uSFulxnJFvLk/urnrU5tNOxFuW3XdsGdkf8Aeth/zxqvHb2i285V4BlXI/dof+WM/wD070udGRLCtwskZY3YBkH3Y5AQftUXPWo8TpCw8zUF3275bEh/5dP9+rNva27XcSh4GPmDI8pf+ftP+nf2NQfYrZoW5h3eS4/1C/8APr/170uYC0vnrqkTeffL++jyW8zB/wBKfj/WVmie5/swYmvSy2zn+P8A59Yv+m1X/wCzY/7SjAeIlpo+DAOP9Kb/AKd6ptYgaUgUpvNq3S3JPFonb7NR7RDLkbTfbAouLskzr8pdgebqX/pt71ShkmksYwLi4KCGTCmR+v2SLH/Lx7VbFjuvkAVAn2lSQtuc/wDH2/P/AB7VVjsQLWE5jMhgbP8AozEDFkuOkFV7VCe4mp6hL9okPnzgieP78mAc3cmf+W/+1UOi2lvdeHbSec+bI9jubfMSebRe/n4x8tLrGnyLNI42ArLGR/o79ftZ5/49/cVZ0Pzv+ETsAVB/0BcN9nfn/Q26fufY/lVTfuXQ47mgdPsGui5iVD5ob/W8HF4T/wA9/es+TRLD7I5MKE+TtI8/H/Lm/wD039q02a4jnzsJG84/0Z8f8fUR/wCeP+1XP/EPXpvBPg3XtbMH2g6bZNO0LQOA222mwCfJ4zt61zc0paRLka0en6a7BvLjTa+4/v8AP/LeBj/y396lbSNKacoYICC8a8TAD/Vzrx/pHtVHw9eXet6DaX7QGNZojKV8iT5N32Z8f6nkc1qSQzrNGuxgRcRDm3k/56zJ/wA8Pepu+5ZlNo+ltbMfKgz5btuMw4+W3bGPtHtV2PRdMWdQsMO/z1yfOBzi5mX/AJ+Peuc8d+Lj4B+H+o+IZofNS1spJVjWJ13MbaLauTD1LDFcHNF8XLfwmni6PWYZ79kF+vhmLS8W2w3QYwiTyBIDh/XqetVFSf2gPVf7K05bfYLeAN9nbH7xec2g6f6R/s1LJZ6arM4ggBWT5l84A8Txn/n4/wBr9a47XvixDoen6Asuk6nf6/rVmk0Og6fbb7pl+zOHO1kUbRkfxZ4qfw18WNE8S+GtY1ozPYJo7XC6hDqEDLLZlFhdlcCBtpAxwCc5560+Wp3GdbHpOntdIfIhRWeFP9bjqsyc/wCk/T86gm0jTY7UuYoAfJkYZk45iiYc/aPavCPH3xol8YXXgeGx0rXdBgvvENm1re38Iiiu4RNNnZsUllKkHBAPHSvRfFXxYt/DOpXGjWuhaj4n1KxtI5ryHRbVGezR7c7TJvjQDIQkbc9D6VUqcoq4HbLpenrdFvIhAEpORKMfLdHp/pHo/wCtUdX0e1t9LufKiijlSNNrRyYb/USJ1+0/7NL4b8S2HjXw/b61pdxHNZXcTyRt5Tg8SwuQf3HQH3PPTNW/EDs2l3JEkancqH92xI/fSp0+z+9YKU3LlAp2N2bmzacSyDd5pOZSRu2RPj/j5+v5VeVnWaJTMwCuCfnPa5I/5+f9v9ao6Tah9JR2eIPJEN+IuMtakf8APtwcrWjdW4iaUo0ZKyybf3WQcNDJ/wA+3vWjklKwFaMy4jHnSbT5K/ePeF1/5+P9nFZPiO+ay066kV2LOszL87dTHG4/5ePat1bGJbqCNriErG8Z5hGABPKnJ+z+jfqK5zxHHAmnxq80GTHHkGIDG63dTn/Rj/cqoyTdgNmHR7ZbXc6u7bWYM5Y/MLoHH/Hx6SZ+lEOj2w+y5t1JDxK6qHPTzUI/4+Knkng+yyOZoGG2bholGcxxPn/j278/lTWkht5grXMOELFZNkYORcjI/wCPf0c1wSlK50FM6LZTQ7VswnmBkLbGP3rfr/r/AFX9KJ9HsM3OLJdxMzBvLbqBE/8Az39MmsLxt4vXwWvhdYEtpf7R1O2sMlFAClZ1Z8eT1AXrjHFdJHMkkKgywFnQL/q06m35P/Hv/sEfhVTc4pMLxIpdC0+HcwslYoxOecjE6kf8t/7rGq1votkrW6izTMfkjoc/LK8ZH+v9DVi4u4ZI5pmkgEbLKRsSPPKROP8Al39jXnPxut9X0Pw5rviLSfHV1pbafbSSx2ENnaywuySI3Ja13cl8/e/ClGTfu3A7m38O6fItur20L7/JUAEgnMbqePtHqP0pG0HTJ7c77KDEhA+Y4xvhI/5+PVa4DwzqM3gPwzZ+KvE/ji41i3ktYHeyuLC1jUSmbAVClqCeWxyav+FPi9a6tdT2V5oV9oWq21vDdR2WoJAZbiNd8ZK+XGy8FgCGYEkg4raUai2ZGh1914X0mSGU/wBnWoZxKE6ZOY0Yf8t/bFV7vQdId5WNjYkjzuFdcAfK4/5b+uR9a4yz+Nui6lZ+FpLWCe7vtenjhhsI0iM0YETpIZP3GAFIwcZ5IxkVifCv4s+IPHfxA8T6dqOj39nYwTRLbveLb7bfMDgq5jRiWbBK8HgEHBqWqkY3bND0qTw3oKeaG0+xAQSYPmR/wsHH/Lf3rIVbCx1S7to4bNY42kVd00GMqyvgZk6811C3K3CE+dGDIQDlWx88Oc/6kdxXNW0cl1r1+32lU86ZwqbZARuiHQeR6irpSk1qIt3DWMYkCw2ZCJIxPnW5Hyyqw/jPYmorq4s40ISGDeokUbZbXPyurD145NaRtJJJDsuX2vkYUyqcPFkdIR3FH2e7aTP2i4ZJOM7p/wCKLP8Azy9qUqiHuZMjW8bTKRbsypMvzPbHJBDj+H3plxJE004SS2A3ToNpt8dA46Rn1rXaxupWyZroByp+Rbgk70Gf+WX+zTFtr9pIT596AWRtqrdchoyp7D0A/Gs+ZFcpkzSWzedtntwGaUY/dYw0YI6Q+oqOS6iXd5c1uIzITwV+68R9IPUCrq2V6mxpLjUjzCdqpcsTwUPvzmkWxul8ot/aDLiM5MFxxhtvd89M1m5o0RliVplDNdKd3lt8u7PzIQR/qfXimRSypsQXGMNC2N0hz/ATkR++av8A9m3caYL3jFQQd0NxwUcHvL6VE9lcL5keLnILpzDLxjn/AJ7VDkikVS1z5a4upGKqp+R5zyj4z/q/So5DdwjYs93uQOhLG47fMO3uamutPO6VWjlwXZQWhfGGGR1l9RUDaejMMRo290JPkZxuQg/8tazbKIpmunZ8JqDq0jgttuDksu4dxxkVFIt5IyN5V4Szq2DFcE/MuD1akbT4I/KdoEBxHIf3YGcNt/568VXmsYlXMiQsNpTGIwV2OMH79LmNYjClyIommW5VlWNizRTdVfaefM9KZtkDcwzufLYBvLkP3W4HMnpTJ7eEeYBHCBl48ZgHB5zy3rUEtsJpCWghRSY3bm3G0OuPU1ADri22uxMcjLl+GhfDBxkD/WetVmhWZhJJAu0ujfNAR8rIVIx5vrileFRbhAYU2hD8z2+flOKZJa7fMjXycoJBu8y352nI+lTzDEEMcSKzW/ZWJWLj5TgnmX0piwxrndawodrrv8tOoOVwPMqSSyWS4Kj7Oy+aU4ltyQrLnv71D9jdYUlkjhKsEZmRoOQPlbBxzz1xReJQkn2eTd+7RVDnGI4/mVx6b/Wqu6PyWY2kbFgrbikQIK8H+LripHhMMe3/AEcsqNtKvbk5Vvp6UyeErIyRvbbt5XKyQk/N0yNmB+FBBUk8iMbVRWb5kXPk9VIIH3vc/lUTNGzOF8kKzHg+V91l/wAasbdxVmeFl+V/leI5zwcfL2qFo3K/LcbjsI/1qbVKngj5cflUllLbD/et/wDvqH/CitX7ZD/z9Q/9/wCP/wCJooA+iJPBN1b+e83ijVMqzsVAh6qs3H/Hv/s09vA80dwdni3UvlwP+WOflWXn/U9tgrqri5jElwQ6kym4wRcqBzvIP3/+mlLeXytbzmQr+8EhUrdrz/rsjPm/7X616vtJHm3OQTwNJDcFpPFeqyS7lwC0Kjgf9cf+mf6VLa+Cp/OhH/CV6ogAh+UPD1AjP/PP/pnXVyXSq8yRzqAGnwrXa/wifv5tLPeIr3EgkAZNzLi7H8Im/wCm3+wPzrSM5COStfBssckWPFOrMkZhG3zIum6HP/LL/ZP5UWfgsyW9vE3i3Vm/1AJDw/xG3JIPl+36V1TX/kyOwnTgjj7WvRQ5/wCe3+zTo7tIbuKMuqmNosk3agjauf8Ant/0zqudjscla+DWkjtl/wCEt1eM+Wg2tJBzuaAn/ln709PBsrW0bnxXqzrIFPEkR5ZouP8AVf7Q/Oursr0+Yg8/JTZ1ul6Axn/nr/sn8qWxmjSS13zq8ZFvlDdqOvkk/wDLb/ZqlUkRynLy+CZ2jUjxTqm11P8AFB3df+mP+3TZvBMnlOG8U6uxbzAMGHnOf+mP+1XWWc+1oVLj7kS7ftgODvgOf9d6U5bpZI4GEoydpP8ApY6s0Q/57e5/Kj2kg5Tkb7wRN5LlPE2p4ImOQtuSP9YB/wAu5/vUXHgiZpLjHirVMBpsNstz0Wb/AKd/cfnXXT3u6GNUdCHQgt9tUdSn/Tb/AGqa14r+Z88X7xpMbr1T2H/TX/a/Wr9ox8pyk3ga4k+0sfFep7VZyCIYOPlnx/y7etJJ4Fu42CnxXqkZXAP+jwHOPMzkfZf9muonvIpYLpiyDIkyBeJjpJ/01/2h+dLcXVvMs5JhEZabk3aZJCz/APTTp0o9pIZyf/CDX8NxFt8XagkSCI5+xwZBDD/p06/L+lcR4Z8YaZrnxI1bwQvi/VINd0doUaG4sbdhMreQ5ZGFqTwDghgOnFeyNMiyOv7mJY2zuFwmcATc/f8A9mvCdF8J6J4y8ffFvRtRUWph1jTbq1ntriMSWU32FQs0ZyQXXb3BHHOTV+0cY3ZnGPMz0iHwNq0cMIHim9BZUC506LknyOR/onpTP+EJ15IWC+KLogozDOlxHOQo/wCfT/arA8C+PrjRfENt4O8Y29murRiP7Hqkc8Yg1CHdERjBIDjGCG2klWYDFehwrYLEgMVq0jRLwZ4yR80Ht7mhtx1YuQwrjwb4j3XJHia7UEyYK6VHj7kv/Tt/tUsngzxM0kuPElyxU/e/shDjAnOf+PettmsvLlIhtn3bz8zIw5Vf9k/3qSUWMfnssVuiNvJChOu2X/pn05qfaSE0Zg8JeJ1ZEHiW7yuzroyjnf8A9ch/dqvD4X8WbkH/AAkl2fljAH9kHkloB/dFdHI1p5r7fs2dzDaI1J4aU/8APH/ZpsUNqGtwRCr7osjyVyPnj/6d/wDZpc7CxzDeH/Fa2bKPEdyMq7f8gjvsHuP71T3Gi+MEkmx4mmAWSQk/2a4/hufSQVrwxwSWQA8sME/59hzkQj/nhUnlQtHc7fKbBmwDBjP7uXOf9H/2qPaPsSYzaN4yF5b/APFSSBkaIHOnPg/vAP8Ant7VT/snxkLddvidseWB81g4P/LH/p4HFdW8I89EAjMnmr8ph4H7yQ/8+v8As1VWEyNGVihwyoNv2Y8c2/X/AEWj2khI5660/wAaSG4I8TZOZd3+hyDjy7g/8/XuasNY+NFv7YHxRAoV4sk2zgDE3H/L37CtOSGXddMY48YkyPsjdoZTx/o3PWrL29wb1JDHFuEiAYtGwAJpD/z7/wCzR7V9hHJLZ+MEt4QPEljuML/8ujg48uDr/plS3Vp4vMkpXxJp7YkbLfZ2wcC5zj/TPxrcW3uo4YAiKQ0eS32Vyfuwcf8AHvUktrdqrsUyC7/8u7j+G5/6Y0vaPsOxz01p4x3KB4h0tgoj4a2P/PS3/wCnyqYh8XfYJidf0nJik/5YHA/cTY/5fK6+S2u1kiIjbLCP/lhL/wA9YP8ApjVRYb37BPmCQHyXwRby/wDPCT/pjU+0fYDEhj8Vtcxga5ozMJhk+SRn/S/+vyqssfiz7Hj+2NDx5Emf3XP/AB6f9fddZFBd/a42Edxt83gfZ5f+fvkH91Vb7PfCzkb7NN/x7vj9xLn/AI9B/wBM6r2j7EmPHD4n+3KBq2gsfOUf6kcf6W//AE91QktfE/8AZ6t/aWggfZn/AOWY4H2RM/8AL1XZiHUP7RQNFOuZkP8AqJv+fs/9M6pGC+Olcx3G77I+39zLz/oo/wCmdT7R7WAwbe08Tfbk/wCJjoQPngj5ef8Aj8P/AE81Qa28UR6fn7foLf6M2cqB/wAuf/X17H8q7SNLwXmP9Kx5nIFvPnP2w8f6uqk1vefYT8twpELY/dT5/wCPJ/8AYp877GRyWsR+I9rGW+0F1Ei7kAUHBul7/aa6PR5LNNAhjMdqzC0iJ2zw5BNpIOf3nPPuaNct72SFj/pQ3EYDRXH/AD9wnkeX6E1b0mO8XTrVHFyd0MKqPIn5zBOP7nH3a0nrH3Rrclna12lljsycsSDPDz/pFv8A9Na8P+Pnw/1GHwX4y1X/AITPU0sxbSMul/arT7Oy7LldhGd2OMYBB5r2x472S1kKpcZxI7YgnHBNucZ8vnBNT32ly6gz2t9bPd28swWS3mtpnSRfNnTaQY8HOelZU5OnrYJbnlnwu8BX2gWukajP4v1HU7X7DIx025ubQROTbRYJ2kN8qkdxyvOa9YkazXUdyRWuftEZy88OOLtx/wA9feqZs7u30tI0WaPbbyfIsNwAD9kRgAPLHp36dqvSR3i3S8zY8wEho7jPF2n/AEz/ANqs5XlqaHmXx40ltd+C2sWmn20Mt1HaxzJDFcRbn2wFiuBITn5OwzVd/jt4Q034e2Oo2b2eo6t9mRE0OG6ja9abzbf920YcuDuBySvABJ6V6nb2t8t1sYTFWMKgeXP3imH/ADy9qwrfwHo2nXrX9t4d06LUCskhuhpmJt2yBid4t92c5PXvWkZpKzQHmsWuW3hr49XGreJY7LRoNV0W0WGW7vIRHbyJJKJbdpTKFJ3Nu5YE7RgECvOPFdlN450f4r+JNGto30e5+yxw+WyubsQRI8zRjzcuGVQoZAQ2OM19S6x4dtvELpFrOk22qwLN5nl3tm067hdOCQHhZeh9qS10dbLT1srW1jgs0QQrDDbOsQU2rDGPI46Y4GK29s0tEUjxHx54+8M+JL34W2ejXlneSNrEM3lWlzG7RKm75JNs2UI3j5XwfSuZ0nSNJ0v4mfEC28T+PdY8DSy6ms8C2eqW1pa3NuUlAMZlZg7LhRhCcbjmvoTT/BWi6dGZrTw7o9rOplk8yLSwh3AQtuyLYZOCec1b1LwxpeuXkFxqekaTqckDqVkvbHz2Uee4wC9qccMOM9utR7byGc/8K9F0bw18NLO30Ka4utPaCWSKXVGVJ2LxRykufPXklc/dFbniq4Een3bx+V55YYJZSARdryQLnkfvPyq9DD5dnBFE0KhIUQYjYYDWzdP9FwB8uMCs3xNef8SWYGeH94WbLRNk4aB+P9HrCN+bmAy9G03xc1valda0olfKHzWLHGElTH/H564qxLaeLmV5f7b00syynK2LEZa3Qj/l8/2a2NLkSFIxJcQ/IATlQB8tywyf9G9GH51LHJB5ce26hLMqDJjXvE64x9n9qzdR32K5TFnsvGEjSlfEOmtKHI+XT3KgLMjf8/fvWVf2fidpLH7ZrFtNZrLAZYY7B0Y/PKmN32vjrXV3FxArT7Li1wwmk+7GOsMbAf8AHv65rI8VNbwyRbWtmKynbu8nBxcq3P7j0c1VOUuwWOgjaSS1TMl2wZFwnlyH79swOf8ASPVaratBdahaXcUUt7EJI7hd8aSfLkRvnPn/AI0QLao1uPNtwu6EEFYRjBlTj9z06VCPsksLKstvmRQnJgH37f8A64f7Nc1mndo0ufO3xO+EOpaV4k8G2o8Z+Lrp7jWnVftF3IwhKmRtyfP8rBWXn3r2r4e+B7rwXb3An1/xBrxnmgfdqcssxTa0sRC/veMhs/WtzUEs5pZXlhs3k/fSpI32YlcorAjMXHfnvSzG3hkO1bU7Sx+/bdftCt/c9D+tbVKkp2VgSsOCXDqSWvT5ojU74pfl3QMMD97/ALPWvN/2kLqeP4O+KyDeiN7eQhvLlI+aOM/89Txwfyr0PzLfdEW+zLtMZ+/bdVlaP+56NTVis7iGON4bSbzBCXjma1KkeW6dNnqBWUbxdx3R4r8ftKvZfAXhl2/tuLTNOvo5r6SwWVZ4IwqHeG8xhlS24txgDr2pvg2DwNp/ii48R6Z4t8TeLJdIsZSdSvL17y0tIhMHZRIJAFY9doP5V7NN9iul2m2tXWQgMjvatkvbnJJKd9v5iq09npyxyxpZWKxSCTdGn2QISYVYAfLzyK39rJ9BpI+dfg/HN4T+KzeJNV0uXTbLxcGbSgY5QbZluMlM+YOZEzIRk5OOP4q7r4O6sln8QviDpk1zJDqUmqRXS2bK4lMKnYHCeeDt+cjdjv1r1K+htf3rGG2kKmZ42DWp2/Kj5GUO3/DioZrfT47qaZLSzE2JV3g2e7AYPgnZk9M0SqSn9kLl+38xTEGWfaoi3Zil6Auh6z1wdvZ65NqU09leR2sCyxPsmsHkORuQnP2oY5NdgxtI1lfy7cbPMGfMtBgq+/8Au+9c7oMdq8d2+y1JQygky25ztkBGPk9zRFuEGwHx6b4r3RMdVs22iIndpr44yvI+1evFQrpfihVj3anpWP3fXSnGMHb/AM/XvW80ltHDIita7k3jg23OH3D+D3ps19AEkjDWz7TLxutuMYYc+V71zOoaRMFtN8Tx+WPt2jLsCsB9gbqrbc/8ffv0qtNpfidYOL3RVVVyV+wjna47/avet+5miaZwGtgcyr9629N3/PL2qKaVN0iGS3QM0gHzW/AZAR/yxPcUvaPsUc5JY+ILViBd+H9qhuWtE/gIP/PxUE1l4kVSqz+H/lEg/wCPWIcjDdfP966NpoZmytxbhSWHDRH78Y9Ifaqkl0JGRnulyXQn5wPvIVJ/1PqBU877FGBNa+IFZv3/AIdAYlcC3iI+ZQw6y9OOAf5VBJJ4kZVP2rw8eVJAji+bcvIA8zFdCL9dsbtcIE2xN8h5PO3k+T79qhF4/lqXuYwFXn943BSQAf8ALH0pSm+xZz3/ABUjMpWbw/jKN/q4x0JHZj61C7eJI4gPtfh/cgJbCRZ+Rxz+Vb9xqEisVjkRNolTdvf13Kf9T6VVkvpJZHU3S5Z8jbJLkh1z/wA8/UVFwMNn8SZZQ/h1+ZIzIRHzkbvSqzSeKRM587QVV3z95cYdfZfWuga4maRHM/ynynwZJfTa3Hl+tRNdSeSC13K22MZHmSkZRu2I/Sp5n2NTC/tTxKmHEuhhQEkwpxn+EjATnnmq8d54mjVN0+hq6ApjzD8pQ7h/B6flmt648z/VieRtpdVIkn7cj+GmtJJNL5qzybW2scSTcb1IP8PsKXM+wJGC+oeI22hZ9FLEso/eN/Euf7lNOpeIppG3SaKzYDkec/8AFwf4K1Y7qaONc3Em5USQ5afqrbT/AA+nFJJNPtz51xwJI1y0/wDeDLn5ePxqWxmPNqHiFFG+XRTxwFlnYEqf9z09KZNqHiSWEq50hpW3Rn99NtAI3D/lnyeO1bEkkhLqZ5gu/Gd02MOv+NV455JI0f7RNt+VxzP1U7SP1qeZ9ijIGoeJJJNw/sVY9yt/rpuFb1+T1qGTVvEwXDf2UQw3kR3M38Jxj7lbbTOI3j86Yvh4+DP1U/LTWkabIDyMC3PzT4w69Pzo5gMKS48SbCgfS9h3R7hPMD6j+Diq7aj4kZvMC6ZtbDlftM5wD6YT1rednCktJK5ChgzPPgFW2kY+lRGMwgQpLIwG5Os/JPK/hSuBj/YfEf8Az00r/wAC5/8A4mitX+3ZP+eUn/kailzAfXsN0ZoYcXTeYTHnbcArhvJHTz+uGNC3TzR26/aZD5kZOROD954/+m//AE0ptr5sd0iEzEI0BGYWJ4C/7X/TP9KXT47gSQoRIVVYh/qG6Zh46/7J/KvTPMHzTO8Zl+1Ou5Zf+WuPvcf89v8AppTbiZms5St45LLNg+aSDnzP+mv+2PzpLJ53igR4JV3CEMPszZwTAfT3NPt4bmWG1G2QnYI9ot2x8zQ8/c7hq1Q0FzM8i3BN3IfmuCq78jGycDA871I/OkuJJhNckX8nlx+bk7sksEuAP+WvsKb9nuJoY3WCX51bpbsfvbB/zz/6aU6SG4e3LC3kLsHkP+jEdQw/uf8ATT9aoodNJLD5rrcTSMrN0bk4Wb/pr/sCnxrKsxTz5wI3jGSeMKHJ583/AGKbcwzSNO/kt83nP81qxGCJhn/VerD86S5tJ5PtMrW7Bv3v3bNtuNk4yT5XrQQLbhrebi4ulwVzuY9VK8f63/pn+lS20kzeTEJrjCtASScZ/wBV/wBNf9g/nUNza3Ec1wVh3qHlGBauTwJ+f9V7CpPstxDIWWBso6HC2TZ+USf9Mv8AYFMAtZJD9nUT3H3Y4ziQ5yXg5H730z+VPgafbEWuLoBihHzsCdxgB/5bc9TTFt7tZOImIHlj5rVjgjHH+q6/L+lPW0nDWv7pwQYSM2b8fNHn/lj/ALJ/KqArhpjCVS7nHmDIZpGGQTH/ANNv9qiWd1mmKzXDFvMYMJMD7p9J+fvU6K3mSG2XyjIwSIY+xv3eD/pjUUFnOroZYCpfaBizcjkRDH+p9zWoDZry43XA+13RJ3kHzSCG2y4/5ePVq8v8A30tv8efjBEt1MZC2nzf648/6LMP+ewyPl9T0r0xre5khmH2d90m8/LZSeg/6Zf7VeE+Jbfx5oPxs8eyeH/DV9cf8JHb2SW+syWDtY2xjSZZmdvKyHVXyvynccA8Gjkc1ZCUuVs9S+J0Ph7UvDZtvFmtJpeniVPJ1K4vo4DbzgNtkieS5ISRVXII7DpmuP8Agx8WG1LxDceDLzX7LXr3TrdLq31TS9SWaOe3EsKfPtuWCOuVUhmywUkAV5n4p8A6xaaxrXw81me61pdWjfWvDt9fwSSIt/bxytKX3R8o0smQgDDHHAAB9q+Bcdhr3g3S9ctfDlno2pjfYXr2ekCJvMgmeKXlIuheFjyR0HFdM48sbMhe8d2t1L5a4uWZWCj/AI+Rj5jAP+fmk+2P9lbNwxYqxINyv93/AK+f9qnxw3kfkAxXDqGiGPssnOWiA/5Z+1NhhvDaoDFcB2jyc2kvfyh/c/2q5jML3UAskubhR80uMXS+k/8A080sl8BejEkZYPCMm7jH8R/6eP8AZpJPtjJdDFxn98Pltpsf6uT/AGf9qpPLvROwjS7+VxgiCbs0x/u+1Zy3ArQ3UMix75I87FPF5GB1g/6eKgkuEZZMpAyHzf8Al7jyf3Z/6bf7VXBDeBkyt9jKqP3M3AEkft7VXt47lgxH9oNwT/qZuMxxe3+1SAVpoFuGby4lbzsnF5HnAa4/6bVGrwG4gDQ25yseN99H/wA9IB/z29qlUXrSSu51JVLE5MU2D8tyf8PzpywXv2m3Qi//AIRuMM3A85P8KAKHn2nlu7wWy7lkJzdxY/1H/XX/AGv1qaaSy/tIfubfiZD/AMfcX9+ft5lL5N4kCZfUF+RsfuJz/wAsYqVor5p5syajhZdxxHcYPNyc53UAUA1guzMVqp2dPtURJ+a2Xp5noaZJNp5hlzb2wALj/j4hHPlTHH3/AHq7tv1RFY6gF8sfMsUxPL23+19ailS8WG4x/aRx5pAEUxAHkS/7XOagAl+weZHm1tGO6NebmAkfvYh3f2qi39nNZyj7Pa/6l+Vubc/8sH96150vhMnGqAtJGAfJn/5+F/2vaqCpfR6e5X+1GcQvyUuMf8e5680EDoRYC8RjZ2obzFA/0iAgj7V9aqldPW1kC21oE8iQlvPgzn7KvvWlC19HfI7yanu81fupcY/4+v8Aeqkq3rWpPman/wAe0jMyx3DcfZADxu9aYA82nreBhZ2hPnKA32q3+b/Szx1qpN9jk0sj7LanNmfm+0QfN/oh960Y479L6PL6qU85cBo7gjP2r0zxVaRb/wDs1V/4mQAtRz5VyP8AlzPvQZy3I1XT1vGxa2qjzOR9qt/+fwZ4JqnK1g9vcA2dkx8rnE1v/wA+cmMc1oiC/NzKTJqW3c44juf+fxO+Kjmh1JVclNSLCMAYW4P/AC7S9SR7UhFK6h064t2As7Vn35+W4tjtxcQdcN7j865G5TXLHUfK07+z1tg8IVZXgYjCXI/viu9WG+WCUqb8HDfeS5JOHt2AztP/AOvFWTb6iupJv+3AvPCp+W5IOHuV/u9811063s9GhNHkskniqSzdi2lACJ2PzW4/gt2P/LX2rQjfxO14cSaWo8/qxt+13KOP3vvXdGC//s5m2XJ/0eU8x3GP+PeI/wBz2q95N8t2Sq3C4ct9y4A/4/f9z/arf60v5TPlXc8u/wCKpa1BEmlMfs5/ig72hH/Pb/ZqWSXxRITKZdLBG7B3W5HE0DD/AJbe9ejx2t4saIYpmXagLNDcZBNvMO8fqKSNbxbdgdwADn5op+ywN/zy9qx+sL+UvkXc8/hl8V+dGwm0vaZYRhmgz1nGc+f05qAf8Ja9nueXSwPLYH/U97ZCf+Xj1WvU41ukvlfI/wBahx5c2Di4kGP9T6kfhVdRcrCgwufLQAtHN3tXBP8AqPVf0o+sJfZK5X3PPEXxcshkF1pokUsw2iEji5Q9ftHX5h+dPhj8WtMM32n7mkiwdqEdJl7XPtXoDSStFI++LI8w7nEv9+B+P3B9KsSyPHeKTJCEWVc7kYYxcyDp9m9Dj8aUcT/dFyyPNFj8byWW77fZbWifgQLzm3jb/n69RVmS18bCYyf2hakFj83lZI/foTgi6x1P5V3StGq4M8JDIqr+7IAzbsP+fb/ZpDcReVKDPblWM5A2jGNsLD/l39TT+tL+U05WcN9j8crdRKNRj3M8KtiAkADzk4/0qr+i6N4guLdf7UvZJ/kLBYo2XrbLxgXPqufwrtFvoPtceJ7fmQYULEMAXJHe3/2qbHJbcRrPakFoVxiEN80UqnH7j2rKWI5tkOMWTTCePzyiXWQXA/dv2ljf/n4+tPjNxJNFxdMyuh+WOYdJZF/57+9Up7q2MMwWS3clZCPntx/yxjb/AJ4f7J/On3E1pG7bVtTsJ/5aWx6XCnvGOzZrgctTVE0f2hodm6/DSRqvEc5+9bsD/wAtvUCs7XrG8v4bjbLqQdDM6t5dx/zzifP+s9c/lVi2az8y3DRWo2mMHMtqM4Mif3aiX7DNH5ZhswXTZ/r7TnfbsPQd1FCnKOqEcXfaD45ikPl63qkKq5H+ouiBtuM/89O4b9arQ6L4+ZYQ2t6ltBgwwtLr/pon976V6DqFxavNLNLbWT589gzSWmAuyJgOvrUM0On/AHks7QtGT92a16rcKf73o2a6VipJaxL5Wedr4f8AiBcRqTr2pAskY5gvAfmhPofY/lRdeG/H+5nbWtRfd5j/APHtdEj92jdx/s16JBDYSNATZ2vyvGMebbn7rOnaX0NRW8Fs/lhra0y3lD78GfmidD/y19s0vrb/AJSuU4CTw948iMipr2pIV81SzRXIyVmR+w96hbw/8QLfaDr+oMqndnZc5+Wcj09/1r0OaG1kQlLe3ZpN7cPEfvxK3aX1FLNawYkZ7aHgTc5XHRZB/wAtqPrb/lD2Z5zDoPjxTHv8Q6goUpndHcDOHeP+771Cnh3x3thLa/fkM0f8N13RkP8AD7V6PLbxrJMPIiIUuNoVT0lDf89/eo1gSPZ+4DKq4/doMArcH/pv6Gn9a8iuQ84XRfHEsCEeILz5tg+5c/xxkf3P9miPQ/G8xO7xBeHzRnpcfxxf7nqP0r0OOMW+x1td5RUxtQkDbMyc/wCkdcGmReXCsTfZmwnlH/VHPDMv/Pfpk4o+svsLkPPU8P8Aiy4ZopfEF3LC7MWXM6nDxA9fKrrtPsbi2hZI7ueSORmOGe5yN0QI58r1FaVuoVYmaNl2+VwIWJIXKf8APfuRUEcIZUxHt2+Ty1q3OMof+W/qf0rGdbmQ4x5SWSa6k5FxcAM5/iuhjdEMfweoqBmurgkrc3R3tg7Wuv4ox/se1N8uNZI8RFhmM7vs7AcfL/z396gW3XbGfsjFlWOT/j0J6Ps7z1yGxNnUNwLT3IDMvV7rPzIQf4aq/aL6QxSCa73MY2HN13BX+7TPISOF0+y4dBjatoScrKQTnzvQ1DcxokRVbY4wy827cBZCf+e3vQXEld7mMoRLduyhMn/SiMhtueR6GqC/aAu77ReYCn5MXZBKSHnp6GnSQpA0gW3ZpAJEVvsuAMHcAR53SoLm3XE6i0w+ZApFr8vzoCB/rfUUADfaI2kjT7cjIsi5K3XZg4/IVBP56tIjteS7ndcst1jDrkdcfWq8lukm1jaBlZ0Yt9mIJ3KQcfvfYVAtrHtjzaqeImJMHcHaf+WvpmkyywzXUhRv9KcFo3I8u64DKQR97sapM86qnE5VQuW8q53ZU4zjd6GmNboI5M20SFQVC/ZxnKuOf9Z0xUd1ax7ZD5Ef/LTaPs2ACR8vPm+tIfMNZZEjlCi6C4ZdoS4HQ56k/pQ7SzTlpFu3QFim6C4B+ZBgfe55FV/3UzB2tVQO6vt8lRjcuD/y09ag8hI13fZV3qu44twDhWwf+WnpQaFh3m3LtS4LKY5DmOcg/wALD7/rUUnnqocwXCusZ/5YzA5VwQPvdh2qP7NGrFRa5P7xDmFfUEf8tKY9nbzXG8WYMbNuLfZxgBh/109azkAlwLiRnjVZSQzIV8mbow3D+OmqztuLQS4k8tz/AKPMODw2Pn9h+dMWGKMeYtshbZG2fsw+8Dj/AJ6elQvZeXkLaKAAyf6jJyDuAxvqQJbnzIVZERlmjDL/AKqXkqw/2utRR28s0LiSCXDSFSEjlDYdAf71NMPzkPaEZbLEwYHzLz0fuabHDFEpc2ajCjdvtzjK8E/f9KB3EaF1QOLeVm2rIXa2lzj7rgfN1qD97tVTDOxUNEc28gGU5B+96U37JErYaJfmZoyfs+c5+Yfx8+2KQKh3SG1YIWVsm1IxuGCfvetSUK26ZyGhZ13EjFvJlt3OcZqGRjG2VimARVcssMmPlOD39KPsvlwhRb4CoVH+jtyynrnf6dqb9lTzCVtzs3YwbZujDP8Af9aAJ/7MPq3/AH5l/wDiqKp/Zpf+ecf/AIDN/wDFUUAfX80MsP2mbyh8hf8A5c2/gE//AEx9qcbdraaRvJUlWYc2pGNqy/8ATD/YqpPHayWTFljxMkhxvAzuLj+5/wBNP1qbUPsatMBHE4JuWx5qDtP3x/tD8xXpI80sRxPHcAGKMxqYj/qGzuC9P9R/sUWkJSdYmhjUL5RP+jnsYf8Aph/sH8jUF3dWkf2xwkTENLh/OTjaJwP5DmnzXFrHIWWGEFZHyftC8hVm9/8AYFWIksYYvLt41WEgGEH9z6m3/wCmHsfyohhiaGJfKUZjQNiPHVoP+mHuaZbtBHcjcIfLUxJlrlFAKhjn7/8A0z/SizuIEliDEDmIHbdIMf6sn/lp/sH8q1LHhbVoUcLDsYED5QRhmiAH+p9ZKLiO2+zlVWAs6PnEYHJPGP3f+3T7G6Rhbxl1bb5AIW8UgAmAkn97/sfpTbWYyLbx+YrFURGJuk5Ja3/6bejURIHXTWu642GLEhnxkLxkSf8ATP8A2qLyO28u5bauSJCGG0Lx5/8A0zpRcBoYiWVfMGSPtKfxGIf89v8Abp0kyfZyvnD50cj/AEpe56/67/bqmBHOLSNrkmK32ea7YG3PyrPn/ln7CnTfYvOwy28artwMrnjzP+mf+zUl1MzGc/aVH+uP/H2Ofll/6b/7VJJeNKtzJ9rZTmQc3QxwJsf8vP0oQEaJYxzRRCOHcqxsxZk/hYf7H+xUfk2EywRGO1Y7oeMJ3aLj/V+x/KrdxfHe+26fCs2SLhc5Hm8f8fP+zQ2oSxzBWnkJDRH/AI+VHQtx/wAfP+zWqAy4UtBHFF5MBXYq5Voz1aHJx5eehoaGy2sQtuwk3jh4wuCi9fk/2quw3D7Yla5kCBI+BddDvi4z9p/2T+VNtriVVid7uQ+Z5YJ+0dM+QMAfaOaYjmPFvgzwv470i60/WtMs9RtFfzdkkgQBgJCDuRAwwSp4JBxWxa6bpGhWy2FrBa21vCzLHGHjITb5+Oqc/dHuc571fjmf7PLm6ZjIjk/vz0wv/Tx/tfrU8t5I6yt9qlXLzMMT8H5ZeP8Aj496LytYxuUStks0eRbAbovmWSIZw3p5f+zSo2nNDCB5DYjjGzMQP3oP+mVWmmk+1H/SZk2OOk2c4M5/5+PYVIs0nnxD7XMpyg5l6fMn/Tx/s1KEZsj2HlSri3YESEDMY/gTHPl+9JI1mvnM0duqkv8AxRY6T9/Kq0t1cPHGGnkLbBnMhB5EHYXH+1SSTStbXDLczsPnJG844WQ/8/HvUgITZq8W37KcbV3Zi4xKOP8AVf7NUo2sVhjXda5KLnmLuLcf88q1pJp1mJS5nG18na7H+OY/8/HqoqBbm6324FxcZYRqfnfj5oB/z8e1Etxoz5GtPLlwtts2uV/1R/5ZyH/nl71Yme1a9KBbPbvXAZYRlfObA/1XtRJNOttKoubwDY+WVnJz5Z7faP8Aaqea4uDcMRc3zfvdo/1nZ5v+nj/ZpCMyFbBYVG21T92FxmDHMcA/55Ug+xNJKStn5gkJGGgAwBcf9Mvp+dWoZLrbHCsl9nCjrICebYdp6jgmuds2Z9SGd3Tzj/yznP8Az3oAhH2NZM/6PltmFBg+X97B/wBMqqu9i8c5cW20I5LF7c4/0eTnmKtXzrpZkQyakXyoJxMQB56Dn9//ALNUVa7WzmaSXUdxif7iTjj7MfSY88mpFcfMunx30WEtxtkhw3mQDP78dvLrLZrQ2DnbauPIkz+8g5zbDH8Fbkkl2NSixJq3yyxgnbOes5xx5lZscd7JpYYS6qu62fLbbn/n3X/ppxQISFbGS8CiGD74JxJbAf8AH03+xVGH7DHDJ/olrs8h8fvrbODaLxjbW5DbXn2+JA+rAmT5C63P/P02c/vKoRW+of2aDv1Rh5Llh/pOf+PROfvdKCZDW+xfao821mQJY8sZrUf8vhz29Koymw/s8H7Ha4+z4OJrXPNo/tWw1tqK3SESagv7xPvJckj/AEuqv2XUv7Px/wATEn7OBjbdHH+iye3OaREtyru01pZQ1pbAtI2A1zaj/l8i7Z9xSyW9jvkC2NnuPlj/AI+LXOfJuPepWttRhuDua8Y5bjbdH5ftcH+yeac1veNPw15/rEzxc947kf3KBFRWsP7PkZ7WzyA5I+1WvXbbtj73tV0fYzqEIS3s0/0iLrc2/Tz5hn/WCq8H25bVy7ScLOfuXBGBFb9f3VXGa6GoRr8+FuYzlknHS7lGP9VQBnSR2UmlQn7LaZNs5P8ApMHezQ5/1vtVmZbDzXbyLL5nO3/SIOgvIjj/AF3vUcP2g6ei+YwVbX+JJuv2M/8ATDpxUkt1JNDMTKoX94VyJP4Z4D/zwoAtNDaG6AS2tEDPGuPPi/uTjP8Ar/X+VV42t/sgfyLM5SUgiSFutvCw58/2xVjzC13Cpu0ws8YI2NwPMnX/AJ9+etU/tMa2C77m3yIJCPlwMGzBz/x7f7NAGk3kx3W5ba3B35Lb1GMXQHX7T/tU+Jfn8sCIfNCuQQeNs6/8/FVjewiGZ2ubfI3cbQCf30LEf8e31pY54Wuoj59u+Z4gTiL/AJ6SqDk2/vUmo5t62TmMMS0MnGzI5giP/Pz7VOqSfaJdqzBhIxX9y/8Az9gn/l4/2qpJJFLaBTNbMTEoBzb/AMVsfWD/AGaka4g2yM4gJzL8261/vxN/zx96EUjSkS4a4QYvP9ZGBiGXAx5yf8/FV2a8FiMf2krGKTIFvP1NqDjiY/3aVmtftkqlbdgJAcNJaDOLmRf+efof1qtbyW3lxxNDZgusagebaDObdxn7o9KgZbkN6rTSKdSypcHbHcjG2SJx0kPrVmJb03SDzNRYrLHjMdyMYnlQH73vWRi08hm8izG7zXybi0/54RN6e1TTpZCd5DBa5ViRma1P3bkHs3+3UAT28WoyRRrI+pbjHHgBLrOXt3B/i/2f0p1x9u/0ghtQO5ZSN32rjiJxxj2qGGGxZ7dkt7NvngVtsluccyp/z196YkFm4KC3ttzxLwDA33rfP/Pb/ZqALEsd8jMfMukKkk7xcgcXX+56NUFut2iwK08uQYwc/aucGSM/8s/XFNuI4lFwBHAEJmAAVBkfupOMT0eSkH7xY1+ViQFiBPF17T+jVJZCr3HlIhcsxTHzef1Nvj/nge6026mcecyzoSxmYf6wjmNG7w+1TRs7tBsilfy2hB227noZIz0n+lEKzTQxxhLpCyAFRbS/xQN28/8A2aCokN1cFVkIuI0KFyBh+0qEf8sPQmlW9SKSIG4jwjL7Z2ysmP8Aj396nuFuVklZPtxUmV8LbzgcwKwHEvqKbdR3UbTlf7QJzKdvl3A6MsnZz/eqBlC1uI91qjXNvkGAHJjPAWSM9YfVRUCXUBWDLQnzBHhsx5JeBgePJ/2a0Xjv7WQAvqR2HI+S5/huOmd3+3UCC+WSA7r4BDF0W6B+WR4/X3oNSncyRXDSMs0JVjIpbdAAS0Kkf8sfVW/OmXE0LtcH/R0+SYrh7cjBCOM/uu3NXI1v5IYozNfKS9uC0huiR+7kjPOPpUULXjBC0924cxjpdfxwkYPynutAFW6mhh87c9un+uw2+13YVlf/AJ5cAg1C9zZxqy/6Pwr4JntOqyq3/PP3q1uumw5nuN0hyDm743xH/Y/2arTXFxcBh9qc+YCC2+5bG+LOeU45FO4hlw1t824wNjdjMlpgAShx/B6GoZJLNVZx9mOzfj97akna+7j5fenSXU8jcXOUZj/FPn5owf8Ann6ioJrgtI0RvFAdmGN8+RvjBx/qvbP4Uixlxc28KyKiwFAsoAE1p/C4P930qk01uvmqzWwCCVM+fZ8gMGGOPepTfSs6hruNQz7SFeY/fjB4/c+1MGptIyOLuMqSpI8yXqwI/wCeP+zQA2S4t/3wUWzhjJg+fZgjOGznHqTUU01vcSEbbdwzsNjT2mQHTP8Ad9aP7VZGR3uomw0YK7yT90g9YfWoGvwwQPcxF1WLpKR0+Uk/ue+aCkM+1W7Mp8u3DsUJXzbPnchB7VX+0QLjKwBv3eR5tn24z096e2pGOPIuYcKucb+m1sdfJqpcaoyJIv2qPb86ArKO3P8AzxoGJM0awqMQjanRpLQ/db2+tVLgxujhY4dpEiAiS29Nw5/E/lU8moIQyteJuZmAxIv8SA5/1PtWfJqBaRGW7VovMVyDJEeGUrjmKgaJF+z+ZgrGqPIeGmts/OhPr0yKr/aIJlDi3i4WNzk22M5we5psl6jukhnhAwh/10P8DEH/AJZ+lQyXkaOx85flDopaWHPDbhj93imUCyBULFYcqhAC/Zzyrjn8qh3JlgUj/eSMNoa3PDDOaf8AaI5HLiaIB37yQk7XX/c9aiaaNjHKJEVvkk/1sGA3Qj7lABNcJJIGCwsIyjkq1v3G0559aqrJtiULCmSOAptz901K2NrJ5kaN8y4EtuM4O4fwegqGSfbNuEiMN6kAzwnh1we3Y1LiajmZOI1jBbc8fSD5srkEVE0kVwwJjXadrkHyOcjB/ipqz+Zlm2BhtBxJB8pTj0qGRYs4DR7V3Kvz2/1Hb8KnlM+Yl3QwxoVt4ysYOFWONQNvp8386btiaRswLuzggLF0cZB+9601mR2XhQDiTAe3/iXBHTtUSMBE6hYVcx5K5gDNtOBz/SjlNCaTCxqRAoBVG+dEPIO04+f0NN+zIrMBaL0ZciNDnupxn1qMqkflsBA0b54jMJbBOAP0qO3Yzbi0YKkBs4gJxn2qOUCVo45Jgxt2I37z+5XjIyeN9Q/ZVw37ndkFRiAZBU9fv+lOWP5fLWNWwduQkfOenem+Wu0M8SH7r4aFMjP3u/rUcpY/zoP+fU/+Arf/ABVFN/sZ/wDn2P8A4Dj/AOKopAfW0F0s0VshkQhY41J+1J1L2/8A029DUv2tJIYX+0KpcbeLlSfmMQ/5+P8Abpi+fHM6mS54dFAy38OD/wA9D/zyFSW0c63FvCxnO1ofl2SZ6w5GM/7J/I16R5gTXQa3G25ZhKjsf9JBHJx/z3/26nuLl/MnBumO77RtKzZxkTc/6/8A2qq2cc00cEZSclY40O6BzyXgP9TUkfnzQRMEkzJ1/wBGf+IxDn5P9unECWaaeSO8JuZsbpmUibrhbkAf673FEsk8Ql3XN1JtLsQHOAVWbqfM/wBmo5Le4e2QeXJmVJCdts/c4/55/wDTT9amuLGRvPVoQxb7QQWtWY9JMc+T/tD863LHpLLFeKwacBGjG0byTtD/APTT/pnTbOOdZMFroNmJSGVzjBjyfv8ApH+lMuIJ2huZlRRuMpH+jMONtwBjMPqR+YqWWy2SSMY4wySP96367UmI/wCWH+zQQLDHcM1qubhm3wIwEb8Z8k+v+zSxrPN9m+W5BCRg4hc9Wg9/c0CMQ3CZjRdrIc/Z/Tf/ANMP9ioLGOKO4VTHEqoYxjyxwwMfX9x1+Q8exqrk3J/JuJFjYi5YMudwt5P4jGM/+PmmNa3jWswjjuZfMV/vQSZGQefu/wC0PzqGxhhaO3Ty4Xz5K7mUDALQf9Mfr+VLbx2pji2pDkxpyFXv5A/54+9MUixcRXFwt18l3hfO+X7NJ/cl5/1f+1RcfaBJLmGX5Cf+XabPAnOP9VVdRa7JMCF2bf18sdVX/pn/ALVNYWTLct5UBZvMY8x/3X/2P9qtSi2trOs2NkgUletpJjIaQ/8APP8A2aibT7lvs6tCzANCOLaQfxRD/nj/ALNMuJLSBpNkdmQrPnc0OeFnP92nedZm6AEFoQpjYlpoR0Zj/wCy0GA62tboQwjawGxRtNs/AJgH/PGo/Iu1s5QAefNYFrV8cr/1w/2qdbrZyC3C29oTtjXAmi/vxe/+zTIfsflqrR2oeRVBUXMIAJEGB97/AGqAGyQzhbkoit87nP2Rzztn/wCnfp0q15Uv2gkrGTuUfLbMOjv/ANO/+zVV1tRE5MNsNwc/LcRf3G/6af7VPmWHlja26YdjzcwgnBnP/PWgB8dvIHhDGMFinzNbNnrAP+ff/Zqoscq2kiP5OGRzzbNnlB/07f7VXY/svmQ/u7cFXi4N1F/fX/pt/s1VjaGO1VWWFMRnP+kR55EI4/f9KAFmZjLMqvAN0jg/uW/6eD/z7U9m3SQRf6KWVozv8o/89I/+nb/ZqP7XCY7g5jwTK2fOTj91Mf8An49TU6yoLqON2UEPECUlTk+bx/y8f7NSwM5mZrHO62Vmjck+T6xxj/n39zSXbxiQlniZvPbA8pRn5rj/AKdqlhkVoQElVsRE/wCsHdYf+nn/AGqfLdNhws02DIxG1ieSs7f8/PTp+dUQ43KrLBE8SvNb5+Tgoi4y1v3+zVWR7SS3nkElqzbGwCsWAPJmycmDrWt51y8i7JrnO6MfL5mM+ZGO1x7CqEs9y1nIBLeNtjdT5Ylx/qWHaf8A2jWQ9iJpLV9QErvbvtdVD7YOD9oHBzBVGL7NJYyArbhfKdgu6DB/0Yd/J/2q3R9um1BSW1BmLj5kSYj/AF5OP9d7Cs6Nb2SxA83Uwvkv92Of/n3jP/PagQ7/AENdSQmK1H71PvG2/wCfh+v7us3Fp/ZSZit2X7NJnEluo/494+o2itzy75tSUeZq7ss0eV8u6yf9Jk/6aVmtb6i2kN8+pIfIdvmW6zjyI/VjWtwBWtm1AbbO1ZjLlsT2wA/0p/Vaz4Ushp+TaWYJtXHE9r/z6A+g7V0Eseow30f7zUCfNGF8u5yf9Kb2rL8m+Fukn+mkfZ3wNt0RxZgf3T61n5gNePTvtig2loxMq4/0m2/5+/rVdI7JbJysFpxCD/x825x/osn+2K0JlvWvFcSS8Sqfu3GR/pX/AFyqs7Xa2pG5wPJQZkW45/0aX/piaRkVfJsds2LXTzyx2/aLfr9pt/8Apr+mPwqT7PYfbV229ko8+PH+kQ9P9JA/5be+egpGmkwxMsceTJ1SUH/X2/PMH9attIZLxR50SRm5jGdj54a4H/PD09zSAz7WK2W3k/dWZykx/wBZEf8Al3gJ/wCW/tV1VS3vDJ5dopMiv8ojJ/4/H4/4+OPvVQgukNl/x824zBMSGiPI+yRE9bf1q+ZoDdbftdsoLjlUT/n8Tjm39zUgNtxvhULHHuMUIGAvQ2sgz/x8e1OLSfZZBsdSyzYKwnj/AI9z/wA/NMt5beOaMCe22MbcbT5Q4MVwvX7PxyBUUlxA1mSXtiGinO5ntv8AnlAe8I9KANeOSf7d925fbMGO2GQ5H2t1A4uO2arW0c3lqgS/GYlQYt5sc2jgf8t/aoWubd77JFuwDEgM9of+X7tmMHuPzp8bWocR+RasD5IOZrMf8spl/u+1MC9/pflSBf7QO7zmO6C4zkLC3/Pb3q1Gt2s3mH+0gBKuAIrnqLpgP+WnvWGGsWtWk+zWg/dzn/j4ss820TZ/SrrfYl8xfIs2KuXw01oTxdL/ALX+1Us3RZW21CRY0jj1Mn9yoyt1/wA8pV6bvb9KjVb9rRvn1BXeJzjF4MZijYnAz6U1bWwkuoysFhnzY+klsTw8y9pfemw2tl9nULZWrEW6gMnknk23tN6rRcLly5bUfOdxcXwwW5IuxwLlT1K+9J/pX2hV82UYmjU5a5wMPKp4MR74/Oq0kNtNA4EEe7E3Coh4BifPE445q00RhuH2wOMS7h5dvnpdlc/8fHoazGVFmmltVEs5B8vywP3+CGtT/wBMv9mnLd4V83EeMSNu3SekL/8APCrKwyw3CEQ3A3NEBi2lb+CVMf8AHxkdPTFN8u7miDbL8/um4WGfPNsp7S4x8tZsBn2xFk+e7iIRhuVs8FbjGebf/aqK3liljhZLiDzCYF4VOyumPmgq/PFfeZcFX1ELuk+Uw3Q6PG/aQ+tMX7bayIC+ofIy5+W7/huCCfveh/WswM5ZIJI9rzWjEplcmAZ3QA/88P8AZpt5NH/pC74Av777slrjA8p/+efvV2O1vd9uEmvtv7lPmN3n7ki+lRNNefZ2DT3A3LwWe6/ihBH8H+zQWVZJLSFm8sWrFd+R5lr/AA3C/wCx6NmiFbSTaRBana0fzedadA7p6DsTT7q8vI/NJumPyzY+e49I2/55H0qC4mkHmE3AAUuBuklxxcKR1h9G/WpuaRFC2OFQwWuWWIEeba94nQ/xD0qF47OaNnW2tPnRzuElscZtwc/6z/Zq1HdrHs/0qNwHVvmLZ4mZe8HI5qtBcR7oEN1F83kocugB+SSM/wDLD1qWILy3t/36mG1dSJsFfIP8Ecg/5a1BcR20e9obOHAZsYSPjbKHzgT++ak85LiMkXNuxcJhd0J+/bsO8PquKhuJ9yMVe23OHC7ZLUgloAR1iHHH6UjUetnHDlRbK+0gtth6bZzk8TehH51FHAsagtakGLyx8lux5Sdk5/fdcNTb64hVrncIdpNwSFltAT8kbgfd9ar3F1AnncW3WdTme0wcOsg7UiidV2GApavtURkH7K3O1zHx++96rRpJB5ZaCYYMIb/RZgeCyHpN6mmXBslE4+zWhMYkCjzbXPyyK/TPuagnW0R5CILVypdTh7Xqkm/+971SkKxPB9oeOBhHcBV8kk/Z5uwKH/lt75/Cq7RT26xs63hkXyWO2C57ZQ9H9DioZ0s4y0ZtbVhGkn8VuclZFYdJfQkVA1vaRkq1nbdHU/JCeQQwH+t96YyRlu41DBb1dmwZaC6H3W2k/f8Awqp597Go+a6DKoP3LrA2uR2b0NLNbwZfZpw6SA/6MpAxh/8Ant71Uawtw06rYkjzJRxac9Nwx++9RQBM0998+ZrxhGp/5+yMo5JI59DULSXhjG+4u1OWUljdDIByO1FxaiSSTZZSMCXx/obcblB6ib1FVWt5fM3Lp8oBkByLORuGX0831pjC4+0jcXu7qOORmHL3PRkJHaqkk0+5T9tuAchj++um++p7FcA0jWc25JGtJ0b92/NnKB/d6CX3qGZbmFY2NvcBvLG4taXPVHx/f9KLFEclzPtTdezGPbGxUS3JzztJzs9DVOa8eL5ftbFlVlVPMuAPlb/c64qab7XHEYzb3Wf3iAtb3ODjkD7/ABVSQTNM/wAlwpL4J8q543D/AHqdgFkmljYg3qjqAGmmx8y7v+edUnummVB9rBXKSHbPIOvB6pU3nSFgzTTg4RxuFyDwdtRz3UqQkCeb7jruL3Qxg5B6UwGSXkkYH+lhVAyP9IbPyn/rn6VXlvCzNH9uR1DMgbz2weMj/lnU9xdSMxCXbY3k7nmuR8rLgdRUAvJGYMbo7AiyH9/Pxg7T/DQWNbUAzlvtKbiVcHzxwCNp/gqNrwlSTMp2qx/1yZ+U8fw0rzPtK/a2VlDof9JlHIOR/DVeW8k83zDdIVLg/LOxO1l5ySnrQBMbplkGJ4yWfGfOi2kMueu2oEuicM1xHJwku3zoh04bHy81XW+lWPC3WSqcDzz1Vuv3PSnpcN5vNyuws6D/AEhfunlf4OuagCwzBV8sSKQu+MsZ4M5U5B6VEbkMrMrK5Y7gDLBwrDp09aZ9q2MGaUE5EnzTp64PG2ka527Y/OQth0/10Y5U5X+H8aDUYtwyqQPLLGPnMkIyVOPwxTR5bbtix/fxnfCeCOADUrSszq29Qu4M372Bvlbr1X1qAyFY0C7W+TA+aDllPbj0qQFDbWICZIUN0hPQ47Uv2XLbWt2Iz5Z+SPjI3etNC72VWjVixIBBiOQ44A49aZEn96NC23cSwiJyhxnj2rOQ0M+0S/8APH/yGn+NFWfLg/54L/34T/Gisyj68uYJjLdNsCLicj/RWP3Vnx/yx9GX8qSWICaedUiYxndzbEY2ibP/ACw/2KgM1vJFuAgDSbsfvlH3tg7Af36fcSQyWsnyw5ljlPN0hzkSc8v/ANNP1r0jzB8NvBb3KiQQJh1H+px90g8/uP8ApnRa28EcttEVh+VrfcPLUd4SR/qf9g/lS3TQL55At/vXDcXMeeFuT180Y6r+VSyXSrcTTiVd0bA7/tacbRNx/rv9gU0Ayx+zSCCMiHPlxL1TqzW5P/LP6/lUtvcWs8cbmC3bd1y6And5P+x/tmltpDb3I/fH5GQZ+0/3ef8Anv8A9M/0p1jcFZraMXD5R4Af3/T/AFP/AE3/ANn9K1uO5F59k9qi+TbgujYHmx9yP/i6t3clo/mFUgOTP92dOyyD++P7/wCtMtriaSG2H2i4A2Rg4du72/8A029zT4lmeGD99dYcEkZY53GMf89D/f8A1oENvLiFIbrcsIOJCG+0x9lnzj95/k0s1xEty7Fo/vuVCzx/wiY5/wBd1+Wll+0tZsyvefOkpA2y45zjo3TL0+8jnmWbJuirNOwJikP8M3seMtVAIrpDeKpl2tG8RI+0IOcn/pt/sUsMnlrbr5zRgJECftA/56Rf9N/9k/lTLi3umnuZo0uiqszDzLeTGAJ+PudsCrL2t1FKQVkReRnyH7M5/wCefH3a0jsIjtJpJY7fE0mCyAkTc8+QP+e9MWa4a3VftFwu8N0ZjwRH/wBPH+1U62dxDJbIy/xxcNbuT95P+mJ/u1Bb277LdZFjUhEUFrdhzvg5/wBTVowC4mlc3B+0XRJMufmbj92//Tb/AGqkkW6UyMZb0lSez9hOf+e1VxGHgcs1uTIGP+p5+ZUHTyP9qomWJftLSCEEByWEQGfkf/p3/wBqmBoRrerOAGvl2EAbVm/vt/01/wBmmW8dyRb5e+LN5QxtmPeEZ+97VXuJLZZmP7gMWY5dYxj/AF7d4B3FNhjtYJolIgIVowWYwjoy/wDTL/ZoAWNb026ZN/ynTyZj1VPr/eqW4N5+/dY7rCmU8QzEn5JT/d96pW8dh5UOY7bIjjPMkI53QL/c9DRItkYZGMVpnbJkNNAOsZ/2f9qgC5NBeJeYZZ/9YhBaCfs79/LP92ooY7tliOJMYT70U3XdB/0y6U2SSzad1a3sP9YR/r4M8Gb3psS2ccsIFvZ7RszmeD/npH/01H92gBk3m+W4V25EmM28uMGE8nMB/vVNeeat4oO1njkUf6hxk7psf8u/tUEa2a27N5NiAY2AAniJ5hj/AOmv+1UjSWsjv/x75EvO2SM55uOAfPoAikZ/JRmkjO2MDmFv71sMZNv05qmzx+SzyPCARICPJUkfuZeRm2q8m1UgJYo/yJwQcDfAMcXH+zUSs/k3DBbjOyVhtDnP7h+P+Pj/AGqAGs8IvYh5kKkPGRuSMAjz1/6d/wDZrMW8j/s0gyw/PE5IAhUf6lf+nf8A2q25JbmS+jRvtyt5qrwsh/5bn/p49jWesV79gibfqWDDICoScY/cxdhNUMgdJLarqCkvbtiZerW//Pd+5hH92stZLRdLXMdpJtjcf623GP8AR4R/zz9625F1BLg/vdU4mByouR/y2mPaQ1Va3vzYj59SaRYmJ3rc4IMEPPU81KAZHJYPqWTZ2ZYzrljNagf6+b/ZqiVsZNN4tLNdtq/K3FsR/qYvcVqrBqX2xTI15zcJjct1nPnT/wCyapz/AGtdPZd8g3QSBfMW44/cw+sVSA8rarqSsbWyAaUMHNzbc/6U/wDt1mrb2MmnAm2siyQScedBn/jzT0mFazs32xf3yxjzwQNk24f6VIMHMHrWc07fZz/pMYRrdw3yS8f6IvrbmqAdLao0oVbe2RS6jbvj6/a1/wCngU2OEeRxDHtVEA2qGz/o0/P/AB8VPNOBdZa7tlIl43KCT/piesFRK8LxvvuLfOyIqMRDH+jzetvxVoyIWSWO1fCMSVcgrCf+elt6T1pKtx9vjUNchftKn5IJef3twO1x71kSXCC2ZmMDR7ZTy1twM257witCWa0+3QGRbdmE68eZaYwLiYYOV96xArKs620TYvwDbyknyZ+hsl/6b+oBq7Mt75zYOqMFkzxFcjBF3Ge0nPWsh/sZtdpt7QL9nYY86zHBsM+392rLx2jM7rZ2rPvc7WmtCc+fA2MZ96AL0NnqH22NEbUwPOgBO26+b/j5QDAb1wagZNSNiAJNSXEEnykXY5NrGexpkMNj9sgVLayIFzDkeZbZJ86cdBL05qOG3gbT0Edla82pJKeSetn6Cbn7tAF+YX6ytI73pIL/AHmuv+f2Ju6n1NTK9wLxR50o/fRAhnuOQHnX/nl6Cs+4ji8mYm2jwiykGOEdpYT/AAz+9X4Mrfo627ZEwLCO2fI/0uUHpP6kfnQBQluHaxUfaWXdA3Vpu9oP+mB/u1PJeb1mY3cUn+sA3GQYO+Fupg96kjtrhVVDDenciKFFtMDzbSDtP7U6GO6+yysBqCnExLLDc94YTjAmPpSHzEi3aeeubm3H71cbscYuXHU29MjmjXyEe4hkDCBRxERzFKOP3GR0q232yJmx/aKlTk5juh0uvQN/tUsP2yK5gUyXy4khXpeKRhpV9/Ws7l3MpriFrRpY3iLGKbjzLYcNbxnvFnqP0qS4a3aSQlYGj/eg/vbMnIuI27xjjmp0lupbWMLc3IzEikSNdZ+a2b/ZP92medP5MpF5ICY5nGZbj+7Cw/5ZUFFlWs2u0AhtCFkTP7+0HSeUeg7GoBHbeWiNb2rjZGvyzWuebdhjr7VNcX58yY/bE3ZZhueU9LpMdYPRv1pkV0jSKpu4QQ8YPPX5pEz80PuPzFZtlEN3Z2ckVw4tbVBiY5L2p6wxt2k9qlms7VvNVra3yGkC7ViOcPG/aX3qOC8EgCNcQMskceVEkPVoGH8UP+zTp5oWad/NhYZmOPNtccwxt/zy9RUDQvlR+aka2sShHQ5WFSflmZf+e/vUdrZtD5CraSHc0C8WrdlkTtN7Ul08H78A2+FMg/11qBxIrd05+9UUctqhTdHallYEfvrQfdnI9P8AapFFkQzzRqRa3ClkB+W0mHLREdpv9mi6hugswWO+IJnOVt58Y8tHB/1vTiobVLN2gAhtCc24/wBban/nop6NUa29tdIh+yQ7mVFyvkE5eBh/z16/LUFD7iG/Xzdpv12rL1juFGFlRs8MfWmZvYNvz3yKpJ63Y+5cbexPZzVae1gm81orJZN/nMNsMbAb4lYZxL6rUl5bFftP+hYAE4DLag55jk7Te9QBGj3gZN11dKoEGfnu/wCGR4/7v+1VT7Rct9mH2yRgzQZKzXGMBXT+57VbkjEYkMVjNhBJwtpL/DOj9pe3NQzRT28OUjnBX5eLWdTlbk4OBKcYB/Wo5jWJBJcTMqFrtTv8oHdNN/FAyn/ll6r+lUftiMzl7qNFm6BpJP44uf8Alj7fpV3bdxrgC8LR7Tzb3H8EzJ/f96qyw3awwyNJenyzH2u1Hylo+x/2s0hkNxeLJvxdxlmZl3eYOd8Q6Zh9aqyTRtM2LqM+cz4PnRNkvGD3i9R+lWDNdwCEvd3K4MTYLXfZmjPb1xVZL66h8r/iYSA5iJYy3ID7dyHOU461qURyXUMhOZ4cOWz++tujRjA/1VQ/bYpl+aaCUuc7vPs8jfGOMbPal+3T/uyb37vln/XXA6Er/wA8vaq0epFYwzXiYXy8nz5D0OzvF71QDWlikkGYrctIQ2Glswfmi/3faqrTQtIjPFbFiyMVaaz4ypz0FTG7khWPy7mHau0nM4P3TtPJi9M8VXmvht3NcQNtQgsJ4cZVxz80XpTAjd4tvywWrqApO1rU8D5TzuHrVeYxRqCttF9wn7tueVcD+/6VLJeRq0ii4hUKJAP9JtsEAhv+edQXVxHMznzIHjO9T+/tP4hn+561QEM1rF8yGwhaTDDItoyflOecSVWntLaRnBsFblxxZKRyM/8APUU6ZoJJmcC2YZ/562fRh9KpFo48Ktvbvjbn5rU5x8p/nmgZNJZxPsP2BlBKvxYkfeGDwJfWqjWjRqxFlMFCDH+hOMsregkpPssKqwe3iDhXQfJARlTuzw4oa0jkPFhkEsMfZYyMMuR/y19aB3I2tZNrK0EsYzIgxZSg9MjpLVRkl8wMqzZJU7fJnA2suOz9c1JJYjMbCy2g7GIWx7H5T0kqBrHychbRvkRh/wAeDnO1uP8AlpQMN8gwT5yEKDgx3Kn5Wx71GzMsgUyTZVnT/l4HUbh+tNmt925FtjlpOMWko+V1yOjetReYyFW8mVGPlvxFMvfB4zVWAlluXaVm+3MRujcjzJ+Rja3b1qsbp0Uqt4yPGm3InmHzKfdadIzBXUPIvyvHjFwvTkDg0NcBpi4uGRGYNtWS46MPcetSWV5LxvOLNceYXkxxM/3XXuSPWnQ3i+Wxe6B+XcqeaeqnHXZ6VGLiVplP2plRYiOZpvvKev3fSmNctJu/0r5SSvzTuPlYcDlfWgCVphG20TDIZ4uZweoyP4aQXinDmTd/q5ci4QdeD/D6VGt4eG875tqvgXP8S8HqvpS+e+4oJMLh4z/pCcZ+Zf4fSoAcZm3BRNGNqmMs0sPJHzA5IpWuBLJvJBUMkmC8B+VxhhyPWmLd+ZgmQOG2PgzxH2PUUNJ8uwjnDxEeZB2ORUmoNGI1y6LuVCpGISAyH/ClaOJH3qmUz8uYoipDjoMGmSTKzq5Hy5Eh5g53dai2/Kd0YdVUqPlhJyv09qQE/wDZ0nov/fqP/Gin+ev/ADxb/vyn+NFZAfXtrJM0lvD9qm4aD7rk9TCf+fj1Q/nRatc3NraxC4ud2yNCNzj7xgGMCY/3jTGhlhllbZ/q5ehs36KJeP8AUnulJaQtDN90Bd6qcW7AfLt/6Y/9M/0r0DzyyzXMkYIe6AdZOivzu2j+/wD9NP1pbuO8ktZmH2zEizHmKQ54m+v94fmKr2kI/wBFtZVjw3kD/VHubckf6j2P5Gkh8m8t7dXt4d3kqCBGo4ZoR/zx64c0wLt0t4v2ggSEh5z81vIT8q3H+z7D8xTzHcR3MjnftSVfuwP/AACQ/wDPP/Yqi62jxM4jgBcTHnywef8AgH/TT9adctbLbzssUGGWZv8AWR+k3PT/AGv1qgLVvbzCfa4wgZF+e3bsVP8Azy/6Z/pS2e9RaoYo+DAD+4PdoSf+WH+zUMrW8X2g7IPleVgfPj/hE/8Atf7NTqYIboECEJHKmT9oj427z/z0/wCmdWBHbxrJBbKI4t3lxg5hHGXg/wCmHuad5cGxX2QKXRwf3ajO7Z/0x/6aU+1nRZtiyx8eV/y3T1j9Jh/cP5UtnM5jt0LMHAhXAkyeTb/9N6qIENy1r9lkLLb/ADiT70kQ6iT/AGP9sfmKlkitSZ1aO2B3y/N5sXQLMfapFmlnhtwJpipjzwGI5MP/AE2/2qM3jO7B7x3LS52pIeqHB4k/2h+daxMZbkpFo10vyWzbXAz58PYyf7X+z+lQxtBH5S+XArbI+PtEY/5aJ6Sj+7T5Gu5Bcv8A6ZwzcCKXn5Zj/eP96pZ1uo3RSLkbX25aKYnCmQ+n+zVklWCWL7NbrG0YJWMErcIQMmAf896aLjzopNsm4SI33JV7hRn/AI+P9r9aspHdCS2RpJsKYTtMMw43J1/dnj5arRxyPHCODuiUZMLkctB3aE0APuZJV88CaQff+bzG4+WY9p/9qppnvfOOJrlhvH3fMPQyn/nv/siqLMpEpkMIVlfP7oY+5/17/wC1T5JovtErsbcqrSMDsTt556m3qbsC0kd7uiaN791xHkAT4+/EMcSY/hquEvWhQKL5iQ284uMcxxjsT/epu22laNCkLcp1aIHh/eIf3aZHBaqsW1LckhAWaSAdfIGMbKoCSaG/Zp3/ANMBEjkZS4/uzt/WpjHdyXQ+eZArqPmjuOT5h9UP92s+T7KkN0TbWYDBjuFxbnP7ts9x/eqyq2n2oZhsx8//AD2t+zSH++OeKaAZEt2Y0bcyb4x/BKCMpCP+eRx1qN2MqTK8qvyxJkR+MJOeCYOvNORIVjiVVhU7Y1G2SMnJNt/03FRqo+zTMpf7rnC4x/qpfS4/2qQDy/8ApEO6SGTY6YaWMAAecnrbfWqEb272ZJNsCyyMUVY8H9wvOTb/AO1W20bfbk5uAVkX7gbHE59J/aqKx3P2HYragEMbk4W4B/1MXYTGgBnnWzXzcWwDTxlgptwf9dKeP3I44qg0dm1kBstjugYcvbDH7qD/AGK1/Lu/tm6N9SCtOvOy5A+/PgcNVWZL7yQqy3m3yedyXI6pbj0NZAVmh0+O6Je3sW/e8Az2oyfMn9hUAtdPFrtW2scLESf3ttnPlQf7Q4rT23kNwxZ5iTL/AMtPtHGTcHuhqqzSqhJl+byjgFZcH5bb/pgaCCKOG1nvoyIbJ3M6ncTCcDzbg44mHpVeaOJLNAIYQPs8mVjRD/yxg/6birHC3iAzRKDOn3kJ533PHNvVSaZFtFJubfBtpF6oo/1MA7wUAaf37yMpE4/0hfuxHvdSntPWYvntbSDF8uLZzhIJcf8AHmnpcVaWaB9S3H7O5W5XC7rfk/aJvWKs+NrVrb95Da7jbP1mtP8AnyHrGDQZGosV4ZDltSC+YPux3AH/AB+Jx/rjTEt78qF3agGKwADFyCP3E3UBqg+z2LSN5tvasC3Tz7U4P2uP3FMW1sWm2rbWj8wnO+3wB5U/pIK1ASSHUPsDs0l/gpNywu8dLf3NW2jvxqUG+6uQi3GW3NdDI+2S9yprOW1tVsTshtV2Ry42qjf8s7fniUVoxQx/b8LbxjE+4hYN2f8ATX5/11YoSMsSzLbhpJ1XbbDPM5JzZMOSYvrUi3btbzF7qNmzNgt5nOGtz1aGrItn+zovkXGdkany7WQZzaSDtN9aQw3CWsuI74jE+ALe4H8MB7SmpGSLcot9Apu4VCzJ8uQR/wAfco/itx2PaoYGQ20SmeDPkRKCHhHW1kHeHPar8lveteM2dSKiVdgZbnHF446Bj61FHDfoyRNJekbbZTzdrwYJxjge1A47FNLyL7POjyQthJy22S2HAWBj1iHpViaa1kvWDfZSN5JLTWZ5+3Ed196jkluE02Y/aJR+6mYZkuehgiPXyz6U+8upS87/AGhGKvJy0k56Xsbd4f8AaoELHBZxzQ/urQDdCNvn2f8AdnXOePSoUt7JoCfs1oQ0LkjzLY/8ugPaQd1FTyXWy6DyXUeFkhwAT0Esy5+aD3qC3kQ2oWSSAgqoA8yLJzasM5MPqM/hWcgiWpLW2aGeVbS2BHmkgCE9Hjf/AJ7D1q0LOFLj93aRhjKp/wBSMcXLDtP71mvcRSW80hmifcs53F7fp5ULY5iHp1q9JJA0zn/R8b26y2g6XKn+570omqJIbR1miVLN41Z7dB5ds4H3Jl7T+1EcdytupSK6jRom6WsuObZcDiY/3aSFbUXkalbNVWaMMfOtOglmX0HrUdvb2n2eGJYYGBWEY3WxHMEg7SD+7QVYnaO8YTMFvcqZukNwMgNE/Z/am3D30d2TnUIlRiV2rdjpdex9GX8qqtZW0kLuLO1OYpGBEcR6wIw6S+oqQW0RhkaO2DHEh+S3H/PSN/4Zves2Ml8y7823Lz3e0NED892CMGRfQ+tRR3NwI1D3MpZl2nfJcnh4GAPzJ/s0kdq0LD/RpvlLHItGJ/4+cf8APX/apyWcrCMiC9IzCBi0mAODIvaT3rMsgu7yRZZyb1Srea+15JehgjPOYj3FMmutruWu4RtaThZiOjRv3h96sRrdKqK6XyhgB8sd0v3oD6N/s1Hcfav3xMl4uRKRue7HWBGx1/2f0oAj+0LDIAb2NijIMM8Xylbgg8mL0NNt7yP/AEciWB8PCf8AWW3YsnUx+9Pvp7pXuG+0XC4MzfNJddQyvj7p9arT372+F+2nKg8GacdLgesR7GpYISGeGSOBZHhwTAMCa04BjZe6e1QtLDdwhTHbusi5B82z/jt/YD+7SjURD5W+7iJTy8bpH4Kzsg5MP+1SWt8v+jq12gKm3Vh5qjGPNQ/ehrKRZDcR20yTy/Z7ZZJGm+69rj5oUYAEN13KfzqO+tYC06raW7BhcYUJCeoSQYxJx3qeGR5PsoN1C+fIyPPgPWNkPWPrkVTmukvI4/NMIMpRP9faZ+eEg9Uz/DWZqQ3NjGv2nbYRk/vhhYFYcMsnaUetQzWUa+btsmAVZRxZntIrgcTY6dqdNNbzTMwS0kdzlds1keHgAHUeq1Xn+xXHmsLeECUsfvWpHzw8dGHcUwFuoJF80LayYUPhVs5c/LKG7S+9VJLa4t4nKR3ShfMUBbe4X7s4YHh/T+dEtvbSSEpaQt5jSD/U25+9ECBw/qKgmsoXZsWagfOfltUIO9AR0lHcVpEXMPnhnXem+8RArgMUugQwl3g9emOPxqncyTqsim5uEdRIm3dddA4bPSkmtzLMxWyk2uzDC2THG6MH/nt6imCC4aYFbaYBjjIs5h95Ae0nsfyrQsbPeTtIYvtkm3EmGMt1wcgj+H3NVpb9/wB4n29sFmI/fXAHzISBzF7VYV3EqApdJ88ecW9yPvKc8hsdaqLJLCUdpbhOUYb3ulx/Cen1qgK76gW+b7ZgsQCTOxBDIM/ej6VVS88uEH7Yu/MZP75McDB6x+uKnN5OkagXsir8p+ea6BO047r0qrNdOY2T+0gGAYKTczjv0P7ugBjXi7AGu4chd3/H1bj7rYxzHnpVaaaGVWy8TN+8GDcWp7ZHVKWS+DSSZuwwZjj/AElujLnHzR+tNbUC/wAzXMbcI21rmPPPB5MdAEEk0e9f3cLBnXdiW0ONy8/w1WljjkjRxbKzbUfpbHodp6fWp/twYLumifaoGftFtwyN6lPSq0kkcivGGSRS7xgs9ox5G7+760ANNpGsXlrZh22sobyYmxg5HRhRJbK7ECxIJfPFkpOHXp/rPWoNyXADNCCNySFQsDZDDGOCO9Q+WuDi1TcI8hVtozyrezVXKMRbVvL837G/yxqxBtG6KcdnpklmYQy/Z2BQtGf9HkBHGRwG9alNogkcLYqQXZRizyNpGR/HVS4hkBGLVgCFkP8AobLnjac4f1qR3HMQrB8SKQyPgxTLnIwehqvKzCPa7bGCFAwE45Q5BpZIQo2mIru3IB5Eo6cjo1Rbh5g2nYCVbbiYEAjnofXigZI1w3mHEzjEgKkyTAEOP8aT7SyrkXXz7A2PtMnVWxjpUYkYLhrhuEwN0k3VW685qTzvmLi7+TfkAXLjIZenI9aAD7T85/0kklmX5rg459yKSO73KHaY7sCTHno2SG245X0pJLjycAzknHB+0Z5U8/w+lN+0EMyibJJKHdMgxuGe6+tJjQ5mC/KZEf70f+uiJ55H8NPWVcCXeCuRL8rQnjoe1Q/ajtUq64Kq5/eRcbeval4YmNjlULKNphOVYfL096kok8puIyrnBaM/LD6ZFNWJZGLGFmzhseVGec4I4PpSKpZgTD823efkjYsQcHgH0pzQsihPsZ2BsFhbqRyOD96oNSX7DN/z5Tf9+F/+Koqv5c3/AD6/+SS//F0VkB9dTfZWtZGEdvmRZGP72PPIk9h/z0/UVPdTWqrM3lQqY2m/1dzEBws+CfmHoPzpLZpZILdRLeO2yNSys5AJaDrib0apGe4aMEG93So+cLKwYuAB/Gf+en616B54LPBDeGRBGAkibcXMZxsDntIP+edLa3Qt7gIWB2tEufPXjBjP/Pb/AKZ/pS3zXQimz9qOVlbiKQ9pvr/eH5ipLuG4jlm2xzFUklJbyJP4BOR/yzP9wUwG20jyxwRmWTDNCp2ux5YwHjM2COO1SeY81rb4lny8R6bsfMYh/wA9v+mlNjWSC8RsfKrQk7oHzwTnkwn/AJ5/pTLdAJoI2RcKIVw0RH8dvnjyf9k/katAW7r7UyylJLvMiy7QqOf4ZP8App/t/rUl1Hdsl4+bpjumOTFKRwLj6+o/OqNusUkNszrBlin8AGN3kDH+p/2zT2ktxbr8kLebGzH548fMAOcxj/np+tUZczLckdxG05LTfK7g7oZMYUTH/nmf7tLBDLDfAHqrxHmB+xHHMJ/551UvZbNmmylrlxOwxNFz8s30/vD86kmaBbiaYQ2+EYtuE8fG0T/9NB/dqkHMyS0XJiVhEAqwptaBgTk24/54/wCzTLdoG8uR47dd23lkX+IQDvCP71OhuoI7kcwjDKOJ0P3ST2m/6Z1La3DItrsmKtiD51PPLQjGPNz/AA1ZBVkmtvKkAFqd4c5zEP4Mf3P9qprtrQtcssNtJtaYjMkIGds//wBarETXMywbZrmRGVclfM6Hygf+W3+1UTNdt9owbz5hKV3JOf4T/tn+9WoCZtvtiq0NnhWQD9/AOAznP3x/dpbdoF+zsBaq6rGAqzxkY8yIdpR/dqVo7kb2/wBLUq7n5o58jCz44weM05mn85W81wFdT80Uw4DtxzGf7v6UAVEuQ8B2Yyy8FJAeogHa496kkmnmt7grLMTiQ4Qs38En/Tb/AGqkCsiQbsH7n3oj/eg9YfrVN5I2tZdxhBKHH3c8qvrB/tUAaLfaVuMK94xDkYUS9nmPaU/3ahjhvEZCWvtuY1PyTnGXiH94+lV7lrQ+YxW3c7pc5MXICTnqYh61Ii2f2qMLBbgBossZLcf8tBxjA/u0AQ7bv7KpDXWGic/NFcd0T2/2qluHufOZTK24SO2Ck3bzj3jNU1jtxbqq21qp8okMJYOhWH0cVNJ5MiyPshC5kyVaM9EmPaYdqAJ3Z/MRGuVUkxjBib+/CP8AngfSqLSR/YZD5kILRSfwqAP3XvB71pR26rcxhRMpLx7RGpP/AC1HpP8A7NU7dbprFcC83mFmxslHJij9JvegkJfsr3Lhmtz++XmRoRyZZT3iHGVFUgto1vHuhsyfJznzLb/nnB6qK1JFvFuWIN/kSnblJz0knJ/jNQf6dHCiCW6VCgH7xbkH/l3Geh4oKKaR2ZnkK2tmI/OyMT23PNx0wRUcYtbiBRFaw+UYOC3kow+a2XG0ygjv161bV7pWLSSN8xBVnSbj5Lhj96L3pskhTaDPGrKoO0h+he39YDnNAEckUSyErFGf3mflCdhc/wB2ai4TMS+VHJjZgmOEtjP2buJ6hNyvP7yCUksflZMcx3BwcwcdvzqW6lhdW3eQ5EY4WS22gE23cxCsiBIYbhpgcX2PtAPywy9mufSU1DcRXn2NMDUFZYJOFS4Ax5cHYPSQLbzSM6w25TzVA/0i1H/Pz7CoLq3tfs5BtrUHyW+9Lbn/AJZwekgoAvzNfx343G7AE6DlrteftM3bJrHjmu109maVh/ozja/2jP8Ax5L6oa1Vht/tg/cQZa4H3QhH/HxN6TVUhh/4l+ViZcwMcRwEnizH92agXKSTSP5zu91sHnZADSD/AJe4/WGomuI/OjVrqNvmhAxz0inGMmGrL28is6rHeofMOVWKbg/a4+TtlP5U5Yr1bgKH1AfNDgeXdDOUuPRjQZmNNcw/YyWeI/upz9+HPEUHrCKvTXkX2ohxA2JMFWkteP8ATm65T3H51FN9ujsXZXuyot7g9brH+ogPpVmSSf8AtBibiXCux+droZ/00dcx0AVf9DPlq0FrtPlrnzrQDm3n9hUMMVgIZFEFnkpORiW16/Z4D2YdxV/7QfPjD3qbd8C4y5xmC4HeGqs0oS1Y/aoCBFP/AMtEHP2SEkHMWagCxJa2q33Npbcy/LxCel9jtKOxqW3s0+1QkWSjdJaj5YFP8NwP+e3sKjuLiNZ3dpY1KsxG17YZH2xDnJiyeCPzp4lglu4RJFb58+D5WltDkCScZztHrQA1Y2fTyPs9zzAxG22kHBs0+XAn9RUs0crRzfub0fNO2Ps9wBkSRN1Ep9KpW62s1tEHhty5tVARprVl5tD2BHPyilmgt1t5cW0P3Z2wscB/hhbtL707AajQXCXqBPtyqr4U7LoDi7cc4Y+o/Oo0a7RYC8lygLwqTuuv+eUi+n1/Kq8kax3BP2BCokb/AJYBv+X4Z6TVLHbyNdRH7NMFV4fmS0cYxLMuPll96nqV0IhNItmP9LlGYWI3TXI62gP9z/Zpbi8ZvOMl5ub96wJkmJ4MT/xRe9R2tteyRwwr9r2tGq/8e0+QDasP+evtUpt7q3V2R74N5c7bXW6X/l3ibpu9RS6GqHpeRrcSObmNgXB3M4zxdEHrD/tU+C5jaaJXuIwVkt9p8yH1lXvH70y4a5jWRvOulJ8xjvkul24mic8YPrUv2yZLgq164G9Mb5bjBxcOvdD61jcZXguI3gihZ4CXSJM+daKfmt29Ez/D3pH+z+TNthtnUpJ8zzWh48mNu4HpTvtXl3Vuhu0Tm3GfNkA6SJ3i96bHfb7cKLmNiyJ0mX+K3YH70P8As1mAl0toFm229qdomHyvanpMj9mHrTI4Yo0Q/Y4XRNp4iibpckdpR2NR3cyyec5aN+Z2yZ4O8aP3j+tTXdxFtnCi3KL5yn9/adpkbps/2qmWhYttaR5giFqAd0I4th28yM9JvcVGlq7xw/6I53GMnbZv/HAR0EvsfypqtbLMp227ABicSWZAxckDPHoajihtVEISCFjug+4bY8BnXsw9ai4rk0lvLJ5hEVwN3mcfZZh1twc4EncjP4VHeRziOdWN4vE38Fwo+7G/QN71Hb2kUiwbbSNg4hX/AFUbdYXXtJ7VFHbLNuAsh8wxlbPPL24GMibr8tMZJM1xC1wRcXS4Ei7d90FwJUk7DsDUEk9xEi7r+YNHGTmSe6xlbnqPl9Gpbi1bdJttZgHMo+WylP3oFYf8tfanXNtKr3GIbrpPhfsk68bI5B0k9cn8K5yyFdSlhZPMvWyjITulnJwsrL3iPrVSe/EItSLuMyr5IOJ2IO2V0PWH0NWryG6aS5VXu0dRN91boYCssnYn1FUL6SaOSVRezR7fNxvku8cTCQfw+hoK5jPXUWV7cfa4m2m3J/fxj7u9Dy0VRW90kDW+6WEhfs+f9Ktm3YDoesf0qee6kjjl/wBLAKh8fvrgdJw3eI9Fb9aoX9068m63Iu4H/SG6LNkH5o/Tj8a1iWNWaHdbPJ5Mn+o3Az2bcgFG7D1qBfs6+UrQQnAgYqHs+VClD39TQbry8AXKeYq4U/aYiMrLn+KLrg1VNyPmV5LZiAw5ubRuFkyDynoc1YCRpAFjIsonYCEnCQMSRlCeHH+RUa20USKfsCsF8vBFircqWGciT0NLNcQRhzFNbuyCRRmeyI+V88DH+1VeWNI1dDbwM+HB/d2zHj5uxq1EQ82YXpYsPpZyD7rj0l96qTW8ixyx/ZZ0dd+0fZJhyGBxxJUk0KSM4SyUq+/j7JG3BUEDiQdxVaSzDTFVsWBZyflsW53L7S07DuJN9oVzGvnJw68x3I6jd2b1JqBrqWPJ+0yICRkGS7X7wz2BprW/ktv+zSKMqTizlHseklRHfDGMebCyrzuS6XlW56Me1UBBNdNtDC/YDCtzc3GOOP4kqs2pbR816C2GA/0pjyDn+KOpZp2jZ1F6wPzKN0l0MY5Haq9xdOy71vsv5gOTcTD7w6/MtOwrjGvpJGO65UlmYDF3Dj5lz/EtQ/ad2CsinJSQf6Tan2PVac19JlC14rYCHd9rGPlOCfmj9KhkuMK4E+W2vHk3dvgYOR1QUyyKbEm4bFLBGUEtat91sj0pJYUkkJNqpO/AxDC3DLkdG9abNcCeRSUVgzq3ytbNgMvTp61F99DmAMojBysURJKtg9GHagBq24VA5swQu08WS/w8f36jktlt2C/ZWB+dDutGXPcYw9StbhnJNkCCzIM2ykYPI6P6VU+zhtrfZTuwJM/ZXHUYPRqAHG3jXy3MTDaVb/Uyjtz0ahmEUZjR9r4aM8TjOBkDiovL2xqpQD7wBMUqds9jSqx3blkwCQ5+ab+I7aljEW4ZZM+aoUsG4aUcN17djTlvpIbc7Ztw2n/ls38J4+8Ki84rwJ8NgqPnlAyOe9SLcHlhMGXzATtuWA2svuPWoHcct48jsTOdolA+ecYIYZP8NPFxIYRmQncpOTPFvypz6dKred5kZHnL0xk3KHlTweR3FTBhcSMyPkb92DPDwrLyORTLuBkVs8bsvjaXiJwwzjp60cyRmQxg/LnBWM42nA7VGis0ZyHB24wPKO4qcenpUjJ+8YCLKbgdrRKcBh9fWsxgsO+MBYNwZ85NspIDDOOD6037N5kJb7GMBA3/AB64zt49aaYWaLJt/mA2DNrk5U9eG9KRrYK+Fj2qzbx/o8i4BHI4b1rIB+yP/ngP/Af/AOyop32Ff7v/AJAf/GipA+3IdNs/Nx9lg/5Y/wDLMesPtUUOn2otbUfZocbYR/qx623tRRXecgl1p9r5cX+jQ82kmf3Y9V9qparawKbsCGMcz9FH9yaiimBHcwxrLLtRR856AelxSMxW8G0kfMnT60UVQFSO8uIkt9k8ifPb/dcj+K3qva6pe/Zbf/S5/wDVx/8ALRv79t70UU0c5NHql6bds3lwf3cv/LVv7v1q2t9cyW9zuuJW4l+85P8Az8UUVpEaNRHaSWXcxb5pPvHPaet+1s7dtStg0EZHlw8FB/eWiimUWrfR7BrWAmxtiRGvPkr/AHofaspNNtPLI+yw4w3/ACzHontRRWqIK91ptov2rFrCOX6Rj+7L7VQ1K3ijkGyJF/efwqB/FNRRVAVppXjmtdrsvzR/dOP446zZdUvY/LC3c6jyh0lYdofeiigCC61a+/f/AOmXHSb/AJat/cm960LbU7x7wBrudh50fWRj/wAtG96KKANa3kZobYliT5adT/1wrQsLeKVn3xI/+t+8oP8AywloooEaK6ZZyakd1pA375Osan/lq3tWZcaTYrtAsrcDyOnlL/ci9qKKBiTaTZLPcYs7cYeTpEvrce1ZclrDGYdkMa8L91QP4reiigCr/qIWaP8Adtk8rwf9VPWC+qXsc3y3c68oPllYf8toPeiiggrya3qMcY2390vJ6TMP+WUvvVhdZ1B0+a+uW4TrM39+296KKyA1dGuJZ9hkkaQ+an3mJ/5+a1UhjkjO5Fb9y/UA/wAFvRRQBurpto94S1rCx81esY/5+ZvasddJsW00FrO3Y/ZZOTEv/PkPaiigI7EN9pVlskP2O3yeT+6X/n6i9qyorG2jvodtvEv7y36IB/yzuKKKfUyM9IYxp5xGv+pm/hH/AD7w1UuppEvmCuyj7QRwT/z/AC0UUgKzatfJJCy3lwrfaIVyJWBx5dzx1qnb65qTQEHULogpNkec3/PpF70UVAG7a6leNZXhN1OTvf8A5aH/AJ+Ifetewmkn1KMyu0h8yH7xJ/5by0UUAaOl28TWUZaNCfIh6qP+fV6mWyt5LSTdBE3yXHVAf+WEVFFDAvXelWTG5zZ255l6xL/z+p7Vm3Gl2YviBaQAebH/AMsl/wCfiX2ooqDUyF0yzX7Hi0gHzwj/AFa/8+7+1Z+qW8UPEcaIPJl+6oH/AC6pRRWRJFLNJHHJsdk+WX7px2hqG81K8SfC3U6/Oekh/wCfse9FFBqQ3OtaglxFtv7lfnh6TN/z0f3qDTdc1J7i0VtQumUm3BBmYg/JJ70UVIGq2oXW1h9pmwUbI8w/8+4rVV2ka6LsXP8ApH3jntDRRUFlz7NC0jkxITsfkqP+fgVLDY20k3z28TfKPvID/wAtzRRUAVm02zW808C0gAzb8CNf70ntVO80uyjFvts4F/ewdIlH/LJvaiikyDNjsbZmRTbxFSUyNgx/x7mqmo2VvFdSbIIk+V/uoB/y7CiisDUz9UjRdPuZAihw05DAc/6iM9a5nWtQuori4CXMyDzLkfLIR/yzSiigZk6jrWoRyNsv7pfmuPuzMP4Y/emya1qLm43X903Fx1mY+nvRRWsTUuT6neNeAG7nIzMOZG/ur71rKxZrgk5OJ/5LRRW0SepYit4pppBJEjgtJ95Qf4Vpkul2bcm0gJLtnMa/3D7UUU0CKUml2QuIwLSADKf8sl/uH2rHutNs1gJFrAD+758seh9qKKoo5q5t4o1ISJEG0/dUD+KqclxLHLKEkdRul4ViO4ooqiDJ1DVLyG6/d3c6fMPuyMP4frUEerXzQqTeXBO1Osrf40UVJZqWF9cyWp3XErfu3+85PetGMmVgXO8+a33uf4aKKAESzgmhJeCNz5UZ+ZAe9Pu9Ns1tRi1gGBL/AMsx6/SiigDDms7cxx5gj6xH7g9KxbiNI4UCIqjbj5RjvRRVGpWkmeKYbHZP3g+6cfw1Ta+ufIX/AEiX/V/3z/foooILS3lwtwMTyD97/fPpV/T5HkhBdmc7M/Mc96KKyGXLb5riEHkedjH/AAGrv2aI26ExITsX+Ee9FFBQs1nb7GPkR53SfwD0rOubeJbQsIkB29QoooqAKcyKVBKgnee3tVWeaSNo1V2VSCCASB94UUVLLKPnSf32/M0UUVQH/9k=)\n",
    "\n",
    "2. Choose + text for text and + code for code."
   ]
  },
  {
   "cell_type": "markdown",
   "metadata": {
    "id": "eIiqxSStkF3Z"
   },
   "source": [
    "3. For markdown you choose + text\n",
    "4. \"# Title\" is for title line. It will be the Large sized text.\n",
    "5. \"## Subtitle\" for subtitle or sub heading,\n",
    "6. \"### subsubtitle\" for subsub title and so on\n",
    "7. \"** text **\" for bold text\n",
    "8. \"* text *\" for itallics\n",
    "9. If you type a link followed by https://, it will bring you to the corresponding wabpage. Such as  https://www.google.com"
   ]
  },
  {
   "cell_type": "markdown",
   "metadata": {
    "id": "wuDHb2MYm1H3"
   },
   "source": [
    "### Comments\n",
    "Comments starts with a # in the code lines, and Python will ignore them. You can write your note for future reference."
   ]
  },
  {
   "cell_type": "code",
   "execution_count": null,
   "metadata": {
    "id": "uqMmvfnOm_3n"
   },
   "outputs": [],
   "source": [
    "# This is about print Function\n",
    "print(\"My name is Falano. \\nI am learning coding with Python in ANPA Summer School: Python for Kids.\")"
   ]
  },
  {
   "cell_type": "markdown",
   "metadata": {
    "id": "EZKfZY-Tp0p5"
   },
   "source": [
    "What did \"\\n\" do?"
   ]
  },
  {
   "cell_type": "markdown",
   "metadata": {
    "id": "a57Gtc2zKdm6"
   },
   "source": [
    "### Escape Character"
   ]
  },
  {
   "cell_type": "markdown",
   "metadata": {
    "id": "KK8NTdxhI1Cu"
   },
   "source": [
    "Classwork: Print the following sentences\n",
    "1. Kalu said, \"I'm planning to go to Nepal next year.\"\n"
   ]
  },
  {
   "cell_type": "code",
   "execution_count": null,
   "metadata": {
    "id": "1T_SuDcPIOqs"
   },
   "outputs": [],
   "source": [
    "print (\"Kalu said,\\\"I'm planning to go to Nepal next year.\\\"\" )"
   ]
  },
  {
   "cell_type": "markdown",
   "metadata": {
    "id": "PdcrbYzQKEnl"
   },
   "source": [
    "Here \\ is called a escape character. If we want to print a string next to it we use the escape character (\\)."
   ]
  },
  {
   "cell_type": "markdown",
   "metadata": {
    "id": "bLASnciohxxg"
   },
   "source": [
    "**Multi-line text**"
   ]
  },
  {
   "cell_type": "code",
   "execution_count": null,
   "metadata": {
    "id": "1tnVZOgNi_CN"
   },
   "outputs": [],
   "source": [
    "black_sheep_song = (\"Baa, baa, black sheep, have you any wool?\\n\"\n",
    "\"Yes sir, yes sir, three bags full!\\n\"\n",
    "\"One for the master,\\n\"\n",
    "\"One for the dame,\\n\"\n",
    "\"And one for the little boy\\n\"\n",
    "\"Who lives down the lane\")\n",
    "print(black_sheep_song)"
   ]
  },
  {
   "cell_type": "markdown",
   "metadata": {
    "id": "QXT-eCq-WuOP"
   },
   "source": [
    "# Variables"
   ]
  },
  {
   "cell_type": "markdown",
   "metadata": {
    "id": "UV7J_uZKMIQB"
   },
   "source": [
    "**Look at the following example:**"
   ]
  },
  {
   "cell_type": "code",
   "execution_count": null,
   "metadata": {
    "id": "OXcFxdJ5LuQw"
   },
   "outputs": [],
   "source": [
    "x=\"Nepal\"\n",
    "y=\"Gautam Buddha\"\n",
    "z=\"Mt. Everest\"\n",
    "print(x +\" \" +\"is a beautiful country.\"+ \" \" + y+ \" \" + \"and\"+ \" \"+ z+\" \" + \"are prides of\"+ \" \" +x+\".\" )"
   ]
  },
  {
   "cell_type": "code",
   "execution_count": null,
   "metadata": {
    "id": "nujhjkDOU4-o"
   },
   "outputs": [],
   "source": [
    "print(\"I love\" + \" \" + x + \".\")"
   ]
  },
  {
   "cell_type": "code",
   "execution_count": null,
   "metadata": {
    "id": "-bww9X0rVI3N"
   },
   "outputs": [],
   "source": [
    "print('My father and mother born in' + ' '+ x  + '.' )"
   ]
  },
  {
   "cell_type": "code",
   "execution_count": null,
   "metadata": {
    "id": "DZOnTbyRWEmZ"
   },
   "outputs": [],
   "source": [
    "print ('I\\'m planning to go to ' + x + ' next year.')"
   ]
  },
  {
   "cell_type": "markdown",
   "metadata": {
    "id": "9-R5W_59W1Oh"
   },
   "source": [
    "**What are x, y, and z doing here? What does the computer do with them?**\n",
    "\n",
    "The computer memorizes them and reuse it whenever we call them. They are called variables. \n",
    "\n",
    "**Defination: Variables are containers for storing data values.**"
   ]
  },
  {
   "cell_type": "markdown",
   "metadata": {
    "id": "Sjn4svh5YZxs"
   },
   "source": [
    "###Types of variables:\n",
    "\n",
    "integer (int): 1,2 3,4, -1, -3\n",
    "\n",
    "float (float): 0.1, 2.0, 3.3  [look into the decimal point]\n",
    "\n",
    "string(str): '3', 'Krishna', \"Kalu\""
   ]
  },
  {
   "cell_type": "markdown",
   "metadata": {
    "id": "Y5U7VdWYl5BR"
   },
   "source": []
  },
  {
   "cell_type": "code",
   "execution_count": null,
   "metadata": {
    "id": "o9Z8flCRffx_"
   },
   "outputs": [],
   "source": [
    "x = 3\n",
    "y = 4\n",
    "print(x+y)"
   ]
  },
  {
   "cell_type": "code",
   "execution_count": null,
   "metadata": {
    "id": "jShY1SX1YW2B"
   },
   "outputs": [],
   "source": [
    "z = 5.4"
   ]
  },
  {
   "cell_type": "code",
   "execution_count": null,
   "metadata": {
    "id": "NzsaXcSkgbSD"
   },
   "outputs": [],
   "source": [
    "z_1=-1"
   ]
  },
  {
   "cell_type": "code",
   "execution_count": null,
   "metadata": {
    "id": "17klxj3MgfXn"
   },
   "outputs": [],
   "source": [
    "type(z_1)"
   ]
  },
  {
   "cell_type": "code",
   "execution_count": null,
   "metadata": {
    "id": "85-Kagt3aRl6"
   },
   "outputs": [],
   "source": [
    "My_Name = 'Chandra' \n",
    "print(My_Name)"
   ]
  },
  {
   "cell_type": "markdown",
   "metadata": {
    "id": "huBX0LJxhb5m"
   },
   "source": [
    "Look at the quote. String variables can be declared either by using single or double quotes"
   ]
  },
  {
   "cell_type": "code",
   "execution_count": null,
   "metadata": {
    "id": "4J0fA9nDZgPf"
   },
   "outputs": [],
   "source": [
    "x+z"
   ]
  },
  {
   "cell_type": "markdown",
   "metadata": {
    "id": "bhgBS0FFbqXO"
   },
   "source": [
    "**We can find out the type of variable from an already defined variables?**"
   ]
  },
  {
   "cell_type": "code",
   "execution_count": null,
   "metadata": {
    "id": "MpB5huJiaKyY"
   },
   "outputs": [],
   "source": [
    "type(x+z)"
   ]
  },
  {
   "cell_type": "code",
   "execution_count": null,
   "metadata": {
    "id": "jVQvG6nUazRP"
   },
   "outputs": [],
   "source": [
    "type(a)"
   ]
  },
  {
   "cell_type": "code",
   "execution_count": null,
   "metadata": {
    "id": "z9KyZBS1bcoh"
   },
   "outputs": [],
   "source": [
    "type(x)"
   ]
  },
  {
   "cell_type": "code",
   "execution_count": null,
   "metadata": {
    "id": "c-2rZmHoZk4o"
   },
   "outputs": [],
   "source": [
    "3+'3' # Why it does not work? "
   ]
  },
  {
   "cell_type": "code",
   "execution_count": null,
   "metadata": {
    "id": "mlpadzqbZsg8"
   },
   "outputs": [],
   "source": [
    "'3'+'3'"
   ]
  },
  {
   "cell_type": "code",
   "execution_count": null,
   "metadata": {
    "id": "x4xaYaJDZ_YX"
   },
   "outputs": [],
   "source": [
    "x*3"
   ]
  },
  {
   "cell_type": "code",
   "execution_count": null,
   "metadata": {
    "id": "J7TmeeGJdBmS"
   },
   "outputs": [],
   "source": [
    "a*3"
   ]
  },
  {
   "cell_type": "code",
   "execution_count": null,
   "metadata": {
    "id": "L8hJD5m2dnj1"
   },
   "outputs": [],
   "source": [
    "A = 4\n",
    "print(type(a))\n",
    "print(type(A))"
   ]
  },
  {
   "cell_type": "markdown",
   "metadata": {
    "id": "xHwXYzsweF8C"
   },
   "source": [
    "Note: variable is case-sensitive."
   ]
  },
  {
   "cell_type": "code",
   "execution_count": null,
   "metadata": {
    "id": "40gCy5rBdMTm"
   },
   "outputs": [],
   "source": [
    "my_favorite_fruit='apple'\n",
    "type(my_favorite_fruit)"
   ]
  },
  {
   "cell_type": "markdown",
   "metadata": {
    "id": "U0qU1-vYcPK0"
   },
   "source": [
    "**Rules in naming the variables:**\n",
    "\n",
    "1. A variable name must start with a letter or the underscore character\n",
    "2. A variable name cannot start with a number\n",
    "3. A variable name can only contain alpha-numeric characters and underscores (A-z, 0-9, and _ )\n",
    "4. Variable names are case-sensitive (age, Age and AGE are three different variables)"
   ]
  },
  {
   "cell_type": "code",
   "execution_count": null,
   "metadata": {
    "id": "gsXlTHCEdAG8"
   },
   "outputs": [],
   "source": [
    "#Legal variable names:\n",
    "myvar = \"anpa\"\n",
    "my_var = \"anpa\"\n",
    "_my_var = \"anpa\"\n",
    "myVar = \"anpa\"\n",
    "MYVAR = \"anpa\"\n",
    "myvar2 = \"anpa\""
   ]
  },
  {
   "cell_type": "markdown",
   "metadata": {
    "id": "Uf8phRTidVfS"
   },
   "source": [
    "**Illegal variable names:**\n",
    "\n",
    "2myvar = \"anpa\"\n",
    "\n",
    "my-var = \"anpa\"\n",
    "\n",
    "my var = \"anpa\""
   ]
  },
  {
   "cell_type": "markdown",
   "metadata": {
    "id": "CZ9QLiz4eD6f"
   },
   "source": [
    "**Variable Naming Styles:**\n",
    "\n",
    "***Camel Case:*** Each word, except the first, starts with a capital letter:\n",
    "\n",
    "myVariableName = \"anpa\"\n",
    "\n",
    "***Pascal Case:*** Each word starts with a capital letter:\n",
    "\n",
    "MyVariableName = \"anpa\"\n",
    "\n",
    "***Snake Case:*** Each word is separated by an underscore character:\n",
    "\n",
    "my_variable_name = \"anpa\"\n"
   ]
  },
  {
   "cell_type": "markdown",
   "metadata": {
    "id": "RTmtXq0hlP7X"
   },
   "source": [
    "**Advantage formatted string (F-string) in multiline text**"
   ]
  },
  {
   "cell_type": "code",
   "execution_count": null,
   "metadata": {
    "id": "Ul3j66vMecnS"
   },
   "outputs": [],
   "source": [
    "black_sheep_song = \"\"\"\n",
    "Baa, baa, black sheep, have you any wool?\n",
    "\"Yes sir, yes sir, three bags full!\n",
    "\"One for the master,\n",
    "\"One for the dame,\n",
    "And one for the little boy\n",
    "Who lives down the lane\n",
    "\"\"\"\n",
    "print(f\"{black_sheep_song}\") # note the curly brackets."
   ]
  },
  {
   "cell_type": "markdown",
   "metadata": {
    "id": "oqTjnaLQnLYR"
   },
   "source": [
    "This is very simple and alot cleaner. You do not have to brake the line with escape character. Note that you have to use the letter 'f' and the variable must be put inside the curly brackets."
   ]
  },
  {
   "cell_type": "markdown",
   "metadata": {
    "id": "pB3zyIJnrvno"
   },
   "source": [
    "# Activity"
   ]
  },
  {
   "cell_type": "markdown",
   "metadata": {
    "id": "eJaNF163sIqc"
   },
   "source": [
    "Activity 1:\n",
    "\n",
    "Introduce Yourself. Your introduction must include al least your name, your age, city you live, number of people in your family, your favorite food and your favorite color. \n",
    "\n",
    "Use the print() function, variable, and multiline text. \n",
    "\n",
    "Sample Expected Output:\n",
    "\n",
    "\n",
    "\"Hi! My Name is Chandra Adhikari. \n",
    "\n",
    "I am 33 years old. \n",
    "\n",
    "I live in Cary, North Carolina. \n",
    "\n",
    "I live in an extended family of size 23. \n",
    "\n",
    "My favorite food includes dal, bhat and tarkari. \n",
    "\n",
    "My favorite color is creemy white. \n",
    "\n",
    "I love to sing and dance. \""
   ]
  },
  {
   "cell_type": "markdown",
   "metadata": {
    "id": "gstQfgcfvyM0"
   },
   "source": [
    "Activity 2:\n",
    "\n",
    "Quote a Quote\n",
    "\n",
    "Find a quote online or use one which inspires you or a funny line from your favorite movie. Use the print() function to write it.\n",
    "\n",
    "Sample Expected Output:\n",
    "\n",
    "\"No kid is unsmart. Every kid’s a genius at something. Our job is to find it. And then encourage it.\" - Robin Sharma"
   ]
  },
  {
   "cell_type": "code",
   "execution_count": null,
   "metadata": {
    "id": "ERV3FSc6ztD5"
   },
   "outputs": [],
   "source": [
    "print('\"No kid is unsmart. Every kid’s a genius at something. Our job is to find it. And then encourage it.\" - Robin Sharma')"
   ]
  },
  {
   "cell_type": "markdown",
   "metadata": {
    "id": "TXI0f_YDxwm7"
   },
   "source": [
    "Activity 3:\n",
    "\n",
    "Using a Variable\n",
    "\n",
    "Let's now use a variable to store the mood you are feeling today. Then we will use an f-string and your variable to output a simple sentence.\n",
    "\n",
    "Sample Expected Output:\n",
    "\n",
    "\"I'm so delighted to learn Python\""
   ]
  },
  {
   "cell_type": "code",
   "execution_count": null,
   "metadata": {
    "id": "u9aGjuucsHMk"
   },
   "outputs": [],
   "source": [
    "mood= \"delighted\"\n",
    "\n",
    "print(f\"I'm so {mood} to learn Python\") "
   ]
  },
  {
   "cell_type": "markdown",
   "metadata": {
    "id": "c5lqlSw-0VHd"
   },
   "source": [
    "Activity 4:\n",
    "\n",
    "MADLIBS\n",
    "\n",
    "Have you every played Mad Libs? It's a funny game in which you ask another person to give you different kinds of words - like colors, numbers, adjectives, nouns etc - to fill in the blanks in a short story that they cannot see. Once done, you read the full story back to them, using the words that they gave. It's so much fun to play this.\n",
    "\n",
    "What to do:\n",
    "\n",
    "Create a new file to hold your silly story\n",
    "\n",
    "Create 4 or 5 variables of different kinds of words, like:\n",
    "\n",
    "name = \" \"\n",
    "\n",
    "favorite_snack = \"\"\n",
    "\n",
    "favorite_color=\"\"\n",
    "\n",
    "animal = \"\"\n",
    "\n",
    "number = \"\"\n",
    "\n",
    "favorite_subject = \"\"\n",
    "\n",
    "favorite_place= \"\"\n",
    "\n",
    "favorite_game = \"\"\n",
    "\n",
    "Note that the variables above are not assigned any values. You need to fill them out!!\n",
    "\n",
    "Create another variable to hold your silly story. Something like below:\n",
    "madLibs = f\"\"\"\n",
    "\n",
    "Hi, my name is {name}.\n",
    "\n",
    "I really like {favorite_snack}.\n",
    "\n",
    "I could eat it {number} times in a day.\n",
    "\n",
    "I would really like to have a {animal} as a pet. \n",
    "\n",
    "I wish my {animal} also likes {favorite_game}.\n",
    "\n",
    "I would go to {favorite_place} in my vacation.\n",
    "\n",
    "I love to wear {favorite_color} colored clothes and study {favorite_subject} all day and every day!!!\n",
    "\n",
    "\"\"\"\n",
    "\n",
    "Finally, use a print() function to output your silly madlib story!!!\n",
    "print(madLibs)\n",
    "\n",
    "I am sure you will have fun reading it aloud. Ask your parents or friends to play with you to make it even more fun and interesting."
   ]
  },
  {
   "cell_type": "code",
   "execution_count": null,
   "metadata": {
    "colab": {
     "base_uri": "https://localhost:8080/"
    },
    "id": "o-NbjV1I3Ujz",
    "outputId": "31c01b95-4c2b-4df8-98fd-9d6fa6f1d261"
   },
   "outputs": [
    {
     "name": "stdout",
     "output_type": "stream",
     "text": [
      "\n",
      "Hi, my name is  Chandra.\n",
      "\n",
      "I really like  Chips.\n",
      "\n",
      "I could eat it 3 times in a day.\n",
      "\n",
      "I would really like to have a lion as a pet. \n",
      "\n",
      "I wish my lion also likes Football.\n",
      "\n",
      "I would go to Hawai in my vacation.\n",
      "\n",
      "I love to wear  yellow colored clothes and study Science all day and every day!!!\n",
      "\n",
      "\n"
     ]
    }
   ],
   "source": [
    "#@title Default title text\n",
    "name = \" Chandra\"\n",
    "\n",
    "favorite_snack = \" Chips\"\n",
    "\n",
    "favorite_color=\" yellow\"\n",
    "\n",
    "animal = \"lion\"\n",
    "\n",
    "number = \"3\"\n",
    "\n",
    "favorite_subject = \"Science\"\n",
    "\n",
    "favorite_place= \"Hawai\"\n",
    "\n",
    "favorite_game = \"Football\"\n",
    "\n",
    "\n",
    "MadLibs = f\"\"\"\n",
    "Hi, my name is {name}.\n",
    "\n",
    "I really like {favorite_snack}.\n",
    "\n",
    "I could eat it {number} times in a day.\n",
    "\n",
    "I would really like to have a {animal} as a pet. \n",
    "\n",
    "I wish my {animal} also likes {favorite_game}.\n",
    "\n",
    "I would go to {favorite_place} in my vacation.\n",
    "\n",
    "I love to wear {favorite_color} colored clothes and study {favorite_subject} all day and every day!!!\n",
    "\n",
    "\"\"\"\n",
    "print(MadLibs)"
   ]
  },
  {
   "cell_type": "markdown",
   "metadata": {
    "id": "8c8__KV9hZLW"
   },
   "source": [
    "# Comparision Operator"
   ]
  },
  {
   "cell_type": "markdown",
   "metadata": {
    "id": "dMOFHNzaiWs0"
   },
   "source": [
    "**equal**: == , x==y \n",
    "\n",
    "**not equal**: !=, x!=5\n",
    "\n",
    "**greater than**: > , x > y\n",
    "\n",
    "**smaller than**: > , x < y\n",
    "\n",
    "**greater than or equal**: >=, x >= y\n",
    "\n",
    "**smaller than or equal**: <=, x <= y\n"
   ]
  },
  {
   "cell_type": "markdown",
   "metadata": {
    "id": "qRTr2kPpmU3R"
   },
   "source": [
    "### Boolean \n",
    "Booleans represent one of two values: True or False."
   ]
  },
  {
   "cell_type": "code",
   "execution_count": null,
   "metadata": {
    "id": "1f6gKlLSinos"
   },
   "outputs": [],
   "source": [
    "3==2"
   ]
  },
  {
   "cell_type": "code",
   "execution_count": null,
   "metadata": {
    "id": "ekE7miXYhfIu"
   },
   "outputs": [],
   "source": [
    "2==2"
   ]
  },
  {
   "cell_type": "code",
   "execution_count": null,
   "metadata": {
    "id": "FD5zz7qbhc60"
   },
   "outputs": [],
   "source": [
    "2!=3"
   ]
  },
  {
   "cell_type": "code",
   "execution_count": null,
   "metadata": {
    "id": "VwmEUX16m1Fk"
   },
   "outputs": [],
   "source": [
    "3>2"
   ]
  },
  {
   "cell_type": "code",
   "execution_count": null,
   "metadata": {
    "id": "hEeq8venm21B"
   },
   "outputs": [],
   "source": [
    "3<2"
   ]
  },
  {
   "cell_type": "code",
   "execution_count": null,
   "metadata": {
    "id": "fdet9CUIm4VQ"
   },
   "outputs": [],
   "source": [
    "3<=2"
   ]
  },
  {
   "cell_type": "code",
   "execution_count": null,
   "metadata": {
    "id": "Gg1LY_4Ym708"
   },
   "outputs": [],
   "source": [
    "3>=2"
   ]
  },
  {
   "cell_type": "markdown",
   "metadata": {
    "id": "pRSCdUNpnEx4"
   },
   "source": [
    "**Class works**"
   ]
  },
  {
   "cell_type": "code",
   "execution_count": null,
   "metadata": {
    "id": "vGO29FxlnckW"
   },
   "outputs": [],
   "source": [
    "# Why the following comparision yields the boolen False?\n",
    "MyNumber1 = 3\n",
    "MyNumber2 = \"3\" \n",
    "MyNumber1 == MyNumber2"
   ]
  },
  {
   "cell_type": "code",
   "execution_count": null,
   "metadata": {
    "id": "7DumvfM3m_3G"
   },
   "outputs": [],
   "source": [
    "myFirstNumber=30\n",
    "mySecondNumber=30.0\n",
    "MyFirstNumber=40\n",
    "myFirstNumber == mySecondNumber"
   ]
  },
  {
   "cell_type": "code",
   "execution_count": null,
   "metadata": {
    "id": "QlyJ_PzXnWcy"
   },
   "outputs": [],
   "source": [
    "# Why the following comparision yields the boolen False?\n",
    "myFirstNumber==MyFirstNumber"
   ]
  },
  {
   "cell_type": "markdown",
   "metadata": {
    "id": "3RZmXNinrbQ4"
   },
   "source": [
    "**What Boolen result do you expect?**\n",
    "\n",
    "w=10\n",
    "\n",
    "x=20\n",
    "\n",
    "y=20.0\n",
    "\n",
    "z=30\n",
    "\n",
    "1. w == x\n",
    "2. x == y\n",
    "3. y == z\n",
    "4. x < z\n",
    "5. w > x\n",
    "6. w * 2 <= y\n",
    "7. w * 2 >= y\n",
    "8. w + x != y\n",
    "9. z- y ==  w\n",
    "10. x+y+2*z= w**2\n",
    "\n"
   ]
  },
  {
   "cell_type": "markdown",
   "metadata": {
    "id": "wiJGui_QeqIN"
   },
   "source": [
    "## Import and read data in Google Colab"
   ]
  },
  {
   "cell_type": "markdown",
   "metadata": {
    "id": "RUk0BXIMfRsS"
   },
   "source": [
    "I have a file name 'NFLwinloss.xlsx' in my desktop. I have dowloaded it on May 19, 2021 from [this Wikipedia page](https://en.wikipedia.org/wiki/List_of_all-time_NFL_win%E2%80%93loss_records). You either download it or ask me, I will provide it to you."
   ]
  },
  {
   "cell_type": "code",
   "execution_count": null,
   "metadata": {
    "colab": {
     "base_uri": "https://localhost:8080/",
     "height": 75,
     "resources": {
      "http://localhost:8080/nbextensions/google.colab/files.js": {
       "data": "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",
       "headers": [
        [
         "content-type",
         "application/javascript"
        ]
       ],
       "ok": true,
       "status": 200,
       "status_text": "OK"
      }
     }
    },
    "id": "2NvALEL1fPUG",
    "outputId": "52d65f1b-a63c-445f-a70b-2f1699d04cff"
   },
   "outputs": [
    {
     "data": {
      "text/html": [
       "\n",
       "     <input type=\"file\" id=\"files-e1e7ebc6-3890-4244-aac9-810e874afcf2\" name=\"files[]\" multiple disabled\n",
       "        style=\"border:none\" />\n",
       "     <output id=\"result-e1e7ebc6-3890-4244-aac9-810e874afcf2\">\n",
       "      Upload widget is only available when the cell has been executed in the\n",
       "      current browser session. Please rerun this cell to enable.\n",
       "      </output>\n",
       "      <script src=\"/nbextensions/google.colab/files.js\"></script> "
      ],
      "text/plain": [
       "<IPython.core.display.HTML object>"
      ]
     },
     "metadata": {
      "tags": []
     },
     "output_type": "display_data"
    },
    {
     "name": "stdout",
     "output_type": "stream",
     "text": [
      "Saving NFLwinloss.xlsx to NFLwinloss.xlsx\n"
     ]
    }
   ],
   "source": [
    "# import data, or upload to google colab\n",
    "from google.colab import files\n",
    "uploaded=files.upload()"
   ]
  },
  {
   "cell_type": "code",
   "execution_count": null,
   "metadata": {
    "colab": {
     "base_uri": "https://localhost:8080/"
    },
    "id": "-OMxiVqxfYHE",
    "outputId": "7daf9f16-e98e-4211-86bd-02d599338dd6"
   },
   "outputs": [
    {
     "name": "stdout",
     "output_type": "stream",
     "text": [
      "    Rank                      Team    GP  Won  Lost  Tied   Pct.   Division\n",
      "0      1         Green Bay Packers  1384  769   577    38  0.569  NFC North\n",
      "1      2            Dallas Cowboys   930  526   398     6  0.569   NFC East\n",
      "2      3          Baltimore Ravens   400  225   174     1  0.564  AFC North\n",
      "3      4             Chicago Bears  1418  777   599    42  0.563  NFC North\n",
      "4      5      New England Patriots   932  519   404     9  0.562   AFC East\n",
      "5      6            Miami Dolphins   848  467   377     4  0.553   AFC East\n",
      "6      7         Minnesota Vikings   918  495   412    11  0.545  NFC North\n",
      "7      8        Kansas City Chiefs   933  495   426    12  0.537   AFC West\n",
      "8      9       Pittsburgh Steelers  1220  643   556    21  0.536  AFC North\n",
      "9     10       San Francisco 49ers  1050  551   485    14  0.531   NFC West\n",
      "10    11           New York Giants  1353  702   618    33  0.531   NFC East\n",
      "11    12     Indianapolis Colts[d]  1014  534   473     7  0.530  AFC South\n",
      "12    13            Denver Broncos   932  488   434    10  0.529   AFC West\n",
      "13    14         Las Vegas Raiders   932  481   440    11  0.522   AFC West\n",
      "14    15          Seattle Seahawks   708  367   340     1  0.519   NFC West\n",
      "15    16          Los Angeles Rams  1183  587   575    21  0.505   NFC West\n",
      "16    17  Washington Football Team  1250  610   612    28  0.499   NFC East\n",
      "17    18      Los Angeles Chargers   932  459   462    11  0.498   AFC West\n",
      "18    19       Cleveland Browns[e]  1002  486   505    11  0.491  AFC North\n",
      "19    20       Philadelphia Eagles  1236  590   619    27  0.488   NFC East\n",
      "20    21          Tennessee Titans   932  451   475     6  0.487  AFC South\n",
      "21    22         Carolina Panthers   416  200   215     1  0.482  NFC South\n",
      "22    23             Buffalo Bills   932  438   486     8  0.474   AFC East\n",
      "23    24        New Orleans Saints   834  387   442     5  0.467  NFC South\n",
      "24    25             Detroit Lions  1281  567   681    33  0.456  NFC North\n",
      "25    26        Cincinnati Bengals   820  363   452     5  0.446  AFC North\n",
      "26    27             New York Jets   932  410   514     8  0.444   AFC East\n",
      "27    28            Houston Texans   304  135   169     0  0.444  AFC South\n",
      "28    29           Atlanta Falcons   848  369   473     6  0.439  NFC South\n",
      "29    30         Arizona Cardinals  1378  566   771    41  0.426   NFC West\n",
      "30    31      Jacksonville Jaguars   416  177   239     0  0.425  AFC South\n",
      "31    32      Tampa Bay Buccaneers   708  278   429     1  0.393  NFC South\n"
     ]
    }
   ],
   "source": [
    "# Read data as a data frame df\n",
    "import pandas as pd\n",
    "import io\n",
    "\n",
    "df = pd.read_excel (io.BytesIO(uploaded['NFLwinloss.xlsx']))\n",
    "print (df)"
   ]
  },
  {
   "cell_type": "code",
   "execution_count": null,
   "metadata": {
    "colab": {
     "base_uri": "https://localhost:8080/",
     "height": 1000
    },
    "id": "wrsqBfLqfiMs",
    "outputId": "bb179bcf-28e2-49b1-bfec-875092c08766"
   },
   "outputs": [
    {
     "data": {
      "text/html": [
       "<div>\n",
       "<style scoped>\n",
       "    .dataframe tbody tr th:only-of-type {\n",
       "        vertical-align: middle;\n",
       "    }\n",
       "\n",
       "    .dataframe tbody tr th {\n",
       "        vertical-align: top;\n",
       "    }\n",
       "\n",
       "    .dataframe thead th {\n",
       "        text-align: right;\n",
       "    }\n",
       "</style>\n",
       "<table border=\"1\" class=\"dataframe\">\n",
       "  <thead>\n",
       "    <tr style=\"text-align: right;\">\n",
       "      <th></th>\n",
       "      <th>Team</th>\n",
       "      <th>GP</th>\n",
       "    </tr>\n",
       "  </thead>\n",
       "  <tbody>\n",
       "    <tr>\n",
       "      <th>0</th>\n",
       "      <td>Green Bay Packers</td>\n",
       "      <td>1384</td>\n",
       "    </tr>\n",
       "    <tr>\n",
       "      <th>1</th>\n",
       "      <td>Dallas Cowboys</td>\n",
       "      <td>930</td>\n",
       "    </tr>\n",
       "    <tr>\n",
       "      <th>2</th>\n",
       "      <td>Baltimore Ravens</td>\n",
       "      <td>400</td>\n",
       "    </tr>\n",
       "    <tr>\n",
       "      <th>3</th>\n",
       "      <td>Chicago Bears</td>\n",
       "      <td>1418</td>\n",
       "    </tr>\n",
       "    <tr>\n",
       "      <th>4</th>\n",
       "      <td>New England Patriots</td>\n",
       "      <td>932</td>\n",
       "    </tr>\n",
       "    <tr>\n",
       "      <th>5</th>\n",
       "      <td>Miami Dolphins</td>\n",
       "      <td>848</td>\n",
       "    </tr>\n",
       "    <tr>\n",
       "      <th>6</th>\n",
       "      <td>Minnesota Vikings</td>\n",
       "      <td>918</td>\n",
       "    </tr>\n",
       "    <tr>\n",
       "      <th>7</th>\n",
       "      <td>Kansas City Chiefs</td>\n",
       "      <td>933</td>\n",
       "    </tr>\n",
       "    <tr>\n",
       "      <th>8</th>\n",
       "      <td>Pittsburgh Steelers</td>\n",
       "      <td>1220</td>\n",
       "    </tr>\n",
       "    <tr>\n",
       "      <th>9</th>\n",
       "      <td>San Francisco 49ers</td>\n",
       "      <td>1050</td>\n",
       "    </tr>\n",
       "    <tr>\n",
       "      <th>10</th>\n",
       "      <td>New York Giants</td>\n",
       "      <td>1353</td>\n",
       "    </tr>\n",
       "    <tr>\n",
       "      <th>11</th>\n",
       "      <td>Indianapolis Colts[d]</td>\n",
       "      <td>1014</td>\n",
       "    </tr>\n",
       "    <tr>\n",
       "      <th>12</th>\n",
       "      <td>Denver Broncos</td>\n",
       "      <td>932</td>\n",
       "    </tr>\n",
       "    <tr>\n",
       "      <th>13</th>\n",
       "      <td>Las Vegas Raiders</td>\n",
       "      <td>932</td>\n",
       "    </tr>\n",
       "    <tr>\n",
       "      <th>14</th>\n",
       "      <td>Seattle Seahawks</td>\n",
       "      <td>708</td>\n",
       "    </tr>\n",
       "    <tr>\n",
       "      <th>15</th>\n",
       "      <td>Los Angeles Rams</td>\n",
       "      <td>1183</td>\n",
       "    </tr>\n",
       "    <tr>\n",
       "      <th>16</th>\n",
       "      <td>Washington Football Team</td>\n",
       "      <td>1250</td>\n",
       "    </tr>\n",
       "    <tr>\n",
       "      <th>17</th>\n",
       "      <td>Los Angeles Chargers</td>\n",
       "      <td>932</td>\n",
       "    </tr>\n",
       "    <tr>\n",
       "      <th>18</th>\n",
       "      <td>Cleveland Browns[e]</td>\n",
       "      <td>1002</td>\n",
       "    </tr>\n",
       "    <tr>\n",
       "      <th>19</th>\n",
       "      <td>Philadelphia Eagles</td>\n",
       "      <td>1236</td>\n",
       "    </tr>\n",
       "    <tr>\n",
       "      <th>20</th>\n",
       "      <td>Tennessee Titans</td>\n",
       "      <td>932</td>\n",
       "    </tr>\n",
       "    <tr>\n",
       "      <th>21</th>\n",
       "      <td>Carolina Panthers</td>\n",
       "      <td>416</td>\n",
       "    </tr>\n",
       "    <tr>\n",
       "      <th>22</th>\n",
       "      <td>Buffalo Bills</td>\n",
       "      <td>932</td>\n",
       "    </tr>\n",
       "    <tr>\n",
       "      <th>23</th>\n",
       "      <td>New Orleans Saints</td>\n",
       "      <td>834</td>\n",
       "    </tr>\n",
       "    <tr>\n",
       "      <th>24</th>\n",
       "      <td>Detroit Lions</td>\n",
       "      <td>1281</td>\n",
       "    </tr>\n",
       "    <tr>\n",
       "      <th>25</th>\n",
       "      <td>Cincinnati Bengals</td>\n",
       "      <td>820</td>\n",
       "    </tr>\n",
       "    <tr>\n",
       "      <th>26</th>\n",
       "      <td>New York Jets</td>\n",
       "      <td>932</td>\n",
       "    </tr>\n",
       "    <tr>\n",
       "      <th>27</th>\n",
       "      <td>Houston Texans</td>\n",
       "      <td>304</td>\n",
       "    </tr>\n",
       "    <tr>\n",
       "      <th>28</th>\n",
       "      <td>Atlanta Falcons</td>\n",
       "      <td>848</td>\n",
       "    </tr>\n",
       "    <tr>\n",
       "      <th>29</th>\n",
       "      <td>Arizona Cardinals</td>\n",
       "      <td>1378</td>\n",
       "    </tr>\n",
       "    <tr>\n",
       "      <th>30</th>\n",
       "      <td>Jacksonville Jaguars</td>\n",
       "      <td>416</td>\n",
       "    </tr>\n",
       "    <tr>\n",
       "      <th>31</th>\n",
       "      <td>Tampa Bay Buccaneers</td>\n",
       "      <td>708</td>\n",
       "    </tr>\n",
       "  </tbody>\n",
       "</table>\n",
       "</div>"
      ],
      "text/plain": [
       "                        Team    GP\n",
       "0          Green Bay Packers  1384\n",
       "1             Dallas Cowboys   930\n",
       "2           Baltimore Ravens   400\n",
       "3              Chicago Bears  1418\n",
       "4       New England Patriots   932\n",
       "5             Miami Dolphins   848\n",
       "6          Minnesota Vikings   918\n",
       "7         Kansas City Chiefs   933\n",
       "8        Pittsburgh Steelers  1220\n",
       "9        San Francisco 49ers  1050\n",
       "10           New York Giants  1353\n",
       "11     Indianapolis Colts[d]  1014\n",
       "12            Denver Broncos   932\n",
       "13         Las Vegas Raiders   932\n",
       "14          Seattle Seahawks   708\n",
       "15          Los Angeles Rams  1183\n",
       "16  Washington Football Team  1250\n",
       "17      Los Angeles Chargers   932\n",
       "18       Cleveland Browns[e]  1002\n",
       "19       Philadelphia Eagles  1236\n",
       "20          Tennessee Titans   932\n",
       "21         Carolina Panthers   416\n",
       "22             Buffalo Bills   932\n",
       "23        New Orleans Saints   834\n",
       "24             Detroit Lions  1281\n",
       "25        Cincinnati Bengals   820\n",
       "26             New York Jets   932\n",
       "27            Houston Texans   304\n",
       "28           Atlanta Falcons   848\n",
       "29         Arizona Cardinals  1378\n",
       "30      Jacksonville Jaguars   416\n",
       "31      Tampa Bay Buccaneers   708"
      ]
     },
     "execution_count": 5,
     "metadata": {
      "tags": []
     },
     "output_type": "execute_result"
    }
   ],
   "source": [
    "df2=df[['Team','GP']]\n",
    "df2"
   ]
  },
  {
   "cell_type": "code",
   "execution_count": null,
   "metadata": {
    "colab": {
     "base_uri": "https://localhost:8080/",
     "height": 527
    },
    "id": "kLpRLlXWgIAk",
    "outputId": "75816d3d-3be0-4eba-ed93-1a80ca1f3edd"
   },
   "outputs": [
    {
     "data": {
      "text/plain": [
       "<matplotlib.axes._subplots.AxesSubplot at 0x7fc203bfa490>"
      ]
     },
     "execution_count": 6,
     "metadata": {
      "tags": []
     },
     "output_type": "execute_result"
    },
    {
     "data": {
      "image/png": "[encoded data removed]",
      "text/plain": [
       "<Figure size 864x432 with 1 Axes>"
      ]
     },
     "metadata": {
      "needs_background": "light",
      "tags": []
     },
     "output_type": "display_data"
    }
   ],
   "source": [
    "%matplotlib inline\n",
    "df2[:].plot(kind='bar', x='Team', y='GP', figsize=(12,6), grid=True)"
   ]
  },
  {
   "cell_type": "markdown",
   "metadata": {
    "id": "vuO1p_vPgx-k"
   },
   "source": [
    "**Homework**\n",
    "\n",
    "1.   Plot a bar chart to show the difference of the # of win and the # of loss of each team.\n",
    "2.   Group the team by division, calculate the average game won by each division, and present it in a bar chart. (Challanging Problem)\n",
    "\n"
   ]
  }
 ],
 "metadata": {
  "colab": {
   "name": "Python_for_Kids_Week_1_and_2.ipynb",
   "provenance": []
  },
  "kernelspec": {
   "display_name": "Python 3",
   "language": "python",
   "name": "python3"
  },
  "language_info": {
   "codemirror_mode": {
    "name": "ipython",
    "version": 3
   },
   "file_extension": ".py",
   "mimetype": "text/x-python",
   "name": "python",
   "nbconvert_exporter": "python",
   "pygments_lexer": "ipython3",
   "version": "3.8.8"
  }
 },
 "nbformat": 4,
 "nbformat_minor": 1
}
