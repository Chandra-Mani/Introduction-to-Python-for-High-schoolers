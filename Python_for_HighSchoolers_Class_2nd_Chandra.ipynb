{
 "cells": [
  {
   "cell_type": "markdown",
   "metadata": {
    "id": "Xl-iLQdz-lX4"
   },
   "source": [
    "# **Outline: 2nd Class** \n",
    "\n",
    "Chandra Adhikari, June 26 2021\n",
    "\n",
    "## 1. Python List\n",
    "\n",
    "## 2. Python Tuple\n",
    "\n",
    "## 3. Python Dictionary \n",
    "\n",
    "## 4. Random Number\n",
    "\n",
    "## 5. Python function\n",
    "\n",
    "## 6. Python Class\n",
    "\n",
    "## 7. Python Conditions: if ..... elif.... else \n",
    "1.   if....elif... else\n",
    "2.   Indentation\n",
    "3.   Multiple conditions in a single statement\n",
    "4.   and, or, nested if \n",
    "\n",
    "## 8. Loop\n",
    "\n",
    "1.   for loop \n",
    "2.   while loop\n",
    " \n",
    "\n",
    "## 9. File handling \n",
    "\n",
    "1.   Open\n",
    "2.   Read\n",
    "3.   Write and Create\n",
    "4.   Delete files/folder\n",
    "\n",
    "## 10. Activity\n",
    "    \n",
    "\n",
    "\n",
    "\n",
    "\n",
    "\n",
    " "
   ]
  },
  {
   "cell_type": "markdown",
   "metadata": {
    "id": "y7SfiXEr-QCd"
   },
   "source": [
    "## Class Starts from Here"
   ]
  },
  {
   "cell_type": "markdown",
   "metadata": {
    "id": "SNXyEPOCikIQ"
   },
   "source": [
    "4 built-in data types in Python: **List, Dictionary, Tuple and Set**.\n",
    "\n",
    "What is built-in function?\n",
    "\n",
    "*==Incorporated in the package or programming* "
   ]
  },
  {
   "cell_type": "markdown",
   "metadata": {
    "id": "eBwIIT-bZVXL"
   },
   "source": [
    "## Python List "
   ]
  },
  {
   "cell_type": "code",
   "execution_count": 1,
   "metadata": {
    "colab": {
     "base_uri": "https://localhost:8080/"
    },
    "id": "OxOeKdJ2-W8e",
    "outputId": "afa486ba-2c99-41a1-89e6-c2afdf148e4c"
   },
   "outputs": [
    {
     "name": "stdout",
     "output_type": "stream",
     "text": [
      "['apple', 'mango', 'banana', 'cherry', 'orange']\n"
     ]
    }
   ],
   "source": [
    "my_favorate_fruits= [\"apple\", \"mango\", \"banana\", \"cherry\", \"orange\"]\n",
    "print(my_favorate_fruits)"
   ]
  },
  {
   "cell_type": "markdown",
   "metadata": {
    "id": "WyV2zLjvviVH"
   },
   "source": [
    "#### Accessing the element"
   ]
  },
  {
   "cell_type": "code",
   "execution_count": 4,
   "metadata": {
    "colab": {
     "base_uri": "https://localhost:8080/",
     "height": 36
    },
    "id": "8Mv2pRqlvhU7",
    "outputId": "c8d30553-0651-46b7-aa3f-463a7e61e24c"
   },
   "outputs": [
    {
     "data": {
      "application/vnd.google.colaboratory.intrinsic+json": {
       "type": "string"
      },
      "text/plain": [
       "'banana'"
      ]
     },
     "execution_count": 4,
     "metadata": {
      "tags": []
     },
     "output_type": "execute_result"
    }
   ],
   "source": [
    "my_favorate_fruits[-3]"
   ]
  },
  {
   "cell_type": "markdown",
   "metadata": {
    "id": "bF3bwvtFOA6Z"
   },
   "source": [
    "**Note: The first item has index 0.**"
   ]
  },
  {
   "cell_type": "markdown",
   "metadata": {
    "id": "RkrpcydBUULH"
   },
   "source": [
    "What command should you enter to print cherry?"
   ]
  },
  {
   "cell_type": "code",
   "execution_count": null,
   "metadata": {
    "id": "AqcssCrsUbWK"
   },
   "outputs": [],
   "source": [
    "my_favorate_fruits[3]"
   ]
  },
  {
   "cell_type": "code",
   "execution_count": null,
   "metadata": {
    "id": "oh9Jv2fSvRj7"
   },
   "outputs": [],
   "source": [
    "my_favorate_fruits[-1]"
   ]
  },
  {
   "cell_type": "code",
   "execution_count": null,
   "metadata": {
    "id": "xmk1n4hbwRzQ"
   },
   "outputs": [],
   "source": [
    "#accessing element from last; it is useful in long list\n",
    "my_favorate_fruits[-1]"
   ]
  },
  {
   "cell_type": "markdown",
   "metadata": {
    "id": "WqU8h27rxkl9"
   },
   "source": [
    "List is Mutable. What does it mean? \n",
    "\n",
    "This means you can add, delete ( means change) the list."
   ]
  },
  {
   "cell_type": "code",
   "execution_count": 5,
   "metadata": {
    "colab": {
     "base_uri": "https://localhost:8080/"
    },
    "id": "zUaRDfXwxZAv",
    "outputId": "3fbb7d5f-1ef5-4124-fdb6-cfd2f0457032"
   },
   "outputs": [
    {
     "data": {
      "text/plain": [
       "['apple', 'mango', 'banana', 'cherry', 'avocado']"
      ]
     },
     "execution_count": 5,
     "metadata": {
      "tags": []
     },
     "output_type": "execute_result"
    }
   ],
   "source": [
    "my_favorate_fruits[4]=\"avocado\"\n",
    "my_favorate_fruits"
   ]
  },
  {
   "cell_type": "markdown",
   "metadata": {
    "id": "BpxXqg9B09rU"
   },
   "source": [
    "See! orange changed to avocado."
   ]
  },
  {
   "cell_type": "code",
   "execution_count": null,
   "metadata": {
    "id": "DVSBIMP2zoGD"
   },
   "outputs": [],
   "source": [
    "# empty list; useful to initialize a function\n",
    "my_list = []"
   ]
  },
  {
   "cell_type": "code",
   "execution_count": 6,
   "metadata": {
    "colab": {
     "base_uri": "https://localhost:8080/"
    },
    "id": "6DinvLK8yBIF",
    "outputId": "1cbbcfdc-af82-4bd6-918a-2058f5573a5b"
   },
   "outputs": [
    {
     "data": {
      "text/plain": [
       "[1, 'cartoon', 3.4]"
      ]
     },
     "execution_count": 6,
     "metadata": {
      "tags": []
     },
     "output_type": "execute_result"
    }
   ],
   "source": [
    "# list can also have mixed data types\n",
    "my_list = [1, \"cartoon\", 3.4]\n",
    "my_list"
   ]
  },
  {
   "cell_type": "code",
   "execution_count": null,
   "metadata": {
    "id": "btBDgU6AzfQw"
   },
   "outputs": [],
   "source": [
    "# A list can also have another list as an item. This is called a nested list. for axample\n",
    "my_jpt_list = [\"Xbox\", [8, 4, 6], ['a','b','c']]\n",
    "my_jpt_list"
   ]
  },
  {
   "cell_type": "markdown",
   "metadata": {
    "id": "560_HhqZ1XyH"
   },
   "source": [
    "#### slicing"
   ]
  },
  {
   "cell_type": "code",
   "execution_count": null,
   "metadata": {
    "id": "WvvZfQ8S0RAQ"
   },
   "outputs": [],
   "source": [
    "my_favorate_fruits[1:3] #takes index 1 but not the 3"
   ]
  },
  {
   "cell_type": "code",
   "execution_count": 7,
   "metadata": {
    "colab": {
     "base_uri": "https://localhost:8080/"
    },
    "id": "nIk0Rg5j1VV8",
    "outputId": "09235f70-1b74-4b41-bb8b-988eea6c9aad"
   },
   "outputs": [
    {
     "data": {
      "text/plain": [
       "['apple', 'mango', 'banana']"
      ]
     },
     "execution_count": 7,
     "metadata": {
      "tags": []
     },
     "output_type": "execute_result"
    }
   ],
   "source": [
    "my_favorate_fruits[:3]"
   ]
  },
  {
   "cell_type": "code",
   "execution_count": null,
   "metadata": {
    "id": "wj47xEDk1sYv"
   },
   "outputs": [],
   "source": [
    "my_favorate_fruits[3:]"
   ]
  },
  {
   "cell_type": "code",
   "execution_count": 9,
   "metadata": {
    "id": "-owAzmSo2I57"
   },
   "outputs": [],
   "source": [
    "my_2ndlist_fruits=['apple', 'mango', 'banana', 'avocado', 'cherry']"
   ]
  },
  {
   "cell_type": "code",
   "execution_count": 10,
   "metadata": {
    "colab": {
     "base_uri": "https://localhost:8080/"
    },
    "id": "EUfVvLug2YMj",
    "outputId": "71cf1a74-a239-4ca6-8a69-393c83170225"
   },
   "outputs": [
    {
     "data": {
      "text/plain": [
       "False"
      ]
     },
     "execution_count": 10,
     "metadata": {
      "tags": []
     },
     "output_type": "execute_result"
    }
   ],
   "source": [
    "my_favorate_fruits==my_2ndlist_fruits"
   ]
  },
  {
   "cell_type": "markdown",
   "metadata": {
    "id": "ZLYHjP5Y2h9V"
   },
   "source": [
    "**Why Python threw false? They have the same fruits, right?** Note: Computer does not have common sense.\n",
    "\n",
    "Because the order is not same even though name of the fruits in the list are the same. "
   ]
  },
  {
   "cell_type": "markdown",
   "metadata": {
    "id": "30ZQR_SK3ywc"
   },
   "source": [
    "You can use the list() constructor to make a List."
   ]
  },
  {
   "cell_type": "code",
   "execution_count": 11,
   "metadata": {
    "colab": {
     "base_uri": "https://localhost:8080/"
    },
    "id": "ZD5wIXEN2cFS",
    "outputId": "72622074-7d50-4e52-9b12-9da9dbd38b01"
   },
   "outputs": [
    {
     "data": {
      "text/plain": [
       "[1, 2, 3, 4]"
      ]
     },
     "execution_count": 11,
     "metadata": {
      "tags": []
     },
     "output_type": "execute_result"
    }
   ],
   "source": [
    "list((1,2,3,4)) # notice double round brackets"
   ]
  },
  {
   "cell_type": "markdown",
   "metadata": {
    "id": "r5Sz4-Mm538O"
   },
   "source": [
    "####Add item to the list "
   ]
  },
  {
   "cell_type": "code",
   "execution_count": 12,
   "metadata": {
    "colab": {
     "base_uri": "https://localhost:8080/"
    },
    "id": "2pjM1NOE575m",
    "outputId": "d0c7e1f6-0fb9-4e68-97c1-6edef7cca3c1"
   },
   "outputs": [
    {
     "name": "stdout",
     "output_type": "stream",
     "text": [
      "['apple', 'banana', 'mango', 'orange']\n"
     ]
    }
   ],
   "source": [
    "#append() method\n",
    "MyFruitsList = [\"apple\", \"banana\", \"mango\"]\n",
    "MyFruitsList.append(\"orange\")\n",
    "print(MyFruitsList)"
   ]
  },
  {
   "cell_type": "markdown",
   "metadata": {
    "id": "jGCVMZEk7R9F"
   },
   "source": [
    "Suppose you want to insert a item in a specified order. Then you use insert()"
   ]
  },
  {
   "cell_type": "code",
   "execution_count": 13,
   "metadata": {
    "colab": {
     "base_uri": "https://localhost:8080/"
    },
    "id": "tmEjuBvF6NQX",
    "outputId": "5151ea3c-c297-43d7-e347-e6599267a986"
   },
   "outputs": [
    {
     "name": "stdout",
     "output_type": "stream",
     "text": [
      "['orange', 'apple', 'banana', 'mango']\n"
     ]
    }
   ],
   "source": [
    "#insert() method\n",
    "Fruits_List = [\"apple\", \"banana\", \"mango\"]\n",
    "Fruits_List.insert(0, \"orange\")\n",
    "print(Fruits_List)"
   ]
  },
  {
   "cell_type": "markdown",
   "metadata": {
    "id": "Du_hblKe9FSb"
   },
   "source": [
    "Suppose you want to combine two list. You are making shopping list. Lets add other stuffs in the above list of fruits. "
   ]
  },
  {
   "cell_type": "code",
   "execution_count": 14,
   "metadata": {
    "colab": {
     "base_uri": "https://localhost:8080/"
    },
    "id": "8PI8j4Nj7v9e",
    "outputId": "f7d74808-9352-4ea1-ce00-d29e08681c2f"
   },
   "outputs": [
    {
     "name": "stdout",
     "output_type": "stream",
     "text": [
      "['1_lb apple', '1_dozen banana', '1/2_dozen mango', '1_pkt salt', '20_lb rice', '2_lb beans', '3_frozen Pizza', 'icecream', '1_pkt chocolate']\n"
     ]
    }
   ],
   "source": [
    "#extend() method \n",
    "Fruits_List = [\"1_lb apple\", \"1_dozen banana\", \"1/2_dozen mango\"] \n",
    "Other_stuff = [\"1_pkt salt\", \"20_lb rice\", \"2_lb beans\", \"3_frozen Pizza\", \"icecream\", \"1_pkt chocolate\"]\n",
    "Fruits_List.extend(Other_stuff)\n",
    "print(Fruits_List)"
   ]
  },
  {
   "cell_type": "markdown",
   "metadata": {
    "id": "_M01T7Nb_3pT"
   },
   "source": [
    "####Remove item from list"
   ]
  },
  {
   "cell_type": "code",
   "execution_count": null,
   "metadata": {
    "id": "AD5wFPHB_2aK"
   },
   "outputs": [],
   "source": [
    "#remove() method === specify the item you want to remove\n",
    "Fruits_List = [\"strawberry\",\"apple\", \"banana\", \"mango\"]\n",
    "Fruits_List.remove(\"banana\")\n",
    "print(Fruits_List)"
   ]
  },
  {
   "cell_type": "code",
   "execution_count": 16,
   "metadata": {
    "colab": {
     "base_uri": "https://localhost:8080/"
    },
    "id": "pjg6v4ql90FQ",
    "outputId": "79d7e5a0-d8aa-471b-e11d-afc3aaae5a97"
   },
   "outputs": [
    {
     "name": "stdout",
     "output_type": "stream",
     "text": [
      "['banana', 'mango', 'strawberry']\n"
     ]
    }
   ],
   "source": [
    "#pop() method ===> specify the index of the item you want to remove\n",
    "MyFruitsList = [\"apple\", \"banana\", \"mango\",\"strawberry\"]\n",
    "MyFruitsList.pop(0)\n",
    "print(MyFruitsList)"
   ]
  },
  {
   "cell_type": "code",
   "execution_count": 21,
   "metadata": {
    "colab": {
     "base_uri": "https://localhost:8080/"
    },
    "id": "VjXWcs9xAmYx",
    "outputId": "4c6de2b7-ba76-4028-e34c-ee0243878b98"
   },
   "outputs": [
    {
     "name": "stdout",
     "output_type": "stream",
     "text": [
      "['apple', 'banana', 'mango']\n"
     ]
    }
   ],
   "source": [
    "#pop() method removes the last item, if you do not specify the index\n",
    "MyFruitsList = [\"apple\", \"banana\", \"mango\",\"strawberry\"]\n",
    "MyFruitsList.pop()\n",
    "print(MyFruitsList)"
   ]
  },
  {
   "cell_type": "code",
   "execution_count": 22,
   "metadata": {
    "id": "KMYIzlI9CchR"
   },
   "outputs": [],
   "source": [
    "#You want to delete the entire list use 'del()'\n",
    "del MyFruitsList"
   ]
  },
  {
   "cell_type": "code",
   "execution_count": 23,
   "metadata": {
    "colab": {
     "base_uri": "https://localhost:8080/",
     "height": 172
    },
    "id": "rPPZfw4HDCDc",
    "outputId": "3b6e0e8e-c0ce-4719-fe6f-11101ec713fe"
   },
   "outputs": [
    {
     "ename": "NameError",
     "evalue": "ignored",
     "output_type": "error",
     "traceback": [
      "\u001b[0;31m---------------------------------------------------------------------------\u001b[0m",
      "\u001b[0;31mNameError\u001b[0m                                 Traceback (most recent call last)",
      "\u001b[0;32m<ipython-input-23-4c47cad16c7b>\u001b[0m in \u001b[0;36m<module>\u001b[0;34m()\u001b[0m\n\u001b[0;32m----> 1\u001b[0;31m \u001b[0mprint\u001b[0m\u001b[0;34m(\u001b[0m\u001b[0mMyFruitsList\u001b[0m\u001b[0;34m)\u001b[0m \u001b[0;31m#you will see NameError because you just deleted this name.\u001b[0m\u001b[0;34m\u001b[0m\u001b[0;34m\u001b[0m\u001b[0m\n\u001b[0m",
      "\u001b[0;31mNameError\u001b[0m: name 'MyFruitsList' is not defined"
     ]
    }
   ],
   "source": [
    "print(MyFruitsList) #you will see NameError because you just deleted this name."
   ]
  },
  {
   "cell_type": "markdown",
   "metadata": {
    "id": "R0CUnZjEWk3T"
   },
   "source": [
    "**Method\tSummary**\n",
    "\n",
    "**append()**\t=== Adds an element at the end of the list\n",
    "\n",
    "**clear()**\t=== Removes all the elements from the list\n",
    "\n",
    "**copy()**\t=== Returns a copy of the list\n",
    "\n",
    "**count()**\t=== Returns the number of elements with the specified value\n",
    "\n",
    "**extend()** === Adds the elements of a list, to the end of the current list\n",
    "\n",
    "**index()**\t=== Returns the index of the first element with the specified value\n",
    "\n",
    "**insert()** === Adds an element at the specified position\n",
    "\n",
    "**pop()**\t=== Removes the element at the specified position\n",
    "\n",
    "**remove()**\t=== Removes the item with the specified value\n",
    "\n",
    "**reverse()**\t=== Reverses the order of the list\n",
    "\n",
    "**sort()**\t=== Sorts the list"
   ]
  },
  {
   "cell_type": "markdown",
   "metadata": {
    "id": "OhhsXOLxEAP3"
   },
   "source": [
    "##Python Tuple"
   ]
  },
  {
   "cell_type": "markdown",
   "metadata": {
    "id": "dVECQpJzElRj"
   },
   "source": [
    "A tuple is a collection which is ordered and unchangeable.\n",
    "\n",
    "Tuples are written with round brackets.\n",
    "\n",
    "when we need tuple? ==> Some data in a table are immutable such as you want to track blood pressure, heart rate, and weight of all people in your family. Then name off the family members in your table is immutable. Thus the name can be stored as tuple and others as lists.  "
   ]
  },
  {
   "cell_type": "markdown",
   "metadata": {
    "id": "Hi_0d7FnK-5S"
   },
   "source": [
    "Tuple items are ordered, unchangeable, and allow duplicate values."
   ]
  },
  {
   "cell_type": "code",
   "execution_count": 25,
   "metadata": {
    "colab": {
     "base_uri": "https://localhost:8080/"
    },
    "id": "QwmcoTIgDMe5",
    "outputId": "44c254c4-c055-48db-f100-5a408bbb4a44"
   },
   "outputs": [
    {
     "name": "stdout",
     "output_type": "stream",
     "text": [
      "('apple pie', 'ice cream', 'chocolate', 'fruits cake', 'pizza')\n"
     ]
    }
   ],
   "source": [
    "my_tuple = (\"apple pie\", \"ice cream\", \"chocolate\", \"fruits cake\", \"pizza\")\n",
    "print(my_tuple)"
   ]
  },
  {
   "cell_type": "code",
   "execution_count": 26,
   "metadata": {
    "colab": {
     "base_uri": "https://localhost:8080/"
    },
    "id": "KVN83TQVL0z8",
    "outputId": "558eb3c6-d7be-454c-e81d-e8a093b5c782"
   },
   "outputs": [
    {
     "name": "stdout",
     "output_type": "stream",
     "text": [
      "5\n"
     ]
    }
   ],
   "source": [
    "print(len(my_tuple))"
   ]
  },
  {
   "cell_type": "markdown",
   "metadata": {
    "id": "XBaYDwidOOES"
   },
   "source": [
    "**Note: The first item has index 0.**"
   ]
  },
  {
   "cell_type": "code",
   "execution_count": 27,
   "metadata": {
    "colab": {
     "base_uri": "https://localhost:8080/"
    },
    "id": "-nB4KHPkOQ4C",
    "outputId": "c9ff5345-7509-4d82-c602-bf96e1b4f7c4"
   },
   "outputs": [
    {
     "name": "stdout",
     "output_type": "stream",
     "text": [
      "ice cream\n"
     ]
    }
   ],
   "source": [
    "  print(my_tuple[1])"
   ]
  },
  {
   "cell_type": "markdown",
   "metadata": {
    "id": "uAGX0VTCQEVP"
   },
   "source": [
    "####Range of Indexes"
   ]
  },
  {
   "cell_type": "code",
   "execution_count": null,
   "metadata": {
    "id": "qxSt9FDIPOdZ"
   },
   "outputs": [],
   "source": [
    "print(my_tuple[2:5]) # 2nd included and 5th excluded"
   ]
  },
  {
   "cell_type": "code",
   "execution_count": null,
   "metadata": {
    "id": "t-3mTQyDP1k3"
   },
   "outputs": [],
   "source": [
    "print(my_tuple[:4]) # Range from the firt element to the specified one (4th excluded)"
   ]
  },
  {
   "cell_type": "code",
   "execution_count": null,
   "metadata": {
    "id": "HUYMAHN6QSEe"
   },
   "outputs": [],
   "source": [
    "print(my_tuple[1:]) # Range from a chosen element to the last one (1st included)"
   ]
  },
  {
   "cell_type": "code",
   "execution_count": null,
   "metadata": {
    "id": "itlpWdZpQY9H"
   },
   "outputs": [],
   "source": [
    "print(my_tuple[-4:-1]) # -4th included and -1st excluded"
   ]
  },
  {
   "cell_type": "markdown",
   "metadata": {
    "id": "KnTDecaFS2vQ"
   },
   "source": [
    "**Note:**\n",
    "\n",
    "**1. You cannot add item to a tuple**\n",
    "\n",
    "**2. You can not remove item from a tuple, however**\n",
    "\n",
    "**3. You can completely remove the tuple**"
   ]
  },
  {
   "cell_type": "code",
   "execution_count": null,
   "metadata": {
    "id": "2sgeHG0LSFTQ"
   },
   "outputs": [],
   "source": [
    "del my_tuple\n",
    "print(my_tuple) # This will raise a NameError"
   ]
  },
  {
   "cell_type": "markdown",
   "metadata": {
    "id": "ooNxBP0_VXEP"
   },
   "source": [
    "#### Joining Tuples\n",
    "**You can join two or more tuples using + operator:**"
   ]
  },
  {
   "cell_type": "code",
   "execution_count": null,
   "metadata": {
    "id": "ijHDCEAbVz6E"
   },
   "outputs": [],
   "source": [
    "tuple1 = (\"Ram\", \"Shyam\", \"Hari\")\n",
    "tuple2 = (\"Sita\", \"Radha\", \"Laxmi\")\n",
    "tuple3 = tuple1 + tuple2\n",
    "print(tuple3)"
   ]
  },
  {
   "cell_type": "markdown",
   "metadata": {
    "id": "0ZAMeP_BXsO6"
   },
   "source": [
    "**Method\tSummary**\n",
    "\n",
    "**count()**\t=== Returns the number of times a value occurs in a tuple\n",
    "\n",
    "\n",
    "**index()**\t=== Searches the tuple for a value and returns the position of it"
   ]
  },
  {
   "cell_type": "markdown",
   "metadata": {
    "id": "WxN2hBI9UNe2"
   },
   "source": [
    "## Python Dictionary"
   ]
  },
  {
   "cell_type": "markdown",
   "metadata": {
    "id": "z64PPR4vYhDs"
   },
   "source": [
    "Dictionaries are used to store data values in key:value pairs and and can be referred to by using the key name."
   ]
  },
  {
   "cell_type": "code",
   "execution_count": 28,
   "metadata": {
    "colab": {
     "base_uri": "https://localhost:8080/"
    },
    "id": "V8zjriQNT3jA",
    "outputId": "f2e19613-45dc-4dbb-bdd5-c2cd892f9b9a"
   },
   "outputs": [
    {
     "name": "stdout",
     "output_type": "stream",
     "text": [
      "M&M\n"
     ]
    }
   ],
   "source": [
    "shopping_dict = {\n",
    "  \"Rice\": \"Basmati\",\n",
    "  \"Vegetable\": \"Cauliflower\",\n",
    "  \"Fruits\": \"Strawberry\",\n",
    "  \"Soda\" : \"Coca-cola\",\n",
    "  \"Dessert\": \"Ice cream\",\n",
    "  \"Candy\" : \"M&M\",\n",
    "  \"Breakfast\" : \"Corn flakes\",\n",
    "  \"Snacks\" : \"Cookies\",\n",
    "  \"Nuts\" : \"Almond\"\n",
    "}\n",
    "print(shopping_dict[\"Candy\"])"
   ]
  },
  {
   "cell_type": "code",
   "execution_count": null,
   "metadata": {
    "id": "J3onUNhaa-dq"
   },
   "outputs": [],
   "source": [
    "print(shopping_dict[\"Dessert\"])"
   ]
  },
  {
   "cell_type": "markdown",
   "metadata": {
    "id": "OgL1M1Hleapv"
   },
   "source": [
    "**Dictionaries cannot have two items in the same key. ==> Duplicates are not allowed.**\n",
    "\n",
    "*If you have any duplicate value, the later entry will overwrite the existing one:*"
   ]
  },
  {
   "cell_type": "code",
   "execution_count": 29,
   "metadata": {
    "colab": {
     "base_uri": "https://localhost:8080/"
    },
    "id": "egH1BzlOeCe2",
    "outputId": "18740b4f-4ad2-4895-ce82-f437d54eab26"
   },
   "outputs": [
    {
     "name": "stdout",
     "output_type": "stream",
     "text": [
      "{'brand': 'Nissan', 'model': 'Sentra', 'year': 2019}\n"
     ]
    }
   ],
   "source": [
    "MyCar = {\n",
    "  \"brand\": \"Honda\",\n",
    "  \"model\": \"Civic\",\n",
    "  \"year\": 2019,\n",
    "  \"brand\": \"Nissan\",\n",
    "  \"model\": \"Sentra\"\n",
    "}\n",
    "print(MyCar)"
   ]
  },
  {
   "cell_type": "code",
   "execution_count": 30,
   "metadata": {
    "colab": {
     "base_uri": "https://localhost:8080/"
    },
    "id": "H0qqMB3pfFcy",
    "outputId": "50331a4f-7d13-4f91-af5e-854c1c8aa96e"
   },
   "outputs": [
    {
     "data": {
      "text/plain": [
       "dict_keys(['brand', 'model', 'year'])"
      ]
     },
     "execution_count": 30,
     "metadata": {
      "tags": []
     },
     "output_type": "execute_result"
    }
   ],
   "source": [
    "# The keys() method returns a list of all the keys in the dictionary.\n",
    "MyCar.keys()"
   ]
  },
  {
   "cell_type": "code",
   "execution_count": 31,
   "metadata": {
    "colab": {
     "base_uri": "https://localhost:8080/"
    },
    "id": "D9yMOyJ-gjHP",
    "outputId": "c0b053c9-bb66-45cc-9457-5c24325c895c"
   },
   "outputs": [
    {
     "data": {
      "text/plain": [
       "dict_values(['Nissan', 'Sentra', 2019])"
      ]
     },
     "execution_count": 31,
     "metadata": {
      "tags": []
     },
     "output_type": "execute_result"
    }
   ],
   "source": [
    "# The values() method returns a list of all the keys in the dictionary.\n",
    "MyCar.values()"
   ]
  },
  {
   "cell_type": "code",
   "execution_count": 34,
   "metadata": {
    "colab": {
     "base_uri": "https://localhost:8080/"
    },
    "id": "u6yb0vTVg7fg",
    "outputId": "f2ad384c-64b3-4f49-c29c-722aeb876702"
   },
   "outputs": [
    {
     "name": "stdout",
     "output_type": "stream",
     "text": [
      "dict_values(['Honda', 'Civic', 2019])\n",
      "dict_values(['Toyota', 'Camree', 2019])\n"
     ]
    }
   ],
   "source": [
    "# See below how the change of values works\n",
    "MyCar = {\n",
    "  \"brand\": \"Honda\",\n",
    "  \"model\": \"Civic\",\n",
    "  \"year\": 2019\n",
    "}\n",
    "\n",
    "car = MyCar.values()\n",
    "\n",
    "print(car)  # old car \n",
    "\n",
    "MyCar[\"brand\"] = \"Toyota\"\n",
    "MyCar[\"model\"] = \"Camree\"\n",
    "\n",
    "print(car) # new car"
   ]
  },
  {
   "cell_type": "markdown",
   "metadata": {
    "id": "-5PNGz6VnT5c"
   },
   "source": [
    "**Adding an item to the dictionary is done by using a new index key and assigning a value to it**"
   ]
  },
  {
   "cell_type": "code",
   "execution_count": 35,
   "metadata": {
    "colab": {
     "base_uri": "https://localhost:8080/"
    },
    "id": "1mzEmtUFkcO5",
    "outputId": "f96a5901-eb76-4818-fd5c-56b4749e33ad"
   },
   "outputs": [
    {
     "name": "stdout",
     "output_type": "stream",
     "text": [
      "{'brand': 'Honda', 'model': 'Civic', 'year': 2019}\n",
      "{'brand': 'Honda', 'model': 'Civic', 'year': 2019, 'color': 'Silver white'}\n"
     ]
    }
   ],
   "source": [
    "MyCar = {\n",
    "  \"brand\": \"Honda\",\n",
    "  \"model\": \"Civic\",\n",
    "  \"year\": 2019\n",
    "}\n",
    "print(MyCar)\n",
    "\n",
    "MyCar[\"color\"] = \"Silver white\"\n",
    "\n",
    "print(MyCar)"
   ]
  },
  {
   "cell_type": "markdown",
   "metadata": {
    "id": "AJadJ9JipFjq"
   },
   "source": [
    "**New item can be added to the dictionary by using the update() method:**"
   ]
  },
  {
   "cell_type": "code",
   "execution_count": null,
   "metadata": {
    "id": "T_EdKE0uoAz9"
   },
   "outputs": [],
   "source": [
    "MyCar = {\n",
    "  \"brand\": \"Honda\",\n",
    "  \"model\": \"Civic\",\n",
    "  \"year\": 2019\n",
    "}\n",
    "\n",
    "MyCar.update({\"color\" : \"Silver white\"})\n",
    "\n",
    "print(MyCar)\n"
   ]
  },
  {
   "cell_type": "markdown",
   "metadata": {
    "id": "qJKDiFu0p38a"
   },
   "source": [
    "**The pop() method removes the item with the specified key name**"
   ]
  },
  {
   "cell_type": "code",
   "execution_count": null,
   "metadata": {
    "id": "jwu1T6Ipp9bl"
   },
   "outputs": [],
   "source": [
    "MyCar = {\n",
    "  \"brand\": \"Honda\",\n",
    "  \"model\": \"Civic\",\n",
    "  \"color\" : \"Silver white\",\n",
    "  \"year\": 2019\n",
    "}\n",
    "\n",
    "print(MyCar)\n",
    "\n",
    "MyCar.pop(\"model\")\n",
    "\n",
    "print(MyCar)"
   ]
  },
  {
   "cell_type": "markdown",
   "metadata": {
    "id": "FldjQtciqyIN"
   },
   "source": [
    "**The del keyword can be used to delete the dictionary completely:**"
   ]
  },
  {
   "cell_type": "code",
   "execution_count": null,
   "metadata": {
    "id": "sVFByLo6rAoi"
   },
   "outputs": [],
   "source": [
    "del MyCar\n",
    "print(MyCar) # You will see NameError because you have just deleted MyCar and it does not exist anymore"
   ]
  },
  {
   "cell_type": "markdown",
   "metadata": {
    "id": "nfrlOCQxrlxZ"
   },
   "source": [
    "\n",
    "**Method\tSummary** \n",
    "\n",
    "**clear()**\t=== Removes all the elements from the dictionary\n",
    "\n",
    "**copy()** ===\tReturns a copy of the dictionary\n",
    "\n",
    "**fromkeys()** ===\tReturns a dictionary with keys and values\n",
    "\n",
    "**get()** ===\tReturns the value of the specified key\n",
    "\n",
    "**items()**\t=== Returns a list containing a tuple for each key value pair\n",
    "\n",
    "**keys()** ===\tReturns a list containing the dictionary's keys\n",
    "\n",
    "**pop()**\t=== Removes the element with the specified key\n",
    "\n",
    "**popitem()**\t=== Removes the last inserted key-value pair\n",
    "\n",
    "**setdefault()**\t=== Returns the value of the specified key. If the key does not exist: insert the key, with the specified value\n",
    "\n",
    "**update()**\t=== Updates the dictionary with the specified key-value pairs\n",
    "\n",
    "**values()**\t=== Returns a list of all the values in the dictionary"
   ]
  },
  {
   "cell_type": "markdown",
   "metadata": {
    "id": "jkLBLLC5pbgT"
   },
   "source": [
    "## Random Number\n"
   ]
  },
  {
   "cell_type": "markdown",
   "metadata": {
    "id": "JU-uc06yqaIQ"
   },
   "source": [
    "\n",
    "A number is random if it is impossible to predict future values based on past or present ones. Such as predicting a face of a dice in a throw.\n",
    "\n",
    "In python, you got to first import the random number package 'random'."
   ]
  },
  {
   "cell_type": "code",
   "execution_count": 38,
   "metadata": {
    "colab": {
     "base_uri": "https://localhost:8080/"
    },
    "id": "wOFKeUkCoxEF",
    "outputId": "8448077d-0615-489f-db10-c876b40f3917"
   },
   "outputs": [
    {
     "name": "stdout",
     "output_type": "stream",
     "text": [
      "5\n"
     ]
    }
   ],
   "source": [
    "import random\n",
    "\n",
    "print(random.randint(1, 6))"
   ]
  },
  {
   "cell_type": "markdown",
   "metadata": {
    "id": "GGwSz_R_qAIi"
   },
   "source": [
    "## Python Function"
   ]
  },
  {
   "cell_type": "markdown",
   "metadata": {
    "id": "zEozk7WOqSiz"
   },
   "source": [
    "A function is a block of code which only runs when it is called.\n",
    "\n",
    "\n",
    "A function can return data as a result.\n",
    "\n",
    "'def' keyword is used to define a function."
   ]
  },
  {
   "cell_type": "code",
   "execution_count": 39,
   "metadata": {
    "colab": {
     "base_uri": "https://localhost:8080/"
    },
    "id": "aMp0tFQEqEPB",
    "outputId": "a2c4bb4f-417b-4577-e3d6-fc855732cde0"
   },
   "outputs": [
    {
     "name": "stdout",
     "output_type": "stream",
     "text": [
      "Chandra Adhikari\n",
      "Ranju Adhikari\n",
      "Isha Adhikari\n"
     ]
    }
   ],
   "source": [
    "def my_function(first_name): # Note def, and semicolon \n",
    "  print(first_name + \" Adhikari\") # look at the indentation\n",
    "\n",
    "\n",
    "my_function(\"Chandra\")\n",
    "my_function(\"Ranju\")\n",
    "my_function(\"Isha\")"
   ]
  },
  {
   "cell_type": "code",
   "execution_count": 40,
   "metadata": {
    "colab": {
     "base_uri": "https://localhost:8080/"
    },
    "id": "DRZLuu36rLW8",
    "outputId": "4fbfcb0f-2b15-406a-cd32-5c736c0cc03e"
   },
   "outputs": [
    {
     "name": "stdout",
     "output_type": "stream",
     "text": [
      "26\n",
      "65\n",
      "247\n"
     ]
    }
   ],
   "source": [
    "def my_function(x):\n",
    "  return 13 * x\n",
    "\n",
    "print(my_function(2))\n",
    "print(my_function(5))\n",
    "print(my_function(19))"
   ]
  },
  {
   "cell_type": "code",
   "execution_count": 41,
   "metadata": {
    "colab": {
     "base_uri": "https://localhost:8080/"
    },
    "id": "lZZAAw9mxhuS",
    "outputId": "4195480c-c78c-4a95-ca9e-10b457912a69"
   },
   "outputs": [
    {
     "name": "stdout",
     "output_type": "stream",
     "text": [
      "12.566370614359172\n"
     ]
    }
   ],
   "source": [
    "import numpy as np\n",
    "def Circle_Area(r):\n",
    "  area= np.pi* r**2\n",
    "  return area\n",
    "print (Circle_Area(2))"
   ]
  },
  {
   "cell_type": "code",
   "execution_count": 42,
   "metadata": {
    "colab": {
     "base_uri": "https://localhost:8080/"
    },
    "id": "E-YaezYeyWmv",
    "outputId": "1e70ec17-a37b-40bf-8bd2-f059dd04ee23"
   },
   "outputs": [
    {
     "name": "stdout",
     "output_type": "stream",
     "text": [
      "1436.7550402417319\n"
     ]
    }
   ],
   "source": [
    "def volume_sphere (R):\n",
    "  vol= 4/3* np.pi*R**3\n",
    "  return vol\n",
    "print(volume_sphere(7))\n"
   ]
  },
  {
   "cell_type": "markdown",
   "metadata": {
    "id": "FVQKPWuK0oFf"
   },
   "source": [
    "Classwork:\n",
    "\n",
    "Calculate the volume of a cuboid of length 23 cm, bredth 29 cm, and height 31 cm using def keyword to define function cuboid_volume."
   ]
  },
  {
   "cell_type": "code",
   "execution_count": 43,
   "metadata": {
    "colab": {
     "base_uri": "https://localhost:8080/"
    },
    "id": "ZOxGh8uTzD58",
    "outputId": "b2682cef-0984-44a5-902c-bbd661e1c34e"
   },
   "outputs": [
    {
     "name": "stdout",
     "output_type": "stream",
     "text": [
      "20677\n"
     ]
    }
   ],
   "source": [
    "def cuboid_volume (l,b,h):\n",
    "  vol= l*b*h\n",
    "  return vol\n",
    "print(cuboid_volume(23,29,31))"
   ]
  },
  {
   "cell_type": "code",
   "execution_count": null,
   "metadata": {
    "id": "8ZgZSz6316kb"
   },
   "outputs": [],
   "source": []
  },
  {
   "cell_type": "markdown",
   "metadata": {
    "id": "I2EVXtz_1SJY"
   },
   "source": [
    "## Python Class"
   ]
  },
  {
   "cell_type": "code",
   "execution_count": 44,
   "metadata": {
    "id": "DJ02dzs11SJY"
   },
   "outputs": [],
   "source": [
    "import numpy as np\n",
    "class sphere():\n",
    "    def __init__(self,radius):\n",
    "        self.radius=radius\n",
    "    def area(self):\n",
    "        a=4*np.pi*self.radius**2\n",
    "        return a\n",
    "    def volume(self):\n",
    "        v=4/3*np.pi*self.radius**3\n",
    "        return v\n"
   ]
  },
  {
   "cell_type": "code",
   "execution_count": null,
   "metadata": {
    "id": "AbVb6tiH1SJZ"
   },
   "outputs": [],
   "source": [
    "sphere"
   ]
  },
  {
   "cell_type": "code",
   "execution_count": 45,
   "metadata": {
    "colab": {
     "base_uri": "https://localhost:8080/"
    },
    "id": "ELRfKFd91SJZ",
    "outputId": "3f5c6017-7e00-4d56-be21-6ad6fb97575b"
   },
   "outputs": [
    {
     "data": {
      "text/plain": [
       "<__main__.sphere at 0x7fb40a3f0590>"
      ]
     },
     "execution_count": 45,
     "metadata": {
      "tags": []
     },
     "output_type": "execute_result"
    }
   ],
   "source": [
    "sphere(5)"
   ]
  },
  {
   "cell_type": "code",
   "execution_count": 46,
   "metadata": {
    "colab": {
     "base_uri": "https://localhost:8080/"
    },
    "id": "8OqcuVvB1SJZ",
    "outputId": "b78cb012-1bbb-438a-8a9d-09cbfaa3c679"
   },
   "outputs": [
    {
     "data": {
      "text/plain": [
       "314.1592653589793"
      ]
     },
     "execution_count": 46,
     "metadata": {
      "tags": []
     },
     "output_type": "execute_result"
    }
   ],
   "source": [
    "sphere(5).area()"
   ]
  },
  {
   "cell_type": "code",
   "execution_count": 47,
   "metadata": {
    "colab": {
     "base_uri": "https://localhost:8080/"
    },
    "id": "53lkmmMB1SJa",
    "outputId": "16e0427f-e428-493f-f4c2-3deedcd0b92b"
   },
   "outputs": [
    {
     "data": {
      "text/plain": [
       "(1256.6370614359173, 4188.790204786391)"
      ]
     },
     "execution_count": 47,
     "metadata": {
      "tags": []
     },
     "output_type": "execute_result"
    }
   ],
   "source": [
    "sphere(10).area(),sphere(10).volume()"
   ]
  },
  {
   "cell_type": "code",
   "execution_count": null,
   "metadata": {
    "id": "V3eyutBv1SJa"
   },
   "outputs": [],
   "source": [
    "for i in range(10):\n",
    "    print (i,sphere(i).area(),sphere(i).volume())"
   ]
  },
  {
   "cell_type": "code",
   "execution_count": null,
   "metadata": {
    "id": "UGP3RP3s1SJa"
   },
   "outputs": [],
   "source": [
    "#HW4: Create a class to calculate area and volume of a cylinder of radius r and height h. \n",
    "#Determine vlaues when (r=10,h=7)."
   ]
  },
  {
   "cell_type": "markdown",
   "metadata": {
    "id": "IDVao__D2QX_"
   },
   "source": [
    "##Python Conditions: if ..... elif.... else "
   ]
  },
  {
   "cell_type": "markdown",
   "metadata": {
    "id": "zopL4GHy9gd4"
   },
   "source": [
    "Usual logical conditions in Python:\n",
    "\n",
    "Equals: a == b\n",
    "\n",
    "Not Equals: a != b\n",
    "\n",
    "Less than: a < b\n",
    "\n",
    "Less than or equal to: a <= b\n",
    "\n",
    "Greater than: a > b\n",
    "\n",
    "Greater than or equal to: a >= b\n",
    "\n",
    "These conditions are used in \"if statements\" and loops.\n"
   ]
  },
  {
   "cell_type": "code",
   "execution_count": 51,
   "metadata": {
    "colab": {
     "base_uri": "https://localhost:8080/"
    },
    "id": "JI0gQauS2JNu",
    "outputId": "4c3eade6-3f23-4bbc-9429-f00ddae55726"
   },
   "outputs": [
    {
     "name": "stdout",
     "output_type": "stream",
     "text": [
      "b is greater than a\n"
     ]
    }
   ],
   "source": [
    "a = 20\n",
    "b = 33\n",
    "if b > a:  \n",
    "  print(\"b is greater than a\") # Note the indentation\n",
    "elif a == b:  #if the previous conditions were not true, then try this condition\n",
    "  print(\"a and b are equal\") # Note the indentation\n",
    "else: #The else keyword catches anything which isn't caught by the preceding conditions\n",
    "  print(\"a is greater than b\") # Note the indentation"
   ]
  },
  {
   "cell_type": "markdown",
   "metadata": {
    "id": "KsfKttd3-KNz"
   },
   "source": [
    "Python relies on indentation (whitespace at the beginning of a line) to define scope in the code"
   ]
  },
  {
   "cell_type": "code",
   "execution_count": 52,
   "metadata": {
    "colab": {
     "base_uri": "https://localhost:8080/"
    },
    "id": "V8ayBCQg98ZB",
    "outputId": "8f602130-b267-4db3-8fa3-451801308f60"
   },
   "outputs": [
    {
     "name": "stdout",
     "output_type": "stream",
     "text": [
      "Both conditions are True\n"
     ]
    }
   ],
   "source": [
    "#The and keyword is a logical operator, and is used to combine conditional statements\n",
    "a = 40 \n",
    "b = 33  \n",
    "c = 55  \n",
    "if a > b and c > a:\n",
    "  print(\"Both conditions are True\")\n",
    "else:\n",
    "  print(\"At least one condition is not true.\")"
   ]
  },
  {
   "cell_type": "code",
   "execution_count": null,
   "metadata": {
    "id": "ZN4Zx1j2AOtc"
   },
   "outputs": [],
   "source": [
    "a = 10 \n",
    "b = 33  \n",
    "c = 55  \n",
    "if a > b and c > a:\n",
    "  print(\"Both conditions are True\")\n",
    "else:\n",
    "  print(\"At least one condition is not true.\")"
   ]
  },
  {
   "cell_type": "code",
   "execution_count": null,
   "metadata": {
    "id": "mW9YgsPdBJMJ"
   },
   "outputs": [],
   "source": [
    "#The or keyword is a logical operator, and is used to combine conditional statements\n",
    "a = 200\n",
    "b = 33\n",
    "c = 500\n",
    "if a > b or a > c:\n",
    "  print(\"At least one of the conditions is True\")"
   ]
  },
  {
   "cell_type": "code",
   "execution_count": 53,
   "metadata": {
    "colab": {
     "base_uri": "https://localhost:8080/"
    },
    "id": "EQbVxMYAPSaw",
    "outputId": "ddff993f-5b8e-4d81-c85f-eff13c76cc43"
   },
   "outputs": [
    {
     "name": "stdout",
     "output_type": "stream",
     "text": [
      "Above ten,\n",
      "and also above 20!\n"
     ]
    }
   ],
   "source": [
    "#Nested if \n",
    "\n",
    "x = 31\n",
    "\n",
    "if x > 10:\n",
    "  print(\"Above ten,\")\n",
    "  if x > 20:\n",
    "    print(\"and also above 20!\")\n",
    "  else:\n",
    "    print(\"but not above 20.\")"
   ]
  },
  {
   "cell_type": "markdown",
   "metadata": {
    "id": "2q8WHagXAne8"
   },
   "source": [
    "# Loop"
   ]
  },
  {
   "cell_type": "markdown",
   "metadata": {
    "id": "dklkBLu9AzpK"
   },
   "source": [
    "### while loop"
   ]
  },
  {
   "cell_type": "markdown",
   "metadata": {
    "id": "_oIqAZQCPnNQ"
   },
   "source": [
    "With the while loop we can execute a set of statements as long as a condition is true."
   ]
  },
  {
   "cell_type": "code",
   "execution_count": 54,
   "metadata": {
    "colab": {
     "base_uri": "https://localhost:8080/"
    },
    "id": "hYy9fsfkA_-c",
    "outputId": "1cca2307-6156-4e45-8713-d77309058188"
   },
   "outputs": [
    {
     "name": "stdout",
     "output_type": "stream",
     "text": [
      "0\n",
      "1\n",
      "2\n",
      "3\n",
      "4\n",
      "5\n",
      "6\n",
      "7\n",
      "8\n",
      "9\n"
     ]
    }
   ],
   "source": [
    "i = 0\n",
    "while i < 10:\n",
    "  print(i)\n",
    "  i += 1"
   ]
  },
  {
   "cell_type": "markdown",
   "metadata": {
    "id": "v3dt8Q_oRH7c"
   },
   "source": [
    "How many times the while loop runs?\n",
    "\n",
    "11 times"
   ]
  },
  {
   "cell_type": "markdown",
   "metadata": {
    "id": "Ht-WHC9ORrcP"
   },
   "source": [
    "With the continue statement we can stop the current iteration, and continue with the next:"
   ]
  },
  {
   "cell_type": "code",
   "execution_count": null,
   "metadata": {
    "id": "n1ZUEwbOSgFy"
   },
   "outputs": [],
   "source": [
    "i = 0\n",
    "while i < 10:\n",
    "  i += 1\n",
    "  if i == 5:\n",
    "    continue\n",
    "  print(i)\n",
    "\n",
    "# Note that number 5 is missing in the result"
   ]
  },
  {
   "cell_type": "markdown",
   "metadata": {
    "id": "0VYaA1f8Sk4y"
   },
   "source": [
    "When is the continue key necessary?\n",
    "\n"
   ]
  },
  {
   "cell_type": "code",
   "execution_count": null,
   "metadata": {
    "id": "3s5mdk5kS6n-"
   },
   "outputs": [],
   "source": [
    "# Note the ZeroDivisionError\n",
    "i = 0\n",
    "while i < 10:\n",
    "  i += 1\n",
    "  y=1/(5-i)\n",
    "  print(y)"
   ]
  },
  {
   "cell_type": "code",
   "execution_count": null,
   "metadata": {
    "id": "Lbbhj82GRcOn"
   },
   "outputs": [],
   "source": [
    "i = 0\n",
    "while i < 10:\n",
    "  i += 1\n",
    "  if i == 5:\n",
    "    continue\n",
    "  y=1/(5-i)\n",
    "  print(y)\n"
   ]
  },
  {
   "cell_type": "code",
   "execution_count": null,
   "metadata": {
    "id": "K_FUs7_rS5Ns"
   },
   "outputs": [],
   "source": [
    "#Use of else in while loop\n",
    "num = 10\n",
    "while num > 6:\n",
    "   print(num)\n",
    "   num = num-1\n",
    "else:\n",
    "   print(\"loop is finished\")"
   ]
  },
  {
   "cell_type": "markdown",
   "metadata": {
    "id": "uY71yfg-A4eS"
   },
   "source": [
    "### for loop"
   ]
  },
  {
   "cell_type": "markdown",
   "metadata": {
    "id": "icZ8KjYIT6F2"
   },
   "source": [
    "A for loop is used for iterating over a sequence (that is either a list, a tuple, a dictionary, a set, or a string)"
   ]
  },
  {
   "cell_type": "code",
   "execution_count": 55,
   "metadata": {
    "colab": {
     "base_uri": "https://localhost:8080/"
    },
    "id": "UHDlB3rIUGYr",
    "outputId": "e2ec3288-254f-46c3-caf0-193e3e93b4e5"
   },
   "outputs": [
    {
     "name": "stdout",
     "output_type": "stream",
     "text": [
      "mango\n",
      "pinapale\n",
      "orangeapple\n",
      "banana\n",
      "cherry\n"
     ]
    }
   ],
   "source": [
    "fruits = [\"mango\", \"pinapale\", \"orange\" \"apple\", \"banana\", \"cherry\"]\n",
    "for x in fruits:\n",
    "  print(x)"
   ]
  },
  {
   "cell_type": "markdown",
   "metadata": {
    "id": "A3XGoz_xUp0s"
   },
   "source": [
    "Using the range() function:"
   ]
  },
  {
   "cell_type": "code",
   "execution_count": 56,
   "metadata": {
    "colab": {
     "base_uri": "https://localhost:8080/"
    },
    "id": "6NSSKF-bUot2",
    "outputId": "9e929c5e-b338-441f-fe40-80693781a631"
   },
   "outputs": [
    {
     "name": "stdout",
     "output_type": "stream",
     "text": [
      "0\n",
      "1\n",
      "2\n",
      "3\n",
      "4\n",
      "5\n",
      "6\n",
      "7\n",
      "8\n",
      "9\n"
     ]
    }
   ],
   "source": [
    "for x in range(10):\n",
    "  print(x)"
   ]
  },
  {
   "cell_type": "markdown",
   "metadata": {
    "id": "UjHqfoQiU9nX"
   },
   "source": [
    "Note that range(10) is not the values of 0 to 10, but the values 0 to 9."
   ]
  },
  {
   "cell_type": "code",
   "execution_count": null,
   "metadata": {
    "id": "DPMWKOMfVD7i"
   },
   "outputs": [],
   "source": [
    "for x in range(5,10): # You can specify the starting value other than 0 as well\n",
    "  print(x)"
   ]
  },
  {
   "cell_type": "markdown",
   "metadata": {
    "id": "UFTUswMjVOv6"
   },
   "source": [
    "**Use range(10) function to display 0,2,4,6 and 8**"
   ]
  },
  {
   "cell_type": "code",
   "execution_count": null,
   "metadata": {
    "id": "TK_frvS-VjXY"
   },
   "outputs": [],
   "source": [
    "for x in range(10):\n",
    "  if x%2==0:\n",
    "    print(x)\n"
   ]
  },
  {
   "cell_type": "markdown",
   "metadata": {
    "id": "KsPXzfhyWaDF"
   },
   "source": [
    "**Use range(10) function to display 3,5,7,9 and 11**"
   ]
  },
  {
   "cell_type": "code",
   "execution_count": null,
   "metadata": {
    "id": "CdTDxk1RW4Es"
   },
   "outputs": [],
   "source": [
    "#Note: There are other possibility as well. Find them.\n",
    "for x in range(10):\n",
    "  if x%2!=0:\n",
    "    print(x+2)"
   ]
  },
  {
   "cell_type": "code",
   "execution_count": null,
   "metadata": {
    "id": "Ldx8-YubRa-o"
   },
   "outputs": [],
   "source": [
    "# program to display all the elements before number 88\n",
    "for num in [11, 9, 88, 10, 90, 3, 19]:\n",
    "   print(num)\n",
    "   if(num==88):\n",
    "\t   print(\"The number 88 is found\")\n",
    "\t   print(\"Terminating the loop\")\n",
    "\t   break"
   ]
  },
  {
   "cell_type": "code",
   "execution_count": null,
   "metadata": {
    "id": "JNOygE1CXYn3"
   },
   "outputs": [],
   "source": [
    "adj = [\"red\", \"big\", \"tasty\"]\n",
    "fruits = [\"apple\", \"banana\", \"cherry\"]\n",
    "\n",
    "for x in adj:\n",
    "  for y in fruits:\n",
    "    print(x, y)"
   ]
  },
  {
   "cell_type": "code",
   "execution_count": null,
   "metadata": {
    "id": "HdTpi074XhXj"
   },
   "outputs": [],
   "source": [
    "for x in range(3):\n",
    "  for y in range(5,10):\n",
    "    print((x, y))"
   ]
  },
  {
   "cell_type": "markdown",
   "metadata": {
    "id": "cGKUp8-tYgSt"
   },
   "source": [
    "**Q. When to use while and when to use for loop?**\n",
    "\n",
    "**The for statement iterates through a collection or iterable object or generator function.**\n",
    "\n",
    "**The while statement simply loops until a condition is False.**\n",
    "\n",
    "It isn't preference. It's a question of what your data structures are.\n",
    "\n",
    "Often, we represent the values we want to process as a range (an actual list), or xrange (which generates the values). This gives us a data structure tailor-made for the for statement.\n",
    "\n",
    "Generally, however, we have a ready-made collection: a set, tuple, list, map or even a string is already an iterable collection, so we simply use a for loop.\n",
    "\n",
    "In a few cases, we might want some functional-programming processing done for us, in which case we can apply that transformation as part of iteration. The sorted and enumerate functions apply a transformation on an iterable that fits naturally with the for statement.\n",
    "\n",
    "If you don't have a tidy data structure to iterate through, or you don't have a generator function that drives your processing, you must use while."
   ]
  },
  {
   "cell_type": "markdown",
   "metadata": {
    "id": "5PzemH3JFhj9"
   },
   "source": [
    "## Activities"
   ]
  },
  {
   "cell_type": "markdown",
   "metadata": {
    "id": "ybHV21H2FogL"
   },
   "source": [
    "### Number Guessing game"
   ]
  },
  {
   "cell_type": "code",
   "execution_count": 57,
   "metadata": {
    "colab": {
     "base_uri": "https://localhost:8080/"
    },
    "id": "60A5VPlmFm8y",
    "outputId": "d2985e40-9cb0-4f1b-a5d0-56dffd430acf"
   },
   "outputs": [
    {
     "name": "stdout",
     "output_type": "stream",
     "text": [
      "Guess a number in between 1 to 100: 35\n",
      "Your guess is too low, go higher!\n",
      "Guess a number in between 1 to 100: 50\n",
      "Your guess is too low, go higher!\n",
      "Guess a number in between 1 to 100: 70\n",
      "Your guess is too high, go lower!\n",
      "Guess a number in between 1 to 100: 60\n",
      "Your guess is too high, go lower!\n",
      "Guess a number in between 1 to 100: 55\n",
      "Your guess is too low, go higher!\n",
      "Guess a number in between 1 to 100: 57\n",
      "Bravo! You guessed it right in 6 attempts!\n"
     ]
    }
   ],
   "source": [
    "import random\n",
    "number = random.randint(1, 100)\n",
    "attempts = 0  # count no of attempts to guess the number\n",
    "guess = 0\n",
    "while guess != number:\n",
    "    guess = int(input('Guess a number in between 1 to 100: '))\n",
    "    attempts += 1\n",
    "    if guess == number:\n",
    "        print ('Bravo! You guessed it right in', attempts, 'attempts!')\n",
    "        break\n",
    "    elif guess < number:\n",
    "        print ('Your guess is too low, go higher!')\n",
    "    else:\n",
    "        print ('Your guess is too high, go lower!')"
   ]
  },
  {
   "cell_type": "markdown",
   "metadata": {
    "id": "MClivRB5vU0W"
   },
   "source": [
    "### Count Each Vowel Present in a String Entered by the User"
   ]
  },
  {
   "cell_type": "markdown",
   "metadata": {
    "id": "hus6ZAaD6PgL"
   },
   "source": [
    "You can use a paragraph from here:\n",
    "https://en.wikipedia.org/wiki/Nepal"
   ]
  },
  {
   "cell_type": "code",
   "execution_count": null,
   "metadata": {
    "id": "nr9qartxFuUq"
   },
   "outputs": [],
   "source": [
    "Input_Text= input(\"Enter the text in which you want to count the vowel letters: \")\n",
    "Input_Text=Input_Text.casefold()\n",
    "\n",
    "Vowels_Letter= \"aeiou\"\n",
    "\n",
    "Vowels_Data={}.fromkeys(Vowels_Letter,0)\n",
    "\n",
    "for character in Input_Text:\n",
    "  if character in Vowels_Letter:\n",
    "    Vowels_Data[character] += 1\n",
    "\n",
    "for vowel in Vowels_Data:\n",
    "  print(vowel, \"=>\",Vowels_Data[vowel])\n"
   ]
  },
  {
   "cell_type": "markdown",
   "metadata": {
    "id": "9CpQZE4-091H"
   },
   "source": [
    "## Projects"
   ]
  },
  {
   "cell_type": "markdown",
   "metadata": {
    "id": "bu1qBLJLjgIl"
   },
   "source": [
    "#### Fibonacci Number\n",
    "\n",
    "[Click here to wiki page of Fibonacci Number](https://en.wikipedia.org/wiki/Fibonacci_number)"
   ]
  },
  {
   "cell_type": "markdown",
   "metadata": {
    "id": "opAx_usfHbzF"
   },
   "source": [
    "Fibonacci sequence is a suquence of numbers, in which  each number is the sum of the two preceding numbers, starting from 0 and 1. In mathematical terms, the sequence $F_n$ of Fibonacci numbers is defined by\n",
    "\n",
    "   $ F_n = F_{n-1} + F_{n-2}$ with seed values  $F_0 = 0$ and $F_1 = 1$. \n",
    "\n",
    "   \n",
    "   \n",
    " Some Fibonacci numbers are \n",
    "0, 1, 1, 2, 3, 5, 8, 13, 21, 34, 55, 89, 144 ... ."
   ]
  },
  {
   "cell_type": "code",
   "execution_count": 59,
   "metadata": {
    "colab": {
     "base_uri": "https://localhost:8080/"
    },
    "id": "O5W16iX5j4Mh",
    "outputId": "e6e94949-495d-4c0e-f0a7-4adfd88db069"
   },
   "outputs": [
    {
     "name": "stdout",
     "output_type": "stream",
     "text": [
      "144\n"
     ]
    }
   ],
   "source": [
    "def fibonacci(n):\n",
    "    F0 = 0\n",
    "    F1 = 1\n",
    "     \n",
    "    # Check is n is less\n",
    "    # than 0\n",
    "    if n < 0:\n",
    "        print(\"Please enter number greater than 0\")\n",
    "         \n",
    "    # Check is n is equal\n",
    "    # to 0\n",
    "    elif n == 0:\n",
    "        return 0\n",
    "       \n",
    "    # Check if n is equal to 1\n",
    "    elif n == 1:\n",
    "        return F1\n",
    "    else:\n",
    "        for i in range(1, n):\n",
    "            Fn = F0 + F1\n",
    "            F0 = F1\n",
    "            F1 = Fn\n",
    "        return Fn\n",
    " \n",
    "# Driver Program\n",
    "print(fibonacci(12))"
   ]
  },
  {
   "cell_type": "markdown",
   "metadata": {
    "id": "41VfSK6XPDF1"
   },
   "source": [
    "**Homework**: Plot first 20 items of Fibonachhi sequence. "
   ]
  },
  {
   "cell_type": "markdown",
   "metadata": {
    "id": "LdVio7joRO-p"
   },
   "source": [
    "###Catalan Number"
   ]
  },
  {
   "cell_type": "markdown",
   "metadata": {
    "id": "l9978EgRRjG8"
   },
   "source": [
    "Catalan numbers are a sequence of natural numbers that are defined by the recursive formula −\n",
    "\n",
    "$C_0=1$ and $C_{n+1}=\\sum_{i=0}^n C_iC_{n−i}\\quad$ for $ n≥0$.\n",
    "\n",
    "The first few Catalan numbers for n = 0, 1, 2, 3, … are 1, 1, 2, 5, 14, 42, 132,429,..........."
   ]
  },
  {
   "cell_type": "markdown",
   "metadata": {
    "id": "Hcolynu2j5oH"
   },
   "source": [
    "#### Projectile"
   ]
  },
  {
   "cell_type": "markdown",
   "metadata": {
    "id": "__L-sSZ0yt5F"
   },
   "source": [
    "![Capture2.JPG](data:image/jpeg;base64,/9j/4AAQSkZJRgABAQEAYABgAAD/4SScRXhpZgAATU0AKgAAAAgACAALAAIAAAAmAAAIegESAAMAAAABAAEAAAExAAIAAAAmAAAIoAEyAAIAAAAUAAAIxgE7AAIAAAAJAAAI2odpAAQAAAABAAAI5JydAAEAAAASAAARaOocAAcAAAgMAAAAbgAAEXoc6gAAAAgAAAAAAAAAAAAAAAAAAAAAAAAAAAAAAAAAAAAAAAAAAAAAAAAAAAAAAAAAAAAAAAAAAAAAAAAAAAAAAAAAAAAAAAAAAAAAAAAAAAAAAAAAAAAAAAAAAAAAAAAAAAAAAAAAAAAAAAAAAAAAAAAAAAAAAAAAAAAAAAAAAAAAAAAAAAAAAAAAAAAAAAAAAAAAAAAAAAAAAAAAAAAAAAAAAAAAAAAAAAAAAAAAAAAAAAAAAAAAAAAAAAAAAAAAAAAAAAAAAAAAAAAAAAAAAAAAAAAAAAAAAAAAAAAAAAAAAAAAAAAAAAAAAAAAAAAAAAAAAAAAAAAAAAAAAAAAAAAAAAAAAAAAAAAAAAAAAAAAAAAAAAAAAAAAAAAAAAAAAAAAAAAAAAAAAAAAAAAAAAAAAAAAAAAAAAAAAAAAAAAAAAAAAAAAAAAAAAAAAAAAAAAAAAAAAAAAAAAAAAAAAAAAAAAAAAAAAAAAAAAAAAAAAAAAAAAAAAAAAAAAAAAAAAAAAAAAAAAAAAAAAAAAAAAAAAAAAAAAAAAAAAAAAAAAAAAAAAAAAAAAAAAAAAAAAAAAAAAAAAAAAAAAAAAAAAAAAAAAAAAAAAAAAAAAAAAAAAAAAAAAAAAAAAAAAAAAAAAAAAAAAAAAAAAAAAAAAAAAAAAAAAAAAAAAAAAAAAAAAAAAAAAAAAAAAAAAAAAAAAAAAAAAAAAAAAAAAAAAAAAAAAAAAAAAAAAAAAAAAAAAAAAAAAAAAAAAAAAAAAAAAAAAAAAAAAAAAAAAAAAAAAAAAAAAAAAAAAAAAAAAAAAAAAAAAAAAAAAAAAAAAAAAAAAAAAAAAAAAAAAAAAAAAAAAAAAAAAAAAAAAAAAAAAAAAAAAAAAAAAAAAAAAAAAAAAAAAAAAAAAAAAAAAAAAAAAAAAAAAAAAAAAAAAAAAAAAAAAAAAAAAAAAAAAAAAAAAAAAAAAAAAAAAAAAAAAAAAAAAAAAAAAAAAAAAAAAAAAAAAAAAAAAAAAAAAAAAAAAAAAAAAAAAAAAAAAAAAAAAAAAAAAAAAAAAAAAAAAAAAAAAAAAAAAAAAAAAAAAAAAAAAAAAAAAAAAAAAAAAAAAAAAAAAAAAAAAAAAAAAAAAAAAAAAAAAAAAAAAAAAAAAAAAAAAAAAAAAAAAAAAAAAAAAAAAAAAAAAAAAAAAAAAAAAAAAAAAAAAAAAAAAAAAAAAAAAAAAAAAAAAAAAAAAAAAAAAAAAAAAAAAAAAAAAAAAAAAAAAAAAAAAAAAAAAAAAAAAAAAAAAAAAAAAAAAAAAAAAAAAAAAAAAAAAAAAAAAAAAAAAAAAAAAAAAAAAAAAAAAAAAAAAAAAAAAAAAAAAAAAAAAAAAAAAAAAAAAAAAAAAAAAAAAAAAAAAAAAAAAAAAAAAAAAAAAAAAAAAAAAAAAAAAAAAAAAAAAAAAAAAAAAAAAAAAAAAAAAAAAAAAAAAAAAAAAAAAAAAAAAAAAAAAAAAAAAAAAAAAAAAAAAAAAAAAAAAAAAAAAAAAAAAAAAAAAAAAAAAAAAAAAAAAAAAAAAAAAAAAAAAAAAAAAAAAAAAAAAAAAAAAAAAAAAAAAAAAAAAAAAAAAAAAAAAAAAAAAAAAAAAAAAAAAAAAAAAAAAAAAAAAAAAAAAAAAAAAAAAAAAAAAAAAAAAAAAAAAAAAAAAAAAAAAAAAAAAAAAAAAAAAAAAAAAAAAAAAAAAAAAAAAAAAAAAAAAAAAAAAAAAAAAAAAAAAAAAAAAAAAAAAAAAAAAAAAAAAAAAAAAAAAAAAAAAAAAAAAAAAAAAAAAAAAAAAAAAAAAAAAAAAAAAAAAAAAAAAAAAAAAAAAAAAAAAAAAAAAAAAAAAAAAAAAAAAAAAAAAAAAAAAAAAAAAAAAAAAAAAAAAAAAAAAAAAAAAAAAAAAAAAAAAAAAAAAAAAAAAAAAAAAAAAAAAAAAAAAAAAAAAAAAAAAAAAAAAAAAAAAAAAAAAAAAAAAAAAAAAAAAAAAAAAAAAAAAAAAAAAAAAAAAAAAAAAAAAAAAAAAAAAAAAAAAAAAAAAAAAAAAAAAAAAAAAAAAAAAAAAAAAAAAAAAAAAAAAAAAAAAAAAAAAAAAAAAAAAAAAAAAAAAAAAAAAAAAAAAAAAAAAAAAAAAAAAAAAAAAAAAAAAAAAAAAAAAAAAAAAAAAAAAAAAAAAAAAAAAAAAAAAAAAAAAAAAAAAAAAAAAAAAAAAAAAAAAAAAAAAAAAAAAAAAAAAAAAAAAAAAAAAAAAAAAAAAAAAAAAAAAAAAAAAAAAAAAAAAAAAAAAAAAAAAAAAAAAAAAAAAAAAAAAAAAAAAAAAAAAAAAAAAAAAAAAAAAAAAAAAAAAAAAAAAAAAAAAAAAAAAAAAAAAAAAAAAAAAAAAAAAAAAAAAAAAAAAAAAAAAAAAAAAAAAAAAAAAAAAAAAAAAAAAAAAAAAAAAAAAAAAAAAAAAAAAAAAAAAAAAAAAAAAAAAAAAAAAAAAAAAAAAAAAAAAAAAAAAAAAAAAAAAAAAAAAAAAAAAAAAAAAAAAAAAAAAAAAAAAAAAAAAAAAAAAAAAAAAAAAAAAAAAAAAAAAAAAAAAAAAAAAAAAAAAAAAAAAAAAAAAAAAAAAAAAAAAAAAAAAAAAAAAAAAAAAAAAAAAAAAAAAAAAAAAAAAAAAAAAAAAAAAAAAAAAAAAAAAAAAAAAAAAAAAAAAAAAAAAAAAAAAAAAAAAAAAAAAAAAAAAAAFdpbmRvd3MgUGhvdG8gRWRpdG9yIDEwLjAuMTAwMTEuMTYzODQAV2luZG93cyBQaG90byBFZGl0b3IgMTAuMC4xMDAxMS4xNjM4NAAyMDIxOjA2OjIyIDE4OjEzOjAzAGFkaGlrYXJpAAAABpADAAIAAAAUAAARPpAEAAIAAAAUAAARUpKRAAIAAAADNjgAAJKSAAIAAAADNjgAAKABAAMAAAABAAEAAOocAAcAAAgMAAAJMgAAAAAc6gAAAAgAAAAAAAAAAAAAAAAAAAAAAAAAAAAAAAAAAAAAAAAAAAAAAAAAAAAAAAAAAAAAAAAAAAAAAAAAAAAAAAAAAAAAAAAAAAAAAAAAAAAAAAAAAAAAAAAAAAAAAAAAAAAAAAAAAAAAAAAAAAAAAAAAAAAAAAAAAAAAAAAAAAAAAAAAAAAAAAAAAAAAAAAAAAAAAAAAAAAAAAAAAAAAAAAAAAAAAAAAAAAAAAAAAAAAAAAAAAAAAAAAAAAAAAAAAAAAAAAAAAAAAAAAAAAAAAAAAAAAAAAAAAAAAAAAAAAAAAAAAAAAAAAAAAAAAAAAAAAAAAAAAAAAAAAAAAAAAAAAAAAAAAAAAAAAAAAAAAAAAAAAAAAAAAAAAAAAAAAAAAAAAAAAAAAAAAAAAAAAAAAAAAAAAAAAAAAAAAAAAAAAAAAAAAAAAAAAAAAAAAAAAAAAAAAAAAAAAAAAAAAAAAAAAAAAAAAAAAAAAAAAAAAAAAAAAAAAAAAAAAAAAAAAAAAAAAAAAAAAAAAAAAAAAAAAAAAAAAAAAAAAAAAAAAAAAAAAAAAAAAAAAAAAAAAAAAAAAAAAAAAAAAAAAAAAAAAAAAAAAAAAAAAAAAAAAAAAAAAAAAAAAAAAAAAAAAAAAAAAAAAAAAAAAAAAAAAAAAAAAAAAAAAAAAAAAAAAAAAAAAAAAAAAAAAAAAAAAAAAAAAAAAAAAAAAAAAAAAAAAAAAAAAAAAAAAAAAAAAAAAAAAAAAAAAAAAAAAAAAAAAAAAAAAAAAAAAAAAAAAAAAAAAAAAAAAAAAAAAAAAAAAAAAAAAAAAAAAAAAAAAAAAAAAAAAAAAAAAAAAAAAAAAAAAAAAAAAAAAAAAAAAAAAAAAAAAAAAAAAAAAAAAAAAAAAAAAAAAAAAAAAAAAAAAAAAAAAAAAAAAAAAAAAAAAAAAAAAAAAAAAAAAAAAAAAAAAAAAAAAAAAAAAAAAAAAAAAAAAAAAAAAAAAAAAAAAAAAAAAAAAAAAAAAAAAAAAAAAAAAAAAAAAAAAAAAAAAAAAAAAAAAAAAAAAAAAAAAAAAAAAAAAAAAAAAAAAAAAAAAAAAAAAAAAAAAAAAAAAAAAAAAAAAAAAAAAAAAAAAAAAAAAAAAAAAAAAAAAAAAAAAAAAAAAAAAAAAAAAAAAAAAAAAAAAAAAAAAAAAAAAAAAAAAAAAAAAAAAAAAAAAAAAAAAAAAAAAAAAAAAAAAAAAAAAAAAAAAAAAAAAAAAAAAAAAAAAAAAAAAAAAAAAAAAAAAAAAAAAAAAAAAAAAAAAAAAAAAAAAAAAAAAAAAAAAAAAAAAAAAAAAAAAAAAAAAAAAAAAAAAAAAAAAAAAAAAAAAAAAAAAAAAAAAAAAAAAAAAAAAAAAAAAAAAAAAAAAAAAAAAAAAAAAAAAAAAAAAAAAAAAAAAAAAAAAAAAAAAAAAAAAAAAAAAAAAAAAAAAAAAAAAAAAAAAAAAAAAAAAAAAAAAAAAAAAAAAAAAAAAAAAAAAAAAAAAAAAAAAAAAAAAAAAAAAAAAAAAAAAAAAAAAAAAAAAAAAAAAAAAAAAAAAAAAAAAAAAAAAAAAAAAAAAAAAAAAAAAAAAAAAAAAAAAAAAAAAAAAAAAAAAAAAAAAAAAAAAAAAAAAAAAAAAAAAAAAAAAAAAAAAAAAAAAAAAAAAAAAAAAAAAAAAAAAAAAAAAAAAAAAAAAAAAAAAAAAAAAAAAAAAAAAAAAAAAAAAAAAAAAAAAAAAAAAAAAAAAAAAAAAAAAAAAAAAAAAAAAAAAAAAAAAAAAAAAAAAAAAAAAAAAAAAAAAAAAAAAAAAAAAAAAAAAAAAAAAAAAAAAAAAAAAAAAAAAAAAAAAAAAAAAAAAAAAAAAAAAAAAAAAAAAAAAAAAAAAAAAAAAAAAAAAAAAAAAAAAAAAAAAAAAAAAAAAAAAAAAAAAAAAAAAAAAAAAAAAAAAAAAAAAAAAAAAAAAAAAAAAAAAAAAAAAAAAAAAAAAAAAAAAAAAAAAAAAAAAAAAAAAAAAAAAAAAAAAAAAAAAAAAAAAAAAAAAAAAAAAAAAAAAAAAAAAAAAAAAAAAAAAAAAAAAAAAAAAAAAAAAAAAAAAAAAAAAAAAAAAAAAAAAAAAAAAAAAAAAAAAAAAAAAAAAAAAAAAAAAAAAAAAAAAAAAAAAAAAAAAAAAAAAAAAAAAAAAAAAAAAAAAAAAAAAAAAAAAAAAAAAAAAAAAAAAAAAAAAAAAAAAAAAAAAAAAAAAAAAAAAAAAAAAAAAAAAAAAAAAAAAAAAAAAAAAAAAAAAAAAAAAAAAAAAAAAAAAAAAAAAAAAAAAAAAAAAAAAAAAAAAAAAAAAAAAAAAAAAAAAAAAAAAAAAAAAAAAAAAAAAAAAAAAAAAAAAAAAAAAAAAAAAAAAAAAAAAAAAAAAAAAAAAAAAAAAAAAAAAAAAAAAAAAAAAAAAAAAAAAAAAAAAAAAAAAAAAAAAAAAAAAAAAAAAAAAAAAAAAAAAAAAAAAAAAAAAAAAAAAAAAAAAAAAAAAAAAAAAAAAAAAAAAAAAAAAAAAAAAAAAAAAAAAAAAAAAAAAAAAAAAAAAAAAAAAAAAAAAAAAAAAAAAAAAAAAAAAAAAAAAAAAAAAAAAAAAAAAAAAAAAAAAAAAAAAAAAAAAAAAAAAAAAAAAAAAAAAAAAAAAAAAAAAAAAAAAAAAAAAAAAAAAAAAAAAAAAAAAAAAAAAAAAAAAAAAAAAAAAAAAAAAADIwMjE6MDY6MjIgMTg6MDk6MDcAMjAyMTowNjoyMiAxODowOTowNwAAAGEAZABoAGkAawBhAHIAaQAAAAAGAQMAAwAAAAEABgAAARoABQAAAAEAABHIARsABQAAAAEAABHQASgAAwAAAAEAAgAAAgEABAAAAAEAABHYAgIABAAAAAEAABK7AAAAAAAAAGAAAAABAAAAYAAAAAH/2P/bAEMACAYGBwYFCAcHBwkJCAoMFA0MCwsMGRITDxQdGh8eHRocHCAkLicgIiwjHBwoNyksMDE0NDQfJzk9ODI8LjM0Mv/bAEMBCQkJDAsMGA0NGDIhHCEyMjIyMjIyMjIyMjIyMjIyMjIyMjIyMjIyMjIyMjIyMjIyMjIyMjIyMjIyMjIyMjIyMv/AABEIAFkBAAMBIQACEQEDEQH/xAAfAAABBQEBAQEBAQAAAAAAAAAAAQIDBAUGBwgJCgv/xAC1EAACAQMDAgQDBQUEBAAAAX0BAgMABBEFEiExQQYTUWEHInEUMoGRoQgjQrHBFVLR8CQzYnKCCQoWFxgZGiUmJygpKjQ1Njc4OTpDREVGR0hJSlNUVVZXWFlaY2RlZmdoaWpzdHV2d3h5eoOEhYaHiImKkpOUlZaXmJmaoqOkpaanqKmqsrO0tba3uLm6wsPExcbHyMnK0tPU1dbX2Nna4eLj5OXm5+jp6vHy8/T19vf4+fr/xAAfAQADAQEBAQEBAQEBAAAAAAAAAQIDBAUGBwgJCgv/xAC1EQACAQIEBAMEBwUEBAABAncAAQIDEQQFITEGEkFRB2FxEyIygQgUQpGhscEJIzNS8BVictEKFiQ04SXxFxgZGiYnKCkqNTY3ODk6Q0RFRkdISUpTVFVWV1hZWmNkZWZnaGlqc3R1dnd4eXqCg4SFhoeIiYqSk5SVlpeYmZqio6Slpqeoqaqys7S1tre4ubrCw8TFxsfIycrS09TV1tfY2dri4+Tl5ufo6ery8/T19vf4+fr/2gAMAwEAAhEDEQA/APZnjYu3zHr60nlt/eP50AHlt/eP50eW394/nQAeW394/nR5Tf3j+dAB5Tf3j+dHlN/eNAB5Tf3jR5Tf3j+dAC+S/wDeP502YpbQtNcTrFGoyzu20D8TQ3bccYuTstzkLz4kaYtw1po0F3rF2DjZaISv/fX+FMW8+Imqjdb2FjpMZ6G4fe4H0Fc7qSlpA9eGDo0FzYl69v8AMkHhvxrcDN14xMeeqwW4GKX/AIQvX+p8a6ln/dFL2VR7yK+v4WOkaSYHwx4xgGbXxnK+OgngBqMv8R9NG549O1VB2RjG5/Pijlqw2dx+2wNfSceV+QyP4jxWcqweI9K1DSJCcb3jLxn8RXXWN7Z6rbiewvYrmI/xROGrSFVS0e5xYnAypLnjrHuWDE/94/nSeU394/nWpwh5bf3j+dHlt/eP50AHlt/eP50eW394/nQAeW394/nUdxJHZ20lzczrFDGNzyO2Ao9SaAJFXeiuj7lYZBB4IpfLb+8fzoAcqN6mrECsJByaAJDHyeKTyvagA8r2o8r2oAPLFJsX1H50WCzOd8U6ndaV9mltZ0EZJFwuwMUToZPoueldBH5bxI6yK4KghgevvW04JU4ySNZQtBNIfsX1H51y/i3xrZ+F5reyjtXvtRuOY7eNsYGcAk/Wqw2HlXqKCHRourPlOct/ivPqKfYLDw9O2tO+yOHeDGPcng8fT8a0LfwBqGuSreeMdSe6YncLGBtsKe3vWWOwk6Vb2T2/M9NKGAi5bze3kjs7DSrHS7dYLC0ht4x/DGgFWdntWaSSsjyZ1JVJc0ndieXR5ftTIDy6XZ7UAMntYLqJoriGOWNhgrIoYH8DXHah8NbETteeH7qbR73rugP7tvqvpWc6al6nbhMZKg7PWL3RSh8X6z4XuUsvGVifs7HbHqdsu6M/7w7V3drNbX9slzaTRzQuMq6NkEUqc2/dluisZhowtVpawf4eRL5XtR5XtWpwB5XtR5XtQAeV7Vznj3RYda8E6lZ3FzJbRGPe0iE/w884BOOKANLQNNj03w9p9lHNJNHDboiySHLMMcZrR8oUAL5YqRFwaAH7eaNtABto20AMmt0nheKQZRxtYZxxWf8A8I9ppkMhgO4uJCfMb7w/GrhUlDYqM5R2G/8ACM6VkH7MDjdjMjH7wwe9A8NaWE2C3IXZ5ePMb7uc461f1ip3L9tPuLJoGkxRySSxbUGGdjKwA29D1rwzxVcW0/jKTW9IguZtLgljVpwpKF15IU+ld+WYr/aVCb+JNHo5epzcpvZfqXPhtpN1qfjlNSto5hY2zvI8zrjOQQF+vNe+FarOainiEl0RjmM1KrZdEJto215B54baNtABto20AG2jbQBHcWsF5bvb3MSSwuMMjjIIrz6+8Kav4OuX1TwhI01qTun0qRiVYf7HoayqQb96O6O/BYiMb0anwS/DzOn8M+K9O8UWpa2YxXUfE9rJw8bd8j0963tlXCSkro5sRRlQqOnLoG2jbVGIbazfEK48OaicuP8AR35jUMw47DuaALdiudOtjknMS/eGD0HWp9tABtHpSgc0AOxRtFABtFG0UAG0UbRQAbRTXZIkZ3YKqjJJOABQCV3ZHml9eX/xJ1Z9L0yR7fw5bvi7u14Nwf7i+1eg2OlWOm6bHYWttGltGu0R7ePx9aypXcvafceji5exhHDR6av1/wCAVPDYQadKE2bRdTj5I9gH7xuMVr4roqNubucNT4mG0UbRUEBtFG0UAG0UbRQAbRRtFABijFAHF+KvBLXlyNb0CUWOuQ8q68LN/suP61P4S8ZprbPpupQmx1q34ntn43Y/iX1FY/BPyZ6T/wBqw1/tQ/Ff8A63Ao2itjzQ2is7X0DeHtRG1mzbv8qvsJ4Pft9aAOXm1q9sfFGmacLm6Wyn0Zp/KihWVkkUqoO7aT0bvxkVr+BNRvNY8FaZqWoXDT3V1F5jsUVMcngBQPSgDosClxQAUUAFFABRQBW1DUbPSbCa+v7iO3tYV3SSyHCqK8zvPEsnxQul0XwzNLHo4Ob++KFSy5+4ufWs6t7WXU7MCo+0dSe0Vf8Ay/E9I0rS7TRtOhsLGIRQRLhVH8z71dPSrSsrI5pzc5OUt2ZPh/cLCXeZc/aZ8eb1x5jfp6VrZrSfxMU/iYUVBJynju61fTNCudU03U2tRbRD92IUfexYDJLA8AZ6VvaZDeQWmy9vDdyFiVlZFU7T0BCgDj6UAXaKACigAooAK5Txh4OTX4476wl+x6zbfNb3ScHI/hb1FROPNGx0YWu6FVT6dfQi8H+L5NUkk0fWYhaa5ajEsR4Eg/vL7V2FFOXNG48XQ9jVcVs9V6MKztex/wAI9qO4RkfZpMiTO0/KeuOcVZzFHT9Ds7l7DWS0i3Q08WymKQhBGwBIA+oBz14q/omj2ugaTBplj5n2aAYjEjlyBnOMmgDQooAKY0qK6ozqHfO1SeTjrigBzusalnYKo6knAFcIl74mb4xtbb4ToJ00OsQk/wBrHmYx97dkfSgDvK5TVoNbXxbbJaz3R029i2ylCMWzIwYsOP4l+WgDmfiVrl3rl9H4B0HD3d6B9vlHIhiPVT6Ejr7fWu18J+FrDwjoMGl2CAKgy795GPUmoTvJ+R1TiqdFLrL8jcoPSrOU4a8ii/4RzcjwxXseoSvagybt8nmt8v488dvwrrNKs/sOnQwcbgMuR3Y8sfzJroqy923mb1H7tvMu0VzmBQ1nSLXXdMk0+98w28pG8RuVJwc9RV1EEcaoCSFGMk5NADqKACigAooAKKAOT8ZeEP7dji1DT5fsmtWh321wvGSP4W9QaPBvi464kun6jF9l1qz+W4gPGf8AaX2NY/DPyZ6P8fC/3ofk/wDI6yqOtHGhagc4xbyHO3dj5T2PX6VsecGjNv0SxbOcwIc7duflHbt9KvUAFFAGJa2mpp4hu5Jp5GsPvwDf3IwVI9BjI+tc5cWni5jKVM+7M/luHjyMr8nBPHPpXZTnRv73YzakXbvStcv/AAy1pLLMLlL1ZFLFC7xK4OPTp6+lU/DFhd6Z4vtrS9mMtxHonzMcd52IHHoOKmpUg6fLHuEU73Z1GseJNH0BEbVNQhtt/wB0Ocs30A5rnfFfxF07S/DC32jzw6he3jeRZRRHdukPcjrgdSPoO9cTqRTavqd1PB1pRjPl91vcPh34Ok8PafJqOqOZ9c1A+bdzOckE87a7enBWRGIqKdRtbLRfIKD0qjAxvDqo+ny8Rti7n+4pAB8xvXvWzV1PiZc/iYUVBAUUAFFABRQAUUAFFABXGeM/Cc99LFr2hv8AZ9cs+UYcCZe6NUVI80dDqwdZUqqctno/Rlzwt4xtNe0eW5uCtrdWmVvIZDgxMOpOe3Fa95cR3vh+5ntJDLHLbO0bwnlsqcbT6+lEJqSJxOHlRm10TF0Xf/YdhvEgfyE3CQ5bOB196v1ZzhRQAUUAFcwP+SoN/wBgYf8Ao40AeVeLyl14v1H+04omlW7kiTzJMFYRGCmBngZ7+pNR+DtLN1rM1zYWkb3MOkvPCqnKx3O0hfoc4rzUk6vzPtpTlTy+625dDt/hpLqr3jC5ihS1/su1ZmhlZw8xB3FtyjEn94c8969Jr0j4kKD0oAyPDxJsJiS5/wBKnHzqFP8ArG/Stern8TKn8TCioJCigAooAKKACigAooAKKAPnr4lRap/wk13dvo8+n2so8sypkrcAH7zEcZ9q7bwh4gEfwcu7hreW7OnwyxSQxfeZQP8A4k1w0W1XaZ9TmEac8qpyg7tNX+42vD3ikt8ONJ1tNOkgtiiK0ch5SMHbvGM5HcexrXu9fmsorBZYIVubpS5V5dqgDBIzjrg16tOkppHyjlYyJvH3lwecLA7GXzFbcTsXLA7wBkEbecA4z7VNrHiDUrPxVa2VvaTSWrmAF0C7cPJtYnJzwOeAenNbrDJSs30ZHO2tDr6K4TUKZ5Ufm+bsXzNu3fjnHpn0oA5jxb4C0nxcivc77e7UALcwgb8ehzwRVLQvh7N4btng0vxFdwK5y5+zQlmPuStZqlFT5+p2yx9aWHWHb91GmPD2srnb4ru1ycnFpAMn/vmorrStUsraS5uvGlzDBGNzySW8AVR6k7a0OIdFourzxLLD4xupI2GVZbeAgj2O2n/8I/rn/Q23v/gND/8AE0AQ23hbV7SMxw+LL4KXZzm3iPLHJ6r6mpv+Ef1z/obb3/wGh/8Aiacnd3G3d3D/AIR/XP8Aobb3/wABof8A4mj/AIR/XP8Aobb3/wABof8A4mkIP+Ef1z/obb3/AMBof/iaP+Ef1z/obb3/AMBof/iaAMmGcz3zWUfj6f7Ss3kGM20IIkxnbyvXHOK1v+Ef1z/obb3/AMBof/iaAD/hH9c/6G29/wDAaH/4mj/hH9c/6G29/wDAaH/4mgA/4R/XP+htvf8AwGh/+Jo/4R/XP+htvf8AwGh/+JoAP+Ef1z/obb3/AMBof/iaP+Ef1z/obb3/AMBof/iaAD/hH9c/6G29/wDAaH/4mj+wNc/6G29/8BYf/iaAEk8OaxLG0cvim6kRhgq1pAQf/Ha5tNJ1HwnrhsdGmW/+220t5NazRRxpJ5bRqVG1RhiHPPTjkUnFN3NI1ZqDgnozX02LUtasPO0rxDBBZZKC0bTEJt8f8s2G7qvSrUugeIp9nneI7WTY25N+lIdp9R83Bqk2tjMYfDWundnX7I7m3HOkx8n1+91qPwHoXiXSNL2+KtXh1O6B/dFY8mEem/gt+VHM31FZHX0UhhRQBU1O2tbvTpobwsLcrlyrlSAOeo5rmovDPhOeF5kaR40VXZjdy4wwyD97vVKLauhXQxfD3gptvEZ3Akbrl+2c/wAXsfyrO8R+HPAw8PYuICsF63kRyRTkNuwTwWOBgKetaRoVHJRtuJySVzp/CFho2neGbOHQE26cU3R5csTnrknvW7WUouLaZSdwopAFFABRQB5S2i6r/wAJbqGqy2F3Ppya4tz9k8vBkHkxosydztZWyO4r1UHcoOCMjvQAtFABRQAUUAFFAGFrr6tHeWP9ns5gmZoZgqqTGSPlk5HQYII9xWfBaLZeP9MtVd5BDo9x8znLHM0PWl1LduVWJ9Y0q606/bX9Di3XOB9ttAcC7Qd/aQdj36GtS01iLVdFbUNKC3LFG2RM+w7x/A3B2nPByOKZBT8PeKLbX7aCdFjhE0SMqGXL78ZdMYHKng+/pW9QAUUAFFACEBlIIyDwRWGnhe1i8Py6RFPOkbvvWUEF4yG3IBnjC4AAPYVcKjjoJq5Um8Fw3DM81/O7vhpCUT5pArANjGB948dKnbwjZPo9tp7yOy203nQuwDbDgjAB7YYjHvW7xUtLLYj2aNfTrCDS9PgsrZdsMKBVFWq5pNt3ZotAopAFFABRQAUUAFFABRQAUUAFFABXCvZeKT8Yo7sLB/YC6cU84x8jLAmPOfvblBzjGKAO6rh/F41DwoJvEvh3Tpb2eT5bvToUJE/HEmByGXuQORQBteH4LLUbDTddisjaTT25lMO3bsaU73yP724nP41vUAFFABRQAUUAFFABRQAUUAFFABRQAUUAFFABRQAUUAFFABRQAUHpQAUUAf/ZAP/hM2NodHRwOi8vbnMuYWRvYmUuY29tL3hhcC8xLjAvADw/eHBhY2tldCBiZWdpbj0n77u/JyBpZD0nVzVNME1wQ2VoaUh6cmVTek5UY3prYzlkJz8+DQo8eDp4bXBtZXRhIHhtbG5zOng9ImFkb2JlOm5zOm1ldGEvIj48cmRmOlJERiB4bWxuczpyZGY9Imh0dHA6Ly93d3cudzMub3JnLzE5OTkvMDIvMjItcmRmLXN5bnRheC1ucyMiPjxyZGY6RGVzY3JpcHRpb24gcmRmOmFib3V0PSJ1dWlkOmZhZjViZGQ1LWJhM2QtMTFkYS1hZDMxLWQzM2Q3NTE4MmYxYiIgeG1sbnM6ZGM9Imh0dHA6Ly9wdXJsLm9yZy9kYy9lbGVtZW50cy8xLjEvIi8+PHJkZjpEZXNjcmlwdGlvbiByZGY6YWJvdXQ9InV1aWQ6ZmFmNWJkZDUtYmEzZC0xMWRhLWFkMzEtZDMzZDc1MTgyZjFiIiB4bWxuczp4bXA9Imh0dHA6Ly9ucy5hZG9iZS5jb20veGFwLzEuMC8iPjx4bXA6Q3JlYXRlRGF0ZT4yMDIxLTA2LTIyVDE4OjA5OjA3LjY3NzwveG1wOkNyZWF0ZURhdGU+PHhtcDpDcmVhdG9yVG9vbD5XaW5kb3dzIFBob3RvIEVkaXRvciAxMC4wLjEwMDExLjE2Mzg0PC94bXA6Q3JlYXRvclRvb2w+PC9yZGY6RGVzY3JpcHRpb24+PHJkZjpEZXNjcmlwdGlvbiByZGY6YWJvdXQ9InV1aWQ6ZmFmNWJkZDUtYmEzZC0xMWRhLWFkMzEtZDMzZDc1MTgyZjFiIiB4bWxuczpkYz0iaHR0cDovL3B1cmwub3JnL2RjL2VsZW1lbnRzLzEuMS8iPjxkYzpjcmVhdG9yPjxyZGY6U2VxIHhtbG5zOnJkZj0iaHR0cDovL3d3dy53My5vcmcvMTk5OS8wMi8yMi1yZGYtc3ludGF4LW5zIyI+PHJkZjpsaT5hZGhpa2FyaTwvcmRmOmxpPjwvcmRmOlNlcT4NCgkJCTwvZGM6Y3JlYXRvcj48L3JkZjpEZXNjcmlwdGlvbj48L3JkZjpSREY+PC94OnhtcG1ldGE+DQogICAgICAgICAgICAgICAgICAgICAgICAgICAgICAgICAgICAgICAgICAgICAgICAgICAgICAgICAgICAgICAgICAgICAgICAgICAgICAgICAgICAgICAgICAgICAgICAgICAgCiAgICAgICAgICAgICAgICAgICAgICAgICAgICAgICAgICAgICAgICAgICAgICAgICAgICAgICAgICAgICAgICAgICAgICAgICAgICAgICAgICAgICAgICAgICAgICAgICAgICAKICAgICAgICAgICAgICAgICAgICAgICAgICAgICAgICAgICAgICAgICAgICAgICAgICAgICAgICAgICAgICAgICAgICAgICAgICAgICAgICAgICAgICAgICAgICAgICAgICAgIAogICAgICAgICAgICAgICAgICAgICAgICAgICAgICAgICAgICAgICAgICAgICAgICAgICAgICAgICAgICAgICAgICAgICAgICAgICAgICAgICAgICAgICAgICAgICAgICAgICAgCiAgICAgICAgICAgICAgICAgICAgICAgICAgICAgICAgICAgICAgICAgICAgICAgICAgICAgICAgICAgICAgICAgICAgICAgICAgICAgICAgICAgICAgICAgICAgICAgICAgICAKICAgICAgICAgICAgICAgICAgICAgICAgICAgICAgICAgICAgICAgICAgICAgICAgICAgICAgICAgICAgICAgICAgICAgICAgICAgICAgICAgICAgICAgICAgICAgICAgICAgIAogICAgICAgICAgICAgICAgICAgICAgICAgICAgICAgICAgICAgICAgICAgICAgICAgICAgICAgICAgICAgICAgICAgICAgICAgICAgICAgICAgICAgICAgICAgICAgICAgICAgCiAgICAgICAgICAgICAgICAgICAgICAgICAgICAgICAgICAgICAgICAgICAgICAgICAgICAgICAgICAgICAgICAgICAgICAgICAgICAgICAgICAgICAgICAgICAgICAgICAgICAKICAgICAgICAgICAgICAgICAgICAgICAgICAgICAgICAgICAgICAgICAgICAgICAgICAgICAgICAgICAgICAgICAgICAgICAgICAgICAgICAgICAgICAgICAgICAgICAgICAgIAogICAgICAgICAgICAgICAgICAgICAgICAgICAgICAgICAgICAgICAgICAgICAgICAgICAgICAgICAgICAgICAgICAgICAgICAgICAgICAgICAgICAgICAgICAgICAgICAgICAgCiAgICAgICAgICAgICAgICAgICAgICAgICAgICAgICAgICAgICAgICAgICAgICAgICAgICAgICAgICAgICAgICAgICAgICAgICAgICAgICAgICAgICAgICAgICAgICAgICAgICAKICAgICAgICAgICAgICAgICAgICAgICAgICAgICAgICAgICAgICAgICAgICAgICAgICAgICAgICAgICAgICAgICAgICAgICAgICAgICAgICAgICAgICAgICAgICAgICAgICAgIAogICAgICAgICAgICAgICAgICAgICAgICAgICAgICAgICAgICAgICAgICAgICAgICAgICAgICAgICAgICAgICAgICAgICAgICAgICAgICAgICAgICAgICAgICAgICAgICAgICAgCiAgICAgICAgICAgICAgICAgICAgICAgICAgICAgICAgICAgICAgICAgICAgICAgICAgICAgICAgICAgICAgICAgICAgICAgICAgICAgICAgICAgICAgICAgICAgICAgICAgICAKICAgICAgICAgICAgICAgICAgICAgICAgICAgICAgICAgICAgICAgICAgICAgICAgICAgICAgICAgICAgICAgICAgICAgICAgICAgICAgICAgICAgICAgICAgICAgICAgICAgIAogICAgICAgICAgICAgICAgICAgICAgICAgICAgICAgICAgICAgICAgICAgICAgICAgICAgICAgICAgICAgICAgICAgICAgICAgICAgICAgICAgICAgICAgICAgICAgICAgICAgCiAgICAgICAgICAgICAgICAgICAgICAgICAgICAgICAgICAgICAgICAgICAgICAgICAgICAgICAgICAgICAgICAgICAgICAgICAgICAgICAgICAgICAgICAgICAgICAgICAgICAKICAgICAgICAgICAgICAgICAgICAgICAgICAgICAgICAgICAgICAgICAgICAgICAgICAgICAgICAgICAgICAgICAgICAgICAgICAgICAgICAgICAgICAgICAgICAgICAgICAgIAogICAgICAgICAgICAgICAgICAgICAgICAgICAgICAgICAgICAgICAgICAgICAgICAgICAgICAgICAgICAgICAgICAgICAgICAgICAgICAgICAgICAgICAgICAgICAgICAgICAgCiAgICAgICAgICAgICAgICAgICAgICAgICAgICAgICAgICAgICAgICAgICAgICAgICAgICAgICAgICAgICAgICAgICAgICAgICAgICAgICAgICAgICAgICAgICAgICAgICAgICAKICAgICAgICAgICAgICAgICAgICAgICAgICAgICAgICAgICAgICAgICAgICAgICAgICAgICAgICAgICAgICAgICAgICAgICAgICAgICAgICAgICAgICAgICAgICAgICAgICAgIAogICAgICAgICAgICAgICAgICAgICAgICAgICAgICAgICAgICAgICAgICAgICAgICAgICAgICAgICAgICAgICAgICAgICAgICAgICAgICAgICAgICAgICAgICAgICAgICAgICAgCiAgICAgICAgICAgICAgICAgICAgICAgICAgICAgICAgICAgICAgICAgICAgICAgICAgICAgICAgICAgICAgICAgICAgICAgICAgICAgICAgICAgICAgICAgICAgICAgICAgICAKICAgICAgICAgICAgICAgICAgICAgICAgICAgICAgICAgICAgICAgICAgICAgICAgICAgICAgICAgICAgICAgICAgICAgICAgICAgICAgICAgICAgICAgICAgICAgICAgICAgIAogICAgICAgICAgICAgICAgICAgICAgICAgICAgICAgICAgICAgICAgICAgICAgICAgICAgICAgICAgICAgICAgICAgICAgICAgICAgICAgICAgICAgICAgICAgICAgICAgICAgCiAgICAgICAgICAgICAgICAgICAgICAgICAgICAgICAgICAgICAgICAgICAgICAgICAgICAgICAgICAgICAgICAgICAgICAgICAgICAgICAgICAgICAgICAgICAgICAgICAgICAKICAgICAgICAgICAgICAgICAgICAgICAgICAgICAgICAgICAgICAgICAgICAgICAgICAgICAgICAgICAgICAgICAgICAgICAgICAgICAgICAgICAgICAgICAgICAgICAgICAgIAogICAgICAgICAgICAgICAgICAgICAgICAgICAgICAgICAgICAgICAgICAgICAgICAgICAgICAgICAgICAgICAgICAgICAgICAgICAgICAgICAgICAgICAgICAgICAgICAgICAgCiAgICAgICAgICAgICAgICAgICAgICAgICAgICAgICAgICAgICAgICAgICAgICAgICAgICAgICAgICAgICAgICAgICAgICAgICAgICAgICAgICAgICAgICAgICAgICAgICAgICAKICAgICAgICAgICAgICAgICAgICAgICAgICAgICAgICAgICAgICAgICAgICAgICAgICAgICAgICAgICAgICAgICAgICAgICAgICAgICAgICAgICAgICAgICAgICAgICAgICAgIAogICAgICAgICAgICAgICAgICAgICAgICAgICAgICAgICAgICAgICAgICAgICAgICAgICAgICAgICAgICAgICAgICAgICAgICAgICAgICAgICAgICAgICAgICAgICAgICAgICAgCiAgICAgICAgICAgICAgICAgICAgICAgICAgICAgICAgICAgICAgICAgICAgICAgICAgICAgICAgICAgICAgICAgICAgICAgICAgICAgICAgICAgICAgICAgICAgICAgICAgICAKICAgICAgICAgICAgICAgICAgICAgICAgICAgICAgICAgICAgICAgICAgICAgICAgICAgICAgICAgICAgICAgICAgICAgICAgICAgICAgICAgICAgICAgICAgICAgICAgICAgIAogICAgICAgICAgICAgICAgICAgICAgICAgICAgICAgICAgICAgICAgICAgICAgICAgICAgICAgICAgICAgICAgICAgICAgICAgICAgICAgICAgICAgICAgICAgICAgICAgICAgCiAgICAgICAgICAgICAgICAgICAgICAgICAgICAgICAgICAgICAgICAgICAgICAgICAgICAgICAgICAgICAgICAgICAgICAgICAgICAgICAgICAgICAgICAgICAgICAgICAgICAKICAgICAgICAgICAgICAgICAgICAgICAgICAgICAgICAgICAgICAgICAgICAgICAgICAgICAgICAgICAgICAgICAgICAgICAgICAgICAgICAgICAgICAgICAgICAgICAgICAgIAogICAgICAgICAgICAgICAgICAgICAgICAgICAgICAgICAgICAgICAgICAgICAgICAgICAgICAgICAgICAgICAgICAgICAgICAgICAgICAgICAgICAgICAgICAgICAgICAgICAgCiAgICAgICAgICAgICAgICAgICAgICAgICAgICAgICAgICAgICAgICAgICAgICAgICAgICAgICAgICAgICAgICAgICAgICAgICAgICAgICAgICAgICAgICAgICAgICAgICAgICAKICAgICAgICAgICAgICAgICAgICAgICAgICAgICAgICAgICAgICAgICAgICAgICAgICAgICAgICAgICAgICAgICAgICAgICAgICAgICAgICAgICAgICAgICAgICAgICAgICAgIAogICAgICAgICAgICAgICAgICAgICAgICAgICAgICAgICAgICAgICAgICAgICAgICAgICAgICAgICAgICAgICAgICAgICAgICAgICAgICAgICAgICAgICAgICAgICAgICAgICAgCiAgICAgICAgICAgICAgICAgICAgICAgICAgICAgICAgICAgICAgICAgICAgICAgICAgICAgICAgICAgICAgICAgICAgICAgICAgICAgICAgICAgICAgICAgICAgICAgICAgICAKICAgICAgICAgICAgICAgICAgICAgICAgICAgICAgICAgICAgICAgICAgICAgICAgICAgICAgICAgICAgICAgICAgICAgICAgICAgICAgICAgICAgICAgICAgICAgICAgICAgIAogICAgICAgICAgICAgICAgICAgICAgICAgICAgICAgICAgICAgICAgICAgICAgICAgICAgICAgICAgICAgICAgICAgICAgICAgICAgICAgICAgICAgICAgICAgICAgICAgICAgCiAgICAgICAgICAgICAgICAgICAgICAgICAgICAgICAgICAgICAgICAgICAgICAgICAgICAgICAgICAgICAgICAgICAgICAgICAgICAgICAgICAgICAgICAgICAgICAgICAgICAKICAgICAgICAgICAgICAgICAgICAgICAgICAgICAgICAgICAgICAgICAgICAgICAgICAgICAgICAgICAgICAgICAgICAgICAgICAgICAgICAgICAgICAgICAgICAgICAgICAgIAogICAgICAgICAgICAgICAgICAgICAgICAgICAgICAgICAgICAgICAgICAgICAgICAgICAgICAgICAgICAgICAgICAgICAgICAgICAgICAgICAgICAgICAgICAgICAgICAgICAgCiAgICAgICAgICAgICAgICAgICAgICAgICAgICAgICAgICAgICAgICAgICAgICAgICAgICAgICAgICAgICAgICAgICAgICAgICAgICAgICAgICAgICAgICAgICAgICAgICAgICAKICAgICAgICAgICAgICAgICAgICAgICAgICAgICAgICAgICAgICAgICAgICAgICAgICAgICAgICAgICAgICAgICAgICAgICAgICAgICAgICAgICAgICAgICAgICAgICAgICAgIAogICAgICAgICAgICAgICAgICAgICAgICAgICAgICAgICAgICAgICAgICAgICAgICAgICAgICAgICAgICAgICAgICAgICAgICAgICAgICAgICAgICAgICAgICAgICAgICAgICAgCiAgICAgICAgICAgICAgICAgICAgICAgICAgICAgICAgICAgICAgICAgICAgICAgICAgICAgICAgICAgICAgICAgICAgICAgICAgICAgICAgICAgICAgICAgICAgICAgICAgICAKICAgICAgICAgICAgICAgICAgICAgICAgICAgICAgICAgICAgICAgICAgICAgICAgICAgICAgICAgICAgICAgICAgICAgICAgICAgICAgICAgICAgICAgICAgICAgICAgICAgIAogICAgICAgICAgICAgICAgICAgICAgICAgICAgICAgICAgICAgICAgICAgICAgICAgICAgICAgICAgICAgICAgICAgICAgICAgICAgICAgICAgICAgICAgICAgICAgICAgICAgCiAgICAgICAgICAgICAgICAgICAgICAgICAgICAgICAgICAgICAgICAgICAgICAgICAgICAgICAgICAgICAgICAgICAgICAgICAgICAgICAgICAgICAgICAgICAgICAgICAgICAKICAgICAgICAgICAgICAgICAgICAgICAgICAgICAgICAgICAgICAgICAgICAgICAgICAgICAgICAgICAgICAgICAgICAgICAgICAgICAgICAgICAgICAgICAgICAgICAgICAgIAogICAgICAgICAgICAgICAgICAgICAgICAgICAgICAgICAgICAgICAgICAgICAgICAgICAgICAgICAgICAgICAgICAgICAgICAgICAgICAgICAgICAgICAgICAgICAgICAgICAgCiAgICAgICAgICAgICAgICAgICAgICAgICAgICAgICAgICAgICAgICAgICAgICAgICAgICAgICAgICAgICAgICAgICAgICAgICAgICAgICAgICAgICAgICAgICAgICAgICAgICAKICAgICAgICAgICAgICAgICAgICAgICAgICAgICAgICAgICAgICAgICAgICAgICAgICAgICAgICAgICAgICAgICAgICAgICAgICAgICAgICAgICAgICAgICAgICAgICAgICAgIAogICAgICAgICAgICAgICAgICAgICAgICAgICAgICAgICAgICAgICAgICAgICAgICAgICAgICAgICAgICAgICAgICAgICAgICAgICAgICAgICAgICAgICAgICAgICAgICAgICAgCiAgICAgICAgICAgICAgICAgICAgICAgICAgICAgICAgICAgICAgICAgICAgICAgICAgICAgICAgICAgICAgICAgICAgICAgICAgICAgICAgICAgICAgICAgICAgICAgICAgICAKICAgICAgICAgICAgICAgICAgICAgICAgICAgICAgICAgICAgICAgICAgICAgICAgICAgICAgICAgICAgICAgICAgICAgICAgICAgICAgICAgICAgICAgICAgICAgICAgICAgIAogICAgICAgICAgICAgICAgICAgICAgICAgICAgICAgICAgICAgICAgICAgICAgICAgICAgICAgICAgICAgICAgICAgICAgICAgICAgICAgICAgICAgICAgICAgICAgICAgICAgCiAgICAgICAgICAgICAgICAgICAgICAgICAgICAgICAgICAgICAgICAgICAgICAgICAgICAgICAgICAgICAgICAgICAgICAgICAgICAgICAgICAgICAgICAgICAgICAgICAgICAKICAgICAgICAgICAgICAgICAgICAgICAgICAgICAgICAgICAgICAgICAgICAgICAgICAgICAgICAgICAgICAgICAgICAgICAgICAgICAgICAgICAgICAgICAgICAgICAgICAgIAogICAgICAgICAgICAgICAgICAgICAgICAgICAgICAgICAgICAgICAgICAgICAgICAgICAgICAgICAgICAgICAgICAgICAgICAgICAgICAgICAgICAgICAgICAgICAgICAgICAgCiAgICAgICAgICAgICAgICAgICAgICAgICAgICAgICAgICAgICAgICAgICAgICAgICAgICAgICAgICAgICAgICAgICAgICAgICAgICAgICAgICAgICAgICAgICAgICAgICAgICAKICAgICAgICAgICAgICAgICAgICAgICAgICAgICAgICAgICAgICAgICAgICAgICAgICAgICAgICAgICAgICAgICAgICAgICAgICAgICAgICAgICAgICAgICAgICAgICAgICAgIAogICAgICAgICAgICAgICAgICAgICAgICAgICAgICAgICAgICAgICAgICAgICAgICAgICAgICAgICAgICAgICAgICAgICAgICAgICAgICAgICAgICAgICAgICAgICAgICAgICAgCiAgICAgICAgICAgICAgICAgICAgICAgICAgICAgICAgICAgICAgICAgICAgICAgICAgICAgICAgICAgICAgICAgICAgICAgICAgICAgICAgICAgICAgICAgICAgICAgICAgICAKICAgICAgICAgICAgICAgICAgICAgICAgICAgICAgICAgICAgICAgICAgICAgICAgICAgICAgICAgICAgICAgICAgICAgICAgICAgICAgICAgICAgICAgICAgICAgICAgICAgIAogICAgICAgICAgICAgICAgICAgICAgICAgICAgICAgICAgICAgICAgICAgICAgICAgICAgICAgICAgICAgICAgICAgICAgICAgICAgICAgICAgICAgICAgICAgICAgICAgICAgCiAgICAgICAgICAgICAgICAgICAgICAgICAgICAgICAgICAgICAgICAgICAgICAgICAgICAgICAgICAgICAgICAgICAgICAgICAgICAgICAgICAgICAgICAgICAgICAgICAgICAKICAgICAgICAgICAgICAgICAgICAgICAgICAgICAgICAgICAgICAgICAgICAgICAgICAgICAgICAgICAgICAgICAgICAgICAgICAgICAgICAgICAgICAgICAgICAgICAgICAgIAogICAgICAgICAgICAgICAgICAgICAgICAgICAgICAgICAgICAgICAgICAgICAgICAgICAgICAgICAgICAgICAgICAgICAgICAgICAgICAgICAgICAgICAgICAgICAgICAgICAgCiAgICAgICAgICAgICAgICAgICAgICAgICAgICAgICAgICAgICAgICAgICAgICAgICAgICAgICAgICAgICAgICAgICAgICAgICAgICAgICAgICAgICAgICAgICAgICAgICAgICAKICAgICAgICAgICAgICAgICAgICAgICAgICAgICAgICAgICAgICAgICAgICAgICAgICAgICAgICAgICAgICAgICAgICAgICAgICAgICAgICAgICAgICAgICAgICAgICAgICAgIAogICAgICAgICAgICAgICAgICAgICAgICAgICAgICAgICAgICAgICAgICAgICAgICAgICAgICAgICAgICAgICAgICAgICAgICAgICAgICAgICAgICAgICAgICAgICAgICAgICAgCiAgICAgICAgICAgICAgICAgICAgICAgICAgICAgICAgICAgICAgICAgICAgICAgICAgICAgICAgICAgICAgICAgICAgICAgICAgICAgICAgICAgICAgICAgICAgICAgICAgICAKICAgICAgICAgICAgICAgICAgICAgICAgICAgICAgICAgICAgICAgICAgICAgICAgICAgICAgICAgICAgICAgICAgICAgICAgICAgICAgICAgICAgICAgICAgICAgICAgICAgIAogICAgICAgICAgICAgICAgICAgICAgICAgICAgICAgICAgICAgICAgICAgICAgICAgICAgICAgICAgICAgICAgICAgICAgICAgICAgICAgICAgICAgICAgICAgICAgICAgICAgCiAgICAgICAgICAgICAgICAgICAgICAgICAgICAgICAgICAgICAgICAgICAgICAgICAgICAgICAgICAgICAgICAgICAgICAgICAgICAgICAgICAgICAgICAgICAgICAgICAgICAKICAgICAgICAgICAgICAgICAgICAgICAgICAgICAgICAgICAgICAgICAgICAgICAgICAgICAgICAgICAgICAgICAgICAgICAgICAgICAgICAgICAgICAgICAgICAgICAgICAgIAogICAgICAgICAgICAgICAgICAgICAgICAgICAgICAgICAgICAgICAgICAgICAgICAgICAgICAgICAgICAgICAgICAgICAgICAgICAgICAgICAgICAgICAgICAgICAgICAgICAgCiAgICAgICAgICAgICAgICAgICAgICAgICAgICAgICAgICAgICAgICAgICAgICAgICAgICAgICAgICAgICAgICAgICAgICAgICAgICAgICAgICAgICAgICAgICAgICAgICAgICAKICAgICAgICAgICAgICAgICAgICAgICAgICAgICAgICAgICAgICAgICAgICAgICAgICAgICAgICAgICAgICAgICAgICAgICAgICAgICAgICAgICAgICAgICAgICAgICAgICAgIAogICAgICAgICAgICAgICAgICAgICAgICAgICAgICAgICAgICAgICAgICAgICAgICAgICAgICAgICAgICAgICAgICAgICAgICAgICAgICAgICAgICAgICAgICAgICAgICAgICAgCiAgICAgICAgICAgICAgICAgICAgICAgICAgICAgICAgICAgICAgICAgICAgICAgICAgICAgICAgICAgICAgICAgICAgICAgICAgICAgICAgICAgICAgICAgICAgICAgICAgICAKICAgICAgICAgICAgICAgICAgICAgICAgICAgICAgICAgICAgICAgICAgICAgICAgICAgICAgICAgICAgICAgICAgICAgICAgICAgICAgICAgICAgICAgICAgICAgICAgICAgIAogICAgICAgICAgICAgICAgICAgICAgICAgICAgICAgICAgICAgICAgICAgICAgICAgICAgICAgICAgICAgICAgICAgICAgICAgICAgICAgICAgICAgICAgICAgICAgICAgICAgCiAgICAgICAgICAgICAgICAgICAgICAgICAgICAgICAgICAgICAgICAgICAgICAgICAgICAgICAgICAgICAgICAgICAgICAgICAgICAgICAgICAgICAgICAgICAgICAgICAgICAKICAgICAgICAgICAgICAgICAgICAgICAgICAgICAgICAgICAgICAgICAgICAgICAgICAgICAgICAgICAgICAgICAgICAgICAgICAgICAgICAgICAgICAgICAgICAgICAgICAgIAogICAgICAgICAgICAgICAgICAgICAgICAgICAgICAgICAgICAgICAgICAgICAgICAgICAgICAgICAgICAgICAgICAgICAgICAgICAgICAgICAgICAgICAgICAgICAgICAgICAgCiAgICAgICAgICAgICAgICAgICAgICAgICAgICAgICAgICAgICAgICAgICAgICAgICAgICAgICAgICAgICAgICAgICAgICAgICAgICAgICAgICAgICAgICAgICAgICAgICAgICAKICAgICAgICAgICAgICAgICAgICAgICAgICAgICAgICAgICAgICAgICAgICAgICAgICAgICAgICAgICAgICAgICAgICAgICAgICAgICAgICAgICAgICAgICAgICAgICAgICAgIAogICAgICAgICAgICAgICAgICAgICAgICAgICAgICAgICAgICAgICAgICAgICAgICAgICAgICAgICAgICAgICAgICAgICAgICAgICAgICAgICAgICAgICAgICAgICAgICAgICAgCiAgICAgICAgICAgICAgICAgICAgICAgICAgICAgICAgICAgICAgICAgICAgICAgICAgICAgICAgICAgICAgICAgICAgICAgICAgICAgICAgICAgICAgICAgICAgICAgICAgICAKICAgICAgICAgICAgICAgICAgICAgICAgICAgICAgICAgICAgICAgICAgICAgICAgICAgICAgICAgICAgICAgICAgICAgICAgICAgICAgICAgICAgICAgICAgICAgICAgICAgIAogICAgICAgICAgICAgICAgICAgICAgICAgICAgICAgICAgICAgICAgICAgICAgICAgICAgICAgICAgICAgICAgICAgICAgICAgICAgICAgICAgICAgICAgICAgICAgICAgICAgCiAgICAgICAgICAgICAgICAgICAgICAgICAgICAgICAgICAgICAgICAgICAgICAgICAgICAgICAgICAgICAgICAgICAgICAgICAgICAgICAgICAgICAgICAgICAgICAgICAgICAKICAgICAgICAgICAgICAgICAgICAgICAgICAgICAgICAgICAgICAgICAgICAgICAgICAgICAgICAgICAgICAgICAgICAgICAgICAgICAgICAgICAgICAgICAgICAgICAgICAgIAogICAgICAgICAgICAgICAgICAgICAgICAgICAgICAgICAgICAgICAgICAgICAgICAgICAgICAgICAgICAgICAgICAgICAgICAgICAgICAgICAgICAgICAgICAgICAgICAgICAgCiAgICAgICAgICAgICAgICAgICAgICAgICAgICAgICAgICAgICAgICAgICAgICAgICAgICAgICAgICAgICAgICAgICAgICAgICAgICAgICAgICAgICAgICAgICAgICAgICAgICAKICAgICAgICAgICAgICAgICAgICAgICAgICAgICAgICAgICAgICAgICAgICAgICAgICAgICAgICAgICAgICAgICAgICAgICAgICAgICAgICAgICAgICAgICAgICAgICAgICAgIAogICAgICAgICAgICAgICAgICAgICAgICAgICAgICAgICAgICAgICAgICAgICAgICAgICAgICAgICAgICAgICAgICAgICAgICAgICAgICAgICAgICAgICAgICAgICAgICAgICAgCiAgICAgICAgICAgICAgICAgICAgICAgICAgICAgICAgICAgICAgICAgICAgICAgICAgICAgICAgICAgICAgICAgICAgICAgICAgICAgICAgICAgICAgICAgICAgICAgICAgICAKICAgICAgICAgICAgICAgICAgICAgICAgICAgICAgICAgICAgICAgICAgICAgICAgICAgICAgICAgICAgICAgICAgICAgICAgICAgICAgICAgICAgICAgICAgICAgICAgICAgIAogICAgICAgICAgICAgICAgICAgICAgICAgICAgICAgICAgICAgICAgICAgICAgICAgICAgICAgICAgICAgICAgICAgICAgICAgICAgICAgICAgICAgICAgICAgICAgICAgICAgCiAgICAgICAgICAgICAgICAgICAgICAgICAgICAgICAgICAgICAgICAgICAgICAgICAgICAgICAgICAgICAgICAgICAgICAgICAgICAgICAgICAgICAgICAgICAgICAgICAgICAKICAgICAgICAgICAgICAgICAgICAgICAgICAgICAgICAgICAgICAgICAgICAgICAgICAgICAgICAgICAgICAgICAgICAgICAgICAgICAgICAgICAgICAgICAgICAgICAgICAgIAogICAgICAgICAgICAgICAgICAgICAgICAgICAgICAgICAgICAgICAgICAgICAgICAgICAgICAgICAgICAgICAgICAgICAgICAgICAgICAgICAgICAgICAgICAgICAgICAgICAgCiAgICAgICAgICAgICAgICAgICAgICAgICAgICAgICAgICAgICAgICAgICAgICAgICAgICAgICAgICAgICAgICAgICAgICAgICAgICAgICAgICAgICAgICAgICAgICAgICAgICAKICAgICAgICAgICAgICAgICAgICAgICAgICAgICAgICAgICAgICAgICAgICAgICAgICAgICAgICAgICAgICAgICAgICAgICAgICAgICAgICAgICAgICAgICAgICAgICAgICAgIAogICAgICAgICAgICAgICAgICAgICAgICAgICAgICAgICAgICAgICAgICAgICAgICAgICAgICAgICAgICAgICAgICAgICAgICAgICAgICAgICAgICAgICAgICAgICAgICAgICAgCiAgICAgICAgICAgICAgICAgICAgICAgICAgICAgICAgICAgICAgICAgICAgICAgICAgICAgICAgICAgICAgICAgICAgICAgICAgICAgICAgICAgICAgICAgICAgICAgICAgICAKICAgICAgICAgICAgICAgICAgICAgICAgICAgICAgICAgICAgICAgICAgICAgICAgICAgICAgICAgICAgICAgICAgICAgICAgICAgICAgICAgICAgICAgICAgICAgICAgICAgIAogICAgICAgICAgICAgICAgICAgICAgICAgICAgICAgICAgICAgICAgICAgICAgICAgICAgICAgICAgICAgICAgICAgICAgICAgICAgICAgICAgICAgICAgICAgICAgICAgICAgCiAgICAgICAgICAgICAgICAgICAgICAgICAgICAgICAgICAgICAgICAgICAgICAgICAgICAgICAgICAgICAgICAgICAgICAgICAgICAgICAgICAgICAgICAgICAgICAgICAgICAKICAgICAgICAgICAgICAgICAgICAgICAgICAgICAgICAgICAgICAgICAgICAgICAgICAgICAgICAgICAgICAgICAgICAgICAgICAgICAgICAgICAgICAgICAgICAgICAgICAgIAogICAgICAgICAgICAgICAgICAgICAgICAgICAgICAgICAgICAgICAgICAgICAgICAgICAgICAgICAgICAgICAgICAgICAgICAgICAgICAgICAgICAgICAgICAgICAgICAgICAgCiAgICAgICAgICAgICAgICAgICAgICAgICAgICAgICAgICAgICAgICAgICAgICAgICAgICAgICAgICAgICAgICAgICAgICAgICAgICAgICAgICAgICAgICAgICAgICAgICAgICAKICAgICAgICAgICAgICAgICAgICAgICAgICAgICAgICAgICAgICAgICAgICAgICAgICAgICAgICAgICAgICAgICAgICAgICAgICAgICAgICAgICAgICAgICAgICAgICAgICAgIAogICAgICAgICAgICAgICAgICAgICAgICAgICAgICAgICAgICAgICAgICAgICAgICAgICAgICAgICAgICAgICAgICAgICAgICAgICAgICAgICAgICAgICAgICAgICAgICAgICAgCiAgICAgICAgICAgICAgICAgICAgICAgICAgICAgICAgICAgICAgICAgICAgICAgICAgICAgICAgICAgICAgICAgICA8P3hwYWNrZXQgZW5kPSd3Jz8+/9sAQwADAgIDAgIDAwMDBAMDBAUIBQUEBAUKBwcGCAwKDAwLCgsLDQ4SEA0OEQ4LCxAWEBETFBUVFQwPFxgWFBgSFBUU/9sAQwEDBAQFBAUJBQUJFA0LDRQUFBQUFBQUFBQUFBQUFBQUFBQUFBQUFBQUFBQUFBQUFBQUFBQUFBQUFBQUFBQUFBQU/8AAEQgBlwSVAwEiAAIRAQMRAf/EAB8AAAEFAQEBAQEBAAAAAAAAAAABAgMEBQYHCAkKC//EALUQAAIBAwMCBAMFBQQEAAABfQECAwAEEQUSITFBBhNRYQcicRQygZGhCCNCscEVUtHwJDNicoIJChYXGBkaJSYnKCkqNDU2Nzg5OkNERUZHSElKU1RVVldYWVpjZGVmZ2hpanN0dXZ3eHl6g4SFhoeIiYqSk5SVlpeYmZqio6Slpqeoqaqys7S1tre4ubrCw8TFxsfIycrS09TV1tfY2drh4uPk5ebn6Onq8fLz9PX29/j5+v/EAB8BAAMBAQEBAQEBAQEAAAAAAAABAgMEBQYHCAkKC//EALURAAIBAgQEAwQHBQQEAAECdwABAgMRBAUhMQYSQVEHYXETIjKBCBRCkaGxwQkjM1LwFWJy0QoWJDThJfEXGBkaJicoKSo1Njc4OTpDREVGR0hJSlNUVVZXWFlaY2RlZmdoaWpzdHV2d3h5eoKDhIWGh4iJipKTlJWWl5iZmqKjpKWmp6ipqrKztLW2t7i5usLDxMXGx8jJytLT1NXW19jZ2uLj5OXm5+jp6vLz9PX29/j5+v/aAAwDAQACEQMRAD8A/UDUNQSwhLNyewrF/wCEsHpUvihd0I47Vyfl+36UAdP/AMJYPSj/AISwelcx5ft+lHl+36UAdP8A8JYPSj/hLB6VzHl+36UeX7fpQB0//CWD0o/4Swelcx5ft+lHl+36UAdP/wAJYPSj/hLB6VzHl+36UeX7fpQB0/8Awlg9KP8AhLB6VzHl+36UeX7fpQB0/wDwlg9KP+EsHpXMeX7fpR5ft+lAHT/8JYPSj/hLB6VzHl+36UeX7fpQB0//AAlg9KP+EsHpXMeX7fpR5ft+lAHT/wDCWD0o/wCEsHpXMeX7fpR5ft+lAHT/APCWD0o/4Swelcx5ft+lHl+36UAdP/wlg9KP+EsHpXMeX7fpR5ft+lAHT/8ACWD0o/4Swelcx5ft+lHl+36UAdP/AMJYPSj/AISwelcx5ft+lHl+36UAdP8A8JYPSj/hLB6VzHl+36UeX7fpQB0//CWD0o/4Swelcx5ft+lHl+36UAdP/wAJYPSj/hLB6VzHl+36UeX7fpQB0/8Awlg9KP8AhLB6VzHl+36UeX7fpQB0/wDwlg9KP+EsHpXMeX7fpR5ft+lAHT/8JYPSj/hLB6VzHl+36UeX7fpQB0//AAlg9KP+EsHpXMeX7fpR5ft+lAHT/wDCWD0o/wCEsHpXMeX7fpR5ft+lAHT/APCWD0o/4Swelcx5ft+lHl+36UAdP/wlg9KP+EsHpXMeX7fpR5Xt+lAHT/8ACWD0/Sj/AISselcz5P8AnFHk/wCcUAdP/wAJUPSl/wCEqX0rl/J9v0pwh9sfhQB0/wDwlS+lL/wlKelcx5P+cU4Q/wCcUAdP/wAJQnpT18TR/wB2uXEPt+lOWH2/SgDqB4ki/u08eIofSuYWA+n6U8Qf5xR5AdMPEEB7U7+3oPSub8gj+E/lTli9v0oHY6Ndcgpf7agPeuYuJoLGEyzzJDEBks52qB9a4DxB+0B8PPCocXvijT1mQnMQuMk47YJrOVSnFXlI7KGBxWK0oQlL0R7QurQn+KpP7SgYdc/hXxr4s/4KG+AvDpeO1t7zUZBkKbYqVP8A9avF/Fn/AAUm1y4kf/hHtGijizx9sjGfxxXBPMsPT0vc+qwvBec4n/l1y+p+mf8AaEDcb8U1tWtI1JaZVA6kmvx/179uj4n+IFZPPtbLJ62yla861v46/EPXmYz+KtRgVuqw3DKD+Ga4JZxTi/dR9Xh/DbH1F+9qJeiP2tu/iF4d0/P2jVraHH9+QCsS++PPw/0/IufFemwn/bnUV+JNx408RXmTc+IL6b/fnNZVxqU9xu86+lkz13SE/wBa5pZ1J7RPeh4ZUVb2td/gftZdftXfC20YqfGOls3otwtZMv7ZnwuhkZf+Els2x3Eor8X1EEjEhQ7fnU62bsuRasR67ay/teu9onfDw5yyK96s381/kfsRL+3H8Lo5in9tRt/tB1x/Ok/4bm+F/wD0GY/++xX5ALpNyy7ksJSPXyzSf2Rff8+M3/fs0v7WxHY3/wCIe5N1qN/M/Yu1/bY+FtwuTr8Ef+86j+tXLX9sj4V3L7f+Epso+cZaUAV+Mr6fPE22S0kVvRo8U2S38kZkt2QerLij+1sQuhD8Ospl8NVr5n7e2n7SnwyvkBi8Z6S+ewuVzWzZfGTwVqGPs3iSwmz02TA1+Ecc0UL5jk2Ef3T0rQi8QX8GDBqdzER02ymtI51UW8Tgn4Z4R3dPEO/yP3psfFmkal/x638Nx/uNmrq39uOd4r8INP8AiP4w00g2XirVLfHOI7lhXb6F+1N8SPDu0R69PeAdrqRn/rXTHOoP4keRX8MsStaVVW80ftSdRhzjdzTf7Ug/vV+T2g/8FEPiVpYSG6tdOuoVwCfKO7FeqeE/+ClmnoETxDoU/mHGWs4wADXbDNaE99D5fEcB5vh7tK6P0LbVoF75pn9swf5NfLfhL9uD4a+KmjEt/wD2VuwN144XBPrzXrXh/wCKHhPxZsGkeILG/JxhYp9x/Q13wxNGa92R8riMlzDCfxabXyPSTrkA7U3+3oPQ1z+wMv15HHWm+T7fpXRvseM4tbo6D/hIIPSmt4ih9K5/7P8ALnHH0pjQ+36UE9dDoT4li/u00+Jo/SudaD2/SmNB7fpQB0X/AAlCelN/4ShPSucaD/OKaYfb9KAOkPipfSk/4SpfSua8n/OKaYfb9KAOm/4SselJ/wAJYPT9K5nyfb9KPJ/zigDpv+EsHpR/wlg9K5jyvb9KPL9v0oA6f/hLB6Uf8JYPSuY8v2/Sjy/b9KAOn/4SwelH/CWD0rmPL9v0o8v2/SgDp/8AhLB6Uf8ACWD0rmPL9v0o8v2/SgDp/wDhLB6Uf8JYPSuY8v2/Sjy/b9KAOn/4SwelH/CWD0rmPL9v0o8v2/SgDp/+EsHpR/wlg9K5jy/b9KPL9v0oA6f/AISwelH/AAlg9K5jy/b9KPL9v0oA6f8A4SwelH/CWD0rmPL9v0o8v2/SgDp/+EsHpR/wlg9K5jy/b9KPL9v0oA6f/hLB6Uf8JYPSuY8v2/Sjy/b9KAOn/wCEsHpR/wAJYPSuY8v2/Sjy/b9KAOn/AOEsHpR/wlg9K5jy/b9KPL9v0oA6f/hLB6Uf8JYPSuY8v2/Sjy/b9KAOn/4SwelH/CWD0rmPL9v0o8v2/SgDp/8AhLB6fpR/wlY9K5jyfb9KXyf84oA6f/hKh6Uv/CVD0rl/J9v0pfJHp+lAHT/8JUvpR/wlS+lcz5Pt+lHkc8r+lAHTf8JUPT9KT/hKh6fpXN+T7UeT7UAdJ/wlQ9P0oHioen6VzXkmjyTQB03/AAlQ9vyo/wCEqHt+Vcz5JoEPNAHTf8JQP8il/wCEoX0rm/J/2aPJ/wBmgDpP+EoX0p//AAkq+g/KuY8vH8NP8ugDpv8AhJF9Kd/wka/3K5oR89xUgj+tAHRL4ijx0FTL4gi7iua8s9+fwqRY6AOlGuRH+H9auwzrcRh1OQa5JV4rodHGLWgC/RRiigDI8RJ/o4rl/L+tddrg3Wwrm/L/AM4oAq+X9aPL+tWvL/zijy/84oAq+X9aPL+tWvL/AM4o8v8AzigCr5f1o8v61a8v/OKPL/zigCr5f1o8v61a8v8Azijy/wDOKAKvl/Wjy/rVry/84o8v/OKAKvl/Wjy/rVry/wDOKPL/AM4oAq+X9aPL+tWvL/zijy/84oAq+X9aPL+tWvL/AM4o8v8AzigCr5f1o8v61a8v/OKPL/zigCr5f1o8v61a8v8Azijy/wDOKAKvl/Wjy/rVry/84o8v2/SgCr5f1o8v61a8v2/Sjy/b9KAKvl/Wjy/rVry/b9KPL9v0oAq+X9aPL+tWvL9v0pfK9v0oAqeX9aPL+tXPJ/zijyf84oAp+X9aPL+tW/K9v0pPL9v0oAq+X9aPL+tWvL9v0o8v2/SgCr5f1o8v61a8v2/Sjy/b9KAKvl/Wjy/rVry/b9KPL9v0oAq+X9aPL+tWvL9v0o8v2/SgCr5f1o8v61c8n/OKPJ/zigCn5f1o8v2NXRD/AJxS+TQBS2exo2exq75P+cUvk+36UAUfLPoaXy/rV3yPb9KUQf5xQBS8v2NO8v61d8j2/SnCD/OKAKQi+tPWH61dW39v0p/kbeo/SgRSWH2NSLGO5arUgjt0MkrrDGOrsOBXjXxQ/at8AfDK3k+06rFqF1HuDW1tIrScdeAeKxqVqdKLc2ehg8vxGPmqeHpuT8j11Yc5AHPQis3WPEWj+F7Yz6pqNvZQ9WaYgADv1r89PiV/wUY8T6zJPD4VsYrKzfK77lcvjoMV8yeLPin4w8bXEs2sa9d3EUpJ8hpT5Yz6CvErZxTj/DVz9Ry3w5xuItLFy5Y+W/8AkfpX8Rv26Ph54G3x29w2tSrkAWLAjI9Rk182eOv+CjnijUnlh8N6dBa2rZ2vdIS4zXyLpuj3WtXHlWFnNf3BP+rgTexP0Feu+B/2SfiP4+eMQaM+mo+NrXyNH1+oFeTLG4vEO0Ln6FR4V4fyePPiWm1/MznPF/x68e+Nrh5r7xFdQox5ht5Cq/SvPbq5lvpi11cPcSsc7pXLEn86+7fAf/BM+WYxyeLNXkjHBMdkwNfRXgf9i74a+DYY45NGi1Z15Et5GpOR61ccvxVZ3mzPEcYZDln7vDR5rfyo/J3SfB2va0VXTNBvr8np9ngZv5CvRvCf7KfxL8XSIIdGksQ2B/pcbLjP4V+uei/Dvw54bKnS9Gs7HZjAhiA/pmt9Yo16KEHoDgfyrvp5KvtSPj8V4l1ZO2GpWXmfmVoH/BN/4gXWxtS1DT4IyMkRyMT/ACr0nw//AMEytOk2nW9du1fg4tnXFfdm3afl+7Sf56V2RyvDw8z5TEceZzW0VRL0PlPTf+Cdfw7sNm+6v7naOfOKnJrsNJ/Yp+GOlsu7R47raM/6RGpzXvf+elJu/wA4rsjgqEdoo8OpxLm1X4q0n87Hmdn+zV8NLJFC+DNLPv8AZ1zV9fgL8PYlUL4R0sKD2tl4rvPw/Sk/z0rZUKW1kebLNswk7urL72cePgz4JjUBfDOmbew8kUf8Kd8Ff9Czpv8A35H+Fdhx/kUc/wCRT9hS6JE/2ljd/ayXzZxcvwR8CTNvl8Maa7dMGAGqtx8APh3cKFl8HaU6njAtlrv+f8ij/PSj2MOyYRzTG7+1lf1Z5Fq37J3wz1TP/FK6fB/tRwrXHap+wh8ONRfK2jW2f+eKKAK+j/8APSjP+cVlLC0JbwXyOylxBmlLWNaX3nx1rf8AwTT8F3m6Wz1jUrdz0VGUD8q838Rf8E0dWiZho2srIP4Tctj+Vfodj0/lS+3X8K55Zdh5/Zse5Q41zijb99f1R+VHiH/gn/8AE7Qo3ljNhfRqfuwuzNj6YrybxF8B/H3hqR1u/CepSKp5kht2ZcevSv2x3HOOvvt5qO4sILqNo5o1kQ/e3jdn26VwVMnpv4ZWPpsL4kY+mrYimmfg7qGiz6axXULKazYdpoytWNK8SajorBtM1O6smHRoJSuK/anWvgj4J8RK41Dw3p9yWzuaSIZ5rxbxz/wT7+H3ixpJbUzaNKclVtBha4Z5TWhrB3Pr8L4iZbiPdxVLl+Vz4V8D/tafErwOVMGrnUkTGBekv09a9/8AA3/BSa6i8seLNILjgFrJSPbNY3jr/gm14o0/zH8NalDdwqSQt02GIHavnzxl+zv8QPAsjpfeHrq5iUkNLbRM6+/QVz82Nw+57HseF88Xu8t38n/mfpZ8Pv2wPh34/jTbq9vpcjAYivJFDZPbk9a9j0zVLHV7dJ7C5hu4nxh4zn8sV+Fk1udOvNrxSWl1Gc7W+V1I/lXbeD/jd438D3kc2meIbzamMQSSlk47YrspZzKGlSJ81mHhtRrJywVW3l0P2nMJbOD06+1I1uQPut+Vfnv8MP8AgpDrGm+XB4y05biBRtElmuD6ZNfXHw1/ac8CfEq3g+y61bW1xIBi1uJB5mT0HXIr3KOOoV9mflWZcK5pll3Up3iux6Y0Oexphh9jWjCUuIw0RDIRkN6j2pPI56fpXfF322PknFx3+4zDF9ab5X1rSa39v0pnk+36UxbrQzvL9jSeX9avmH2/Sm+T7fpQO1ijs9jSeX9avGH2/Sm+T/nFAin5f1o8v61b8n/OKTy/b9KAKvl/Wjy/rVry/b9KPL9v0oAq+X9aPL+tWvL9v0o8v/OKAKvl/Wjy/rVry/8AOKPL/wA4oAq+X9aPL+tWvL/zijy/84oAq+X9aPL+tWvL/wA4o8v/ADigCr5f1o8v61a8v/OKPL/zigCr5f1o8v61a8v/ADijy/8AOKAKvl/Wjy/rVry/84o8v/OKAKvl/Wjy/rVry/8AOKPL/wA4oAq+X9aPL+tWvL/zijy/84oAq+X9aPL+tWvL/wA4o8v/ADigCr5f1o8v61a8v/OKPL9v0oAq+X9aPL+tWvL9v0pfL9v0oAq+X7GlEf1q15X+cU4Rf5xQBVWP60pj2jnIq4sO7j8OBWJ458YaT8PfDOo+INZkWLT7CMySMWA+UAkk59gaAL/l/WkaP61neBfGWl/EbwrYa9pFzHc2d1EJVZecEnpkcdOa3vJ/zigCj5f1puz2NXfK/wA4pvl/5xQBT8v60eX9atmP/OKTy/b9KAKvl/WjyuejVa8v/OKfsoAq7aPL+tWvL9v0o8v2/SgCqI/rTxHz6fhU/l+36U/yz6UAQeX/AJxUnl+36U8Rn0p4jP8AdoAYsdO8s+lSeXTwvNADFTaK3tLXFqKyAnNbunr/AKMv1oAsBaKXPtRQBm6su626ZrA8k/3a6TUF/wBHPNYvl+9AFXyT/do8k/3ateX70eX70AVfJP8Ado8k/wB2rXl+9Hl+9AFXyT/do8k/3ateX70eX70AVfJP92jyT/dq15fvR5fvQBV8k/3aPJP92rXl+9Hl+9AFXyT/AHaPJP8Adq15fvR5fvQBV8k/3aPJP92rXl+9Hl+9AFXyT/do8k/3ateX70eX70AVfJP92jyT/dq15fvR5fvQBV8k/wB2jyT/AHateX70eX70AVfJP92jyT/dq15fvShcd6AKvkn+5S+T/s1Z20baAK3k/wCzR5P+zVrbml8v3oAqeT/s0vkn+7VoR04qq9eO9NXeiBauyKnkn+7R5J/u1ZVo26OPzpzbFHLU+WXYrld7WKfkn+7SeT/s1cAQ8A8/WkMdT1sTs7MqeT/s0eT/ALNW/L96Ty/egCr5P+zSeT/sVa20baAKvk/7FL5P+zVnbShPegCr5P8As0eT/s1b8v3pVj96AKohP92l8j/Zq4sVPWGgCl5H+zThb/7NaC29PW39aAM37P8A7NO+zH+7Wl9n9KX7PQBmfZ/9mnLb/wCzWj5NO8gBc4OPWmHkZwt/9inLbjJA6jr7VZvJYLK3eW4kWKNVLFnPy496+Y/jt+3F4Q+F6z2Glyx61qXIC2pDKjdt2D0z1rmrYinQV5M9TAZXi80qKnhYOX5fefRt9eW+l2klxeTJDbxqWaRz8oA5NfM3xp/bo8G/DaOSy0iRdb1I7gGtWDKrY4DcnHNfCPxY/am8dfFq4l+0ak+mWDMcW1oxUFf9r8K8lsbO41bUFgs7WW/vpTkRwrudifavmsRm8pPloI/cMn8O6VCKr5pU07dD2f4pftf/ABB+J00qNqLaPZsTtSyYoxX3/CvFZ7ifULoSTzS313IeDI25mJ/rX0j8If2FfG3xG+z32rR/2Ppb4YpICsuO/Bxivtr4S/sReAPhtBE9xZf2zeLgmW7AbB9Rx2rkp4PFYv3pvc+kxnEuQ8Ox9lhopyW3KfnD8N/2Y/iB8TZ4xYaPNZQvgia7jZFIPcHGDX1l8NP+CaVpEIrnxbqckkq4LQwN8p9R9K+6tN0m10iFYLSCO1hUbQsaAcelWW+te5RyqlTSc9WflWZ+IGY4tuGHapx+9nmPgf8AZ68E/D6KEadoNmJ4gMTmPLHHfOOteixxeWgVU2qowNpxx6dKnz7038a9eFOFNWij85r4zE4qTnWm5Nke3/Zpu3/ZqQ/Wk/GtTiIyv+zTdv8As1L+NJ+NAEW3/Zpu3/ZqX8aTb70ARbf9mk2/7NTbaTb70ARbT/dpNv8Asmptv+1SbfegCLb/ALNG0/3al2j1o2j1oAi2/wCyaXb/ALNSbfel2/7VAEW0/wB2l2/7NSbfel2+9AEe3/Zpdv8As0/bS496AGBf9mnbf9mnfjS/jQA0L/s07b/s0v40v40AAVs8ZB7HPSoLzTbe+jaK6gSeJxtaOQbgc+ox0qx+NOUnuan5XRUZSjqnb8zx/wAd/sp/D3x5A6XGg21nO5JNxbIFbJ9P/r18v/Ej/gma8KTXHg/VXkkOWEV44A6cAe1foEPrT9xxwcf7VcNXA0Kt247n1eA4qzXLmvY1m0uktUfiZ8QP2e/Hfw6uZY9V0K5niQ4+0W0bNH9c4rz2xvJdNu/NtZpLC7jON0bbXUiv3o1TQ9P120a2vraK4gcFWWWMHOeDXgXxT/Yb+H3xCgZre1/si55PmWahMsR1NeFWyea1pM/V8t8SKNa1PMafzWqPgH4XfthfEP4ZzRouoHWbLI3R3pLnANfa/wAH/wBvXwf4+WGy1snRr0gKzXLBY9x44GQetfLfxc/YF8a+A0nvdFVdX09clY1O6Ugewr5m1TQ9R8P6h9m1Oyn065Q/dnQowrjjicVg3aex9NXyXh7iWHtMO1zPrE/djRdUsNfsUutPu4bu3YblaFhgirnkjdtC/N6d6/F34aftF+OfhTdJJperSXduuB9lvHLx49MV9vfBH/goZofiyW20vxZEumXzKA1y/wAsGenc17uHzWjWsqmjPyXOeAcwy7mqUP3kPx+4+wWh9qYbf/ZpugeINN8U2Md5pV7HeWsi7g9uQR+daOwfl1r2o2krx2PzGVOVNuM0010Zmm3/ANmmeR/s1o+WG6UxoveqJ31RQMP+zTfJ/wBmrxj96aY6AKfk/wCzR5P+zVvy/ek24oAp+Sf7tHkn+7VvbSeX70AVfJP92jyT/dq15fvR5fvQBV8k/wB2jyT/AHateX70eX70AVfJP92jyT/dq15fvR5fvQBV8k/3aPJP92rXl+9Hl+9AFXyT/do8k/3ateX70eX70AVfJP8Ado8k/wB2rXl+9Hl+9AFXyT/do8k/3ateX70eX70AVfJP92jyT/dq15fvR5fvQBV8k/3aPJP92rXl+9Hl+9AFXyT/AHaPJP8Adq15fvR5fvQBW8n/AGaXyf8AZqzt96Xb70AVhD/s09Yf9mpwuO9PVPTr2oAgWHzF+7u7detfmt/wVs/aAXT9J0/4b6XcmO6um+1Xnk8DySMBD+Oa/RTx/wCLrL4d+DdW8Rag4jtdOiaaQk44VSc/kDX87vx++KV58Y/ivr/ia6maZLi4dbbJzthDHYB+H86APvX/AIJN/tHhJ734Za1d7Qd11YyTtxtAx5YJPqa/URoT/d74/HrX81fwy8eXvwz8eaL4ksHdJ9PuUmKocb1DAsp+o7V/RB8DfilY/Gf4YaF4rspo2+228csqRnOyTABDY6H2NAHYND/s0ww/7NXWX3phX3oAp+T/ALNJ5P8As1bK+9Jt96AKnkn+7SiM/wB2rXl/Wjy/rQBB5VHlVP5f1pRH9aAK/l07bVjbRtoAgC80/wAv3qUR8+n4U/y/84oAhEf1p22p9o9qULzQBH5f+cVsWnywCs7yq0YfliUUAS+ZRTaKAGXyhrdhWP5X+cVsXXzwsKzfKoAh8r/OKPK/zipvKo8qgCHyv84o8r/OKm8qjyqAIfK/zijyv84qbyqPKoAh8r/OKPK/zipvKo8qgCHyv84o8r/OKm8qjyqAIfK/zijyv84qbyqPKoAh8r/OKPK/zipvKo8qgCHyv84o8r/OKm8qjyqAIfK/zijyf84qbyqPKoAh8n/OKXyvb9Km8qjyqAIfL9v0o8v2/SpvKpfJ96BEPle36UeT/nFT+T70eVQMh8n/ADilEPt+lTeVQI6AIljH+RXknxv+B+ofE2wnl0vxRqujagsBEMdpcBI2bnbu/HFexLH7Z/rTGjAYnb9fQ10YevPD1FOnujajVlRmpJn5VfCHxl4n+Hv7QsWh+OvFWtR28E4RFkuW2OQwAznqDXtPxct9b+M3xwtNF8EeK9YW0SNZLqa0uj5SqMFhkcbsZ4JrO/4KNeCdCjn07WtKj2+Kdw3w2/3tn944549eldB/wTn8baFfaLf6NK2PE4lLO03+s2AdOece9fqeIlCrglm1GPvJWatovM++rOMsMsbTh71tVY+p/hb8PW+HnhtdOl1e91qYsHe4v5A7AkdiK7LyfX+VWfKU9l9aaY6/KqtSVWTnLds/Pqk3Uk5MrmH2/Sk8n/OKnMdHlViQV/J/zijyf84qx5XvSeV70AQeT/nFL5Pt+lT+VQIqAIvJ9v0p6w9OP0qVYhUscNAES2/t+lTR29SrGFHJ4rzP45fHnQPgb4bk1DVJVacj91AGAdjjsK6MPQq4qoqNFXk+hvRo1MRNU6au2ei3Fxb2MLSzypDGoJLsduAO9cRq/wAevh54fkMV/wCLdMglU4KtcZP86/LT4x/teeOPi9qkwhv5NF0sMRHFaMUZl9G9eK8UmW/1m6bz5Zr6Y/Mc5Y/Wv1TA8BTqU1PFVGr9F/wT7jDcMc0VKvJ/I/bjSfjx8PNekSOy8WaZcy5ACpcAn+f867u3uYbu3WWKQTRsOGU9a/Ayze80+YvaSy2cqHrGxUgj+te5fBr9sLxz8JdSh87UJdY0slRJDdMXYKDzt/Cqx3ANSnTc8LUu13HiuF2oN0J/efsL8pAOMfhXkPxq/aW8G/BWwnfU7+Ka/VSVsYnBkOBngZ/Wvkr4w/8ABSWXV/DqWHg2xa0vbiLEs04x5ZIwdp9fSviHxJ4o1XxVrD6hrF5LqF3MxIaV849hX4RmmNqZfVlheX31ufT8N+H1bGWxGYvlh2XU93+O37a3jH4sTT2umTyaNozEhRCSkrDpgmvneC3udWvgkSy3+oTNwqgvI5Ne0fBn9k7xv8Y7yF4LKTTNLJUtcXCFdyk87SRjkdDX6K/An9jHwZ8H7WGaWzTVNVGGa4ulDlW65B9jXz1LC4nHS5qmiP0XH5/kfCdH6vhIpzS2X9fmfDnwS/YN8XfEjyL7XUk0fSXwxRwVlx34OMcV96/CT9kzwL8KbWB7bTkvb2HGLm4UM+fXOK9tWFIYwiKqLxhQowAO3FNYe9fTYfLqGHs7XZ+F5zxhmebycXLkg+iIY4o7dAiBU2jCrtHA/ClZf84pWWmlfevU9EfEfixGX/OKYV/zinlaTy/egRGV/wA4pCv+cU/yqPL96AItn+cUbKf5fvR5VAEfl/5xSeX/AJxUvlUeVQBF5ft+lHl+36VL5VHlUAReX7fpSeX7fpU3lUnlUAReX7fpR5ft+lS+VR5VAEXl+36UeX7fpUvlUeVQBF5ft+lHl+36VL5VHlUAReX7fpR5ft+lS+VS+VQBF5ft+lHl+36VL5VHlUAReX7fpS+X/nFSeVR5VADNn+cUbKf5VHlUAM2f5xTgv+cU7y/el8v3oAbt/wA4pwX/ADijyqXy/egBwX/OKcPrTAtOC+9ADtgYYbLj+64DCvMPid+zf4G+KdjJHqukQxXLg/6VHGPMBI6gjvXp4X3qRfrWc6cKitUV0deGxmIwc/aYebjLyPzM+NH/AATn13wz9p1DwhP/AGhZxgyGCU5fABJAHrXyF4k8Nar4V1RrDWdNn065Q42zxlT9RX748t94bhXmHxW/Z08HfFyxmi1bTo0uXUhbuNR5gyMZB7EV4GJyeMvepaH7BkfiLXoWo5kuaPdb/M/Jz4U/tEeNfhDeJLo+qS3NqMD7JcOWjwD2FffnwM/b48L/ABC+z6f4if8AsbVdoQvOQsTMePlyR3r5p+OX/BP/AMUfD9rjUvDO7V9LXLeT96UD2Ar5T1HS7/Q9UNtfW82n30J+5Iux1PqK8eFbFYCVpPQ/RMTleQcX0fa0Gud9Vv8AM/e2xurfVLWK4tp1uYJBuR1wQfTpUrQ/N0+vFfkD8Dv2xPGXwfuIra4u31XSNw3xzEu6qDyF/Cv0c+CP7Ung74zadD9l1CG21EgBrSdgJM/TOa+mw2ZU8TZbM/Dc/wCD8wyWTmlzw7r9UevND/nFN8n2/SrYjDcghqYYa9U+Ed+pU8n2/Sm+T/nFW2hpjQ0Elbyfb9KTy/b9KseVSeT70AQeT7fpSeT/AJxU/k0eVQBB5P8AnFHlf5xU/lUnlUAQ+V/nFHlf5xU3lUeVQBD5X+cUeV/nFTeVR5VAEPlf5xR5X+cVN5VHlUAQ+V/nFHlf5xU3lUeVQBD5X+cUeV/nFTeVR5VAEPlf5xR5X+cVN5VHlUAQ+V/nFHlf5xU3lUeVQBD5X+cUeT/nFTeVR5VAEXle36UeX7fpU3lUeVQBH5X+cU5FCspPTPpUgi96UR0AZPiPwzp/izQrjSNWt1vLC5iKTQuMh85BBHcYPNfDP7bX7I/wr+Hf7P8A4l1rRPB+m2OqW9s7RTxQ/vFYA4OfXvX3+oxXl37R3gnwp4/+FOq6P411r+wdBuIWE96CF8sYIySeMgE4oA+HP+CW37Pvw3+KHwP1TU/Fng3SfEGox6i0YuL2De4XbwoP4H8jX6LeFfBWh+BdKXTPD+k22k6cn3Le2jAUfSvH/wBi/wCFfw8+FHwzuNM+G3in/hLdGkuvNkvVnDDfgjHy5HQ5xnpXv7LQBXaP/OKYYvbH4VY8um+VQBB5ft+lJ5f+cVN5XvR5VAEewe1L5ft+lP8AKp/lj0oAh8v2/Sjy/b9Km8selHkj+7QBD5ft+lAXmpvJH92jyx6UAR+WPUfnR5VSeWPSnbf85oAi8qpBHj+GnbafQAzbVyHmNaq7atxZ8teaAHbaKWigCOVf3bVT8ursufLbmquDQAzy6PLp+DRg0AM8ujy6fg0YNADPLo8un4NGDQAzy6PLp+DRg0AM8ujy6fg0YNADPLo8un4NGDQAzy6PLp+DRg0AM8ujy6fg0YNADPLo8un4NGDQAzy6CtP2n/Io2nvnHfijyE7bke339qRVHmHn/wCtXy5+0n+1br/we8cW+jados19DJbiVnEZPOcEZA645rb+KX7S2reC/g34d8VWmky3N/qQj8222EmPcpJyMZ4PHNezHKMTUjTlZe/tqeqsuryUWre8fRfl/wCc0gUbiP8AIr8/l/4KC+LgAv8Awi83X/nif8K93+Kf7S2reCvg14c8VWmkS3N/qQj8222EmPcpJ4xng8c11VuH8ZQlCE0rydlqa1MpxNOSi7Pm0Pozy/8AOaFUb8V+fa/8FB/FwUKPC02M/wDPE/4V7z8VP2mNW8E/Bnw54rs9Ilur/UhH5ttsJMe5STkYzweOaVbIMZQlCE0rydlqFTKcTTko6Pm0Po0R+n4V578ZPjZ4e+EPh26v9XvoY51jYxWxIDyHBOACcnOO1fHa/wDBQ7xemP8AilJj9YTz+leoftBfEjS2+C/hnxXqngyDXL+/8vfbTW24xZXnI9s966Y5HXwtemsVG6k7aNG8crqUa0Y17NPsN/Zp0TTvjpqureOPENxb6tNO7LDZuQ6xQngAjnBHWvlv42xwfsv/ALQi674T1KNrJpd89rC/I5BK4B/Cu18J/tm3ngmHydD+Hq6dDn7tvabOa9g+OfibwxZ/Cfw946vPh7ZatrOqmIzxSWoaRNylmJHseK+rh9ZwGMarRvTqLlUbqx9HD2uHxHvq8JaJXPdvgX8edB+M3hq0uLG+gfUWiDS2YYb0454zn869R2gPg1+Z3g/9rdvANw0vh/4cQ6VLJwz2tntJHoT/AIV9S/FT9pnVvBPwX8OeK7PSJrrUNSEfm2oQkx7lJORjPB45r5fMcirU8SlSjZTeiutD5/HZVONb90klL8D6L8v/ADmmhfmP+cV+fi/8FCfF21V/4RafGf8Anif8K94+Kn7S+q+Cfgz4c8V2mkS3V/qQj822CEmPchJ4xng8c1yVsgxlCUITSvJ2Wpy1MpxNOSjo+bQ+jPL/AM5poUbiP8ivz+X/AIKEeLtqr/wi02M/88T/AIV7v8VP2l9W8E/Bnw54rtNIlur/AFIR+bbBCTHuUk8YzweOaVbh/GUJQhNK8nZahUynEU5KOj5tD6M8v/OaVFG/Ffn0v/BQrxcqqv8Awis+M/8APE/4V718VP2mtW8D/Bfw34ss9Hmu9Q1Ly/NtQhJj3IScjGeDxzRWyDGUJQhNK8nZahVynEU5KLs+bQ+kFi/zmpFXa2QeK/PRP+CiPi4KF/4RK4I6f6k/4V9CfFT9pPVvAfwT8N+MrXQ5rq+1TyhJbKhJi3Jk5GM8HjnvSrZBjMPKEJpXk7LXqFTKsRSlGLtroe7+JNetvC+gX+q3bBLaziaaRmPQAV+NH7RXxm1L41/ErUL2eUnTIJWS3iUnbtBwDXt3xh/bo8VeOPAt7oU2hTaTFfRmF5ni2ggg5GT3wa+QrdinA5PUmv1vg/h2eBcsTikubZW7H3eQZS8KnUq2u+3YWO3aaZYoUaSRjhVUZJPoK+0P2d/2O9YbwTrfi7W7SQ3Ulk4sbPb+83YyDtI65xXxvalo5lljdopEOVdTgg+oNfot+xv448Q6p+y143vLvWLq8vrJ7lbaeaQlogI+ApxxivpOKq+KweDhLDNK8kn82j2s2q1sPRjOja7a/M+DvGnw78VeEb68vNY0DUNMtJJ2VJrqAqp545wBzXK7cqa7Dxp8RvFHi26urbWtd1DU7VZiVhuZtyrjpgYrlJlAxt4r6rBQrewj7drm8j2aKl7NORUW3EkgBZVLEKC3Tn1r9DP2U/2E9HXSdL8W+LJI9TluI1mgt423R7Tgivz1uYcqQDj6V+tH7BvjuXxr8ELZZJN/9mv9kHPZQK/E/EHhzCe7mUI2lfXzPLz3OMwweXOlh6nKr697eR9CaTo1lodnHa2FtHa28ahVjjUAACrtH0GKQ5r8hskrI/DpSlOTlJ3uMYVGy+9PbNRnP+RQSNK+9N204hv8ikwaAG7aNtOwaMGgBu33pPLp+DRg0AM8ujy6fg0YNADPLo8un4NGDQAzy6PLp+DRg0AM8ujy6fg0YNADPLo8un4NGDQAzy6PLp+DRg0AM8ujy6fg0YNADPLo8un4NGDQAzy6PLp+DRg0AM8ujy6fg0YNADPLo8un4NGDQAzy6PLp+DRg0AN2+9G2nYNGDQA3bS7aXBowaADb704L703af8ilG7/IoAkVfenAVGM04Z/yKAHMokGGAYf3Sua8J+OX7Ing34y2s7varpuqnLfarZQrMcdzXuy59aUfNx/TisalGFaPLUWh6GCx+Jy+oq2Fm4yXY/Gz44fsk+M/gzfSs1lJqmmFiUmtlLlF/wBogY6V45omsX3h3UFu9Mu5rC8jPLQsVYEdjX716po9jr1nJbX1rHdwSDa0cigjH418X/tJ/wDBP/TvE32jXPBSx2OoYLNbfdjPBPQV8tisplT/AHmHZ+9cP+IVDGKOFzeK1+10+Zw37NP/AAUBmsJ7PQPHpLxDEcV8vTsAWJ6e+a++/C/ivS/GemJf6ReQ31nIAyyRMG6+4r8MvG3gfXPh7q0ul6/p01lcRsVDSoVV+eoyK7z4K/tKeL/gnqUD6feS3Wm7hvtZnLKFzztHriowua1aDVOvqjpz7gXC5pB4zKZJN626M/ahk9u/NI0NeG/AH9rLwt8brOGGKdbDWAo8y2kYBi3fA9K93xkda+spVYVlzU3c/nrGYDEZdVdDFQ5ZLv1K5hpvl1Z25phjPr+lbHCVylJ5dSlD/kU3a3+RQAzy6PLp+0/5FGDQAzy6PLp+DRg0AM8ujy6fg0YNADPLo8un4NGDQAzy6PLp+DRg0AM8ujy6fg0YNADPLo8un4NGDQAzy6PLp+DRg0AM8ujy6fg0YNADPLo8un4NGDQA3bS7aXBo2n/IoANv+TXz3+3tbxTfsveOPMRSy6fIRgkY4OK+hcNtPXp0x1rz74+eEvDfjX4VeIdH8War/Y2gXFtJHc3u4DyY+m7J46HigD5B/wCCNcm74B+JFZskaxhdwB42dBz7H8q+/wBo/evnn9iT4T/Dn4S/DfUNO+Gviz/hL9HnuzLNerIGCygHgbTjoc4z0r6IKn/IoAZspu2nsp/yKTaf8igBnl0eXT8GjBoAZsop9FADcGl59aN1O49aAEpNtOwPWk2j+9+tACbaNtO2+5oC/N1oATBop9FADePWrcf3RUHl+9TpwooAWiiigBJPumq1WW+6ajoAioqWigCKipaKAIqKlooAioqWigCKipaKAIqKlooAioqWigCKipaKAIqKlooAip1Po60b77CZzut+AdE8QXi3Go6ZbXkgGN0yAkD0yalvvBui6lYR2V5plvNaR42wunC46YFbgBH8VDMferVWpp77sttTb21TTV6HGj4R+Ed2f+Efssf9cV/wrXvvB+i6pp8dld6Zbz2keNkLJkLjpgVtEjPVqVs54zWkq9WTTlJ3XmwderJptvTzONHwj8I7gf8AhH7HH/XFf8K2L7wfouqafHY3emW89pFjZC0eQuOmBWySM9WpTntmlKvVk05Sd15g69WTTbenmcePhF4Q3Z/4R6xx/wBcV/wrXvvB+i6pp8dld6ZbT2keNkLJkLjpgVs8ZzlqUk+9OVerJpyk7rzB16stW3p5nHj4R+EN2f8AhHrHH/XFf8K177wfouqafHZXemW89pHjZCyZC46YFbGec5alJPvRKvVk05Sd15sHXqyd23p5nHj4R+EdwP8Awj1jj/riv+Fa194P0XVLCOxu9Mtp7SPG2FkyFx0wK2S3OctSsT70Sr1ZNOUndebB16stW3p5nG/8Kj8I7gf+Efscf9cV/wAK177wdouqafHY3emW89pFjbC0eQuOmBW0cZzlqDn3olXqyacpO682Dr1ZO7b08zjh8IvCO4H/AIR6yx/1xX/Cte+8G6Lqmnx2N3pltPaR42QsmQuOmBW1xnOWp3PbNEq9WTTlJ3XmwderLVt6eZx4+EPhDdn/AIR6yx6eSv8AhWzfeDtF1TT47K70y2ntI8bIXTKrjpgVsfnTuaUq9WTTlJ3XmwderJpuT08zkf8AhUvhD/oX7H/vyv8AhW3eeGNJ1HT4rC60+3msoseXC8YKrjpgVqUmO1Eq9WTTlJu3mN1qsrXk9PM+H/8AgpB4F0nRfhNpFzpem29m41BAxhjCnGDxxX51xxgqMV+u37bmh6XrXwL1Y6jdRWz2ytPB5rAbnCnAGe9fkNbuNoyfav6E4Cxka+AdKcryTe5+ucN1J1cDGU7uzauWUjPpX3v+xPn/AIZX+IgzgK9wf/IZr4JjkMbZPSvsj9h/4qeF9L8IeKPBPiPUYdLi1ISMk1w2xSWGMBs8nnoOa+h4soTqZfemr8souy7Jpux6WcU5VMKuRXaadvRo+Q9SAXVL3jnzDmqTHcuCMV7h8evB/wAPPAKzReHdafXtbupzI0iMskMak8gHOQR+deHTN3r6LAYqOKw6qRVvU9ajUVSmmlYhk4Wv0r/4JgxSR/B7XDJna+psVz6bRX5oSLJOojiUvLIdqqo5Jr9hv2Nvh83w/wDgnpMTxmOe9RbqVWXBDMB1r844+xEI5cqT3k1/mfHcTVYxwnJ3se6U1utO5pGNfzwfk3UiY02pWptMCImipaKAIqKlooAioqWigCKipaKAIqKlooAioqWigCKipaKAIqKlooAioqWigCKipaKAIqKlooAioqWigCKipaKAIqKlooAioqWigCKipaKAIqKlooAipd1SUUAM3UuadRQAm6lzRTs0AOU9aOeetFLQFzy34yfs9+GPjPpksGrWaC6KkLdKo3qSMZB9RX5n/tBfsc+K/g7eTXdhDJqehliyyRgs6L/tYr9geSCPbrVPVtKs9asZbS+t1ureRdrRyKCMYweteXicBSxKfc+54f4tx2RTUFLmp/y/5H4LeH9d1Pwzqcd9pl7NY3kLZzE5U5Bzg19+fsv/ALfkd+tr4d8dP5NwoCR3rEBW7DJPepf2ov2A4tTS58R+Bk8q6GXks0GAwAJOB61+f2vaDqXhPVpdN1W0lsb+FsFZVKNweor5b/aMsq36H75/wicc4S2imv8AwJP+vkfvTpeqWeuWUd3Y3Ed1bSAMkkZyCDVvB9a/In9m/wDbI8R/By/isdRmk1DQZCFYNl3QZA4+gr9Qvhf8V9B+LHh+HVNEvYbhWUGRFYEqT1BweDX1WDx1PFLzPwDiLhXGcP1HzLmp9Jf5nZkZ6U0ipPelr0z4jqV6RhU9JtoGQUVLRQBFRUtFAEVFS0UARUVLRQBFRUtFAEVFS0UARUVLRQBFRUtFAEVFS0UARUq1JRQAKPmH1rxP9s+3Sb9lf4l7kDMmiynk4xgD+te2qcZx17VxXxp8O6F4s+EvijR/Euo/2VoN7ZSRXt9u2+TG3LNn2zx74oA+J/8Agi6274F+MM8ldaXbwDgeV25+v5V+hbV83fsM/Cf4a/Cb4davZfDHxh/wmmkXV95lxeLIrhJQuNvHsc/SvpWgCGipqaVoAhoqWigCKneX70+igBnl+9Hl+9PooAZ5fvR5fvT6KAGeXT9o9qKOtABRTvJ/2f0o8s+n6UANqRfuijy/dakoATbRS0UAG36VH5futSVFQAvl+60eX7rSUUAL5futHl+60lFAC+X7rR5futJRQAvl+60eX7rSUUAL5futHl+60lFAC+X7rR5futJRQAvl+60eX7rSUUAL5futHl+60lFAC+X7rR5futJRQAvl+60eX7rSUUAL5futHl+60lFAC+X7rS7PdabRQA7aPVfzpdo9VplFAD9o9Vo2j1WmUUAP2j1WjaPVaZRQA/aPVaNo9VplFAD9g/2aNg/2aQdKKAF2e4pwUe1Np1ABt+lIeMUtNLdKNw8wauF+LPxh8PfB3w3catrl2kQRSY4dwDSMASAPrWJ8fvj5ofwP8K3GoX86fayh8i3z8ztg44r8kvjN8b/EPxp8STajq91ILLeTDagnao7cV4uOzGOGXLHWR+k8J8HVs+qKtW92it/P0Op/aM/ab8QfHfxDO1xLJaaDG5W3s0bAK9iR615RY6Xe3enzXdtp9xLZQnD3SISi/U16R+z5+zr4g+PviOK2soGg0ZGBnvGUhQuRnBxjOM1+qXgH9m7wb4J8BHwx/ZcF5bSx7Lh5UGZCRgmvS4OzbG5VjvrjfuPddz9X4mzjJ+H8NDLcNFOS6LovNn4wx8gMDvFOdS0gZF5HvX3R8dP+Ccd2t1dan4Cu18li0j2dy33epwmP618sa/8As4/E3w5cNC/hPU7sA4321uzKfccV/XOB4jy7H0uaFRLyZ8th80wuKgpQkedbMvuK4/CmSyFCSTha29Z8FeJPD81vbaro15pc9wwSNbuEpuJOBjPWvsT9nf8A4J7z+ILex1/xnfL9icLNDa25zuHBAb61rmGeYPLaPtqstHtbqVi8fh8JT55ysjzf9jH9mbUvit4ytfEGp2skHh2wkEqtIpxKwIIHI6HFfq5Z2sVjbRW8KCOKNQqqowAAKzPCPhDS/BOi2+l6RaR2lpCoULGoGcd62jX83Z9ndXOcT7R6RWyPyHNMynmNXm+ythaNo9qKaa+ZWx4gbB6rSeX7rSNSUwF8v3Wjy/daSigBfL91o8v3WkooAXy/daPL91pKKAF8v3Wjy/daSigBfL91o8v3WkooAXy/daPL91pKKAF8v3Wjy/daSigBfL91o8v3WkooAXy/daPL91pKKAF8v3Wjy/daSigBfL91o8v3WkooAXy/daPL91pKKAF8v3Wjy/daSigBfL91o8v3WkooAXy/daPL91pKKAF8v3Wjy/daSigBfL91o8v3WkooAXy/daPL91pKKAF8v3Wjy/daSigB20eq0uweq0yigB+33FO2j2qPdS0AP2/Sjb9KaDTqAEb7p6V4N+0F+yb4W+NmlzyPALPWMFkuoQAWbHGfbNe89etJt4/CsqtKNaPJNaHdgsdicvrKvhp8sl/Wp+Hvxk+B3iT4J69NYa1aSfY95EN1tO0g9MnGM0nwb+OHiT4Ma9FqOi3sn2XI8y1ZjsIyM8V+yHxM+FOg/FLQZ9N1qyjuVkUqsjKNyZGMg+1fl1+0r+xz4h+C99PqemwyX/h2RyQyAsYh15wOAK+OxWX1cHL2tB6H9KcO8YYLiKisvzSKU3prs/Q/Qb9nX9qTw38cNDjCXcVrrcajzrORgHJ7kD0969xznHNfgh4X8Wap4J1iLU9Fu5bO7hYH5GIBwc4I/Cv0t/ZP/ba034jW1t4f8Tzx2WuKoRGkIVZT04J6nNengczVW1Orufn3FnAtXLXLF4D3qe7XY+xdo9P0o2j2pkMyzRq6MGU8gg9RT6+i06M/H9nYQxj2pPLH+zTqbtpiEMY9VpPL91paTbQAeX7rR5futJRQAvl+60eX7rSUUAL5futHl+60lFAC+X7rR5futJRQAvl+60eX7rSUUAL5futHl+60lFAC+X7rR5futJRQAvl+607yx/s0ynDpQAu1V5yOK8X/AGzP+TWfidt76HccZ+gr2gk9uvauJ+MXhvQ/Fvwt8TaN4kvv7N0C+spIru83BfKjYctnpx298UAfEX/BFvB+B3jHIG7+21xnGceUOmT7H8q/RXaPavmH9hv4RfDH4ReDtasfhh41PjDTrm8El1MJVcJIFIx8px3r6eoANo9qNo9qKKAG+WPajyx/s06k20AJ5Y/2ab5futLQRQA2iiigAooooAKKKKACiiigAqWoqloAKKKKACoqn2ik8tfSgCGipvLX0o8tfSgCGipvLX0o8tfSgCGipvLX0o8tfSgCGipvLX0o8tfSgCGipvLX0o8tfSgCGipvLX0o8tfSgCGipvLX0o8tfSgCGipvLX0o8tfSgCGipvLX0o8tfSgCGipvLX0o8tfSgCGipvLX0o8tfSgCGipvLX0o8tfSgCGipvLX0o8tfSgCGipvLX0o8tfSgCGipvLX0o8tfSgCGipvLX0o8tfSgCOipNo9KNqr2oASmjAAAFP4pvqfagBo7815B+0V+0LonwL8Jz3dzcRvqcilbe1VhvJxxx9aP2hv2hNH+BPhea7uZEk1F0PkQbhktjjj0zX5GfFX4saz8XvFV3rOs3LuJJCYoSx2oueBivCzDMFh4uFP4j9Q4O4Pq53UWJxS5aK/8mHfFr4v678YvEk+r63ePKC5MUJY7UXtxXd/sz/sz638evEELGCS20CF1M1ywIDAEZ2nvxmrX7Ln7L2rfHPxFDcT2723h+GRWknYEbwCCcHHPFfrN8Pfh3o3w18PQaRo1qltbxKASowW+teNgsBPFz9tW2P0/inizD8P0P7Nyy3tLW02iQ/Df4Z6L8L/AA7b6TotqlvFGgVnVQC5A5JrrqT0pcD619nCMYRUY7I/matWqYio6tZ3k92wNMx7cVI1NHA6VWtzHU+cv2mPhX8N/HGuaHc+L/ECaLewSqYYftCx+YQcgYPXNe8eGbO10/w/p1rYP5tlFAixPnO5QODmvgn/AIKJMG+IvhIDORPHyCfUelfcHwrO74d+HyecWkf/AKCK+qzDD1KeW4apKo2n07H0GMo1IYOjKUrpnVfxU6mDvx3qTivlj55bDWNNqTaPSjYPSgZDRU3lr6UeWvpQBDRU3lr6UeWvpQBDRU3lr6UeWvpQBDRU3lr6UeWvpQBDRU3lr6UeWvpQBDRU3lr6UeWvpQBDRU3lr6UeWvpQBDRU3lr6UeWvpQBDRU3lr6UeWvpQBDRU3lr6UeWvpQBDRU3lr6UeWvpQBDRU3lr6UeWvpQBDRU3lr6UeWvpQBDRU3lr6UeWvpQBDRU3lr6UeWvpQBDRU3lr6UeWvpQBDRU3lr6UeWvpQBDRU3lr6UeWvpQBDRU3lr6UeWvpQBDRU3lr6UeWvpQBDRU3lr6UeWvpQBDShql8tfSjy19KAI6Wn+WvpRtHpQA3dS0u0elLtFADG6elZ2t6HY+I9OmsNRtku7aVcNHIAQQeK0yOD60zBGKGlJWY4ylCSlF2aPzd/az/YYudAmuvE3ge3M1ocyTWajleCSABXxHFLe6LqRdHksL63fGR8rxsD+nIr9+poI7mFo5UDowwVYZBr4t/a2/YesvGUNx4n8Hwi11ZAXltUACydT0Hevlcdle9WhufvfCfHitHL82d09FL/AD/zOL/ZJ/bsdfsXhXxxNjGI4L5yAD2G4mv0A0/ULfVbWO6tZUngkUFHXnIPvX4Ja5od/wCF9Xm03U7eWyv7dyNrqVbg9RX1j+yL+2td/Du8g8NeLZWudEkYJFdOxJiyQBknsKjAZk4P2Vc6OLOB4YiDzHKFe+riuvofqKe3Pfn3p9ZXh/xBYeKNKt9R0y5jurWZQ6SRkEEGtX9K+sTUldH8+yhKm3CSs0IwptScUbRTJImpKm2j0o8tfSgCGipvLX0o8tfSgCGipvLX0o8tfSgCGipvLX0o8tfSgCGipvLX0o8tfSgCGipvLX0o8tfSgCGipvLX0o8tfSgCGnL0qTy19KNg9KAGA4ryD9rdiP2ZfiMv/UFmBB4/hFewlQq1yHxX8P6P4r+G3iLSPEF39g0S8tJIbu7J2+VGerZPTGeKAPgD/gi2u34d+MGYf8xIYLY4Hlr05z1FfpdXyx+xB8F/hV8IdK1uH4Y+Nj4tt7ictc7bhXWNx2wpxkD1r2z4x/CsfFzwo2iHxDqvhsFt32zSJfLm6Y60Ad3R09q/B/8Aauj+J37Lvx6bwXpfxO8SajDNFFNBNd37MxWRiACM47Cv08/Y9/Z/1bwhpej+O9c8e+IPEOpanpaiXTr26L2qM3O5R60AfUlFfLf7Xn7Ld/8AFi31LxdpvxE8UeF9QsNNKxadpN0UtpHTJDEdcngZr8vf2Yb/AOKPxk+OL/De4+JHiC2shJKLm4+3OXVY32krk8GgD95Nylev60leZfAP4I/8KN8L3OjHxVrXi0zT+cbvW5zJIgx9xT6Z7V6jtHpQBE1JU2xfSjy19KAIaKm8tfSjy19KAIaKm8tfSnUAV6MZ4qxRQBF5eD1/SpaKKACiiigAooooAKKKKACiiigAooooAKKKKACiiigAooooAKKKKACiiigAooooAKKKKACiiigAooooAKKKKACiiigAooooAKKKKAEo/hoPSm5G2gBCRtJxXlfx++OukfBDwbcanezRteMpW3t8jczYOOPritb4xfF7Rvg54SutZ1e4jjEaExQlgGkYAnaB3JxX4+fHT43a38bvGFxq2pTstirkW9rk7VXPBx6142YY5YWPLH4mfpHB/ClTPa6rVlajHd9/Io/F/wCL2u/GTxXc6trFw5iziGDPyqM8ceteg/su/sv6t8dPEEE1xDJB4ft3VppipG7BBIzjuKqfsyfs06x8fPE0JMTwaBA4NxOQRkAjIB+ma/XD4c/DvSfhn4ZtdG0m3WGCFQpZRgsQOprwsDgZ4uftqux+rcVcU4bh/Df2blvx2t/hRL4D8A6R8O/D9tpGjWqW1tCgX5QBuwOprpuaY3OOvBp1faRiorlifzLVqzrTdSo7ye7H0UUVRmI1Rk7V9uuae54xTcjb09qXVAfNH7Tvwr+HfjnxBol34u8QrpF7DIvkwmdY95HI69a9+8I2Vpp/hvTLSyk82zht0EUmc7lA4Oa+C/8AgoSB/wALE8K7d3+vTuR3HpX238Jzn4c+Hyw+7axj1/hFfU4/Dzp5dh6kqjafTsfQYujKngqMnK6Z2PTdUtV93X/eqdW3V8sfPIWiiimMKKKKACiiigAooooAKKKKACiiigAooooAKKKKACiiigAooooAKKKKACiiigAooooAKKKKACiiigAooooAKKKKACiiigAooooAKKKKACiiigAooooAKKKKACiiigAooooAKKKKAEpjDKkEZGOlP6Un8NAHy/8AtT/sf6V8ZNJuNS0xEs9ejUtG6KAGODjPtmvyz8beB9X+HviK40bWrSS0u4WKjepUOPUZ61+9XrXhf7Sn7L+hfHTw9K3kJaa5EpMN0igEnBwCfrXz+Py2NZe0pbn67whxtUyqccJj3zUn1/l/4B8Afsrftf6x8F9Ui0nWZnvfDsrBcuSxi5A/IV+p3gTx9o/xE0GDVtGuo7m3kUH5WBK5r8S/id8Ldc+E3iO50jXbSSHa5WOZlO1x2Oelehfs1/tQ658DfEEETXD3OhzSgSwvk7F4BI/CvMwWPqYafsa2x97xTwhhc7oPMcra9o9dNmfsvyRTq4/4a/EzRPih4ZttY0e8iuYZFG8IwJVscg46H2rsK+wjJTSlHZn81VqNTDzdOqrSWjQ6ik3D1pasyCiiigAooooAKKKKACiiigAooooAKKKKACiiigAryv8Aaj/5N7+IPQ/8SibIPpivVK5T4maHpXib4f69pWuXX2LSLy1khurndjy0PBOe1AH5x/8ABGDJ03xnnn/TSfp+7Xnrmv1Hr5O/Yr+CHwl+EV14gX4Z+Ov+ErNxMTdQrcKwib0wPQV9Y0AfiN/wVlby/wBszTm/u6ZYt/5Eev15+AMhm+C/g1z1OmQ/+givx/8A+CukElz+15BDEf30mkWiJzjks2K+m/hT+zB+0Df/AA38O3Fh4++z2U1lG8MP21xsUqMD2oA/QL4gf8iRrf8A16SfyNfi7/wTx/5Pq1Yf9NL/AP8AR1fWPjT9l39oWz8J6vcXPxB823jt2Z4/t8h3AA54PH518ff8E0ba4s/2zHiuZfMuYYrtJX673EgBP55oA/dP+IfX+lOpv8Q+v9KdQAUUUUAFFFFABRRRQAUUUUAFFFFABRRRQAUUUUAFFFFABRRRQAUUUUAFFFFABRRRQAUUUUAFFFFABRRRQAUUUUAFFFFABRRRQAUUUUAFFFFABRRRQAUUUUAFFJRuFADW71yXxJ+IukfDHwvea1q9ysEMMbMFYgFiATgZ+la/ijxNp/hPRbrVNRnW3tLdC7sxA4AJ71+SH7Wn7TF98bPFs9tZzPDoFq5SONSRvxxn3rzMdjVhaem7PuOFeGa3EOKs9KUfif6I5z9pD9oXV/jt4umubiZo9Ht3K21uCQCAeCRVX9nn4A6x8ePGEFjawtHpMTA3Fzg4AyMgHpnGaxfgv8Gdb+NXi610bS7dzblx59woO1FyM89M4zX7BfA/4K6P8F/CdtpWn26LOqjzZgBuc455r5rB4SeNqe2q7H7hxJxBheFcAsuwCSqWsl282bHwt+GOkfCvwtaaPpNukKxIqvIqgFyB1Ndn/KkxS5r7aMVCKjHofy7WrVMRUdWq7yerY6iiiqMQooooAay5FRMQq/rmpJD8uPWm5Gz7vtS6oD5n/aa+Fvw98beINFvPFniFdIvYXXyYTOse8jkdete++EbG00/w3plnZSebZw26CKTOdygcHNfB3/BQYD/hYvhbbn/Xp3PqPSvtr4Tf8k58Plhkraxj1/hFfU5hh508uw9SVRtPp2PoMXRlDBUZOV0zse7fWpqr5+9/vVOrbq+WPnkLRRRTGFFFFABRRRQAUUUUAFFFFABRRRQAUUUUAFFFFACbv54pa+XP2hv2/PA37OPj638I65YX99qc0CTj7JgDk8DB/CuHuv8Agqb4IsbJ7ufwd4iitlXLSsi7QB3JoA+26K+FNK/4K2fDnXpGTTfDOvXjqOViCE/1qzN/wVe+HNpqENne+G9cs5ZmCKJ1UcnoKAPuKisLwd4ptfGnhnTNcsw6W2oQCeNH+8FPrW7QAUUUUAFFFFABRRRQAUUUUAFFFFABRRRQAUUUUAFFFFABRRRQAUUUUAFFFFABRRRQAUUUUAFFFFABRRRQAUUUUAIab249KdSY4oA8h+PX7PWg/HDw1cWl9AiXu0+VOAAQ2CAc+1fkt8avgjr3wS8Uzabq9pJ9kZyILnB2MOwz0zX7itwp+ledfGf4KaF8aPC0+k6tCvmshEVxtG5CQeQa8XHZfHErmhufpXCfGFfIqioV3zUXv5ea/wAj8nf2ef2jNd+BPia3mt5nuNGeQGe1JLADoSB646V+tnwi+LmifGDwzBrGjXUcwZR5kakEo3cHBr8g/j18BNe+BPieax1CCSXTnb9xdAErjPAJxjNO+AXx+134E+Kob/T53k06RgJ7TJKlSRkgeuM14WDxtTBVPY1dj9b4k4ZwfE+F/tHLWvaW+/yZ+2v4inV578GfjBonxj8J22saVcxyMyjzYg4LI2OhAPBr0Ld619pCaqR5on8w4jD1MLUlRrK0ojqKTcPWlqzAKKKKACiiigAooooAKKKKACiiigAooooAK83/AGiv+SG+OB1/4lcxx+FejscDNcx8Q9D03xJ4F1vS9XuvsWl3ls8NxcZ2mNDwTntgUAfmh/wRzbb4o8dD/p6k9M9F9TkdD+VfqvXyT+xj8Evg/wDCLW/EQ+HPjgeKL26lZrqEXCuYz3GAe3vX0P8AEiTxfHoanwYli+qeYA39oZ2bfwoA/Hj/AIKvL/xmhpXp/Z1j/wCjG/xr9evgWAPg74P29P7Nh/8AQRX5m/tEf8E+/wBpH4/fFSbxpqs3htrwBIYPJujGqIhJXgg+tfeH7MPh/wCMnhHQNM0P4ijQTp+n2SwQtppYyll4GT0oA9W+JQDfD/xACf8Al0kB/Kvxh/4J3jH7c2phfm+e+Ax6+dX6pftI6P8AF/xJot9pXw6GipbXdo0TvqOd4YgjIPsa/O/4S/8ABOH9o74U/FKz8aaddeH4tRS4aaUm7LBgzbmBXHOT2oA/YHuD2zn9KfXDfCl/HLaDKfHq6emp+YPLXTQQgTGOffNdzQAUUUUAFFFFABRRRQAUUUUAFFFFABRRRQAUUUUAFFFFABRRRQAUUUUAFFFFABRRRQAUUUUAFFFFABRRRQAUUUUAFFFFABRRRQAUUUUAFFFFABRRRQAUUm4UySZIo2d2CooyWJwBQAvG2q95eQafay3NzKkEEKl3kdsKqjuTXzX+0J/wUE+FnwDtpYZ9Wj8Qa0pK/wBm6dIGkVvf2zXx18V/+CiWp/G7wC2naPatpC3cjbyp5EJ42tjvXJisRHDU3Nn0GR5NWzvGxwlLS+77I1v22v2sJ/iRrM/hTw5ctFodu5SeWNv9cRwRkdjzXzJ8O/AGrfEzxVa6Bo9u9xdTMAxQfcUnBY/TNZmh6DqPizXLfTNOhe7vrqQKAuSSzHGT+Jr9Zv2QP2X9P+CvheLUL2BZPEN2geSWQAmPI6CvjqNKpmNbnnsf0lmePwPA+VLD4ZfvLWS7vuzr/wBm39n/AEr4H+DLS1ghU6pKgNzOQMlu4zXstNCgU7BzX29KnGlBQh0P5ZxmMrY6vLEV5XlIdRRRWpxhRRRQAUUUUANZciom+Vf1zUkh+XHrTcjZ932pdUB8z/tNfCz4e+NvEGi3fi3xCmj3sLp5MJnSPeRyOvWvffCFha6f4Z020s5POs4YEET5zuUDg5r4O/4KEYHxE8LBSf8AXpzk+o9K+2/hH+8+HOgnOStsg9f4RX1OYYedPLcPVlUbT6dj6DF0JwwVGbldM7D+99amqDd1/wB6pgc18ufPIWiik3D1oGLRRRQAUUUUAFFFFABRRRQAUUUUAFFFFABSMcDNLRQB8Z6p+y3afE79sKbxl4r0NNT0O203yo/tEPyecHBBz0zXSftnfCnwhov7MPj+4sPDen2c0GlSNFJHCAynBA59uDX1MOrfLj39a8G/bi/5NZ+Iw/6hU3/oIoA/Oz/gkB4M0TxZ4s8Sf2zpVvqaRqdq3Ee8D5VxivuD9rj9kbwX42+FGq32keFIIdf0uNry1/s+ACWV1BwuBzzx0r4//wCCLq/8VN4n/wB0/wDoK1+thXcvzDNAHm37Otpd2fwR8FW2oWs1nexaZGs1vcKVeNu4YHkEY6GvS6Zt49frT6ACiiigAooooAKKKKACiiigAooooAKKKKACiiigAooooAKKKKACiiigAooooAKKKKACiiigAooooAKKKKACiiigAooooAQ009Dj04pzdKb6UCPPPjB8GdC+Mnhm50rV7ZGZ0ISYqNyEgjIPrzX5HfH79n/XfgT4qls9RtZH0yVyba7AJQrngE9M+1ftmfpXC/Ff4R6H8XPDlzpWs26SCSNlSUplkyCMg9iM15GOwEcVFuPxH6JwpxbiMgqqnUfNRe67eh+QnwD+PmufAnxZb39hPJLpbsBPaZJG3IyQPXGa/Xb4N/GDRfjJ4St9Z0m4RyyjzYgwJRsdDzxX5IftE/s9618C/FFxaXMMkmkvKfs11tO3BPAJxiovgD+0FrvwL8Uw39hO8mmMwFxZkkqVzyQPXGa+ewmMq4Gp7KrsfsXEnDeE4pwizHLWvaWurdfJn7ZY3d+9P/CvP/g78XtG+MHhG11rS7iNy6gSxhgSjY6EdjXoBYV9rCcakVKOx/MWIw9TC1JUaytKOjHUUmRS1ZzhRRRQAUUUUAFFFFABRRRQAUUUUAFcF8cm/wCLP+Lf+vCXgj2rva57xxo9j4g8J6pp+pz/AGWxuIGjmm3Y2KQQTn2zQB+W/wDwSKYj4w+O88gzzYJPueACc1+tNfIP7HvwJ+Dnwn8ceI7j4eeOR4n1a5kka7tPPDGIk88A9j619fUAJtFLRRQAUm0UtFABRRRQAUUUUAFFFFABRRRQAUUUUAFFFFABRRRQAUUUUAFFFFABRRRQAUUUUAFFFFABRRRQAUUUUAFNLBVyTx60teT/ALSfx20r9nn4X6n4p1Fl8yJGW2hOP3kgBIAz16dBQB6zRXlX7Ofxw0z4/wDwv0jxXp7KXuI1+0xqR+7kxkqR2PseRXqtABRRRQAUUUUAFJS0jfdNAC0hOK8n8SftTfCbwfqc2m6x4/0TTr6IkSQ3F0AykdQR2ra8DfHPwD8Sr57Hwv4r0zXbxU8wxWVwHYL64ByBQB39FcJ46+NfgX4ZzrB4o8U6boVyy7hFez7G29MgHt71peB/iR4X+JWntfeF9dstdtFIDTWUu9AetAHU0UUUAY3ijWH8PeHdQ1KOzn1B7WBpRa267pJMAnao9TX4mftdf8FCvi14813VPCsa3HgnS7adkEMcbQXTqCR859DX7ks3GDX4if8ABUr4r+DviV8ZINC8I6XZSX+mOUvtUtox5k8pyChbvjg/gKTdldjjB1JKMVdnw9dXlxqN1JcXU8lzcSNueaZizsfUk8k17t8O9MddBsYoYmluJgAsaDLMxPQAV4tcaDeWN1HFNCyFzgHHBzX6u/8ABPn9keTVobHxn4ptNtnbhWtbaVfvHAIbBHP1rwsxg8UqdKnrdn6zwbiafD1TFY7HRacI2Se930/A9d/Yb/ZNTwTpsPjHxLbhtWuFDW8Mi58tTyD7GvtUDH0qKKFYI0jjXYigKqgcACpq9TD4eGHpqED4DOM2xGc4uWKxD1ey7LsOooorqPECiiigAooooAKKKKAGsuRUR+Vf1zUkh+XHrTQRt+77UuqD1Pmn9pj4WfDvxx4i0S88XeI10a7hdPJhMyR7yOR161734TsbTTfDOn2umSedaRQosUn99QMA18G/8FCgP+FieFtuT+/TnJ9R6V9t/CX/AJJ1oBO7K2qf+givqcww9SnluHqSm2n07H0GMoyp4KjJyvfodU08cJVpJFjDf3j1NSLPHIfkkUgc4U185ftc/CPxD4u8N3PiDw94k1TS76xty62tpNtR9oJ5Ar5n/Yb17X/FnxDurDxD4v1aW/s3LfZZbslWCnncD27H61nhsmjicFPGQrfDurEYfK1Xw0sRGe3Q/SVp0C7i+0A85pIp0mHyMjjpkNXkv7S1uF+E+rXh1i70l7OFp1ntZfLYsAeM15X+xd4G8RNpL+J9c8SavqC3LEwQ3NwxjMZOQcHrmvPp4KMsJLFudrO1jjhg1LDuu52sfWbZ6ZqSolYqM7ep/Kpq8s84KKKKACiiigAooooAKKKKACiiigAooooAQ9K8F/biGf2WfiP/ANgqb/0EV73XyJ+3x8dPBek/s8+NNDk8QWMmq3llJbR2qTZk3lRwBnrn1oA+Tf8Agi6P+Kk8Tn/Zb/0Fa/W2vxl/4JF/E7w54H8aeILXX9WtNLM0TPG93IEBAUepHpX7G6dqlrrFhBe2M63NpOoaOWI5VlPcHuPpQBdooooAKKKKACiiigAooooAKKKKACiiigAooooAKKKKACiiigAooooAKKKKACiiigAooooAKKKKACiiigAooooAKKKKACiiigAooooARulMP9OKkpmO2D9aAOB+Lvwf0X4xeF7nSdXgU+YhVZtoLKSCMj3Ga/Ib4+fAPXPgX4ouNOvoJJNNdz9mutp2lSeAT0zX7bDKgd64D4wfB3QfjL4XutI1i1SRnRhHPtG5CQRkHtivIx+Ajio80fiP0ThLiytkFb2dVuVF7rt5o/JH9nn9oXWvgL4st7u2lefRpH/0m0OSMcZIHrjNfrt8J/ixovxc8K22saPcxzK6AyRqwJRvQ4r8efjz8ENZ+CPiy507ULeQ6e0rC2udp2Fc8Anpmtf9nP8AaI1j4E+Lre4iuZJNIlYLPbkkrjIyQPpmvn8FjJ4Op7GrsfsHE/DOE4lwv9pZc17S1/XyZ+0ob19afXI/DX4kaR8T/C9prWkXEc8UyAsqsCUJHQ113X6V9pGSnFSjsz+YK1Gph6jpVFZrQdRTdw9adVmQUUUUAFFFFABRRRQAUUUUAFcf8VmH/CtfEn/XnL0PPeuwrE8Tabba14dv7K+kMFtPAUllBxtUjBIPrQB+Vf8AwSmyf2k/H56tvuOTyfve5r9b6+Pf2TPgT8G/hb8VvE1/4C8djxH4guTMbyx89W8nLfMCASeDX2FQAUUUUAFFFFABRRRQAUUUUAFFFFABRRRQAUUUUAFFFFABRRRQAUUUUAFFFFABRRRQAUUhOKTevrSvYB1FN3CnUwCiiigAopKD0oARscjj6V+L3/BWT9pD/hP/AIjQeAdIu/N0bSCJbhVPHn9CD7jHOfQV+rvx88Xax4I+EviPVNA0y61bWYbSQ2tvZpvkMmCRx1Nfzv8AxM8E/ED+19T8UeK/C2taadQunnmur2ykjTexJILFR/kUAfZ//BJH9pD/AIQnx9dfDzVrtYNJ1bM1s0jYHncALyeM5r9lVbp/Kv5n/hX4N+IUOuaT4r8J+Fda1T+zrqOeK4srKWRCyEHG5V79Pxr+h/4FeLNV8bfCvw5qut6ddaXq01nG11b3ce11kwM5B5Bz1B5oA9DooooAKKKKACmSfcbAzx0FPooA/Oz/AIKcfsd6H4m+HV94/wDDOkQ2muafm4u/s0eDKmCSTzg5xisj/gjnqng6+8CaxbQ2NtF4vtZiklx/y1aIjP5Hrmv0Q8VeGLHxf4c1DRNQj8ywvoGt5Vxn5SCDX4nfCPxZqX7Df7ct5pt1F5Gi3941ptkzs+zTS4STHsM0AfcX/BRDw34f+JGreCPCI0eC98RahqMMdxKYQ0sdsxA45B4PfpnFfVXwY+EOgfBfwPpvh/QdOgskt4EjlkhTBlYD7x69ea+Xv2cLp/2jP2nPFnxQmj83RtCL6DbIRmJ2QArKueCCOhHpX29igBT0pueP1p2RivJP2mP2gNF/Zx+F2peKtWljEqIy2duxAM8uMqg55ycDA55oA+fv+Ckv7Y0XwH8ASeFPD10h8Y61E0QAb57aJlIMnXPf/Oa/I7wDoM17eTaxqhe4u7hzIZJTliTyWJPfNWPEPirXvj98TNQ8YeIppLh7iYuquchEB+VB7AV798Avgrqfxo8a2ehaZbstmpU3EwHCICN3PTOM8V83meLcn9Wo7vc/bOB8gpUaf9u5l7sIfDfr5/Loei/sf/spt8dPGVtq+rWg/wCEd06USMzrxIykEDpggkV+t+h6HaeHNLttOsYFgtoECKqDAwBgVz/ws+Gul/CvwfY6HpdusKQxqJGUcuwHJNdh1r08Dhfq1JKW58LxRn8s9x0qkNKd9F+rFB/nxT6Z0xxT69E+NCiiigAooooAKKKKACiiigBrLkVHwq/rmnyH5cetNBG37vtS6oD5n/ab+Ffw88b+INFu/FviJNHvYXTyYTOke8jkfe617/4PsbXTfDOmWtlJ51pHbosUmc7lA4Oa+C/+ChSj/hYvhUKTxPHzk+o9K+3vhN83w40DnkWie/YV9TmGHnTy3DVJVG0+nY+gxlGcMFRk5XTOquraO6gkilAZH4YH0r8uvjZoN5+y5+03a+IbDdBpF7Os0zx5AKswZ19Bx2r9SNwOc9CcV80/t0fCK2+JXwjvL+NES+0tWuhJ3YKDlc/hVcO42OGxfsa38Op7r/QMkxXsK/s5/DLQ4z9ob4qp8UrPwR4V8PuXk1x4bm6jzki3fAOQOe/XpmvqbwJ4Xh8H+FNM0iBQsVrEsYwOOAAK+Ff+Cd/w/vvFGvS+LdbDTLpkP2C3WbJ2gcgjP4V+hxbayDbxRn0KeDmsBRd4w1fqys4UMPJYOjstfvFxnP1zUhGRimc+nenq24Zr5U+dFooooAKKKKACiiigAooooAKKKKACiiigArzDxZ+zb8NvHVw8+veD9L1SR23sbmHfk+v1r0+igDxrSf2Q/hBodyZ9O8AaLZTHgyQ2+0kfXNer6ZpdtpFjb2dlEtrbQKFSKMYAX0q9RQAUUUUAFFFFABRRRQAUUUUAFFFFABRRRQAUUUUAFFFFABRRRQAUUUUAFFFFABRRRQAUUUUAFFFFABRRRQAUUUUAFFFFABRRRQAUUUUAFFFFABTOecenBpxpo+ZelAHmfxu+COifGrwndaXqcCidkIiuNo3KcEZB/GvyC+NnwZ1j4K+MbvR9Wif7PvP2ecg7XTtzX7kfU8V5N+0F8A9E+OHhG7sLy2jXURGTb3O35lbBxzXiZhl6xEXKHxH6XwfxbUyKsqFd81GX4eZ+Y/7Lf7TWqfAfxRCk8z3Hh65YLNCxJ8sEgEj8K/W/wL440z4geHLXWNKuEnt7hA3ysDjIzivxJ+K3wv1n4R+KrjQtXgZCjsIpSpAdc8EHvXrP7J37Umo/BXxNb6fqVxJP4enYKys2fLyQO/QCvHwGOnhZ+wrbH6hxdwrQz3D/ANp5bbntfT7X/BP1+APsOe1P21ieEfFVj4y0G11bTZkmtbhA6tGwYc89a293vX2SakrrY/mecJU5OE1ZroOopNw9aWmQFFFFABRRRQAUUUUAFc748/5E3WfX7K3y/hXQnoaoazYw6lpd1azsY4ZkKOwOCARigD8mP+CYJx+2P8QScf8AL52/6aeua/Xevjb9lf4C/Bj4Z/HDxRqvgbx5/wAJF4puDN9s0w3CsYAW+fIBzwfWvsmgAooooAKKKKACiiigAooooAKKKKACiiigAooooAKKKKACiiigAopMijcKAFopoYHvRvX1oAdRSBgaNw9aAGSfMlRBlzjPOOtS7gynaf1r5W0D4dfF6x/aZuNWu9YEvgySPKw+axUDOcdMZxXbhsNHEKblNR5VfXqZzk4pWPqiNQpI96kIzUaMPXOAMmn719RXDc0HU1RtGaGkC9+vSjPFD01YCc0mfpXkn7SHx/0r4AeCX1e9xNeTZjtbcHmSQg4GOp59K8V0XXvjLqfgOT4mRy2pMkBvYtOORmE5O3HrjtXr4fLKlekq0pKMXor9Wc9SsoO1rn2IfT+Yr4y/4KtYH7Md3wf9c3Qf7B9q9v8A2b/2gNO+PXhF72FTBqdi/kXsB7SDg4/GvEf+Crrf8YwXf/Xf/wBkNefWw9TC1ZUaqs0bRkpq6Gf8EpVDfsx2mVB/ejt/sivtFfoQPw/pXxh/wSj/AOTY7P8A67D/ANBFfaVYlBRRRQAUUUUAFFFFABX5if8ABWD9mDVPGeueF/G3hexlvdXupk06SG2Q7lHAVjgf3iOa/To9Kq3mm2uoCMXNvHcCJw6CRQ21gcgjPegDx/8AZC+EcPwd+Bvh3SWhMeqTW6T6gzfeeYjkk17Tg0fdwAKNwwc0AZviDXrDwtot7q+p3CWen2cTTTzyEBUQDJJJr8Hv20v2mtW/a0+MUtrYTSR+FNMlaCzgUnYwBIMp+vavo7/gqN+2cfEV8fhL4Lvd8CN/xNLq3f7xIIMJIP1yPSvjTwB4T/smxjURGW9nIAVRySegFeZj8WsLT0+J7H3fCXDs89xvLPSlHWT/AE+Z1nw48A3utX2n+HdFt2nvbhljUKM4JIGT+dfsl+yx+z9YfA3wLbwmENq9woe5mI+bJHIz6V47+wf+y0PA+kp4z8RW4bVruP8A0eKQZ8tT3wa+0fSuHLMG4v6xW+Jn0fG/EkMQ1lGAdqNOy06tdPkO5/X0p9M6jv1p9fQn5CFFFFABRRRQAUUUUAFFFFABRRRQA1lyKj4Vf1zT5D8uPWm5Gz7vtS6oPU+af2mPhX8O/HHiLRLvxd4jXRruGRPJiM6R7yOf4ute+eE7G00zwzp1pp8vn2kUKpFJnO5QODnvXwb/AMFCsf8ACxfC23JxOnc+o9K+2/hLn/hXOgMxzi1TP/fIr6nMMPOlluHqym2n07H0GMoyp4KjNyvfoavijxho3g6xF3rWpW+m27HaHuGCrn6mvBP2jPjx4evvh9NoOg6lbapqGtD7JAlu4YneCAcDtkgfjXQftXfAG++PHhK3sNPv3sbi3l80fOVDccA/U151+zv+w7b/AA21C11vxNetq2qW7bobdmLRpg5B57ilgaeX0aKxdap76fw/kRhYYOnTVec/fXTzPaP2c/h2nw5+GulWTQ+TeSwpJcYGCXIySa9X4YVXjUBeF44A4xgVP938K+erVpYipKrPds8itUlWqOpLdj6KKKxMQooooAKKKKACiiigAooooAKKKKACiiigAooooAKKKKACiiigAooooAKKKKACiiigAooooAKKKKACiiigAooooAKKKKACiiigAooooAKKKKACiiigAooooAKKKKACiiigAooooAKKKKACiiigAooooAKKKKACmHPan0ylsB4b+0r+zbpHxy8K3KmFYdZjQmC4AAO4A459M4r8jviH8PdX+Gnie80HWYGguInIQspAdc9Rmv3jr54/aw/Zg0v43eFJ7i1gW21+2BkiuEABcgZAJ9M9a8DMsAq0faU1qfrPBfGE8oqrB4x3oy09P+AfEn7HP7WN98JtctvDuuXDT+H53Ch5GP7vJx1PQDNfqloutWniDS7fULKVZ7W4QPG68gg1+D3izwlqPgfX7rSNWge2vbdyvzAruAPUZ7V9cfsT/teXPgu+tvB/ie5MumTOEtp5SSUYkADP4iuDLsfKnL2FU+1414Rp4+l/auWK8t2l1Xf1P04XG7OPxFPz1qpY3sOoWsVzDIssMihlZTkEH3q1uFfXn85NOLs9x1FFFAgooooAKKKKACs3Xv8AkD3n/XJv5GtKq11breW0sEm7a6lTg4ODxwaAPyM/4Jvf8n7fETgH5b78P3p96/XyvjL9mf4C/Bj4c/tGeK9d8F+Pv7e8ZXXnC80czAm3DPmTIBz8p45719m0AFFFFABRRRQAUUUUAFFFFABRRRQAUUUUAFFFFABRRRQAUUUUAcD8ZdV8W6H4Hu7/AMHQ2s+p2371oroE7owMkL718lfAX9rj4o/HD4hf8I9YW2j2ZsLk/wBoR3EZVzEpAfb6HGQD64r7ukVXjZXG5T1B71+XXxQtbv8AZL/bIsNcsA1voetTKZnAIj/eEFgT0r7LIKWHxtGthpU06nLeLf5Hn4qUqbjNPQ+qf2vvi98SPhKuiy+DhorQ6lcLaRR3yEyNIew9cnpivVPgXqHj3VPBMN18QI7GDWJsOsdkpChSM8+9eLahq1l+0N8etFtrVk1HwtpEK6jHMp3KLhSccjjOcHFfV0cexdu35RwPpXmY/kw+Fp4eVNKpa7dtfJGlO8puSd0ZHi/xPZ+C/DOpa5fnbaWELTynpgAZNfKtv8Zvjf8AE43PiLwDaaBJ4QgdgYrtCbgheflHfIHFfS3xW8Jr42+HWv6AZRF/aFq8BcnG3cCM5/GvzF8OeNPjD+w5q11Z3Onyax4ReXd5wRnQKcng4Izg5r08iwNPFUanIoyqp6KWzXl5mWJqOEld2ifZX7Nf7S3iP4jfDvx5rvijRvPv/Dd/NbLZaZETJMqDdtC9zxxXA/Cn9uzW/iZ8ck8IR+HJNKsShZob2LbOp3YxgdPx4r039jX4keBviL4R1fVPCsf2G8v7tru/tZCN3mMACQB2B9a+WvBtuln/AMFCrwKuEEb5DDaPvj0r0sPgcLUr42FSjyuMbpdtDCVSahBxZ63+0t+3rq3wjguU0zwlfWUsV01qlxqtuVilIGdydMj36YrH1T9tr4jar8P9O8Q+G/CUkscdoLi+nmtSYmJ67CB6Zo/4KuWMMvw08HuUB36wEOQD1Xp69K92+H+i2Np+yXp9tHaRxq+hZYKg5+XuKdOGX0suw+JeHTlOXK9RS9rKrOKk9EM/ZF/aUT9o3wZPf3Nullq1lMYbiHGOfXB5FfQJ5r88/wDgmUph8SeO0XiMajLjB4xz2r9CyRXzOfYSlg8wnSoq0dGduEk50k2z8t/+Cm3xCW3+O3hLQL12OmWogvZEzxjcM5H0Br3Tw1+378JNP8C2WhTzyLHHarasq7cDCgetfP8A/wAFH/Baat+1R4PuL2Nv7NvVt7OR8fLjIyM+uCa+j7H/AIJ5/CW68Ow6m8L+W1v5zSDGOgJPXHavvKn9lxyvBrGXvbSx5cfbe2lyHyl+w78ftJ8G/tPa/aS3UkWg6/eSpZpvATe7gJ3x1NfUn/BVpv8AjF6+x18//wBkNfJP7FfwP0nxX+19r9rLCW0fw9dTS2rKB9+Nxs5H4GvrT/gq1n/hmG8I7TH/ANBIrweMfq/12Dob8qv+h24Dm5HzC/8ABKP/AJNjs/8ArsP/AEEV9pV8W/8ABKP/AJNjs/8ArqP/AEEV9pV8EemFFFFABRRSZFAC0UUmRQAtFJSbh60AIa+P/wDgoh+2Ba/s6/DebRdJukfxlrUTRW0KMN8CMpHmkeme/tXvPx++NmhfAH4a6p4t1y4jjito28iFmAaeQKSEUZ5Jx2r8DfH3j/Xv2mPi1qXi7XpZJIpJD5UUjEiGIN8sY/rWNWtGjBzk9j08ty+tmWJhhqEbyk7L/MyvBej3etalceI9Xke4u7iRpmklOWZicljmv0H/AGFv2XpPiB4gj8W6/atHpFo2+3jdf9YwwQcHtmvFv2YfgHffGzx3ZaZb25j0a3ZWuZsfJtBG5QfXGeK/ZHwb4P07wL4ds9H0y3WC2t41QBR1wMZr5rC0ZZhX+sVdlsj9rz7MaHCOWLJcvlerJe9L83/kbFrax2dvFBAgSGNQqqOMAdqs9qj/AIu9SD619X6H4C25O7FooooAKKKKACiiigAooooAKKKKACiiigBrLkVE3yr+uakkPy49abkbPu+1LqgPmb9pr4WfDzxt4g0W88W+IV0i9hkXyYTOse8jkdete/8AhCxtNP8ADemWlnJ51nDboIpM53KBwc18G/8ABQYD/hYnhbbn/Xp3PqPSvtv4TN/xbnw/u6raxj1/hFfU4/Dzp5dh6kqjafTsfQYujKGDozcrpnY9C1SVDu6/71TK26vltz55C0UUUxhRRRQAUUUUAFFFFABRRRQAUUUUAFFFFABRRRQAUUUUAFFFFABRRRQAUUUUAFFFFABRRRQAUUUUAFFFFABRRRQAUUUUAFFFFABRRRQAUUUUAFFFFABRRRQAUUUUAFFFFABRRRQAUUUUAFFFFABRRRQAUUUUAFFFFABRRRQA1qRs7TTqTqtAHyl+2J+ybZ/FzQZ9a0eAQ6/bK0isij95gE7T9TX5Zaxo994Z1efT71JLS/tZCp6qQQeor99yu7IPNfF37b37IsPjjTZvF3hi1WLWYAWmgjAAlUAkn68V81mWXc69rS3P2zgfjD6nNZbj3enLRN9PJ+Rx37Dv7X/nG18D+LbhVnXEdpcyHhh0Aye9foBHKs0aurKyMMgjvX4B/wCm6LqeSZLLULOTr0eNwf6V+lX7Ef7XkPjbT4PCXia6SPVoQEhmkbHmAcDk9Sazy3MG7UKu51cccH+zvmmXK8Xq1+p9q8/L9akqMYOOepp9fUn4TsLRSUbhjNAC0UmaWgAprfdNOooA/IT/AIJ+/wDKR34j9Oup44H/AD2+tfr3Xxj+z38Bfgt8O/2nvFHijwt8Qf7a8bXpuPtWiNOp8je2X4HPB456Gvs6gAooooAKKKKACiiigAooooAKKKKACiiigAooooAKKKKACiiigBrfdr5J/wCCh/wTuPil8IzqOm2u/U9ILXQaNT5jgD7oxX1u33TVO5tYrqEwzRLNDIMMjDKke4ruwOMqZfiYYmnvEyqU1Vjys+av2C/hLdfDP4NWNzqYZ9S1Qi5YTAiSJSPuHPI5HQ19Qe9VYbOO1hiihjWOJOFRRhQKtL92ljcVLHYieInvJ3ClTVOCijzn9oObVLX4L+Mp9Gilm1VdOla3SEEuWAyNo9a+aPhj8dT44+CcWhfEXwJrE2oWtt9mdbq05nIUAFQwznsD619tSKJFIPP4VRm0WxumVpbSKRlIILL0NdeEx1LD0vZ1Kd3e6admjOrSlUe58UfsO/BPV/hlqPjDxheaZcafY3U8z2enmPbKYicgbT3714to914ws/2yLnxkvgTXv7NZ2jYm1bJG8cjj05r9TVhVFCooVR0VRjFN2Dd935vcf1r1KfEU41qtWdLmc1y79DB4Ncqinsfn1/wUO1rX/il4H8M6fo3gvXJntr9byUrbFsDbgjgH6V7V4X+IF7Zfst2VtJ4T1o38emfZWsxbbZNwXGcdevtX05IobG5Qw9x0o2gc446Dqf0rmecQlhaWG9lpB8y1Zawz55Sctz85P2ApfEvgHx5r9rrHg3XLOHVLxmimmtiqJuPBJIHrX6OHPHHpiiOMKegHOeBUlcWaZh/amI+sOHKzWhS9jG1z5l/be/Z7ufjT8P7e80ZFXX9Gm+2Qtj5n2g4X86870v8AaO8R2fwbj8DP4L1w+Lo7D7DHOYD5JkA2hjxkDp+FfbjDjgVU/su0Nx9oNtH5xHLbea3w+aKGHhh8RDnUHeOuxEqF5OUXa581fsS/s4XXwf8ADl7r2vIp8R65Ibqbj5og/JX/AOtXJf8ABV3/AJNju/8Arsf/AEA19mKpz3x24r4y/wCCrx/4xju/Tzj/AOgGvNxeLqY2u61Tdm1OmqcVFB/wSj/5Nks/+uo/9BFfaVfFv/BKP/k2Sz/66j/0EV9pVyGojdKbk496c3SmZzxmgAVvfNIzDbk8fjXz5+0R+194Z+B9rJarKt/rRBCW0ZDFTjgkema+BviJ+3J8SPH9xKILxNHtskR/Y8o4B9TXl4nMqGG0erPvsk4JzTOoqpCPLB9X/kfr0syE43gn60/PocV+GbfGz4gLN9oPjHWC2c4+1NivVfhr+3P8RvANxCbi6TV7PIEi3WWbbnnHvivPhnlGXxI+txXhXmVGm5UqsZNdNUfrueo5qpqmqWmi6ddX9/PHaWVtGZZp5mCqigZJJPavE/2fv2tvCfxytEt4pxp+tKBvtJjtLHvtz2r5D/4KvftdXvh1E+EHheSWG+vYRLqd1C//ACycECLjua96nWhVhzxeh+S4zLsVga7w2Ig4yXT/AC7nyx+3h+1TqH7U/wAWjoGizSJ4P0iZobeJW+WZwcNIfUccVzHwr+Gt3r+qWPhzRLdpLy4YJlVztyep/OuN+HPgxtMt4pDEZL+44VFGWOf4RX62/sLfsvR/D/Qk8Wa9bA6zeJuijkX/AFan696+arTlmWI9jD4I7+Z+55VhqPBOUPNMYl9YqL3V1Sey/Vns37NPwJ034H+ArOxhhU6lMokuZscliBkfSvYsUzv7VJX09OnGlFRitD8HxmLq46vLE1neUmLRRRWhxhRRRQAUUUUAFFFFABRRRQAUUUUAFFFFADWXIqJvlX9c1JIflx603I2fd9qXVAfM37TXwt+HvjbxBot54s8QrpF7C6eTCZ1j3kc9+te/eEbG00/w3ptnZyebZw26CKTOdygcHNfB3/BQYD/hYnhbbn/Xpzk+o9K+2vhPz8OdALDJW1jHr/CK+pzDDzp5dh6kqjafTsfQYujKGCoycrpnY92+tTVX3fe/3qnVt1fLHzyFooopjCiiigAooooAKKKKACiiigAooooAKKKKACiiigAooooAKKKKACiiigAooooAKKKKACiiigAooooAKKKKACiiigAooooAKKKKACiiigAooooAKKKKACiiigAooooAKKKKACiiigAooooAKKKKACiiigAooooAKKKKACiiigAooooAKhmjSaFkdQysCCrd6mqNuh4oC9tT88/24P2QRF5/jbwpaMcbnuraMdhkk4FfCWj6tfeGdWhvtPke01C1k3KehDA5wfxFfvld2cF9ayQXMSzQSDDpIMgivzL/AG2v2R7nwNqlx4x8MWzS6PO5e4hjH+q7k4A4Ar5LMsC4fv6J/Q3A/F0cRFZTmTvfSLfXyPpv9jv9quy+Mnh2HRtVmS38Q2iBWRmwZQBjOD/OvqDd71+Cvgvxpqvw/wDEVnrmj3D215bSBtqsQGwQcEehxg1+uf7LH7SGm/HjwnGTNHHrVsoW4t2bD5A5OOuPeuzLcwVaKpVNz5fjjhGWVVHjsGv3Ut12/wCAe8cYpu4KvJAH6VHc3EdnDLNK4SKNSzMTwABXwn+2B+3DDoiT+F/BF0Jr4grPeRHITIIOCOhFexiMRTw8eaZ+e5Rk2LzrEKhhY37voj7xVl9uuKfXgH7GfxSuvip8ILO9v5muL21IgmkY5JcDnNe/dqujVjWgqkdmcOOwdTL8TPC1fii7DqQ0tJWxwn46/sZ/8pKPG44H+kX3T/roPev2JX7o/Cvi74Nfs/8AwS8C/tSa74s0D4hf2j44vHnNxorXC/ui7fPkZzweOa+0gMACgBaKKKACiiigAooooAKKKKACiiigAooooAKKKKACiik3CgBaKKKACiiigAooooAKKKKAEpaKKACiiigAooooAKKKKACvi3/gq9/ybHdf9dj/AOgGvtKvi3/gq9/ybJdf9dj/AOgGgA/4JR/8myWf/XUf+givtKvi3/glJ/ybLZ/9dV/9BFfaVADW+6a8C/a6/aBh+B/w/mkt5QdZuwYraNeSpIOCR6ZxXvbEKpJ6Yr8n/wBtT4pab4y+O1xDqLXMmj6ZGIRBCePMU5JI/SvKzHEOjS0dmz7ng/KI5tmUVVjeENX+h83694g1DxlrF3q+pzSXd3NIzPIxJAzzgemBVOKF5ciJC+3k7RnFfpFqvwg+Ft9+zHp+vyWkOmW01sLia4GBMxK5IXPG4jP414T8Gfjj8NdC8Saf4dbwZDfadeTpbrd3kIMvPy5J989a+Oq4NqcVUnrI/pTA8URrYaq8HhZP2TcWtFtofKiYbKkD8acsf7rfjMecbscZ9M19wftWfAjwF8O9a0/xujfZdIuURk0y3AG5yQRx3B6VY/Zz+KHw1+JviH/hDdR8E2VrDcJtt7gQDfu9WP8AhUvActZ0ZzsztXFqq5csxw2HlOK1l3S6+tj4r8L+Ir3wnrFtq2lXElrdQuHVo2Izg5/pUPxG1af4oeLz4m13ZcaoEEZlPXA6flXp37TXwvg+EXxW1HR7Qn7JKTPCpH3VJ6D2rlvhL4Ng8efEbQ9GnkEcF1dIkhJxkFhkD8M1yL21Op7BNroe/L+zcdg45pOnGSUea7XzPor9hX9l1/HfiBfF+u2rR6PZODBHIP8AWMMEcHtX0R+3N+2JF+zL4b0/w94bijufG2sbYdPtsArEGyquR6bsV9L+CvCOn+B/Ddlo2mwrDbW0YUbRjccck1+LXx08cTfG7/gpJpFve7pbPTfEFtpkcT8qqQzZ/Xiv0TB4WOFpKK36n8bcTcQVc/x8q70prSK7L/Nn2P4T/Y++KXi/4fx+OdR+KfiWz8d31v8AaU0hb4/YkJG5UK9RzwR6ZrrP2H/2zLr4oeIdX+F3jWP7N420B5IfNxgTpGcHOe4xX2bHGkUaxooVFAAVRgAAdq/E740X118Ff+Ck1he6VN9kGoalbPPg4DRzTkMDj1wK9Bu58eftvRUNvMtxHHLG25GUFT2IIByKmpAFFFFABRRRQAUUUUAFFFFABRRRQAUUUUANZciom+Vf1zUkh+XHrTcjZ932pdUB8zftNfC34e+NvEGi3nizxCukXsMi+TCZ1j3kc9+te/eELG00/wAN6bZ2cnm2cMCiJ853KBwc18Hf8FBgP+Fi+Ftuf9enc+o9K+2vhNz8OfD5YZK2sY9f4RX1OPw86eXYepKo2n07H0GLoyhgqMnK6Z2PQt9amqvu+9/vVOrbq+WPnkLRRRTGFFFFABRRRQAUUUUAFFFFABRRRQAUUUUAFFFFABRRRQAUUUUAFFFFABRRRQAUUUUAFFFFABRRRQAUUUUAFFFFABRRRQAUUUUAFFFFABRRRQAUUUUAFFFFABRRRQAUUUUAFFFFABRRRQAUUUUAFFFFABRRRQAUUUUAFFFFABRRRQAUUUUAMb7tZmv6HZeJNJudP1CFZ7WdSrowyDkYrVNMOOc0mlLR7FRlKm+aDs0fkt+2D+ytd/B3xJPrejwyXHh66cs20E+UTz2HArxX4T/FHWPhP4uttc0e5aJo3XzIlPDrkEiv2a+MH/CLSeA9TXxc1umktCwdrggfwnoT3xX4reNo9Ij8WaqugtI+lid/KZ+4yentXweZUFg6ynTe5/V/A2c1OJMBLB46nflVm2tGv8z6j+Pn7fmq/ELwrbaH4bWTTftEIF5MOGzjBANfH0m+5leSZzLMxyztyST15p+QqggUbdrZPU15FbE1K7vUZ+j5VkWCyal7HCQST1Z96f8ABMPxwIZ9b8KNIWZibtVJ/DpX6F96/HP9ifxt/wAIR8eNLkeXYl9ttTuOAcsK/YpSMZr7jJ6vtMPy9j+W/EbAfU85dVKyqK/6ElI33TRuHrS17h+Vn4y/s6KP+Hm3ilRj/j7u844/5aJ6mv2Y/wAa+L/h7+zn8D/Cn7V2reL9L+IAuvHdzLI8uhtdLlWdgTx1PQCvtD6frQA6iikyKAFopu9fUUeYv94UAOopNw9aTcPWgB1FN3r60bx/eFADqKbvHqKN6/3hQA6ik3D1pFZW6HNACmm0Mwx61Vv9Qg0uzmubmRYYIULvJIwAAHqTS1ukuobass7hgc0vFfFcPx28c/tLePNR0X4efZrPwzpcxjnvpwdzMDztYcHj0NdZ8Gf2ivE+j/Fq4+FnxMtbe11dl83TL22UhJo84VT7mvelkmIjBu6c0ruPVI5frML26H1RRTQxPIor53lXc6iWiiitQCiiigAooooAKKKKACiiigAooooAKKKKACvi3/gq9/ybLdf9dj/6Aa+0q+LP+Crv/Jst1/11b/0A0AL/AMEpP+TZbP8A66r/AOgivtKvi3/glJn/AIZls+P+Wq/+givtKgCKb/Uv9K/DH45XEl18XvG7T5JXVLgAH03Gv3Qb5lNfjN+1n8PdR8O/HTxBaW9lNcS3kj3KrGpJO5sZ4Hevm87i5U4Ndz9q8L61OljsRGb1cT6O8bu8n7DehAN/Cnc9Nhr4p8Ex/wDFXaER1F1F/OvvPxp4K1eT9iXRrKOxmkvI4I5GgA+dcKeox/OviD4eeF9ZvfG2iQQ6bcNMt3HvXy/u/Nzn0rwcfGTqU7dkfrfCuIofU8bqvjn+Z9cft7fvPh/4LB5HlR8c9cCvAf2U8j44eHQCR/pCZ+m4V9L/ALenhPVbr4d+EpLSylmaFIxIsQ3beBnOBXgf7HvgzWNY+NGkzLZyR29vIrSSOuAMMCRnHXjpVYiEnj0/T9DHJMTQjwlWvLpP82b/APwUK5+Pa4PH2Bf/AEKvG/ghPLa/GbwU0WedUhDY9NwzXvf/AAUQ8J6tH8ZItTj0+eTTGsVH2mNSUDZzgnGPwrzH9j/wlJ40+OmiJFGZFsZVuWwOgDDn9Kyr05PMWl3PTyrFUY8HRk5aKn+h+xqn5R9K/nR+Jt94n0H9r7xZdeHYnufEtv4muntIo03lnErFRgdeMV/RfyMe3Ffit+1H4HP7Nv8AwUM8P+I5Gb+yNV1W31V7jHA8yYiQZ7EDFfovQ/i06yD9vj9sHwhHs1X4eSXKKOWk0Gcnt/ECa+UviP8AGTxZ8dP2lNA8T+KdOXSPEDXtnC1vHAYtu2YEEqQDnmv6HNN1Gw8UaLbXts0d5p95EssbfeV0YZB9CK/E/wD4Q+T49f8ABRqW10OyE9jo+riWdYE+QRwTEk8cf/qoA/aPwJ53/CG6N9oyZvssYbI74FdBUUMawxqiDaqgKAPQCpaACiiigAooooAKKKKACiiigAooooAKKKKAGsuRURwq/rmpX6YpvG37vtS6oD5m/aa+Fnw98beINFvPFniFdHvYXXyYTOse8jkdete++EbG00/w3plnZSebZw26CKTOdygcHNfB3/BQgD/hYnhbaT/r05yR3HpX258J/wDknPh8sPu2sYHf+EV9Tj8POnl2HqSqNp9Ox9Bi6MoYKjJyumdf3b61NUHXP+9UwO6vlj55C0UUUxhRRRQAUUUUAFFFFABRRRQAUUUUAFFFFABRRRQAUUUUAFFFFABRRRQAUUUUAFFFFABRRRQAUUUUAFFFFABRRRQAUUUUAFFFFABRRRQAUUUUAFFFFABRRRQAUUUUAFFFFABRRRQAUUUUAFFFFABRRRQAUUUUAFFFFABRRRQAUUUUAFFFFADW4rgvi18YfD/we8Nz6trV1HGFU+XEWAZzjOB713nVTXin7RP7MmkftBaZHDqF/d2c0IzF5L4Xd2JrCv7T2b9nuell0cLLEwWNdqfWx+a37RX7UniL4669MPOkstBRisNtGxAdenIrxdV29OlfSfxY/YF8f+APtN1pUY1nTY+UFvlpSPcV86avo+o+Gbo2uq2Nxp1wOPLuIyp/UV+cYuniOdustT+1eHcZk/1aNHLZR5V2sR4pMUKwYUua8vU+703NHwlqx8O+L9G1MNt+y3UcpOccA5r9w/h74gTxV4H0TVkYMt3apLkHPUV+Es37yNh6Cv1w/YT8d/8ACZ/A2xTfvbTWFoRnOMLX1uQ1rTdPufz14sYBSwtLGR+y7fJ/8E+jeOeK888W/tEfDPwHqb6d4h8caLpF8gy1vdXSq4H0zXoee2K/Kf8A4LCfs4vDcaX8U9ItyYcCzv4oI/lQDJEhwOO3Nfan8xHingX4reDtN/4KIan4tuPENhb+GHu5SNUebEBBdTkMBz09q/X7wH+0V8M/ihqzaX4U8b6N4g1BV3m2sbkO+31x6e9fzRV+tX/BHv8AZ1XS9C1P4oatavFe3TfZ9OEqYzAV++M+pzgigD9OW6etfEv7S/7VfxN/Z58VQW99p2my6TfT+XaXEcZKgE8At0BxzzX20a+cf26Pg8nxY+B+qGKMNqGko97blVy5ZV4A/nXu5JPDxxsIYqClGWjv+By4iMnTvF2sdR8FPEnxD8ZfCufWdfOjjVb6Pz9N+yqfJCEZXzPf1xXiPwR+N3x4+KHxR1LTZYPDreG9Jvntr2eBWBGDghT/AHgOx71wn7Kv7URi/Zt1zQL+/SHxXpayWljBKcO5CgADv1H4V9W/sw+AYfB/w9i1AwNBqOuN/aN4si7WEr8kEHnNexjKEct+se1pLV2hp07r5fic1KTrWtL1PXY2Zl+YYI68d68r+OHx40v4P2NrA4+2azfv5NraR/M5kPC8DnGSO3SvV/4cHJNfm38ffFP279vrwxY6sxSyhSBIrdjhPM3jDYPWvHyXARx9eSnrGMXL1sb4io6UUl1PQfiR+0l8cPgbolt4q8ZaTpNx4dupzsgs4iZ0Q8jd6ECvpHwD8fPD3jT4Sx+PfOFrpy2/nTiQgGMgZI/nXX+N/AehfETw7Po2u2EN/YTKR5Uq5C5GK+L/ANuDXNA8C/syzaH8Pbq1/s+3vGsLyOxcHyjtOVbHQj0Nelh44TNvZYdUuSpzatbcplL2lD3ua6Oy0n9oz4qfG6S6vvhdodjb6NZzlJJdWjb9+oPVPXIBx2rZ+CP7Z0PifxtN4F8bWg0bxVG+xW27IZTnGFzg9j0zXS/sNyWDfs6+Gms40V/s6efsHV8ZyT3NfHf7f2gjwx+1l4H17SgbSe4e3Vlg43tuOTgdTzXqYfCYPGYytlsqSjyp8sut1373MZVJwhGrfc+0P2gvj9eeAtV0/wAKeF1t5fF2pbfs63YJiXccKWA5xnrjnANeM63+0B8evhT4u8J6R450nR7qLWNTitWudLhLRqjEDG4/xDP1rG/bG+BXjP4hTeGvHfg25I8S6daxSS2m872VcnIUc8nA+prifhb+21L4j8VaB4P+M+hvYXljdxtb3Rj2FZFG1S24DjPOa2weWUnhI1KNONSyfOn8SfkROtL2n7x2R+lY7Efex/hXhv7aPi6Xwf8As8+K7iBvLmntXhVwcEEg9PevarC8t9RtYLq0mS4t5l3xyochlPIwfSvAv27/AA7ca/8As5+JPs6s5t4WmYKueACc/TivjMphB5jRjU0XMvzPSrv9zJrU8G/4JfeLPDvhf4P61LrGq2dlf3WoGQtPIFYrsHqc/wD6qyP26fF2kW/xj+H3ijQ9XgmuLe5gR5LeXkIHDckdvr1r59/ZX/Yx8Q/HjwLPrOl+I5NMhhuPJeBZiuG5zkZ4xVH48fspa58JfGvhvw1da/Nq97qksUUO6QsVZvlGPpnNfs2DwOXf23UrKvednePlZHz1SrW+rpcul9z9lPDeorrXh7TL9WDC6to5gw77lB/rRWZ8NdBl8M/D3w3pNwWM9lp8MEhbruVAD+tFfg2Iow9tPkel3b7z6mm3yL0OqoooqACiiigAooooAKKKKACiiigAooooAKKKKACvkX/gpf4R1zxr+zzc6doGmXWq3hkZvKtELt90jG0AmvrqoWXPG3cPTAxQB8l/8E0fB+s+Cf2ebXT9e0q70i+81SYLyLy3+6Oxwf0r66qLbhh976ZOBUtADW+6c18f/t5fAm/8X+F/+Ev8MmWHW7EAzGHhniHJA754r7A+tQXNrDeW8kM8ayxOCrI4yCK5q9GNeDhI9jKcyqZTi4Yqlut13XVH4XN8VvHEcD2EvijVliUeVJavcHaMcEEVm2fivWNOuhPa6pdwXAO4SLKc59a+8v2pP2B5NZvLnxJ4EUR3DEyTWfQN1JwPWvhHxZ4K8QeBbtotd0i609lbaHmiZVb6Ejmvz/FYbE0J2ldn9hcP57k+a4fmocqb3Wif3GrffFPxnrFv5Go+KNUvIu0clwSBVHS/HXiPQrgvp2t31i7f8tIZiGrmvt0Ui5LgfjVzT4X1S6jgtlJaRgu9gdoJOMk1wL20npe59XL+zcPR5ZcsYfI6HWfiJ4u8UAQah4h1LVTJ8qxXExfdnjGK/Rr9gf8AZ6f4d+ET4o1iHbrOof6oEYKQkZAP5143+yz+zj4H8O3lp4m8deKtFnugQ8FmLxSEIII3DPB+tfc9v8XfANnBHDD4p0eOJBtVVukwAPxr7DK8vnF+3rb9D+cuOuLsNXpPKsrVofaa2fl/mdzXgP7YH7JOgftUfD+TTLsJZa/agyafqIX5kkAO1WPXbk/zr0n/AIXV4Dz/AMjbpP8A4FL/AI0f8Ls8Bf8AQ36T/wCBK/419Qfg58keFfCf7UnhL4cw/DW3TQDFbw/YrbVVzlYRwCW6A+ma9a/ZC/Y90v8AZwsr/Vrt11LxjrDGa+v+u0t8zKCecZr1z/hd3gH/AKG7Sf8AwJX/ABpP+F4eAP8Aob9J/wDAkf40Ad1RXCf8Lx8Af9DfpX/gQKT/AIXl4A/6G/Sf/AgUAd5RXBf8Ly8Af9DhpX/gQP8AGj/heXw//wChw0n/AMCB/jQB3tFcF/wvL4f/APQ4aT/4ED/Gj/heXw//AOhw0n/wIH+NAHe0VwX/AAvL4f8A/Q4aT/4ED/Gj/hefw/8A+hw0r/wI/wDr0Ad7RXBf8Lz+H/8A0OGlf+BH/wBej/hefw//AOhw0r/v/wD/AF6AO9orgf8Ahenw/wD+hw0r/v8A/wD16P8AhengD/ocNK/7/wD/ANegDvqK4H/henw//wChw0r/AL//AP16P+F6fD//AKHDSv8Av/8A/XoA71qj+6PbrmuGPx08Af8AQ4aT/wB/x/jSf8L08AKv/I3aT/3/AB/jUu1w9TyT9pv4U/D7xx4g0W78WeIRo97C6eTC06R7z1H3ute+eELG00/wzptrZSedZQ26LE+c7lA4Oa/O79vHxxoHiT4geGptK1i1v4opo2Z4JAwXnqSDkV9jfC/40+BYPAOiRT+K9NjljtUDK0/IIUZzzX1eYYapSy7D1J1G0+nY9/F0JxwdKfNe57KOpp9cB/wvPwBz/wAVdpfX/n4FO/4Xp8P/APocNK/7/wD/ANevlj59HfUVwP8AwvT4f/8AQ4aV/wB//wD69H/C9Ph//wBDhpX/AH//APr0DO+orgf+F6eAP+hw0r/v/wD/AF6P+F6eAP8AocNK/wC//wD9egDvqK4H/hengD/ocNK/7/8A/wBej/hengD/AKHDSv8Av/8A/XoA76iuB/4Xp4A/6HDSv+//AP8AXo/4Xp4A/wChw0r/AL//AP16AO+orgf+F6eAP+hw0r/v/wD/AF6P+F6eAP8AocNK/wC//wD9egDvqK4H/hengD/ocNK/7/8A/wBej/hengD/AKHDSv8Av/8A/XoA76iuB/4Xp4A/6HDSv+//AP8AXo/4Xp4A/wChw0r/AL//AP16AO+orgf+F6eAP+hw0r/v/wD/AF6P+F6eAP8AocNK/wC//wD9egDvqK4H/hengD/ocNK/7/8A/wBej/hengD/AKHDSv8Av/8A/XoA76iuB/4Xp4A/6HDSv+//AP8AXo/4Xp4A/wChw0r/AL//AP16AO+orgf+F6eAP+hw0r/v/wD/AF6P+F6fD/8A6HDSv+//AP8AXoA76iuB/wCF5/D/AP6HDSv+/wD/APXpf+F5/D//AKHDSv8AwI/+vQB3tFcF/wALz+H/AP0OGlf+BH/16P8Ahefw/wD+hw0r/wACP/r0Ad7RXBf8Lz+H/wD0OGlf+BH/ANej/hefw/8A+hw0r/wI/wDr0Ad7RXBf8Lz+H/8A0OGlf+BH/wBek/4Xp8P/APocNK/7/wD/ANegDvqK4H/henw//wChw0r/AL//AP16P+F6eAP+hw0r/v8A/wD16AO+orgf+F6eAP8AocNK/wC//wD9ej/hengD/ocNK/7/AP8A9egDvqK4H/hengD/AKHDSv8Av/8A/Xo/4Xp4A/6HDSv+/wD/APXoA76iuB/4Xp4A/wChw0r/AL//AP16P+F6eAP+hw0r/v8A/wD16AO+orgf+F6eAP8AocNK/wC//wD9ej/hengD/ocNK/7/AP8A9egDvqK4H/hengD/AKHDSv8Av/8A/Xo/4Xp4A/6HDSv+/wD/APXoA76iuB/4Xp4A/wChw0r/AL//AP16P+F6eAP+hw0r/v8A/wD16AO+orgf+F6eAP8AocNK/wC//wD9ej/hengD/ocNK/7/AP8A9egDvqK4H/hengD/AKHDSv8Av/8A/Xo/4Xp4A/6HDSv+/wD/APXoA76iuB/4Xp4A/wChw0r/AL//AP16P+F6eAP+hw0r/v8A/wD16AO+orgf+F6eAP8AocNK/wC//wD9ej/hengD/ocNK/7/AP8A9egDvqK4H/hengD/AKHDSv8Av/8A/Xo/4Xp4A/6HDSv+/wD/APXoA76iuB/4Xp4A/wChw0r/AL//AP16P+F6eAP+hw0r/v8A/wD16AO+orgf+F6eAP8AocNK/wC//wD9ej/hengD/ocNK/7/AP8A9egDvqK4H/hengD/AKHDSv8Av/8A/Xo/4Xp4A/6HDSv+/wD/APXoA76iuB/4Xp4A/wChw0r/AL//AP16P+F6eAP+hw0r/v8A/wD16AO+orgf+F6eAP8AocNK/wC//wD9ej/hengD/ocNK/7/AP8A9egDvqK4H/hengD/AKHDSv8Av/8A/Xo/4Xp8P/8AocNK/wC//wD9egDvqK4H/henw/8A+hw0r/v/AP8A16X/AIXn8P8A/ocNK/7/AP8A9egDvaK4L/hefw//AOhw0n/v+P8AGnf8Ly+H/wD0N+lf+BAoA7dlDAgjI9DXnfxB+Afgr4lW8iaxodrJMwP+kLGA4yOxq6fjf4BP/M3aT/4ECj/hdngLt4t0n/wJWs5041FaSujpw+Kr4SaqUJuLXZ2PjD4s/wDBNGZWmvPA+qb2JL/ZrxuB7LivkDx/8FfGfw1vJrfW9Euo4oyQblYW8s49CRg/hX7If8Lp8Bt/zNuk/wDgUv8AjWZr3xA+F3ieza21bXdBv7dgQY5p0YEdx1rwcRk1GrrTdmfq+T+JeZ4FqGM/ex+5/wDBPxJ8xcHHJ7193f8ABMTx35Op654UaQgSKbsKx69uK6/4vfswfA/x00t5ovizS9DvxkpHbXUYjJPTPPrivGvgb8P5P2e/jpYalL4q0a+0uYiAz2d1u2oT1cg4715WHwVfBYiMraH6BnPFOU8UZLVoRlyztdJ91qfqKMZrkfi58NdM+L3w713wnqsSSWmp2zwFnGdjEEBh7jNXtA+IHhvxVdPa6PrdlqVxGu9o7aYOwHqQO1dJX25/L5/OKn7M+vJ+0xH8KntZ2uP7TWEybDzbFwPMHHTbxn1r+g34V+AbL4X/AA+0Lwvp8aR2+mWsduNgADEAAmstvgb4Rf4rr8Q20yI+IxZ/Y/O2DG3Oc/WvQKAFPSq15axXlrLDNGskci7WVhkEe9WabjtRdppoLXPy68N/sha5Y/ttTWyxTQ6AznWtwyIT82fLPbPqvXBr9QLe3js4Y4Y0CRqAqqvQACol0+3W8+1eQn2rZs87aN23PTNXPWvazPNa2acntNOVW/zOajRVFO3Ua33a+Bf+ChH7NPiXxJ4l0v4meCoZLjWtPCb7eBcvhBnIA6nivvo9KYV655rny3MKmWYhV6av0a7+RVakq0eU/NbwT+1/8ffFlnZeFrbwTcRam0awSXV5ZOu3PG5jjgjrX0pq/wCyraeJv2fdV8OXUSR+IdWjN5cSZ+UXZU8jPbJr6Mh022tpnlito45X+86ryatY56V6eJzpSnGWDpKnZ3durMIYb3bVJXPzo/ZT+JPjH9mG71L4e+M/CmrX9lFM7W95bQZUgHauGbHrW4nw68Q/ta/tHWXi/VNCvPD3hPQ2UQrqEXlyStG4IKj+IEd+hr7wu9Js75g9xaxTOOjMoJ/OrEcSW8YRFEaL0VRitamexdWeIp0lGrJWbv8AjYSwrtyOWiPiX45fEbxp8G/2u9L1jTvD+r6/4Uk0VLOW1sIC6Kcgs/AIBGO9cR+0t4ftf2qLzwonhLwRqGj64uoRyXd/NaCMpGcDDMBwR7+lfohJbxSne0as2MbiBnHpUdtp9vZFjBCkW7lti4zSw+dU8PyThStUgrXu9fVBPD871ehi/D3w5L4R8EaHo8z+ZNZWkcLtnqwHNXfFXhyz8XeHdR0W/TzLO+haCVf9kjFflvpf/BWTxH8NfjZ4u8P+M9Ij1Xwxa6xcQRPZqBcRIshXqevT9a+/vgj+1Z8OPj7p0E3hjxBay3sigtpskyi4Q+hXNfMyrT9p7a+rd/mdvLFLl6Hzd8DdN8S/sd+P/Evhy80LUtV8JaldPe21xZRM6ru4VemAR6V0PhP4e6z+0t+0Zb/EjxBoN3oXhvw/iKxttQi2PPKjZVwD1UjvX2VcWcN0uJoUlH+2oNPjjSNQqqFUdAowK+jnnkuaVaEEqso8rl5d7dzjWGulBv3UOGKKcFor5V8/Q79B9FFFaCCiiigAooooAKKKKACiiigAooooAKKKKACiiigAooooAKKKKAGNXzX+23+yrcftReAdM0jS79NH1C0vRcG4Hyl02kbScetfSvQdKYv5/Wk4qSsy4VZ0neDsz8mF/wCCOfjDbz43Cn/rpx/Knr/wR58aQ8x+PWT/AHZSK/WU57AUig9/5VMacE7pGssVWqK0pO3qflEv/BIPx2qj/i41x9BcsKP+HQfj7/ootx/4EtX6wYp1XfyOc/Jz/h0H4/8A+ih3H/gU1J/w6E8f/wDRQrj/AMCjX6yUUAfk1/w6F+IH/RQbj/wKNH/DoX4gf9FBuP8AwKNfrLRQB+TP/Dob4g/9FBuP/As0f8Oh/iD/ANFAuf8AwLNfrNRQB+TP/Dof4g/9FAuf/As0f8Oh/iD/ANFAuf8AwLNfrNRQB+TP/Dof4g/9FAuf/As0f8Oh/iD/ANFAuf8AwLNfrNRQB+TP/Dof4g/9FAuf/As0f8Oh/iD/ANFAuf8AwLNfrLS0Afkz/wAOiPiF/wBD/df+Bhpf+HRPxC/6H+6/8DDX6y0UAfk3/wAOi/iCP+Z9uv8AwMNL/wAOjPiD/wBD5df+Bpr9Y6KAPyc/4dGfEH/ofLr/AMDT/jSf8OjPiD/0Pt1/4Gmv1kooA/Jo/wDBIr4hf9D9c/8AgaaT/h0X8Qf+h/uW9B9sbmv1lNMI7flQNH5U2P8AwSd8dWMciv4sW+LDG6a6YlT7VVk/4JGeP2kLDx3NGp52peMAPbpX6wfeANOroniKlSnGlJ3SNpV5ygqb2R+Tf/Don4hf9D9df+Bppf8Ah0X8Qf8Aofbr/wADDX6yUtc5gfk3/wAOjPiD/wBD7df+Bppf+HRnxB/6Hy6/8DT/AI1+sdFAH5Of8OjfiD/0Pl1/4Gn/ABo/4dG/EH/ofLr/AMDW/wAa/WOigD8nP+HRvxB/6Hy6/wDA1v8AGj/h0b8Qf+h8uv8AwNb/ABr9Y6KAPyc/4dG/EH/ofLr/AMDW/wAaP+HRvxB/6Hy6/wDA1v8AGv1jooA/Jz/h0b8Qf+h8uv8AwNb/ABo/4dG/EH/ofLr/AMDW/wAa/WOigD8nP+HRvxB/6Hy6/wDA1v8AGj/h0b8Qf+h8uv8AwNb/ABr9Y6KAPyc/4dG/EH/ofLr/AMDW/wAaP+HRvxB/6Hy6/wDA1v8AGv1jooA/Jz/h0b8Qf+h8uv8AwNb/ABo/4dG/EH/ofLr/AMDW/wAa/WOigD8nP+HRvxB/6Hy6/wDA1v8AGj/h0b8Qf+h8uv8AwNb/ABr9Y6KAPyc/4dG/EH/ofLr/AMDW/wAaP+HRvxB/6Hy6/wDA0/41+sdFAH5Of8OjPiD/AND5df8AgaaT/h0X8Qf+h9uv/Aw1+slFAH5Nf8OifiF/0P11/wCBhpP+HRHxC/6H+6/8DDX6zUUAfkz/AMOh/iF/0UC5/wDAs0v/AA6H+IP/AEUC5/8AAs1+stFAH5M/8Oh/iF/0UC5/8CzR/wAOh/iF/wBD/c/+BZr9ZcjtS0Afk1/w6J+IX/Q/3X/gYaX/AIdFfEH/AKH66/8AAw1+slFAH5N/8OjPiD/0Pt1/4Gml/wCHRnxB/wCh8uv/AANP+NfrHRQB+Tn/AA6N+IP/AEPl1/4Gt/jR/wAOjfiD/wBD5df+Brf41+sdFAH5Of8ADo34g/8AQ+XX/ga3+NH/AA6N+IP/AEPl1/4Gt/jX6x0UAfk5/wAOjfiD/wBD5df+Brf40f8ADo34g/8AQ+XX/ga3+NfrHRQB+Tn/AA6N+IP/AEPl1/4Gt/jR/wAOjfiD/wBD5df+Brf41+sdFAH5Of8ADo34g/8AQ+XX/ga3+NH/AA6N+IP/AEPl1/4Gt/jX6x0UAfk5/wAOjfiD/wBD5df+Brf40f8ADo34g/8AQ+XX/ga3+NfrHRQB+Tn/AA6N+IP/AEPl1/4Gt/jR/wAOjfiD/wBD5df+Brf41+sdFAH5Of8ADo34g/8AQ+XX/ga3+NH/AA6N+IP/AEPl1/4Gt/jX6x0UAfk5/wAOjfiD/wBD5df+Brf40f8ADo34g/8AQ+XX/ga3+NfrHRQB+Tn/AA6N+IP/AEPl1/4Gt/jR/wAOjfiD/wBD5df+Brf41+sdFAH5Of8ADo34g/8AQ+XX/ga3+NH/AA6N+IP/AEPl1/4Gt/jX6x0UAfk5/wAOjfiD/wBD5df+Brf40f8ADo34g/8AQ+XX/ga3+NfrHRQB+Tn/AA6N+IP/AEPl1/4Gt/jR/wAOjfiD/wBD5df+Brf41+sdFAH5Of8ADo34g/8AQ+XX/ga3+NH/AA6N+IP/AEPl1/4Gt/jX6x0UAfk5/wAOjfiD/wBD5df+Brf40f8ADo34g/8AQ+XX/ga3+NfrHRQB+Tn/AA6N+IP/AEPl1/4Gt/jR/wAOjfiD/wBD5df+Brf41+sdFAH5Of8ADo34g/8AQ+XX/ga3+NH/AA6N+IP/AEPl1/4Gn/Gv1jooA/Jz/h0Z8Qf+h8uv/A0/40n/AA6L+IP/AEPt1/4GGv1kooA/Jn/h0T8Qf+h+uv8AwMNH/Dof4g/9D/c/+BZr9ZqKAPyZ/wCHQvxB/wCigXH/AIFml/4dC/ED/ooNx/4FGv1looA/Jv8A4dCeP/8AooVx/wCBRpf+HQnj/wD6KHcf+BTV+sdFAH5Of8Og/H3/AEUOf/wKaoL7/gkZ40sbWW5vPiS8FtEpeSSS6YBVHXJNfrTXEfGz/kkfi3/sHTf+gmgD85P2d/gfrH7Pf/CbeMvAHxFsPiLrtlpNxbppdveG4KzLk/dUHoQOK9U/Yc/4KNN8XteuvBPxNNvoni9ZnS3YqIkkwceWc9GzxjrXi/8AwSEVW+LnxEBUMpkmGMA/xe59+1dv/wAFCv2Bp7ief4s/C23ksvEFm32u7srEbC5XnzEA/j/n0oA++PjT/bzfCXxYfCx/4qH+zpmsCv8Az1Ckr/KvyaaP9tZWXIvgRx91/f27V9O/8E9v2/Lf4pada/Dzx7N9g8Z2C/Z4bi4O37UF+XBzyHzxivv7PpQB+MmP21P799+Un+FJt/bS/v3v5Sf4V+zmD60YPrQB+MWP20f797+Un+FGP20f795+Un+Ffs7g+tGD60AfjFj9tH+/eflJ/hRj9tH+/eflJ/hX7O4PrRg+tAH4xY/bR/v3n5Sf4Uf8Zo/3738pP8K/Z3B9aMH1oA/GLH7aX9+9/KT/AApcftp/3738pP8ACv2cwfWjB9aAPxk/4zU/v335Sf4Uuf21F533wxznEnH6V+zWD60HIB5oA/lw8Wf2n/wlGsf2zu/tf7ZL9s39fO3nf/49mtT4b/8ACYnxNbjwP/ap1zI8v+yN/m9eM7e314r9GtP/AOCTniX4lfG7xdr3jHU00vwzeavc3EItH/fSozlgcEcA5xxX398Ef2T/AIcfAPTYIfDXh+1W8jUBr+WIGZz3JJ9aAPOf2EB8cl8BQj4sC0Ft5YNoZAfth/36+q6bjGKdQAUUUUAFFFFABRRRQAUUUUAFFFFABRRRQAUUUUAFFFFABRRRQAUUUUAFFFFABRSVz/jfxlYeAvCOreI9UYpp+mwPcSsv9xRnNAHQ0V8W/wDD1r4Mrnddz7skEb0x169aZP8A8FYPgzDGWW4uJCBnarJk+w5oA+1aK+G/+Hu3wc/546h/47UVx/wV6+DsMbMttqcpAztUKSfYUAfdNFfAv/D474Rf9AfWv++FqO4/4LJfCOFdy6Jrkp/uqi0Aff1Ffnx/w+f+FP8A0LHiD/vlP8aim/4LRfCyNCU8K+IZT/dHlj+dAH6F7h60tfnV/wAPrPhl/wBCX4j/AO+4f8agu/8AgtV8OvKP2bwX4hL9t7w4/nQB+jlFfmn/AMPrPB//AEJOsf8AfyL/ABqvqH/Barwy0Y+xeCdWEvo8kZ/rQB+mdcp8UPiBZfCv4e6/4u1GKSax0eze8mjh+8yqM4HvX5zf8PqLD/oSL7/vuP8Axrgfjr/wVhT4tfCPxR4QsfCV3ZvrFjLaNcSFCqBuAx56A/yoA+9PgH+3h8K/j1Y232HXYdH1eTap0vUJFSbcc5wM+o719GIwdQynIbkfjX8slhqF1pV3HdWVxLaXMZ3JNA5R1PsQa+u/2cf+ClHxT+EFxaaVezP4t0dmCNbzqZLkj0Qk8nHT+tAH7xUtee/BD4qN8YPANh4jfQtR8PtcIrG11GLy3yR1A9K9CoAKKKKACiiigAooooAKKKKACiiigAooooAKKKKACiiigAooooAKKKKACiiigAooooAKKKKACiiigAooooAKKKKACuC+MQ+IH/CJufhx/ZJ1/dwNYz5WMcdPeu9pKAPyP+IX/BTb4/fAvxpf+EfHfhrRf7ZgO5GtrdlV0JO0rn7wOOo617dov7Vv7RmqeC7fxRF4HtruwuIllijhsnaRlxnhRzzXyj/wVyjVP2wtJKqAW0qyJI7/ADtX62/s+/8AJEfBPYf2XD/6DQB8jfBP/gqx4Z8VeMI/B/jvQr7wtrrXAtjNcBUhSTIG0g4K8+tfeljfW+qWcF3azJPbTIskckZyrKeQQfevxB/4K2+GNH8J/tQW8uiwx2VxdabFc3C2+FxLuJDcdCf6V+q/7FmranrX7MPw8udWVhdHS4hvfO5wBwTmgD3CiiigAooooAKKKKACiiigAooooAKKKKACiiigAooooAKKKKACiiigAooooAKKKKACiiigAooooAKKKKACiiigAooooAKKKKACiiigAooooAKKKKACikpNw9aAFPem5pPMBBIOazfEGsxeH9HvNSny0VvE0jKvUgDJx+FGg0pSajFas0/8a8+/aDkMPwS8bPnbt0uY5H+6a8w/Zm/a7sP2gPEniLRotPmtJtMupI1ZxwyrxXon7TFwbX4A+PZVG4rpE5A/4DUxkpbGtajOjLkmfnp/wRwiSTxX48nIBl+0yDd36LX6qzQpcRvHIodGGGVhkGvy2/4Iw2ouJPHWoE/Obxhj6ohr9TaoxPy6/wCCgX7CWoeHtcHxd+E8MlnqVrILm7sbMFW3L83mIF78fj0r17/gn5+3lbfG7SYfBXjGZbHxpYIIV84hftAXjocHdxX3Dc20V5byQzxrLFINrRyLkH6ivyq/by/Yb1j4XeJH+MHwl820a3l+03dnZ5DRsMsXUDqOOlAH6t5Bpa+K/wBgX9ujS/j94dtvDHiK4jsfGtjGImhlIBnC/wAQz1r7UoAKKKKACiiigAooooAKKKKACiiigBMY6CloooAKKKKACiiigAooooAKKKKACiiigAooooAKKKKACiiigAooooAKKKKACiiigAooooAQnAzWB428I2Xj7wnq3h3Uo92n6nbvbTqB1Q8H8xXQUUAfFn/Dqf4NnrZzHs3yD0J9fU1Lb/8ABKf4L28wc2DyAEHayDt+NfZ1JkUX6AfIw/4JgfBQcnRF/wC+BUtr/wAEyfgnbzLIdAilAIO14wRX1puFLQB8vj/gnH8Ef+hTs/8AvyKns/8AgnZ8DrObefBlhNzna8QxX0zRQB89D9gn4GD/AJp7o/8A4D//AF6ns/2EfgZZy7z8OdFm5ztkt8j+de+5FG4etLmQHin/AAxX8C/+iXeHf/AT/wCvUkX7GfwPgfdH8MPDqn1+xj/GvaKKYHj/APwyH8GP+ibeHvwtBUsP7Jfwct23x/DjQEbGM/ZBXrdFAHlZ/Zb+EvP/ABb3Qh/26LXmX7TX7NPw5s/2ffiDLovgPSINTXR5zA9raKJAwUkbfevqBqp6kto+n3C33ltaMhEqy/dK980b6ID8Af2e/wDgn38UvjxfI6aTJ4f0hWHmXepI0RZc8hARycZxn2r9VP2cf+CcHwy+BcMd5d2K+JtcIDNdaggby2x/D+NfUHh+70qawVdHkt3s4/lAtSNgP4Vrbh602nHR7iTvsQ21tFZwpDBEsUKAKsaABVA9BU9FFIYUUUUAFFFFABRRRQAUUUUAFFFFABRRRQAUUUUAFFFFABRRRQAUUUUAFFFFABRRRQAUUUUAFFFFABRRRQAUUUUAFFFJQB+Jv/BXqT7P+1tpkmxnK6PaNtXqcM3A969u13/gphq3wT+DHhTTLLwFqdrfLp0cVteapCVglYLwQT1H0rxr/grVH537ZOgp1DabYjj3kavvrx9+zHov7Sf7JXh3QrqCOPVYdJjksLgAKyShPlBP1xQB8O/s9fsd+Kv25vGS/F3x94hsZ9Fupw8trZzb5FAOViYH7oGeV9O9fr54X8O2PhHw/p+i6ZCLewsYVggiHRVUYAr8Wv2J/wBoHW/2L/j1qHw68bSyWfh26ujbTrNlY45S21Zhn+A8nNftZpOr2evaba6jp9xHd2N1GssM8RyroRkEHuDQBfopKWgAooooAKKKKACiiigAooooAKKKKACiiigAooooAKKKKACiiigAooooAKKKKACiiigAooooAKKKKACiiigAooooAKKKKACiiigAooooAKKKKAI2+VTmvmb4kftxeFfhj4mk0XXdB1a0nD+XE0sYAmzwCmSMg+tfTEgyp78V8Zf8FI/gofHfwpHiTTbUf2tob/azJGuGZFHAyPz/AArGrJxjdHo4CFGpWVOsrpnvXw1+ONt8SvA+o+J4PDmr6fb2zHy7e6hCzXKgZzHnAYHoPWvHPD/7bmifFnxVeeArXwJ4lhuJnazlnlth5cWTtLN6AZ+tR/so/tJWXiL9lefWZ1V7rw3bNbzQjALlFOOPU4xXZ/sgfDtdF8M6r4suT5954mvH1KN5Dlo435CjioUnNJJnU6VLDupKcXdPQ8h/4J2/Dj+wfFnxT1SSPy/L8QXFtFkdV6/1r6S/aolWH9nP4iSOcKujzk/9816BovhvTfD7XR02yhsjdSmefylx5jnqx9zXmv7XbY/Zj+JJPH/Elm/kK2hHlVjzsTXeIqc58Qf8EV7OVvDfjS66Q/b9v4+WlfqDX5pf8EVYz/wrjxm2Dj+0xzj/AKZr3r9Las5RKrX1jb6pZzWl3AlxbTKUkilUMrKeCCKtUlAH5H/tyfsXa5+z/wCMovi/8JxNDbxXH2m4tLUHMJB3E7R/DxyPSvrT9hb9uHSv2kvDMOj6qyWPjGzQRzWrEAy4HLAenHWvq/VtJtNc0+4sb+2jvLO4QpLDKoZWUjBBB9q/I79sv9kPxV+y38RE+LfwmM8WkLP589ta5/csDuO4D+HrnPGKAP1/or5W/Yi/bO0T9pnwXbWdzNFaeL7OIJdWTsAzlRyyjOSMDrX1RQAtFFFADeKK5rx94su/BHhu51e08M6z4teAgnTNBW3a6ZecsqzTRK2B2Dbj2Br5V8D/APBUjwH8SPiNB4C8O/Db4lXvjCaeS2GkyabYQSpJGGMiyeZeqI9m1t28gLg5pLV2QbK59n0VlXWrXUHh2XUo9Gvbi9W1NwNIjeAXLuE3eQGaQReYT8uTIEz/ABgc14d8Mf2xbP4qfFPXPAGmfDDx9ZazoE6Qa1cajb6dHaaaWPymSVb1g2R8wEW9mAJUEAkHXlFfS59EUUlLTGFFFFABRRRQAUUUUAFFFFABRRRQAUUUUAFFFFABRRRQAUUUUAFFFFABRRRQAUUUUAFFFFABUIOalPIxUVSxoUyKo+Zse+aj875sAqeM5r5i/bW8F+Kf+ENv/GPhTXdQsbzT7cmS0hk2xsigknA5zx9a4L/gnnqt78Q7O+8Wav4p1S+1iEGyl0u4uS8I77tvXII/CvoI5SqmXSx8ami0atrdnG8Ry1VTaPtzzUU43KPYU9W46ivgj4lfDDXviB+1h/wjeieOvE1lpotheXLW92RFGc/Mi+h7YNfcfhvR28PaHY6cbma9+zRLGbi4bdLIR/Ex7muPGYGGEhTaqczkr27GtOo5Saa0Rqk+9NaRfXP415V+0b8cLH4E+A5tXuMPeTkw2cRI/eSlTgfnivna6+C/j74k/Dm4+JZ8ZaxZ+IbmzN1ZaTYzuttzkgMpGc9M1phctdanGrWnyRk7J92TKsoycUtj7eVgR1zTWx1zivkT9if40ePPEGg67p3xEsLi2Ojsyi9uIyoKr1ySBXJaT8RvGP7YHxK1zQ9C1abQfBWmu9tJfae5jui4OMhvTH411/2LVjWqRnJKMFdy6GSxK5U7as+6Qw9e/SndBX56fFXxt47/AGHfGOj3E2tXfiTwXeOsT3GqStJICSN2D7Dmvc/j1+05H4b+AmkeL9FkVF1sKiTFv9TuHJJ7Y6/hRPI6ydKVGSlCps/8yo4mF2nuj6XLAHqKcGBFfntqPwV8T6z8G7z4j+CPibruqavc2rXc1lJeloYzgkqoB7elfZHwFm1W4+DvhGTW3kfVm0+P7S0n3i/Q571zY3LoYSHNGpzWdmrWaZVOs6kttD0Divgz4jfFrWP2lv2kD8KvDOpXGlaBpis2oXNm+yVyjYYE/pX198ZvFdz4G+FfijXrONpbnT7GSeNFGSWA9K/GT9n39pLWvhb8Ytf8a2mjy6pfagZlkQxbyu5iSDjp0r6XhjK5YyjiMVCzlBWjfucmMrKMoxex9o/tCeGfEf7I+t+G/HHhvxFqF9o3nLa3lndS5XZxubHqRn8a+1vhl46s/iR4H0fxDZuskN9brL8vYkV+Un7SP7bniH40/D2bQNU8LSWMJbcJWgIA4I6kV7p/wTH/AGgNY8SMvw/udPk/s2zszNFdmPgFTwuenTmvSzbI8S8pjicQl7SG9raxMaGITxHLD4WfojT6atOr8vPaCiiimAUUUUAFFFFABRRRQAUUUUAFFFFABRRRQAUUUUAFFFFABRRRQAUUUUAFFFFABRRRQAUUUUAFFFFABRRRQAVx3xJ+IS/DvQ11E6TfayS2z7PYIXk+uP8AHH1rsahaMOCrfNzn5hn8qAPwt/bgvvH/AO0F+0H/AMJdp3w38SWlpZwQ20UcunSHcI2Jz0IxX6f/ALGvxxuPHfgfQvDN94L1/wAN3umaekcs2qW3lRO6jkLX0l9mjznYufXaM/ypRGsYyFwf9kYz+VAH5/8A/BTb9ipfit4Zfx94Q01pPFOnoxube3QZuIlUk4A6nivMf2I/2s/ib8I/DEPgvxz8NPFeq6fZqsVncW+nyB0QAgKxb8K/VIjcMfzqFrdWByikEcjb/wDXoAzPCeuL4m8P2OqrY3Gmm7jEptrpQkqZ7MB3rbqMLtUfoMdPyqSgAooooAKKKKACiiigAooooAKKKKACiiigAooooAKKKKACiiigAooooAKKKKACiiigAooooAKKKKACiiigAooooAKKKKACiiigAooooAKKKKAI2XEZ+lYnirw5a+LvDmo6TexebaXcLRSI3cEEH9DW5J9096gOWDj3x+FDXMrDjJwfMt0fjr8O/hj438J/tWah8MtPE0egXN+13NaANte1Lcnb3+XNfr94f0O28N6TZ6dZx+VbW0SxRovQKBgCsSD4Y6BD8QG8ZJYxrrrW/wBlM+0btvXrXXVhRp+zWp6eOxv1txsrWQq14r+2gxX9lT4oFTt/4kdxyPoK9srwH9uq7ez/AGUfiMFP39JlU/kK3PLPmf8A4IpqD8D/ABq2Bu/txRn/ALYiv0Wr88/+CLsax/APxWwHzPreT/37Ar9DKACiiigBKzNe0Kx8TaVcabqdpHfWNwpSWGUAoykYII9wTWpRQB+N/wC1t+yn4r/Yz+JUXxW+F8tx/YHnmeWGInMJB3MrBf4OvX3r76/Yz/bG8P8A7T/gu2KTJa+KLVNt5YMQGJC8soz0684r33xR4X0zxlot1pWr2cV9YXKGOSCZAQQQQevsTX4//tMfs7+M/wBg/wCLMPxJ+G7XMnhl5vNkWPcVj53FHA/hxnrwKAP2Zor59/ZD/ay8P/tPeAra9tbiODXreNUvbFmAdXA5YLnOK+gqAG461+SX7eWk3X7IP7dfgT456LaP/ZOtSrc3kcaZDyxqILyMZ4DSQSAjP8TMe1frb1r5g/4KMfAc/Hj9l7xJaWVt9o8Q6CP7c0tVUs7SQgmSNQASS8RlUAdWKelZyfI1UXT8iormvB9T2bxt8WtA8F/B/VfiPNeJdeHbPSW1dLiFwVnh8vemw994KgepYeteafsP+ANS8K/BOHxF4jT/AIrHxxez+K9aYrgie7bekfsEi8pdvQEHAHSvgD9lb41an+1N8JPhZ+zTctcTtZ620+v3L7ijeHrPZcRQs3bfIVgA5wIVzjcK/RP9rP45eJ/2dvhTfeLPDPgRvGaWMMkt5I2pQ2dvp8YAAlkDHzJPmYYSJSSFbLLwTpK0G5P5en/D/kZRvK0e2/r/AF+Z7eelC4PQ8V8YfCz9ob9pT4ueGfhR4y0D4beE7jwfrrRJr80t89vdpGWAluoI3k/dwr84UEzyPsJ2gMpP2b1FNprcq66EtFFFIYUUUUAFFFFABRRRQAUUUUAFFFFABRRRQAUUUUAFFFFABRRRQAUUUUAFFFFABRRRQAUUUUAZHiDRLbxJot3pt6nm2tzEY5EIzweDX5YeCvHk37FP7TniWw1ZZF0W9WWaCEHaDvb5Gwe3vX6wvjaQD2r4/wD2wv2SZvjb448Ja/p0atNDeRwX24c/ZwRkgj0Ga+v4dx1CjOphcZ/CqLX16Hn4ylKUVOG6O7/ZN8NS3djrPjbUB51xrd29zaTSD5lgY5AB9K+h/asPwl4dt/CPh3T9Fs0KWtjAkKcegra5YH9K+cxtf6xiJVI7dPToddKLjFX3Pgr/AIKpXV5YeFPB19sZrC31NXcLz0AJJ/lX1L+zn4psPF3wX8L3djcxyAWKI4jYHYcdD7j0NO/aC+B+mfHr4f3nh/Ukw5BaCQ9UfBAINfBHh/8AY7/aJ+G93L4c8PeIYo9EklJjlF0w2KTxz0BxX1+GWEzPKoYSpWVOdNt69UefL2lCs5pXTPr74v8AxI0y4s/G3gHw/pso1aTRpr031tGFgMmD8pIHL185f8Es/EkdjdeM/D90y/2i15JMQ3D8Zznvivqz9nn4FyfCnwjPba7eSa1rd6d91dSuXIBHKAntnNfPHjP9kHxz8JfjJL4++E9zB5N2+65s5/lxk5bj0xmqwtfBPD4jLIz+K1pPq0KpGpGcarWiOh/4Ki6bb6h8CbJp1Vpo7smNT1J25wPyrD8DeAvDfij9j3wb4c8cXhs11oRwaeznBMrAhdpb1yMYrc8W/Av4p/tH+INEHjmax0/wpYSLcNb2pdZXlGOCCOQcYPtXVftY/s56/wCPfhv4N0LwAILW98PX0c1v5xKqqoAB09+fwrSji6WHwuHy91UpKTba6b21JdOUqk6rjdWPjzxn8MPjN+xVfPf6PeT6x4OVixjLGSMRD+8BnHHHNfoX+y98a7L45fCvTtctovs8yKIp4wMKHxnj2614rq3hX49ePPh/eeBfEdrokwuoDbzXabiAp7q2MZr3P9nP4IWnwJ+HVn4fgfzJ8CS4Yfd34wcVlnWMo4rBr6w4usno49V3ZWHpyhVvHbqd74q0OPxL4c1HS5lV47uExsrDjmvzH/Yt8D6To/7WXjLwvr+nW8qKbhoFmQFWUPgEA9iD1FfqeeB09ulfLPxy/Zf1e7+JVj8R/h48Fh4gtwqzxOdiyqpBJ465xivNyTMVh6VfCSnyqotH5m2Ko8zU0r2OF/4KL+EfC3g/4JrJp2h2dnfXVwYEaGIKSSp4H513v7APwqtfAvwV0rVJrGKHU9RiEnmlcSbPQ965rxR8A/iZ+0F400SXx7Pp9r4U010uPs9qzq7yqR1BHIOOfavrfQ9FtvDuk2mmWMQhtbaJYo0XsBXTjsxdLK4ZeqnNJu8ne+na4qVFOs6qVkaQYZp9MUDNK7Feg5r4w9EdRRRQAUUUUAFFFFABRRRQAUUUUAFFFFABRRRQAUUUUAFFFFABRRRQAUUUUAFFFFABRRRQAUUUUAFFFFABRRRQAUUUUAFFFFABRRRQAUUUUAFFFFABRRRQAUUUUAFFFFABRRRQAUUUUAFFFFABRRRQAUUUUAFFFFABRRRQAUUUUAFFFFABRRRQAUUUUAFFFFABRRRQAUUUUAFFFFABRRRQAUUUUAFFFJQAbh6183f8FBNQ+w/sr+OF2k+dYSIMf7v/AOs/hXsPxW1XX9C+Hev6j4ZghuNftbSSW0iuASjSKCVBA5I4GfbNfiN8ff8Agox8YPit4Z1zwH4otdFtLWR3trpLezKyKRlWAJPB680Afc3/AARlt/J/Z68QyMRmXWC34BK/QSv58/2a/wBvn4i/szeE5/DPhW00y6sri48/bd25d9x4wMH3r9tP2Z/G3i74jfCTRfEnjO1tbLVNRiWdYbVSuFPqD0oA9YooooAKKKKAErC8YeDtJ8d+H7vRtbs472wukZHhlUMOQQf0JreooA/Fn49fAvx7/wAE9/jHH4/8DPcXHg+W48xlj3FEUtko4HAGOmen0r9Nv2WP2ovDX7TPgG01bSrpE1SONVvbFmAeOQD5jjOcZr0n4hfD/Rfid4Vv/D/iCzjvdOvIzG6SKDjIIyPwNfj58WPhb4+/4Jq/G6Hxj4TM154Kup+VGTEUJ5jboAccDNAH7U0H5lI615B+zT+0h4b/AGlfh7Z+IdCuF+0bFW8s2I3wyY+YEZ9fWtfw/wDtAeCfFPxQu/AWk6zb3/iG0tzcTQwuGCAHDKcHgj3oa6AeO/sj/sPaZ+zD8Tvil4qhms54/EV/s0S3tlIOn6cSZTA2QACZG24GRtgjOckgdD/wUFvrex/Y1+KbXVxFbpJpflI0rhQztIiqgyeSSQAOpJxX0R0Ncr45+Fvg34nQ2sPjDwlofiyK0Znto9c02G8WFmwGKCVW2kgDOOuKiS5o8vyHH3Zcx5N+wHcRXX7G/wAKXhkWZF0dUJRgw3LI6sMjuCCCOxBB5r6B5HauT8C/CfwR8MTenwd4N0DwmLzZ9p/sPS4LPz9mdu/ykXdjc2M5xuOOprre+c1rKXNLm7mcVyq3YfRRRUlhRRRQAUUUUAFFFFABRRRQAUUUUAFFFFABRRRQAUUUUAFFFFABRRRQAUUUUAFFFFABRRRQAU38BTqKACiiigApv+elOooAKaVB/pTqKAGr0/8ArYpf50tFADdvfvTqKKACiiigBF+mKWiigAooooAKKKKACiiigAooooAKKKKACiiigAooooAKKKKACiiigAooooAKKKKACiiigAooooAKKKKACiiigAooooAKKKKACiiigAooooAKKKKACiiigAooooAKKKKACiiigAooooAKKKKACiiigAooooAKKKKACiiigAooooAKKKKACiiigAooooAKKKKACiiigAooooAKKKKACiiigAooooAKKKKACiiigAooooAayh1wwBHcEV+Ev/BTz9nf/hTXxwk1nTrZk0LXVEwmx8v2g5Lj647e1fu3Xzn+3P8Asyw/tMfBLUdItY1/4SKxzeaZJjkzKpwn0PSgD8f/ANgH9nW5/aA+OenQyRf8SfSGW+uncfI2x1ITPf1xX9AWn6fb6VZwWlpEtvawKEiijGFVRxivm39gr9ldP2Y/g/bWWpJHJ4n1Ii6v5Qg3RsR/q8+w4x7V9O0AFFFFABRRRQAUUUUAFcl8TPhnoHxa8I33h3xHYx32n3UbId6glCVI3L7jNdbXK/EzwvfeNfAus6JpuotpN5fWzQxXiEgxFhjPHpmgD8GfilrOu/sY/Gzxb4b+HHjNbjS50aNmtZN6IGyACM8SIOh+lUP2K/jRqPw7/ah8OeILq8eaXVboWV5cTPywmdQWY/X+del/HL/gl18bfAk95q9tDH44gkd5Wk053kuW5zlkx19818n6t4a8TfDXX7c6to99oWp2kyyxpfWzxMHUhhwwGeRQB/T/ABSJMiyIQyMMgg5BB5zUteVfsv8AjiP4i/AHwNr6S+bJeaZE8x3ZIk2/MD75r1WgAooooAKKKKACiiigAooooAKKKKACiiigAooooAKKKKACiiigAooooAKKKKACiiigAooooAKKKKACiiigAooooAKKKKACiiigAooooAKKKKACiiigAooooAKKKKACiiigAooooAKKKKACiiigAooooAKKKKACiiigAooooAKKKKACiiigAooooAKKKKACiiigAooooAKKKKACiiigAooooAKKKKACiiigAooooAKKKKACiiigAooooAKKKKACiiigAooooAKKKKACiiigAooooAKKKKACiiigAooooAKKKKACiiigAooooAKKKKACiiigAooooAKKKKACiiigAooooAKKKKACiiigApKKKAExtp1FFABRRRQAUUUUAFFFFABSUUUANZeK4zx58F/AvxPt3i8U+FNJ1ssCPMu7VHkHHZ8ZH50UUAW/hv8ADfRPhX4Zj0Dw9A1tpcbs6Qs27ZnHA9uK6uiigAooooAKKKKACiiigAooooA//9k=)"
   ]
  },
  {
   "cell_type": "markdown",
   "metadata": {
    "id": "BQpd1pC9y0Cu"
   },
   "source": [
    "Angle of projection= $\\theta$,  $\\qquad \\qquad $\n",
    "Initial velocity $v=0$,  $\\qquad \\qquad $\n",
    "Upward velocity $u = v\\sin\\theta$, \n",
    "\n",
    "$a=-g, s = H, t = T/2$, \n",
    "\n",
    "$ v = u + at$\n",
    "\n",
    "$0 = v\\sin\\theta + -gT/2$\n",
    "\n",
    "$gT/2 = v\\sin\\theta$\n",
    "\n",
    "$\\color{red}{\\mathrm{Time\\; of\\; flight:\\;\\; } T = 2v\\sin\\theta/g}$   \n",
    "\n",
    "\n",
    "$v^2 = u^2 + 2as$\n",
    "\n",
    "$0 = v^2\\sin^2\\theta - 2gH$\n",
    "\n",
    "$2gH = v^2 \\sin^2\\theta$\n",
    "\n",
    "$\\color{red}{\\mathrm{Maximum\\; Height:\\;\\; }  H = v^2 \\sin^2\\theta /2g}$\n",
    "\n",
    "$\\color{red}{\\mathrm{x-coordinate \\; flight:\\;\\; } x = vt\\,\\cos\\theta}$\n",
    "\n",
    "$u = v\\sin\\theta, a = -g, t = t, s = y $\n",
    "\n",
    "$ s = ut + 1/2 at^2$\n",
    "\n",
    " \n",
    "$\\color{red}{\\mathrm{y-coordinate\\; flight:\\;\\;} y = v \\sin\\theta t - 1/2 gt^2}$\n"
   ]
  },
  {
   "cell_type": "code",
   "execution_count": 62,
   "metadata": {
    "colab": {
     "base_uri": "https://localhost:8080/",
     "height": 295
    },
    "id": "TNZBBR45zvV_",
    "outputId": "d7f02e9a-6992-400b-99a8-950120b69c41"
   },
   "outputs": [
    {
     "data": {
      "image/png": "[encoded data removed]",
      "text/plain": [
       "<Figure size 432x288 with 1 Axes>"
      ]
     },
     "metadata": {
      "needs_background": "light",
      "tags": []
     },
     "output_type": "display_data"
    }
   ],
   "source": [
    "import numpy as np\n",
    "import matplotlib.pyplot as plt\n",
    "\n",
    "g = 9.8\n",
    "#v0 = int(input(\"Enter the inital velocity of the projectile:-->  \"))\n",
    "v0 = 20\n",
    "#arad in degree\n",
    "#adeg =int(input(\"Enter made by the projectile with the horizontal:-->  \"))\n",
    "adeg = 30\n",
    "#print(adeg)\n",
    "#Converion into radian\n",
    "arad = adeg*(np.pi)/180\n",
    "\n",
    "#print(arad)\n",
    "tflg = ((2*v0)*np.sin(arad))/g   # Time of flight\n",
    "\n",
    "t = np.linspace(0,tflg,100)  # Division of TOF into 100 parts\n",
    "\n",
    "#x and y co-ordinates during flight of projectile\n",
    "x = v0*np.cos(arad)*t\n",
    "y = v0*np.sin(arad)*t-0.5*g*t**2\n",
    "\n",
    "#Plotting\n",
    "plt.plot(x,y,\"r.\")\n",
    "#plt.axis(\"scaled\")\n",
    "plt.xlabel(\"horizontal displacement(m)\")\n",
    "plt.ylabel(\"vertical displacement(m)\")\n",
    "plt.title(\"Trajectory of the projectile\")\n",
    "plt.show()"
   ]
  },
  {
   "cell_type": "markdown",
   "metadata": {
    "id": "2efaAx0yhBrd"
   },
   "source": [
    "**Homework: Projectile**"
   ]
  },
  {
   "cell_type": "markdown",
   "metadata": {
    "id": "TO_J2oz18VhR"
   },
   "source": [
    "Chandra threw an orange at certain angle $\\theta$ with an initial velocity of $20\\,m/s$. Draw a plot showing vertical and horizental displacements if  $\\theta= 15^0, 25^0, 35^0, 45^0, 55^0, 65^0, \\& 75^0$. Use $g=9.8\\, m/s^2$.\n",
    "\n",
    "(Hint: This is a generalization of the problem we did in the class. All you need to do is to plot at different angles as specified in the problem.)"
   ]
  },
  {
   "cell_type": "markdown",
   "metadata": {
    "id": "ALtmA1xAkGpy"
   },
   "source": [
    "#### Simple Harmonic Motion "
   ]
  },
  {
   "cell_type": "markdown",
   "metadata": {
    "id": "8XABuSUFAHZn"
   },
   "source": [
    "Equation for a simple harmonic motion (SHM) is given as \n",
    "\n",
    "$d^2x/dt^2 + (w^2)x=0 \\,,\\qquad $  where $w=k/m$ \n",
    "\n",
    "Solution to the SHM is given by \n",
    "\n",
    "$y(t) = C_1 \\sin(\\omega t) + C_2\\cos(\\omega t)$\n",
    "\n",
    "Applying initial condition, one gets displacement as \n",
    "\n",
    "$y(t)= A\\, \\sin(wt+\\phi/2)$\n",
    "\n",
    "The velocity is given by \n",
    "\n",
    "$v(t)= A\\omega\\, \\cos(wt+\\phi/2)$\n",
    "\n",
    "the acceleration is given by \n",
    "\n",
    "$a(t)= -A\\omega^2\\, \\sin(wt+\\phi/2)$\n",
    "\n"
   ]
  },
  {
   "cell_type": "markdown",
   "metadata": {
    "id": "g13HV4usD7zq"
   },
   "source": [
    "**Objective:** To plot \n",
    " \n",
    "1.   displacement vs time,\n",
    "2.   velocity vs time and\n",
    "3.   acceleration versus time graph.\n",
    "\n"
   ]
  },
  {
   "cell_type": "code",
   "execution_count": 63,
   "metadata": {
    "colab": {
     "base_uri": "https://localhost:8080/",
     "height": 559
    },
    "id": "airPePxG1XFo",
    "outputId": "7259043d-575e-4f4d-9a0e-a0b1810c6ca4"
   },
   "outputs": [
    {
     "data": {
      "image/png": "[encoded data removed]",
      "text/plain": [
       "<Figure size 432x288 with 1 Axes>"
      ]
     },
     "metadata": {
      "needs_background": "light",
      "tags": []
     },
     "output_type": "display_data"
    },
    {
     "data": {
      "text/plain": [
       "Text(0, 0.5, 'Acceleration')"
      ]
     },
     "execution_count": 63,
     "metadata": {
      "tags": []
     },
     "output_type": "execute_result"
    },
    {
     "data": {
      "image/png": "[encoded data removed]",
      "text/plain": [
       "<Figure size 432x288 with 1 Axes>"
      ]
     },
     "metadata": {
      "needs_background": "light",
      "tags": []
     },
     "output_type": "display_data"
    }
   ],
   "source": [
    "from IPython.display import display\n",
    "import matplotlib.pyplot as plt\n",
    "from sympy import *\n",
    "#import sympy as sym\n",
    "import numpy as np\n",
    "#init_session()\n",
    "\n",
    "init_printing()\n",
    "y = Function('y')\n",
    "w = symbols('w',positive =True)\n",
    "A,t, phi =symbols('A t phi')\n",
    "\n",
    "shms = dsolve(diff(y(t),t,2)+w**2*y(t),y(t))\n",
    "\n",
    "disp = \"A*sin(t*w+phi/2)\"\n",
    "\n",
    "y = sympify(disp)\n",
    "\n",
    "vel = diff(y,t)\n",
    "\n",
    "accl = diff(y,t,2)\n",
    "\n",
    "\n",
    "################################################################\n",
    "#PLotting\n",
    "################################################################\n",
    "#Suppose  A = 1 and w=1 \n",
    "time = np.linspace(0,20,100)\n",
    "ya =  np.sin(time + np.pi/2)\n",
    "vel = np.cos(time + np.pi/2)\n",
    "a = - np.sin(time + np.pi/2)\n",
    "#plt.subplot(211)\n",
    "plt.plot(time,ya,\"-b\",label=\"Time Vs Displacement\")\n",
    "\n",
    "#plt.subplot(212)\n",
    "plt.plot(time,vel,\":r\",label = \"Time Vs Velocity\")\n",
    "plt.legend(loc =\"lower center\")\n",
    "plt.xlabel(\"Time\")\n",
    "plt.ylabel(\"Displacement/Velocity\")\n",
    "plt.show()\n",
    "\n",
    "plt.plot(time,a,\"og\",label=\"Time Vs Acceleration\")\n",
    "plt.legend(loc =\"upper right\")\n",
    "plt.xlabel(\"Time\")\n",
    "plt.ylabel(\"Acceleration\")\n",
    "\n",
    "#pprint(dsolve(m * diff(x(t), t, 2) + c * diff(x(t), t) + k * x(t), x(t)))"
   ]
  },
  {
   "cell_type": "markdown",
   "metadata": {
    "id": "hXemNXJXhK1_"
   },
   "source": [
    "**Homework: Simple Harmonic motion subjected to damping**"
   ]
  },
  {
   "cell_type": "markdown",
   "metadata": {
    "id": "bTe4OE6-Lcz8"
   },
   "source": [
    "The equation of SHM subjected to damping force $F = \\gamma \\,\\frac{dx}{dt}$ is given by \n",
    "\n",
    "$\\frac{d^2y}{dt^2} +2k \\,\\frac{dy}{dt} +w^2 x = 0\\,,$ \n",
    "\n",
    "where $k$ is damping constant, $w$ is angular velocity with  $w^2= k/m$.\n",
    "\n",
    "Its solution is given by \n",
    "\n",
    "$y= (C_1 e^{-\\beta t} + C_2 e^{\\beta t}) e^{-kt} \\,, \\quad $ where  $\\beta= \\sqrt{k^2-\\omega^2}$.\n",
    "\n",
    "After using initial conditions one gets the displacement as  \n",
    "\n",
    "$y(t) = \\frac{a_0}{2} e^{-kt} \\Big[e^{-\\beta t}(1-\\frac{\\beta}{k}) +e^{\\beta t}(1+\\frac{\\beta}{k}) \\Big].$\n",
    "\n",
    "\n",
    "**Plot the displacement in the following conditions:**\n",
    "\n",
    "\n",
    "1.   Overdamped $k>\\omega\\,$:  for example  $k = 0.8\\,,\\quad \\omega = 0.5\\,,\\quad  a_0 = 4$.\n",
    "2.   Critical damping $k =\\omega\\,$:  for example  $k = 0.8= \\omega\\,,\\quad  a_0 = 4$.\n",
    "3. Damped $k <\\omega\\,$:  for example  $k = 0.07\\,, \\quad  \\omega =1.5\\,,\\quad  a_0 = 4$.\n",
    "\n"
   ]
  },
  {
   "cell_type": "code",
   "execution_count": null,
   "metadata": {
    "id": "kbQ5mO5w6knA"
   },
   "outputs": [],
   "source": []
  }
 ],
 "metadata": {
  "colab": {
   "collapsed_sections": [],
   "name": "Python_for_HighSchoolers_Class_2nd.ipynb",
   "provenance": []
  },
  "kernelspec": {
   "display_name": "Python 3",
   "language": "python",
   "name": "python3"
  },
  "language_info": {
   "codemirror_mode": {
    "name": "ipython",
    "version": 3
   },
   "file_extension": ".py",
   "mimetype": "text/x-python",
   "name": "python",
   "nbconvert_exporter": "python",
   "pygments_lexer": "ipython3",
   "version": "3.8.8"
  }
 },
 "nbformat": 4,
 "nbformat_minor": 1
}
